{
 "cells": [
  {
   "cell_type": "markdown",
   "metadata": {},
   "source": [
    "# QSFP/CMAC Loopback Test\n",
    "---"
   ]
  },
  {
   "cell_type": "markdown",
   "metadata": {},
   "source": [
    "## Aim/s\n",
    "This notebook provides an example demonstrating how to use with Xilinx 100 GbE subsystem. The 100 GbE subsystem consists of a hardened IP, which is known as the CMAC. This hardened IP is available in Xilinx UltraScale+ devices.\n",
    "\n",
    "## References\n",
    "* [CMAC Documentation](https://www.xilinx.com/products/intellectual-property/cmac_usplus.html)\n",
    "* [PYNQ docs](https://pynq.readthedocs.io/en/latest/index.html)\n",
    "\n",
    "## Last revised\n",
    "* 25Feb22 - Initial revision\n",
    "---"
   ]
  },
  {
   "cell_type": "markdown",
   "metadata": {},
   "source": [
    "### Hardware Setup"
   ]
  },
  {
   "cell_type": "markdown",
   "metadata": {},
   "source": [
    "The RFSoC 4x2 contains one QSFP+ port in a horizontal cage. This port is capable of 100Gb/s using 4 lanes, which can each achieve 25Gb/s. To evaluate the QSFP/CMAC features of the RFSoC 4x2, a QSFP loopback module should be connected to the QSFP port. A suggested loopback module is the Amphenol QSFP passive loopback modules. Alternatively, this notebook can use internal CMAC loopback, which will allow you to evaluate the CMAC core without using external connections."
   ]
  },
  {
   "cell_type": "markdown",
   "metadata": {},
   "source": [
    "### Base overlay\n",
    "Load the overlay first."
   ]
  },
  {
   "cell_type": "code",
   "execution_count": 1,
   "metadata": {},
   "outputs": [
    {
     "data": {
      "application/javascript": [
       "\n",
       "try {\n",
       "require(['notebook/js/codecell'], function(codecell) {\n",
       "  codecell.CodeCell.options_default.highlight_modes[\n",
       "      'magic_text/x-csrc'] = {'reg':[/^%%microblaze/]};\n",
       "  Jupyter.notebook.events.one('kernel_ready.Kernel', function(){\n",
       "      Jupyter.notebook.get_cells().map(function(cell){\n",
       "          if (cell.cell_type == 'code'){ cell.auto_highlight(); } }) ;\n",
       "  });\n",
       "});\n",
       "} catch (e) {};\n"
      ]
     },
     "metadata": {},
     "output_type": "display_data"
    },
    {
     "data": {
      "application/javascript": [
       "\n",
       "try {\n",
       "require(['notebook/js/codecell'], function(codecell) {\n",
       "  codecell.CodeCell.options_default.highlight_modes[\n",
       "      'magic_text/x-csrc'] = {'reg':[/^%%pybind11/]};\n",
       "  Jupyter.notebook.events.one('kernel_ready.Kernel', function(){\n",
       "      Jupyter.notebook.get_cells().map(function(cell){\n",
       "          if (cell.cell_type == 'code'){ cell.auto_highlight(); } }) ;\n",
       "  });\n",
       "});\n",
       "} catch (e) {};\n"
      ]
     },
     "metadata": {},
     "output_type": "display_data"
    }
   ],
   "source": [
    "from pynq.overlays.base import BaseOverlay\n",
    "\n",
    "base = BaseOverlay('base.bit')"
   ]
  },
  {
   "cell_type": "markdown",
   "metadata": {},
   "source": [
    "### CMAC Configuration\n",
    "If you don't have loopback modules, you can still experiment with the CMAC by enabling \"Near-End PMA Loopback\" in the cell below. This functionality routes the transmit path to the receive path internally.\n",
    "\n",
    "* 0 = external loopback\n",
    "* 1 = internal loopback "
   ]
  },
  {
   "cell_type": "code",
   "execution_count": 2,
   "metadata": {},
   "outputs": [],
   "source": [
    "base.cmac.internal_loopback = 1"
   ]
  },
  {
   "cell_type": "markdown",
   "metadata": {},
   "source": [
    "Start the CMAC core."
   ]
  },
  {
   "cell_type": "code",
   "execution_count": 3,
   "metadata": {},
   "outputs": [],
   "source": [
    "base.cmac.start()"
   ]
  },
  {
   "cell_type": "markdown",
   "metadata": {},
   "source": [
    "### Test Setup\n",
    "An AXI DMA is used to transfer data between the PS and CMAC (via the PL). The CMAC core supports packet sizes from 64 to 9,000 bytes. Create a byte array for testing and store it in a numpy array."
   ]
  },
  {
   "cell_type": "code",
   "execution_count": 4,
   "metadata": {},
   "outputs": [],
   "source": [
    "import numpy as np\n",
    "\n",
    "raw_str = ' /$$$$$$$  /$$     /$$ /$$   /$$  /$$$$$$ \\n| $$__  $$|  $$   /$$/| $$$ | $$ /$$__  $$\\n| $$  \\\\ $$ \\\\  $$ /$$/ | $$$$| $$| $$  \\\\ $$\\n| $$$$$$$/  \\\\  $$$$/  | $$ $$ $$| $$  | $$\\n| $$____/    \\\\  $$/   | $$  $$$$| $$  | $$\\n| $$          | $$    | $$\\\\  $$$| $$/$$ $$\\n| $$          | $$    | $$ \\\\  $$|  $$$$$$/\\n|__/          |__/    |__/  \\\\__/ \\\\____ $$$\\n                                      \\\\__/\\n\\n                                          \\n                                         '\n",
    "packets_in = np.array(list(raw_str.encode()))"
   ]
  },
  {
   "cell_type": "markdown",
   "metadata": {},
   "source": [
    "Allocate input and output buffers with size equal to the numpy array size (in this case 472 bytes)."
   ]
  },
  {
   "cell_type": "code",
   "execution_count": 5,
   "metadata": {},
   "outputs": [],
   "source": [
    "from pynq import allocate\n",
    "\n",
    "dma_buf_in = allocate(packets_in.shape[0], dtype=np.uint8)\n",
    "dma_buf_out = allocate(packets_in.shape[0], dtype=np.uint8)\n",
    "dma_buf_in[:] = packets_in"
   ]
  },
  {
   "cell_type": "markdown",
   "metadata": {},
   "source": [
    "### Perform CMAC Loopback Test\n",
    "Perform the CMAC loopback test by running the AXI DMA."
   ]
  },
  {
   "cell_type": "code",
   "execution_count": 6,
   "metadata": {},
   "outputs": [],
   "source": [
    "base.dma.sendchannel.transfer(dma_buf_in)\n",
    "base.dma.recvchannel.transfer(dma_buf_out)\n",
    "base.dma.sendchannel.wait()\n",
    "base.dma.recvchannel.wait()"
   ]
  },
  {
   "cell_type": "markdown",
   "metadata": {},
   "source": [
    "### Test Verification\n",
    "Retrieve the output buffer and decode to reveal the original message."
   ]
  },
  {
   "cell_type": "code",
   "execution_count": 7,
   "metadata": {},
   "outputs": [
    {
     "name": "stdout",
     "output_type": "stream",
     "text": [
      " \u0000\u0000\u0000/\u0000\u0000\u0000$\u0000\u0000\u0000$\u0000\u0000\u0000$\u0000\u0000\u0000$\u0000\u0000\u0000$\u0000\u0000\u0000$\u0000\u0000\u0000$\u0000\u0000\u0000 \u0000\u0000\u0000 \u0000\u0000\u0000/\u0000\u0000\u0000$\u0000\u0000\u0000$\u0000\u0000\u0000 \u0000\u0000\u0000 \u0000\u0000\u0000 \u0000\u0000\u0000 \u0000\u0000\u0000 \u0000\u0000\u0000/\u0000\u0000\u0000$\u0000\u0000\u0000$\u0000\u0000\u0000 \u0000\u0000\u0000/\u0000\u0000\u0000$\u0000\u0000\u0000$\u0000\u0000\u0000 \u0000\u0000\u0000 \u0000\u0000\u0000 \u0000\u0000\u0000/\u0000\u0000\u0000$\u0000\u0000\u0000$\u0000\u0000\u0000 \u0000\u0000\u0000 \u0000\u0000\u0000/\u0000\u0000\u0000$\u0000\u0000\u0000$\u0000\u0000\u0000$\u0000\u0000\u0000$\u0000\u0000\u0000$\u0000\u0000\u0000$\u0000\u0000\u0000 \u0000\u0000\u0000\n",
      "\u0000\u0000\u0000|\u0000\u0000\u0000 \u0000\u0000\u0000$\u0000\u0000\u0000$\u0000\u0000\u0000_\u0000\u0000\u0000_\u0000\u0000\u0000 \u0000\u0000\u0000 \u0000\u0000\u0000$\u0000\u0000\u0000$\u0000\u0000\u0000|\u0000\u0000\u0000 \u0000\u0000\u0000 \u0000\u0000\u0000$\u0000\u0000\u0000$\u0000\u0000\u0000 \u0000\u0000\u0000 \u0000\u0000\u0000 \u0000\u0000\u0000/\u0000\u0000\u0000$\u0000\u0000\u0000$\u0000\u0000\u0000/\u0000\u0000\u0000|\u0000\u0000\u0000 \u0000\u0000\u0000$\u0000\u0000\u0000$\u0000\u0000\u0000$\u0000\u0000\u0000 \u0000\u0000\u0000|\u0000\u0000\u0000 \u0000\u0000\u0000$\u0000\u0000\u0000$\u0000\u0000\u0000 \u0000\u0000\u0000/\u0000\u0000\u0000$\u0000\u0000\u0000$\u0000\u0000\u0000_\u0000\u0000\u0000_\u0000\u0000\u0000 \u0000\u0000\u0000 \u0000\u0000\u0000$\u0000\u0000\u0000$\u0000\u0000\u0000\n",
      "\u0000\u0000\u0000|\u0000\u0000\u0000 \u0000\u0000\u0000$\u0000\u0000\u0000$\u0000\u0000\u0000 \u0000\u0000\u0000 \u0000\u0000\u0000\\\u0000\u0000\u0000 \u0000\u0000\u0000$\u0000\u0000\u0000$\u0000\u0000\u0000 \u0000\u0000\u0000\\\u0000\u0000\u0000 \u0000\u0000\u0000 \u0000\u0000\u0000$\u0000\u0000\u0000$\u0000\u0000\u0000 \u0000\u0000\u0000/\u0000\u0000\u0000$\u0000\u0000\u0000$\u0000\u0000\u0000/\u0000\u0000\u0000 \u0000\u0000\u0000|\u0000\u0000\u0000 \u0000\u0000\u0000$\u0000\u0000\u0000$\u0000\u0000\u0000$\u0000\u0000\u0000$\u0000\u0000\u0000|\u0000\u0000\u0000 \u0000\u0000\u0000$\u0000\u0000\u0000$\u0000\u0000\u0000|\u0000\u0000\u0000 \u0000\u0000\u0000$\u0000\u0000\u0000$\u0000\u0000\u0000 \u0000\u0000\u0000 \u0000\u0000\u0000\\\u0000\u0000\u0000 \u0000\u0000\u0000$\u0000\u0000\u0000$\u0000\u0000\u0000\n",
      "\u0000\u0000\u0000|\u0000\u0000\u0000 \u0000\u0000\u0000$\u0000\u0000\u0000$\u0000\u0000\u0000$\u0000\u0000\u0000$\u0000\u0000\u0000$\u0000\u0000\u0000$\u0000\u0000\u0000$\u0000\u0000\u0000/\u0000\u0000\u0000 \u0000\u0000\u0000 \u0000\u0000\u0000\\\u0000\u0000\u0000 \u0000\u0000\u0000 \u0000\u0000\u0000$\u0000\u0000\u0000$\u0000\u0000\u0000$\u0000\u0000\u0000$\u0000\u0000\u0000/\u0000\u0000\u0000 \u0000\u0000\u0000 \u0000\u0000\u0000|\u0000\u0000\u0000 \u0000\u0000\u0000$\u0000\u0000\u0000$\u0000\u0000\u0000 \u0000\u0000\u0000$\u0000\u0000\u0000$\u0000\u0000\u0000 \u0000\u0000\u0000$\u0000\u0000\u0000$\u0000\u0000\u0000|\u0000\u0000\u0000 \u0000\u0000\u0000$\u0000\u0000\u0000$\u0000\u0000\u0000 \u0000\u0000\u0000 \u0000\u0000\u0000|\u0000\u0000\u0000 \u0000\u0000\u0000$\u0000\u0000\u0000$\u0000\u0000\u0000\n",
      "\u0000\u0000\u0000|\u0000\u0000\u0000 \u0000\u0000\u0000$\u0000\u0000\u0000$\u0000\u0000\u0000_\u0000\u0000\u0000_\u0000\u0000\u0000_\u0000\u0000\u0000_\u0000\u0000\u0000/\u0000\u0000\u0000 \u0000\u0000\u0000 \u0000\u0000\u0000 \u0000\u0000\u0000 \u0000\u0000\u0000\\\u0000\u0000\u0000 \u0000\u0000\u0000 \u0000\u0000\u0000$\u0000\u0000\u0000$\u0000\u0000\u0000/\u0000\u0000\u0000 \u0000\u0000\u0000 \u0000\u0000\u0000 \u0000\u0000\u0000|\u0000\u0000\u0000 \u0000\u0000\u0000$\u0000\u0000\u0000$\u0000\u0000\u0000 \u0000\u0000\u0000 \u0000\u0000\u0000$\u0000\u0000\u0000$\u0000\u0000\u0000$\u0000\u0000\u0000$\u0000\u0000\u0000|\u0000\u0000\u0000 \u0000\u0000\u0000$\u0000\u0000\u0000$\u0000\u0000\u0000 \u0000\u0000\u0000 \u0000\u0000\u0000|\u0000\u0000\u0000 \u0000\u0000\u0000$\u0000\u0000\u0000$\u0000\u0000\u0000\n",
      "\u0000\u0000\u0000|\u0000\u0000\u0000 \u0000\u0000\u0000$\u0000\u0000\u0000$\u0000\u0000\u0000 \u0000\u0000\u0000 \u0000\u0000\u0000 \u0000\u0000\u0000 \u0000\u0000\u0000 \u0000\u0000\u0000 \u0000\u0000\u0000 \u0000\u0000\u0000 \u0000\u0000\u0000 \u0000\u0000\u0000 \u0000\u0000\u0000|\u0000\u0000\u0000 \u0000\u0000\u0000$\u0000\u0000\u0000$\u0000\u0000\u0000 \u0000\u0000\u0000 \u0000\u0000\u0000 \u0000\u0000\u0000 \u0000\u0000\u0000|\u0000\u0000\u0000 \u0000\u0000\u0000$\u0000\u0000\u0000$\u0000\u0000\u0000\\\u0000\u0000\u0000 \u0000\u0000\u0000 \u0000\u0000\u0000$\u0000\u0000\u0000$\u0000\u0000\u0000$\u0000\u0000\u0000|\u0000\u0000\u0000 \u0000\u0000\u0000$\u0000\u0000\u0000$\u0000\u0000\u0000/\u0000\u0000\u0000$\u0000\u0000\u0000$\u0000\u0000\u0000 \u0000\u0000\u0000$\u0000\u0000\u0000$\u0000\u0000\u0000\n",
      "\u0000\u0000\u0000|\u0000\u0000\u0000 \u0000\u0000\u0000$\u0000\u0000\u0000$\u0000\u0000\u0000 \u0000\u0000\u0000 \u0000\u0000\u0000 \u0000\u0000\u0000 \u0000\u0000\u0000 \u0000\u0000\u0000 \u0000\u0000\u0000 \u0000\u0000\u0000 \u0000\u0000\u0000 \u0000\u0000\u0000 \u0000\u0000\u0000|\u0000\u0000\u0000 \u0000\u0000\u0000$\u0000\u0000\u0000$\u0000\u0000\u0000 \u0000\u0000\u0000 \u0000\u0000\u0000 \u0000\u0000\u0000 \u0000\u0000\u0000|\u0000\u0000\u0000 \u0000\u0000\u0000$\u0000\u0000\u0000$\u0000\u0000\u0000 \u0000\u0000\u0000\\\u0000\u0000\u0000 \u0000\u0000\u0000 \u0000\u0000\u0000$\u0000\u0000\u0000$\u0000\u0000\u0000|\u0000\u0000\u0000 \u0000\u0000\u0000 \u0000\u0000\u0000$\u0000\u0000\u0000$\u0000\u0000\u0000$\u0000\u0000\u0000$\u0000\u0000\u0000$\u0000\u0000\u0000$\u0000\u0000\u0000/\u0000\u0000\u0000\n",
      "\u0000\u0000\u0000|\u0000\u0000\u0000_\u0000\u0000\u0000_\u0000\u0000\u0000/\u0000\u0000\u0000 \u0000\u0000\u0000 \u0000\u0000\u0000 \u0000\u0000\u0000 \u0000\u0000\u0000 \u0000\u0000\u0000 \u0000\u0000\u0000 \u0000\u0000\u0000 \u0000\u0000\u0000 \u0000\u0000\u0000 \u0000\u0000\u0000|\u0000\u0000\u0000_\u0000\u0000\u0000_\u0000\u0000\u0000/\u0000\u0000\u0000 \u0000\u0000\u0000 \u0000\u0000\u0000 \u0000\u0000\u0000 \u0000\u0000\u0000|\u0000\u0000\u0000_\u0000\u0000\u0000_\u0000\u0000\u0000/\u0000\u0000\u0000 \u0000\u0000\u0000 \u0000\u0000\u0000\\\u0000\u0000\u0000_\u0000\u0000\u0000_\u0000\u0000\u0000/\u0000\u0000\u0000 \u0000\u0000\u0000\\\u0000\u0000\u0000_\u0000\u0000\u0000_\u0000\u0000\u0000_\u0000\u0000\u0000_\u0000\u0000\u0000 \u0000\u0000\u0000$\u0000\u0000\u0000$\u0000\u0000\u0000$\u0000\u0000\u0000\n",
      "\u0000\u0000\u0000 \u0000\u0000\u0000 \u0000\u0000\u0000 \u0000\u0000\u0000 \u0000\u0000\u0000 \u0000\u0000\u0000 \u0000\u0000\u0000 \u0000\u0000\u0000 \u0000\u0000\u0000 \u0000\u0000\u0000 \u0000\u0000\u0000 \u0000\u0000\u0000 \u0000\u0000\u0000 \u0000\u0000\u0000 \u0000\u0000\u0000 \u0000\u0000\u0000 \u0000\u0000\u0000 \u0000\u0000\u0000 \u0000\u0000\u0000 \u0000\u0000\u0000 \u0000\u0000\u0000 \u0000\u0000\u0000 \u0000\u0000\u0000 \u0000\u0000\u0000 \u0000\u0000\u0000 \u0000\u0000\u0000 \u0000\u0000\u0000 \u0000\u0000\u0000 \u0000\u0000\u0000 \u0000\u0000\u0000 \u0000\u0000\u0000 \u0000\u0000\u0000 \u0000\u0000\u0000 \u0000\u0000\u0000 \u0000\u0000\u0000 \u0000\u0000\u0000 \u0000\u0000\u0000 \u0000\u0000\u0000 \u0000\u0000\u0000\\\u0000\u0000\u0000_\u0000\u0000\u0000_\u0000\u0000\u0000/\u0000\u0000\u0000\n",
      "\u0000\u0000\u0000\n",
      "\u0000\u0000\u0000 \u0000\u0000\u0000 \u0000\u0000\u0000 \u0000\u0000\u0000 \u0000\u0000\u0000 \u0000\u0000\u0000 \u0000\u0000\u0000 \u0000\u0000\u0000 \u0000\u0000\u0000 \u0000\u0000\u0000 \u0000\u0000\u0000 \u0000\u0000\u0000 \u0000\u0000\u0000 \u0000\u0000\u0000 \u0000\u0000\u0000 \u0000\u0000\u0000 \u0000\u0000\u0000 \u0000\u0000\u0000 \u0000\u0000\u0000 \u0000\u0000\u0000 \u0000\u0000\u0000 \u0000\u0000\u0000 \u0000\u0000\u0000 \u0000\u0000\u0000 \u0000\u0000\u0000 \u0000\u0000\u0000 \u0000\u0000\u0000 \u0000\u0000\u0000 \u0000\u0000\u0000 \u0000\u0000\u0000 \u0000\u0000\u0000 \u0000\u0000\u0000 \u0000\u0000\u0000 \u0000\u0000\u0000 \u0000\u0000\u0000 \u0000\u0000\u0000 \u0000\u0000\u0000 \u0000\u0000\u0000 \u0000\u0000\u0000 \u0000\u0000\u0000 \u0000\u0000\u0000 \u0000\u0000\u0000 \u0000\u0000\u0000\n",
      "\u0000\u0000\u0000 \u0000\u0000\u0000 \u0000\u0000\u0000 \u0000\u0000\u0000 \u0000\u0000\u0000 \u0000\u0000\u0000 \u0000\u0000\u0000 \u0000\u0000\u0000 \u0000\u0000\u0000 \u0000\u0000\u0000 \u0000\u0000\u0000 \u0000\u0000\u0000 \u0000\u0000\u0000 \u0000\u0000\u0000 \u0000\u0000\u0000 \u0000\u0000\u0000 \u0000\u0000\u0000 \u0000\u0000\u0000 \u0000\u0000\u0000 \u0000\u0000\u0000 \u0000\u0000\u0000 \u0000\u0000\u0000 \u0000\u0000\u0000 \u0000\u0000\u0000 \u0000\u0000\u0000 \u0000\u0000\u0000 \u0000\u0000\u0000 \u0000\u0000\u0000 \u0000\u0000\u0000 \u0000\u0000\u0000 \u0000\u0000\u0000 \u0000\u0000\u0000 \u0000\u0000\u0000 \u0000\u0000\u0000 \u0000\u0000\u0000 \u0000\u0000\u0000 \u0000\u0000\u0000 \u0000\u0000\u0000 \u0000\u0000\u0000 \u0000\u0000\u0000 \u0000\u0000\u0000 \u0000\u0000\u0000\n"
     ]
    }
   ],
   "source": [
    "packets_out = bytes(dma_buf_out)\n",
    "print(packets_out.decode())"
   ]
  },
  {
   "cell_type": "markdown",
   "metadata": {},
   "source": [
    "Alternatively, verify that the input and output buffers are equal."
   ]
  },
  {
   "cell_type": "code",
   "execution_count": 8,
   "metadata": {},
   "outputs": [
    {
     "data": {
      "text/plain": [
       "True"
      ]
     },
     "execution_count": 8,
     "metadata": {},
     "output_type": "execute_result"
    }
   ],
   "source": [
    "np.array_equal(dma_buf_in,dma_buf_out)"
   ]
  },
  {
   "cell_type": "markdown",
   "metadata": {},
   "source": [
    "Lastly, the CMAC has internal registers that report core statistics. Note that the registers automatically self-clear after reporting. Run `cmac.getStats(False)` instead to prevent them from clearing."
   ]
  },
  {
   "cell_type": "code",
   "execution_count": 9,
   "metadata": {},
   "outputs": [
    {
     "data": {
      "text/plain": [
       "{'tx': {'packets': 1,\n",
       "  'good_packets': 1,\n",
       "  'bytes': 1892,\n",
       "  'good_bytes': 1892,\n",
       "  'packets_large': 0,\n",
       "  'packets_small': 0,\n",
       "  'bad_fcs': 0,\n",
       "  'pause': 0,\n",
       "  'user_pause': 0},\n",
       " 'rx': {'packets': 1,\n",
       "  'good_packets': 1,\n",
       "  'bytes': 1892,\n",
       "  'good_bytes': 1892,\n",
       "  'packets_large': 0,\n",
       "  'packets_small': 0,\n",
       "  'packets_undersize': 0,\n",
       "  'packets_fragmented': 0,\n",
       "  'packets_oversize': 0,\n",
       "  'packets_toolong': 0,\n",
       "  'packets_jabber': 0,\n",
       "  'bad_fcs': 0,\n",
       "  'packets_bad_fcs': 0,\n",
       "  'stomped_fcs': 0,\n",
       "  'pause': 0,\n",
       "  'user_pause': 0},\n",
       " 'cycle_count': 340659205}"
      ]
     },
     "execution_count": 9,
     "metadata": {},
     "output_type": "execute_result"
    }
   ],
   "source": [
    "base.cmac.getStats()"
   ]
  },
  {
   "cell_type": "markdown",
   "metadata": {},
   "source": [
    "---\n",
    "\n",
    "Copyright (C) 2022 Xilinx, Inc\n",
    "\n",
    "SPDX-License-Identifier: BSD-3-Clause\n",
    "\n",
    "---\n",
    "---"
   ]
  }
 ],
 "metadata": {
  "kernelspec": {
   "display_name": "Python 3",
   "language": "python",
   "name": "python3"
  },
  "language_info": {
   "codemirror_mode": {
    "name": "ipython",
    "version": 3
   },
   "file_extension": ".py",
   "mimetype": "text/x-python",
   "name": "python",
   "nbconvert_exporter": "python",
   "pygments_lexer": "ipython3",
   "version": "3.8.2"
  }
 },
 "nbformat": 4,
 "nbformat_minor": 4
}
