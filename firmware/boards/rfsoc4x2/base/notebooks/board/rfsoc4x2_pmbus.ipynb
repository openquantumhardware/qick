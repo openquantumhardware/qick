{
 "cells": [
  {
   "cell_type": "markdown",
   "metadata": {},
   "source": [
    "# PMBus on the RFSoC4x2\n",
    "----"
   ]
  },
  {
   "cell_type": "markdown",
   "metadata": {},
   "source": [
    "## Aim/s\n",
    "* Explore the monitoring power rails using PMBus through PYNQ.\n",
    "\n",
    "## Last revised\n",
    "* 27Jan21 - Initial revision\n",
    "----"
   ]
  },
  {
   "cell_type": "markdown",
   "metadata": {},
   "source": [
    "The board has some support for monitoring power rails on the board using PMBus.\n",
    "PYNQ exposes these rails through the `get_rails` function that returns a dictionary\n",
    "of all of the rails available to be monitored."
   ]
  },
  {
   "cell_type": "code",
   "execution_count": 1,
   "metadata": {},
   "outputs": [
    {
     "data": {
      "application/javascript": [
       "\n",
       "try {\n",
       "require(['notebook/js/codecell'], function(codecell) {\n",
       "  codecell.CodeCell.options_default.highlight_modes[\n",
       "      'magic_text/x-csrc'] = {'reg':[/^%%microblaze/]};\n",
       "  Jupyter.notebook.events.one('kernel_ready.Kernel', function(){\n",
       "      Jupyter.notebook.get_cells().map(function(cell){\n",
       "          if (cell.cell_type == 'code'){ cell.auto_highlight(); } }) ;\n",
       "  });\n",
       "});\n",
       "} catch (e) {};\n"
      ]
     },
     "metadata": {},
     "output_type": "display_data"
    },
    {
     "data": {
      "application/javascript": [
       "\n",
       "try {\n",
       "require(['notebook/js/codecell'], function(codecell) {\n",
       "  codecell.CodeCell.options_default.highlight_modes[\n",
       "      'magic_text/x-csrc'] = {'reg':[/^%%pybind11/]};\n",
       "  Jupyter.notebook.events.one('kernel_ready.Kernel', function(){\n",
       "      Jupyter.notebook.get_cells().map(function(cell){\n",
       "          if (cell.cell_type == 'code'){ cell.auto_highlight(); } }) ;\n",
       "  });\n",
       "});\n",
       "} catch (e) {};\n"
      ]
     },
     "metadata": {},
     "output_type": "display_data"
    },
    {
     "data": {
      "text/plain": [
       "{'VCCpSYZYGY_VIO': Rail {name=VCCpSYZYGY_VIO, voltage=Sensor {name=VCCpSYZYGY_VIO_voltage, value=0.336V}, current=Sensor {name=VCCpSYZYGY_VIO_current, value=0.0A}, power=Sensor {name=VCCpSYZYGY_VIO_power, value=0.0W}},\n",
       " 'VDAC_AVCCAUX': Rail {name=VDAC_AVCCAUX, voltage=Sensor {name=VDAC_AVCCAUX_voltage, value=1.832V}, current=Sensor {name=VDAC_AVCCAUX_current, value=0.117A}, power=Sensor {name=VDAC_AVCCAUX_power, value=0.22W}},\n",
       " 'VADC_AVCC': Rail {name=VADC_AVCC, voltage=Sensor {name=VADC_AVCC_voltage, value=0.952V}, current=Sensor {name=VADC_AVCC_current, value=0.913A}, power=Sensor {name=VADC_AVCC_power, value=0.86W}},\n",
       " 'VCCp1V8': Rail {name=VCCp1V8, voltage=Sensor {name=VCCp1V8_voltage, value=1.824V}, current=Sensor {name=VCCp1V8_current, value=1.1A}, power=Sensor {name=VCCp1V8_power, value=2.0W}},\n",
       " 'VCCp0V85': Rail {name=VCCp0V85, voltage=Sensor {name=VCCp0V85_voltage, value=0.884V}, current=Sensor {name=VCCp0V85_current, value=6.3A}, power=Sensor {name=VCCp0V85_power, value=5.6W}},\n",
       " 'VDAC_AVTT': Rail {name=VDAC_AVTT, voltage=Sensor {name=VDAC_AVTT_voltage, value=2.54V}, current=Sensor {name=VDAC_AVTT_current, value=0.094A}, power=Sensor {name=VDAC_AVTT_power, value=0.26W}},\n",
       " 'VADC_AVCCAUX': Rail {name=VADC_AVCCAUX, voltage=Sensor {name=VADC_AVCCAUX_voltage, value=1.824V}, current=Sensor {name=VADC_AVCCAUX_current, value=0.586A}, power=Sensor {name=VADC_AVCCAUX_power, value=1.08W}},\n",
       " 'VDAC_AVCC': Rail {name=VDAC_AVCC, voltage=Sensor {name=VDAC_AVCC_voltage, value=0.948V}, current=Sensor {name=VDAC_AVCC_current, value=0.385A}, power=Sensor {name=VDAC_AVCC_power, value=0.36W}},\n",
       " 'VCCp3V3': Rail {name=VCCp3V3, voltage=Sensor {name=VCCp3V3_voltage, value=3.336V}, current=Sensor {name=VCCp3V3_current, value=0.37A}, power=Sensor {name=VCCp3V3_power, value=1.4W}}}"
      ]
     },
     "execution_count": 1,
     "metadata": {},
     "output_type": "execute_result"
    }
   ],
   "source": [
    "import pynq\n",
    "\n",
    "rails = pynq.get_rails()\n",
    "rails"
   ]
  },
  {
   "cell_type": "markdown",
   "metadata": {},
   "source": [
    "As can be seen, the keys of the dictionary are the names of the voltage rails\n",
    "while the values are `Rail` objects which contain three sensors for the voltage, \n",
    "current and power.\n",
    "\n",
    "To see how power changes under CPU load we can use the `DataRecorder` class.\n",
    "For this example we are going to look at the `0V85` rail listed above\n",
    "as we load one of the CPU cores in Python."
   ]
  },
  {
   "cell_type": "code",
   "execution_count": 2,
   "metadata": {},
   "outputs": [],
   "source": [
    "recorder = pynq.DataRecorder(rails[\"VCCp0V85\"].power)"
   ]
  },
  {
   "cell_type": "markdown",
   "metadata": {},
   "source": [
    "We can now use the recorder to monitor the applied sensor. \n",
    "For this example we'll sample the power every half second while sleeping\n",
    "and performing a dummy loop."
   ]
  },
  {
   "cell_type": "code",
   "execution_count": 3,
   "metadata": {},
   "outputs": [],
   "source": [
    "import time\n",
    "\n",
    "with recorder.record(0.5):\n",
    "    time.sleep(5)\n",
    "    for _ in range(10000000):\n",
    "        pass\n",
    "    time.sleep(5)"
   ]
  },
  {
   "cell_type": "markdown",
   "metadata": {},
   "source": [
    "The `DataRecorder` exposes the sensor data as a pandas dataframe."
   ]
  },
  {
   "cell_type": "code",
   "execution_count": 4,
   "metadata": {},
   "outputs": [
    {
     "data": {
      "text/html": [
       "<div>\n",
       "<style scoped>\n",
       "    .dataframe tbody tr th:only-of-type {\n",
       "        vertical-align: middle;\n",
       "    }\n",
       "\n",
       "    .dataframe tbody tr th {\n",
       "        vertical-align: top;\n",
       "    }\n",
       "\n",
       "    .dataframe thead th {\n",
       "        text-align: right;\n",
       "    }\n",
       "</style>\n",
       "<table border=\"1\" class=\"dataframe\">\n",
       "  <thead>\n",
       "    <tr style=\"text-align: right;\">\n",
       "      <th></th>\n",
       "      <th>Mark</th>\n",
       "      <th>VCCp0V85_power</th>\n",
       "    </tr>\n",
       "  </thead>\n",
       "  <tbody>\n",
       "    <tr>\n",
       "      <th>2021-12-08 14:02:45.623688</th>\n",
       "      <td>0.0</td>\n",
       "      <td>5.8</td>\n",
       "    </tr>\n",
       "    <tr>\n",
       "      <th>2021-12-08 14:02:46.140049</th>\n",
       "      <td>0.0</td>\n",
       "      <td>5.6</td>\n",
       "    </tr>\n",
       "    <tr>\n",
       "      <th>2021-12-08 14:02:46.652113</th>\n",
       "      <td>0.0</td>\n",
       "      <td>5.6</td>\n",
       "    </tr>\n",
       "    <tr>\n",
       "      <th>2021-12-08 14:02:47.164241</th>\n",
       "      <td>0.0</td>\n",
       "      <td>5.2</td>\n",
       "    </tr>\n",
       "    <tr>\n",
       "      <th>2021-12-08 14:02:47.676303</th>\n",
       "      <td>0.0</td>\n",
       "      <td>5.6</td>\n",
       "    </tr>\n",
       "    <tr>\n",
       "      <th>2021-12-08 14:02:48.188260</th>\n",
       "      <td>0.0</td>\n",
       "      <td>5.6</td>\n",
       "    </tr>\n",
       "    <tr>\n",
       "      <th>2021-12-08 14:02:48.700338</th>\n",
       "      <td>0.0</td>\n",
       "      <td>5.6</td>\n",
       "    </tr>\n",
       "    <tr>\n",
       "      <th>2021-12-08 14:02:49.212251</th>\n",
       "      <td>0.0</td>\n",
       "      <td>5.2</td>\n",
       "    </tr>\n",
       "    <tr>\n",
       "      <th>2021-12-08 14:02:49.724267</th>\n",
       "      <td>0.0</td>\n",
       "      <td>5.2</td>\n",
       "    </tr>\n",
       "    <tr>\n",
       "      <th>2021-12-08 14:02:50.236246</th>\n",
       "      <td>0.0</td>\n",
       "      <td>5.6</td>\n",
       "    </tr>\n",
       "    <tr>\n",
       "      <th>2021-12-08 14:02:50.758395</th>\n",
       "      <td>0.0</td>\n",
       "      <td>5.8</td>\n",
       "    </tr>\n",
       "    <tr>\n",
       "      <th>2021-12-08 14:02:51.280557</th>\n",
       "      <td>0.0</td>\n",
       "      <td>5.6</td>\n",
       "    </tr>\n",
       "    <tr>\n",
       "      <th>2021-12-08 14:02:51.802760</th>\n",
       "      <td>0.0</td>\n",
       "      <td>5.6</td>\n",
       "    </tr>\n",
       "    <tr>\n",
       "      <th>2021-12-08 14:02:52.324963</th>\n",
       "      <td>0.0</td>\n",
       "      <td>5.6</td>\n",
       "    </tr>\n",
       "    <tr>\n",
       "      <th>2021-12-08 14:02:52.847136</th>\n",
       "      <td>0.0</td>\n",
       "      <td>5.6</td>\n",
       "    </tr>\n",
       "    <tr>\n",
       "      <th>2021-12-08 14:02:53.369359</th>\n",
       "      <td>0.0</td>\n",
       "      <td>5.6</td>\n",
       "    </tr>\n",
       "    <tr>\n",
       "      <th>2021-12-08 14:02:53.891492</th>\n",
       "      <td>0.0</td>\n",
       "      <td>5.6</td>\n",
       "    </tr>\n",
       "    <tr>\n",
       "      <th>2021-12-08 14:02:54.403562</th>\n",
       "      <td>0.0</td>\n",
       "      <td>5.6</td>\n",
       "    </tr>\n",
       "    <tr>\n",
       "      <th>2021-12-08 14:02:54.915578</th>\n",
       "      <td>0.0</td>\n",
       "      <td>5.6</td>\n",
       "    </tr>\n",
       "    <tr>\n",
       "      <th>2021-12-08 14:02:55.427542</th>\n",
       "      <td>0.0</td>\n",
       "      <td>5.6</td>\n",
       "    </tr>\n",
       "    <tr>\n",
       "      <th>2021-12-08 14:02:55.939582</th>\n",
       "      <td>0.0</td>\n",
       "      <td>5.6</td>\n",
       "    </tr>\n",
       "    <tr>\n",
       "      <th>2021-12-08 14:02:56.451572</th>\n",
       "      <td>0.0</td>\n",
       "      <td>5.6</td>\n",
       "    </tr>\n",
       "    <tr>\n",
       "      <th>2021-12-08 14:02:56.963439</th>\n",
       "      <td>0.0</td>\n",
       "      <td>5.6</td>\n",
       "    </tr>\n",
       "    <tr>\n",
       "      <th>2021-12-08 14:02:57.475381</th>\n",
       "      <td>0.0</td>\n",
       "      <td>5.6</td>\n",
       "    </tr>\n",
       "    <tr>\n",
       "      <th>2021-12-08 14:02:57.987337</th>\n",
       "      <td>0.0</td>\n",
       "      <td>5.6</td>\n",
       "    </tr>\n",
       "    <tr>\n",
       "      <th>2021-12-08 14:02:58.499393</th>\n",
       "      <td>0.0</td>\n",
       "      <td>5.6</td>\n",
       "    </tr>\n",
       "    <tr>\n",
       "      <th>2021-12-08 14:02:59.011279</th>\n",
       "      <td>0.0</td>\n",
       "      <td>5.6</td>\n",
       "    </tr>\n",
       "  </tbody>\n",
       "</table>\n",
       "</div>"
      ],
      "text/plain": [
       "                            Mark  VCCp0V85_power\n",
       "2021-12-08 14:02:45.623688   0.0             5.8\n",
       "2021-12-08 14:02:46.140049   0.0             5.6\n",
       "2021-12-08 14:02:46.652113   0.0             5.6\n",
       "2021-12-08 14:02:47.164241   0.0             5.2\n",
       "2021-12-08 14:02:47.676303   0.0             5.6\n",
       "2021-12-08 14:02:48.188260   0.0             5.6\n",
       "2021-12-08 14:02:48.700338   0.0             5.6\n",
       "2021-12-08 14:02:49.212251   0.0             5.2\n",
       "2021-12-08 14:02:49.724267   0.0             5.2\n",
       "2021-12-08 14:02:50.236246   0.0             5.6\n",
       "2021-12-08 14:02:50.758395   0.0             5.8\n",
       "2021-12-08 14:02:51.280557   0.0             5.6\n",
       "2021-12-08 14:02:51.802760   0.0             5.6\n",
       "2021-12-08 14:02:52.324963   0.0             5.6\n",
       "2021-12-08 14:02:52.847136   0.0             5.6\n",
       "2021-12-08 14:02:53.369359   0.0             5.6\n",
       "2021-12-08 14:02:53.891492   0.0             5.6\n",
       "2021-12-08 14:02:54.403562   0.0             5.6\n",
       "2021-12-08 14:02:54.915578   0.0             5.6\n",
       "2021-12-08 14:02:55.427542   0.0             5.6\n",
       "2021-12-08 14:02:55.939582   0.0             5.6\n",
       "2021-12-08 14:02:56.451572   0.0             5.6\n",
       "2021-12-08 14:02:56.963439   0.0             5.6\n",
       "2021-12-08 14:02:57.475381   0.0             5.6\n",
       "2021-12-08 14:02:57.987337   0.0             5.6\n",
       "2021-12-08 14:02:58.499393   0.0             5.6\n",
       "2021-12-08 14:02:59.011279   0.0             5.6"
      ]
     },
     "execution_count": 4,
     "metadata": {},
     "output_type": "execute_result"
    }
   ],
   "source": [
    "recorder.frame"
   ]
  },
  {
   "cell_type": "markdown",
   "metadata": {},
   "source": [
    "or by plotting the results using matplotlib"
   ]
  },
  {
   "cell_type": "code",
   "execution_count": 5,
   "metadata": {},
   "outputs": [
    {
     "data": {
      "text/plain": [
       "<matplotlib.axes._subplots.AxesSubplot at 0xffff68578bb0>"
      ]
     },
     "execution_count": 5,
     "metadata": {},
     "output_type": "execute_result"
    },
    {
     "data": {
      "image/png": "[encoded data removed]",
      "text/plain": [
       "<Figure size 432x288 with 1 Axes>"
      ]
     },
     "metadata": {
      "needs_background": "light"
     },
     "output_type": "display_data"
    }
   ],
   "source": [
    "%matplotlib inline\n",
    "recorder.frame[\"VCCp0V85_power\"].plot()"
   ]
  },
  {
   "cell_type": "markdown",
   "metadata": {},
   "source": [
    "We can get more information by using the `mark` function which will increment\n",
    "the invocation number without having to stop and start the recorder."
   ]
  },
  {
   "cell_type": "code",
   "execution_count": 6,
   "metadata": {
    "scrolled": true
   },
   "outputs": [
    {
     "data": {
      "text/plain": [
       "array([<matplotlib.axes._subplots.AxesSubplot object at 0xffff684b2280>,\n",
       "       <matplotlib.axes._subplots.AxesSubplot object at 0xffff684796d0>],\n",
       "      dtype=object)"
      ]
     },
     "execution_count": 6,
     "metadata": {},
     "output_type": "execute_result"
    },
    {
     "data": {
      "image/png": "[encoded data removed]",
      "text/plain": [
       "<Figure size 432x288 with 2 Axes>"
      ]
     },
     "metadata": {
      "needs_background": "light"
     },
     "output_type": "display_data"
    }
   ],
   "source": [
    "recorder.reset()\n",
    "with recorder.record(0.5):\n",
    "    time.sleep(5)\n",
    "    recorder.mark()\n",
    "    for _ in range(10000000):\n",
    "        pass\n",
    "    recorder.mark()\n",
    "    time.sleep(5)\n",
    "\n",
    "recorder.frame.plot(subplots=True)"
   ]
  },
  {
   "cell_type": "markdown",
   "metadata": {},
   "source": [
    "This clearly shows the power spike when the for loop starts running."
   ]
  },
  {
   "cell_type": "markdown",
   "metadata": {},
   "source": [
    "---\n",
    "Copyright (C) 2022 Xilinx, Inc\n",
    "\n",
    "SPDX-License-Identifier: BSD-3-Clause"
   ]
  },
  {
   "cell_type": "markdown",
   "metadata": {},
   "source": [
    "----\n",
    "\n",
    "----"
   ]
  }
 ],
 "metadata": {
  "kernelspec": {
   "display_name": "Python 3",
   "language": "python",
   "name": "python3"
  },
  "language_info": {
   "codemirror_mode": {
    "name": "ipython",
    "version": 3
   },
   "file_extension": ".py",
   "mimetype": "text/x-python",
   "name": "python",
   "nbconvert_exporter": "python",
   "pygments_lexer": "ipython3",
   "version": "3.8.2"
  }
 },
 "nbformat": 4,
 "nbformat_minor": 4
}
