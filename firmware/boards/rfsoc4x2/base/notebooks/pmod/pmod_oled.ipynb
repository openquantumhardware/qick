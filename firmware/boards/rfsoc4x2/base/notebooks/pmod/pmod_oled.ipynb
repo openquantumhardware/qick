{
 "cells": [
  {
   "cell_type": "markdown",
   "metadata": {},
   "source": [
    "# Displaying text on a PmodOLED\n",
    "----"
   ]
  },
  {
   "cell_type": "markdown",
   "metadata": {},
   "source": [
    "## Aim/s\n",
    "* Display text on a PmodOLED using the Pmod_OLED library.\n",
    "\n",
    "## References\n",
    "* [PYNQ Docs](https://pynq.readthedocs.io/en/latest/index.html)\n",
    "\n",
    "## Last revised\n",
    "\n",
    "* Feb 18, 2021, initial revision\n",
    "\n",
    "----"
   ]
  },
  {
   "cell_type": "markdown",
   "metadata": {},
   "source": [
    "This demonstration shows how to display text on a PmodOLED using the board.\n",
    "\n",
    "The Digilent Pmod OLED is required. In this example it should be connected to PMODA.\n",
    "\n",
    "### 1. Download overlay"
   ]
  },
  {
   "cell_type": "code",
   "execution_count": 1,
   "metadata": {},
   "outputs": [],
   "source": [
    "from pynq.overlays.base import BaseOverlay\n",
    "from pynq.lib import Pmod_OLED\n",
    "\n",
    "base = BaseOverlay(\"base.bit\")\n",
    "\n",
    "pmod_oled = Pmod_OLED(base.PMODA)"
   ]
  },
  {
   "cell_type": "markdown",
   "metadata": {},
   "source": [
    "### 2. Clear the screen"
   ]
  },
  {
   "cell_type": "code",
   "execution_count": 2,
   "metadata": {
    "collapsed": true,
    "jupyter": {
     "outputs_hidden": true
    }
   },
   "outputs": [],
   "source": [
    "pmod_oled.clear()\n",
    "pmod_oled.write('Welcome to \\nPYNQ!')"
   ]
  },
  {
   "cell_type": "markdown",
   "metadata": {},
   "source": [
    "You should now see the text output on the OLED, so let's try another message.\n",
    "\n",
    "### 3. Write a new message"
   ]
  },
  {
   "cell_type": "code",
   "execution_count": 3,
   "metadata": {
    "scrolled": true
   },
   "outputs": [],
   "source": [
    "pmod_oled.clear()\n",
    "pmod_oled.write('Python and Zynq\\nproductivity &  performance')"
   ]
  },
  {
   "cell_type": "markdown",
   "metadata": {},
   "source": [
    "That's it!  Please try to write your own messages to the PmodOLED."
   ]
  },
  {
   "cell_type": "markdown",
   "metadata": {},
   "source": [
    "----"
   ]
  },
  {
   "cell_type": "markdown",
   "metadata": {},
   "source": [
    "Copyright (C) 2022 Xilinx, Inc\n",
    "\n",
    "SPDX-License-Identifier: BSD-3-Clause"
   ]
  },
  {
   "cell_type": "markdown",
   "metadata": {},
   "source": [
    "----\n",
    "\n",
    "----"
   ]
  }
 ],
 "metadata": {
  "kernelspec": {
   "display_name": "Python 3",
   "language": "python",
   "name": "python3"
  },
  "language_info": {
   "codemirror_mode": {
    "name": "ipython",
    "version": 3
   },
   "file_extension": ".py",
   "mimetype": "text/x-python",
   "name": "python",
   "nbconvert_exporter": "python",
   "pygments_lexer": "ipython3",
   "version": "3.8.2"
  }
 },
 "nbformat": 4,
 "nbformat_minor": 4
}
