{
 "cells": [
  {
   "cell_type": "markdown",
   "metadata": {},
   "source": [
    "# PMOD Grove PIR Motion Sensor\n",
    "----"
   ]
  },
  {
   "cell_type": "markdown",
   "metadata": {},
   "source": [
    "## Aim/s\n",
    "* Detect motion using the Grove PIR motion sensor with the Grove_PIR object.\n",
    "\n",
    "## References\n",
    "* [PYNQ Docs](https://pynq.readthedocs.io/en/latest/index.html)\n",
    "* [Grove PIR motion sensor](http://www.seeedstudio.com/depot/Grove-PIR-Motion-Sensor-p-802.html)\n",
    "\n",
    "## Last revised\n",
    "\n",
    "* Feb 18, 2021, initial revision\n",
    "\n",
    "----"
   ]
  },
  {
   "cell_type": "markdown",
   "metadata": {},
   "source": [
    "This example shows how to use the [Grove PIR motion sensor](http://www.seeedstudio.com/depot/Grove-PIR-Motion-Sensor-p-802.html).\n",
    "\n",
    "This demo requires the Grove PIR motion sensor and PYNQ Grove Adapter."
   ]
  },
  {
   "cell_type": "markdown",
   "metadata": {},
   "source": [
    "### 1. Download overlay\n",
    "\n",
    "Download the overlay. Instantiate Grove PIR object. \n",
    "\n",
    "In this example, the Grove PIR sensor is assumed to be connected to G1 on the PYNQ Grove Adapter. The Grove Adapter is connected to PMODA interface on board."
   ]
  },
  {
   "cell_type": "code",
   "execution_count": 1,
   "metadata": {},
   "outputs": [],
   "source": [
    "from time import sleep\n",
    "from pynq.overlays.base import BaseOverlay\n",
    "from pynq.lib.pmod import Grove_PIR\n",
    "from pynq.lib.pmod import PMOD_GROVE_G1\n",
    "\n",
    "ol1 = BaseOverlay(\"base.bit\")\n",
    "pir = Grove_PIR(ol1.PMODA,PMOD_GROVE_G1)"
   ]
  },
  {
   "cell_type": "markdown",
   "metadata": {},
   "source": [
    "### 2. Detect motion\n",
    "\n",
    "We can now start the motion detection loop. \n",
    "\n",
    "When the cell below is executed, the LED will keep flashing until the PIR detects some movement."
   ]
  },
  {
   "cell_type": "code",
   "execution_count": 2,
   "metadata": {},
   "outputs": [
    {
     "name": "stdout",
     "output_type": "stream",
     "text": [
      "Starting detection...\n",
      "Detected a motion.\n",
      "Ending detection...\n"
     ]
    }
   ],
   "source": [
    "led = ol1.leds[0]\n",
    "led.on()\n",
    "\n",
    "if pir.read()==0:\n",
    "    print(\"Starting detection...\")\n",
    "    while True:\n",
    "        led.on()\n",
    "        sleep(0.1)\n",
    "        led.off()\n",
    "        sleep(0.1)\n",
    "        if pir.read()==1:\n",
    "            print(\"Detected a motion.\")\n",
    "            break\n",
    "print(\"Ending detection...\")"
   ]
  },
  {
   "cell_type": "markdown",
   "metadata": {},
   "source": [
    "----"
   ]
  },
  {
   "cell_type": "markdown",
   "metadata": {},
   "source": [
    "Copyright (C) 2022 Xilinx, Inc\n",
    "\n",
    "SPDX-License-Identifier: BSD-3-Clause"
   ]
  },
  {
   "cell_type": "markdown",
   "metadata": {},
   "source": [
    "----\n",
    "\n",
    "----"
   ]
  }
 ],
 "metadata": {
  "kernelspec": {
   "display_name": "Python 3",
   "language": "python",
   "name": "python3"
  },
  "language_info": {
   "codemirror_mode": {
    "name": "ipython",
    "version": 3
   },
   "file_extension": ".py",
   "mimetype": "text/x-python",
   "name": "python",
   "nbconvert_exporter": "python",
   "pygments_lexer": "ipython3",
   "version": "3.8.2"
  }
 },
 "nbformat": 4,
 "nbformat_minor": 4
}
