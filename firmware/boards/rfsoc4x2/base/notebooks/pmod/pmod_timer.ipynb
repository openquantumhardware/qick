{
 "cells": [
  {
   "cell_type": "markdown",
   "metadata": {},
   "source": [
    "# PMod Timer\n",
    "----"
   ]
  },
  {
   "cell_type": "markdown",
   "metadata": {},
   "source": [
    "## Aim/s\n",
    "* Generate pulses and detect input events with the PMod Timer.\n",
    "\n",
    "## References\n",
    "* [PYNQ Docs](https://pynq.readthedocs.io/en/latest/index.html)\n",
    "\n",
    "## Last revised\n",
    "\n",
    "* Feb 18, 2021, initial revision\n",
    "\n",
    "----"
   ]
  },
  {
   "cell_type": "markdown",
   "metadata": {},
   "source": [
    "In this notebook, PMOD Timer functionalities are illustrated. The Timer has two sub-modules: Timer0 and Timer1. \n",
    "\n",
    "The Generate output and Capture Input of Timer 0 are assumed to be connected to PMODA pin 0. \n",
    "    1. The Generate function outputs one clock (10 ns) pulse after a desired period. \n",
    "    2. The Capture input is sensitive to a rising edge or high level logic.\n",
    "\n",
    "To see the results of this notebook, you will need a [Digilent Analog Discovery 2](http://store.digilentinc.com/analog-discovery-2-100msps-usb-oscilloscope-logic-analyzer-and-variable-power-supply/)\n",
    "\n",
    "<td> <img src=\"https://cdn11.bigcommerce.com/s-7gavg/images/stencil/1280x1280/products/468/5380/Analog_Discovery_2_obl_600__81417.1599175586.png\" alt=\"Drawing\" style=\"width: 250px;\"/> </td>\n",
    "\n",
    "and [WaveForms 2015](https://reference.digilentinc.com/waveforms3#newest)\n",
    "\n",
    "<td> <img src=\"https://reference.digilentinc.com/_media/reference/software/waveforms/waveforms-3/waveforms3-0.png\" alt=\"Drawing\" style=\"width: 250px;\"/> </td>"
   ]
  },
  {
   "cell_type": "markdown",
   "metadata": {},
   "source": [
    "### 1. Instantiation\n",
    "\n",
    "Import overlay to use the timers."
   ]
  },
  {
   "cell_type": "code",
   "execution_count": 1,
   "metadata": {},
   "outputs": [],
   "source": [
    "from pynq.overlays.base import BaseOverlay\n",
    "base = BaseOverlay(\"base.bit\")"
   ]
  },
  {
   "cell_type": "markdown",
   "metadata": {},
   "source": [
    "Instantiate Pmod_Timer class. The method `stop()` will stop both timer sub-modules.\n",
    "\n",
    "In this example, we will use pin 0 of the PMODA interface. PMODB and other pins can also be used."
   ]
  },
  {
   "cell_type": "code",
   "execution_count": 2,
   "metadata": {
    "scrolled": true
   },
   "outputs": [],
   "source": [
    "from time import sleep\n",
    "from pynq.lib import Pmod_Timer\n",
    "\n",
    "pt = Pmod_Timer(base.PMODA,0)\n",
    "pt.stop()"
   ]
  },
  {
   "cell_type": "markdown",
   "metadata": {},
   "source": [
    "### 2. Generate pulses for a certain period of time\n",
    "\n",
    "In this example, we choose the Digilent Analog Discovery 2 as the scope.\n",
    "<div class=\"alert alert-heading alert-info\">\n",
    "    <ul>\n",
    "        <li> The `1+` pin (of channel 1) has to be connected to pin 0 on PMODA interface.</li>\n",
    "    </ul>\n",
    "</div>\n",
    "\n",
    "Use the following settings for waveform.\n",
    "\n",
    "<img src=\"data/generate_1us_forever_settings.jpg\" width=\"200px\"/>\n",
    "\n",
    "Note that pulses are generated every $period\\times10$ ns.\n",
    "\n",
    "The following cell generates a 10 ns clock pulse every 1 microseconds\n",
    "for 4 seconds and then stop the generation."
   ]
  },
  {
   "cell_type": "code",
   "execution_count": 3,
   "metadata": {},
   "outputs": [],
   "source": [
    "period = 100\n",
    "pt.generate_pulse(period)\n",
    "sleep(4)\n",
    "pt.stop()"
   ]
  },
  {
   "cell_type": "markdown",
   "metadata": {},
   "source": [
    "You should see output like this:\n",
    "\n",
    "<img src=\"data/generate_1us_forever.jpg\" width=\"800px\"/>"
   ]
  },
  {
   "cell_type": "markdown",
   "metadata": {},
   "source": [
    "### 3. Generate a certain number of pulses\n",
    "\n",
    "Note first parameter is the period interval. \n",
    "Denoting the desired period as $T$ (in ns), we need to set the first parameter period to:\n",
    "\n",
    "$period = \\frac{T}{10} $\n",
    "    \n",
    "The second parameter is the number of pulses to be generated.\n",
    "\n",
    "Run the following cell to generate 3 pulses at every 1 $\\mu$s."
   ]
  },
  {
   "cell_type": "code",
   "execution_count": 4,
   "metadata": {},
   "outputs": [],
   "source": [
    "count, period = 3, 100\n",
    "pt.generate_pulse(period, count)"
   ]
  },
  {
   "cell_type": "markdown",
   "metadata": {},
   "source": [
    "You should see output in the scope like this:\n",
    "\n",
    "<img src=\"data/generate_1us_n_times.jpg\" width=\"800px\"/>\n",
    "\n",
    "Now generate the pulses at every 1 $\\mu$s interval forever."
   ]
  },
  {
   "cell_type": "code",
   "execution_count": 5,
   "metadata": {},
   "outputs": [],
   "source": [
    "count, period = 0, 100\n",
    "pt.generate_pulse(period, count)"
   ]
  },
  {
   "cell_type": "markdown",
   "metadata": {},
   "source": [
    "Stop the generation."
   ]
  },
  {
   "cell_type": "code",
   "execution_count": 6,
   "metadata": {},
   "outputs": [],
   "source": [
    "pt.stop()"
   ]
  },
  {
   "cell_type": "markdown",
   "metadata": {},
   "source": [
    "### 4. Determine if an event has occurred at the input \n",
    "\n",
    "An event is either a rising edge or a high logic level. The parameter is duration, \n",
    "$period\\times10$ ns, in which the event is to be detected. It returns 0 if no event occurred, otherwise it returns 1.\n",
    "\n",
    "Use a waveform generator in this example. Connect W1 channel of the Analog Discovery to pin 0 of PMODA.\n",
    "\n",
    "Do not run the waveform generation in the next cell yet, and you will\n",
    "see the return value is 0 - meaning there is no event detected."
   ]
  },
  {
   "cell_type": "code",
   "execution_count": 7,
   "metadata": {},
   "outputs": [
    {
     "data": {
      "text/plain": [
       "0"
      ]
     },
     "execution_count": 7,
     "metadata": {},
     "output_type": "execute_result"
    }
   ],
   "source": [
    "period=1000\n",
    "pt.event_detected(period)"
   ]
  },
  {
   "cell_type": "markdown",
   "metadata": {},
   "source": [
    "Now run the waveform generation and then run the next cell. Set the waveform generator settings as shown below:\n",
    "\n",
    "<img src=\"data/measure_period_200KHz.jpg\" width=\"200px\"/>\n",
    "\n",
    "The next cell will return 1, meaning there is an event detected."
   ]
  },
  {
   "cell_type": "code",
   "execution_count": 8,
   "metadata": {},
   "outputs": [
    {
     "data": {
      "text/plain": [
       "1"
      ]
     },
     "execution_count": 8,
     "metadata": {},
     "output_type": "execute_result"
    }
   ],
   "source": [
    "period = 200000\n",
    "pt.event_detected(period)"
   ]
  },
  {
   "cell_type": "markdown",
   "metadata": {},
   "source": [
    "### 5. Count number of events occurred during a desired period \n",
    "\n",
    "An event is either a rising edge or a high logic level. The parameter is duration, $period\\times10$ ns, in which the number of event are counted. In this example we are interested in number of events occurring in 10 $\\mu$s.\n",
    "\n",
    "Use a waveform generator in this example. Use the following settings of the waveform generator and run the generator.\n",
    "\n",
    "<img src=\"data/count_events_10us.jpg\" width=\"200px\"/>\n",
    "\n",
    "Then run the next example to count number of events within 10 $\\mu s$."
   ]
  },
  {
   "cell_type": "code",
   "execution_count": 9,
   "metadata": {},
   "outputs": [
    {
     "data": {
      "text/plain": [
       "5"
      ]
     },
     "execution_count": 9,
     "metadata": {},
     "output_type": "execute_result"
    }
   ],
   "source": [
    "period = 1000\n",
    "pt.event_count(period)"
   ]
  },
  {
   "cell_type": "markdown",
   "metadata": {},
   "source": [
    "### 6. Measure period between two rising edges \n",
    "\n",
    "An event is either a rising edge or a high logic level. It expects at least two rising edges. The return result is in units of nanoseconds.\n",
    "\n",
    "Use a waveform generator in this example. Use the following settings of the waveform generator and run the generation.\n",
    "\n",
    "<img src=\"data/measure_period_200KHz.jpg\" width=\"200px\"/>"
   ]
  },
  {
   "cell_type": "code",
   "execution_count": 10,
   "metadata": {
    "scrolled": true
   },
   "outputs": [
    {
     "name": "stdout",
     "output_type": "stream",
     "text": [
      "The measured waveform frequency: 200000.0 Hz\n"
     ]
    }
   ],
   "source": [
    "period = pt.get_period_ns()\n",
    "print(\"The measured waveform frequency: {} Hz\".format(1e9/period))"
   ]
  },
  {
   "cell_type": "markdown",
   "metadata": {},
   "source": [
    "----"
   ]
  },
  {
   "cell_type": "markdown",
   "metadata": {},
   "source": [
    "Copyright (C) 2022 Xilinx, Inc\n",
    "\n",
    "SPDX-License-Identifier: BSD-3-Clause"
   ]
  },
  {
   "cell_type": "markdown",
   "metadata": {},
   "source": [
    "----\n",
    "\n",
    "----"
   ]
  }
 ],
 "metadata": {
  "kernelspec": {
   "display_name": "Python 3",
   "language": "python",
   "name": "python3"
  },
  "language_info": {
   "codemirror_mode": {
    "name": "ipython",
    "version": 3
   },
   "file_extension": ".py",
   "mimetype": "text/x-python",
   "name": "python",
   "nbconvert_exporter": "python",
   "pygments_lexer": "ipython3",
   "version": "3.8.2"
  }
 },
 "nbformat": 4,
 "nbformat_minor": 4
}
