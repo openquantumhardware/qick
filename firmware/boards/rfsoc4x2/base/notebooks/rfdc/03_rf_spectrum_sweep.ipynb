{
 "cells": [
  {
   "cell_type": "markdown",
   "metadata": {},
   "source": [
    "# RFSoC Spectrum Sweep\n",
    "----\n",
    "<div class=\"alert alert-box alert-info\">\n",
    "Please use Jupyter labs http://board_ip_address/lab for this notebook.\n",
    "</div>\n",
    "\n",
    "A simple way of validating the operation of the RF Data Converters\n",
    "(RF DCs) on your RFSoC4x2 board is to perform a spectrum sweep. \n",
    "The spectrum sweep is the process of transmitting a series of\n",
    "tones and confirming that they are all received correctly.\n",
    "\n",
    "## Aims\n",
    "* Review basic tone generation using the RF DAC channels.\n",
    "* Demonstrate a simple Spectrum Analyzer using the RF ADC channels.\n",
    "* Use the tone generator and Spectrum Analyzer to perform a spectrum sweep.\n",
    "\n",
    "## Table of Contents\n",
    "* [Hardware Setup](#hardware-setup)\n",
    "* [Application Setup and Design](#application-setup-and-design)\n",
    "    * [Basic Tone Generation](#basic-tone-generation)\n",
    "    * [A Spectrum Analyzer](#a-spectrum-analyser)\n",
    "* [The Spectrum Sweep](#the-spectrum-sweep)\n",
    "    * [Setting Constraints](#setting-constraints)\n",
    "    * [Useful Measurements](#useful-measurements)\n",
    "    * [Running the Sweep](#running-the-sweep)\n",
    "    * [Analysing Results](#analysing-results)\n",
    "* [Conclusion](#conclusion)\n",
    "\n",
    "## References\n",
    "* [Xilinx, Inc, \"USP RF Data Converter: LogiCORE IP Product Guide\", PG269, v2.4, November 2020](https://www.xilinx.com/support/documentation/ip_documentation/usp_rf_data_converter/v2_4/pg269-rf-data-converter.pdf)\n",
    "* [Cooley, James W.; Tukey, John W. (1965). \"An algorithm for the machine calculation of complex Fourier series\". Mathematics of Computation. 19 (90): 297–301.](https://www.ams.org/journals/mcom/1965-19-090/S0025-5718-1965-0178586-1/home.html)\n",
    "\n",
    "## Revision History\n",
    "* v1.0 | 25/02/2022 | First notebook revision.\n",
    "\n",
    "----"
   ]
  },
  {
   "cell_type": "markdown",
   "metadata": {},
   "source": [
    "## Hardware Setup <a class=\"anchor\" id=\"hardware-setup\"></a>\n",
    "\n",
    "The RFSoC4x2 board contains 4 RF ADC channels and 2 RF DAC channels. For this demonstration, we will be using 2 RF ADC channels and 2 RF DAC channels in loopback.\n",
    "\n",
    "Make the loopback connection, using SMA cables, as shown below:\n",
    "\n",
    "* Channel 3: DAC A to ADC A\n",
    "* Channel 2: DAC B to ADC B\n",
    "\n",
    "See the image below for a demonstration."
   ]
  },
  {
   "cell_type": "markdown",
   "metadata": {},
   "source": [
    "<img src='data/rfsoc4x2_loopback.jpg' align='left' style='left' height='75%' width='75%'/>"
   ]
  },
  {
   "cell_type": "markdown",
   "metadata": {},
   "source": [
    "<div class=\"alert alert-heading alert-danger\">\n",
    "    <h4 class=\"alert-heading\">Warning:</h4>\n",
    "\n",
    "In this demo we are transmitting signals via cables.\n",
    "This device can also transmit wireless signals. \n",
    "Keep in mind that unlicensed transmission of wireless signals\n",
    "may be illegal in your location. \n",
    "Radio signals may also interfere with nearby devices,\n",
    "such as pacemakers and emergency radio equipment. \n",
    "If you are unsure, please seek professional support.\n",
    "</div>\n",
    "\n",
    "----"
   ]
  },
  {
   "cell_type": "markdown",
   "metadata": {},
   "source": [
    "## Application Setup and Design <a class=\"anchor\" id=\"application-setup-and-design\"></a>\n",
    "\n",
    "The spectrum sweep application needs two major components to operate effectively.\n",
    "A tone generator that creates frequency stimulus, and a spectrum analysis\n",
    "tool such as a Spectrum Analyzer. We will design and setup each of these\n",
    "components and then perform the spectrum sweep application.\n",
    "\n",
    "To begin we will download the base overlay."
   ]
  },
  {
   "cell_type": "code",
   "execution_count": 1,
   "metadata": {},
   "outputs": [
    {
     "data": {
      "application/javascript": "\ntry {\nrequire(['notebook/js/codecell'], function(codecell) {\n  codecell.CodeCell.options_default.highlight_modes[\n      'magic_text/x-csrc'] = {'reg':[/^%%microblaze/]};\n  Jupyter.notebook.events.one('kernel_ready.Kernel', function(){\n      Jupyter.notebook.get_cells().map(function(cell){\n          if (cell.cell_type == 'code'){ cell.auto_highlight(); } }) ;\n  });\n});\n} catch (e) {};\n"
     },
     "metadata": {},
     "output_type": "display_data"
    },
    {
     "data": {
      "application/javascript": "\ntry {\nrequire(['notebook/js/codecell'], function(codecell) {\n  codecell.CodeCell.options_default.highlight_modes[\n      'magic_text/x-csrc'] = {'reg':[/^%%pybind11/]};\n  Jupyter.notebook.events.one('kernel_ready.Kernel', function(){\n      Jupyter.notebook.get_cells().map(function(cell){\n          if (cell.cell_type == 'code'){ cell.auto_highlight(); } }) ;\n  });\n});\n} catch (e) {};\n"
     },
     "metadata": {},
     "output_type": "display_data"
    }
   ],
   "source": [
    "from pynq.overlays.base import BaseOverlay\n",
    "\n",
    "base = BaseOverlay('base.bit')"
   ]
  },
  {
   "cell_type": "markdown",
   "metadata": {},
   "source": [
    "The RFSoC4x2 has a sophisticated clocking network, which can generate\n",
    "low-jitter clocks for the RF DC Phase-Locked Loops (PLLs).\n",
    "\n",
    "The base overlay has a simple method to initialize these clocks. Run the cell below to set the LMK and LMX clocks to 245.76MHz and 491.52MHz, respectively."
   ]
  },
  {
   "cell_type": "code",
   "execution_count": 2,
   "metadata": {},
   "outputs": [],
   "source": [
    "base.init_rf_clks()"
   ]
  },
  {
   "cell_type": "markdown",
   "metadata": {},
   "source": [
    "### Basic Tone Generation <a class=\"anchor\" id=\"basic-tone-generation\"></a>\n",
    "Tone generation has been covered before in previous notebooks, however, \n",
    "we require it again to perform the spectrum sweep application. \n",
    "\n",
    "Lets first obtain the ToneGenerator class from `rfsystem.spectrum_sweep` and\n",
    "create a ToneGenerator for each channel in the system."
   ]
  },
  {
   "cell_type": "code",
   "execution_count": 3,
   "metadata": {},
   "outputs": [],
   "source": [
    "from rfsystem.spectrum_sweep import ToneGenerator\n",
    "\n",
    "generators = []\n",
    "for i in range(0, len(base.radio.transmitter.channel)):\n",
    "    generators.append(\n",
    "        ToneGenerator(channel=base.radio.transmitter.channel[i]))"
   ]
  },
  {
   "cell_type": "markdown",
   "metadata": {},
   "source": [
    "Now we can initialise each tone generator with a centre frequency and gain."
   ]
  },
  {
   "cell_type": "code",
   "execution_count": 4,
   "metadata": {},
   "outputs": [],
   "source": [
    "for generator in generators:\n",
    "    generator.frequency_selector.centre_frequency = 600 # MHz\n",
    "    generator.amplitude_controller.enable = True\n",
    "    generator.amplitude_controller.gain = 0.5"
   ]
  },
  {
   "cell_type": "markdown",
   "metadata": {},
   "source": [
    "Although the RF DAC can produce a tone of a desired center frequency,\n",
    "one should keep in mind that the tone folds through the RF DAC Nyquist Zones.\n",
    "While you may be transmitting a 600 MHz tone, as in the above code cell, \n",
    "you are also transmitting another tone at 4315.2 MHz (due to a sample frequency\n",
    "of 4915.2 Msps). External RF filtering is required to suppress unwanted tones\n",
    "in neighboring Nyquist Zones."
   ]
  },
  {
   "cell_type": "markdown",
   "metadata": {},
   "source": [
    "### A Spectrum Analyzer <a class=\"anchor\" id=\"a-spectrum-analyser\"></a>\n",
    "\n",
    "A simple method of inspecting a signal is to perform an FFT and\n",
    "analyze it in the frequency domain. A Spectrum Analyzer class has been\n",
    "created for this very purpose in `rfsystem.spectrum_sweep`. Let's import it\n",
    "and create a spectrum analyzer for each receiver channel."
   ]
  },
  {
   "cell_type": "code",
   "execution_count": 5,
   "metadata": {},
   "outputs": [
    {
     "data": {
      "application/vnd.jupyter.widget-view+json": {
       "model_id": "3e51f57f04f942f6aeb8b3ff0756d7a4",
       "version_major": 2,
       "version_minor": 0
      },
      "text/plain": [
       "VBox(children=(FigureWidget({\n",
       "    'data': [{'name': 'Spectrum',\n",
       "              'type': 'scatter',\n",
       "             …"
      ]
     },
     "metadata": {},
     "output_type": "display_data"
    }
   ],
   "source": [
    "import ipywidgets as ipw\n",
    "from rfsystem.spectrum_sweep import SpectrumAnalyser\n",
    "\n",
    "analysers = []\n",
    "sample_frequency = 2457.6e6\n",
    "number_samples = 12288\n",
    "for i in [2,3]:\n",
    "    analysers.append(\n",
    "        SpectrumAnalyser(channel = base.radio.receiver.channel[i],\n",
    "                         sample_frequency = sample_frequency,\n",
    "                         number_samples = number_samples,\n",
    "                         title = ''.join(['Spectrum Analyser Channel ',\n",
    "                                          str(i)]),\n",
    "                         height = None,\n",
    "                         width = None))\n",
    "\n",
    "ipw.VBox([analyser.spectrum_plot.get_plot() for analyser in analysers])"
   ]
  },
  {
   "cell_type": "markdown",
   "metadata": {},
   "source": [
    "You will now see two spectrum plots on your screen. We can animate these plots by running the code cell below."
   ]
  },
  {
   "cell_type": "code",
   "execution_count": 6,
   "metadata": {},
   "outputs": [],
   "source": [
    "import time\n",
    "\n",
    "for i in range(0, 20):\n",
    "    for analyser in analysers:\n",
    "        analyser.update_spectrum()\n",
    "    time.sleep(0.2)"
   ]
  },
  {
   "cell_type": "markdown",
   "metadata": {},
   "source": [
    "Excellent! You have just explored a software defined spectrum analyzer. \n",
    "It will be useful if you right click the above plots and select\n",
    "`Create new view for output`. This will give the spectrum analyzers their own\n",
    "window. You will be able to see them at all times when scrolling through the\n",
    "remainder of this notebook."
   ]
  },
  {
   "cell_type": "markdown",
   "metadata": {},
   "source": [
    "## The Spectrum Sweep <a class=\"anchor\" id=\"the-spectrum-sweep\"></a>\n",
    "\n",
    "We have created a tone generator and spectrum analyzer for each channel.\n",
    "The next stage is to perform the spectrum sweep and validate the operation of\n",
    "the RF DCs."
   ]
  },
  {
   "cell_type": "markdown",
   "metadata": {},
   "source": [
    "### Setting Constraints <a class=\"anchor\" id=\"setting-constraints\"></a>\n",
    "We need to define the boundaries of our spectrum sweep application.\n",
    "What frequencies will we test? At which power should the tone generator\n",
    "operate at? We can set these parameters below."
   ]
  },
  {
   "cell_type": "code",
   "execution_count": 7,
   "metadata": {},
   "outputs": [],
   "source": [
    "frequency_list = [200, 600, 1000, 1600, 2600, 3200, 3600, 4200, 4400, 4800]\n",
    "transmitter_amplitude = 0.5"
   ]
  },
  {
   "cell_type": "markdown",
   "metadata": {},
   "source": [
    "### Useful Measurements <a class=\"anchor\" id=\"useful-measurements\"></a>\n",
    "\n",
    "We should consider the measurements during the spectrum sweep. \n",
    "\n",
    "* Signal to Noise Ratio (the different between the peak signal and noise). \n",
    "* The fundamental frequency of the received spectrum.\n",
    "\n",
    "Both of the above measurements are defined in the methods below."
   ]
  },
  {
   "cell_type": "code",
   "execution_count": 8,
   "metadata": {},
   "outputs": [],
   "source": [
    "import numpy as np\n",
    "\n",
    "def calculate_simple_snr(spectrum):\n",
    "    return np.max(spectrum) - np.average(spectrum)\n",
    "\n",
    "def calculate_fundamental(spectrum, sample_frequency, number_samples, \n",
    "                          receive_frequency):\n",
    "    rbw = sample_frequency/number_samples\n",
    "    maxindex = np.argsort(spectrum)[-1:][0]\n",
    "    return maxindex * rbw + receive_frequency - sample_frequency/2"
   ]
  },
  {
   "cell_type": "markdown",
   "metadata": {},
   "source": [
    "### Running the Sweep <a class=\"anchor\" id=\"running-the-sweep\"></a>\n",
    "\n",
    "To run the sweep, we need to iterate through all of the frequencies in\n",
    "`frequency_list` at least once for each channel. The tone generator will\n",
    "need to be set to the appropriate frequency and the spectrum analyzer needs\n",
    "to be in the correct Nyquist Zone. \n",
    "\n",
    "We have created the spectrum sweep below."
   ]
  },
  {
   "cell_type": "code",
   "execution_count": 9,
   "metadata": {},
   "outputs": [],
   "source": [
    "import time\n",
    "\n",
    "def run_spectrum_sweep(frequencies = frequency_list,\n",
    "                       amplitude = transmitter_amplitude):\n",
    "    fundamental = []\n",
    "    snr = []\n",
    "    results = []\n",
    "    frequency_zones = [1228.8, 3686.4]\n",
    "    for frequency in frequencies:\n",
    "        for generator in generators:\n",
    "            generator.amplitude_controller.enable = True\n",
    "            generator.amplitude_controller.gain = amplitude\n",
    "            generator.frequency_selector.centre_frequency = frequency\n",
    "\n",
    "        time.sleep(1)\n",
    "\n",
    "        for analyser in analysers:\n",
    "            if frequency*1e6 < sample_frequency:\n",
    "                receive_frequency = frequency_zones[0]\n",
    "            else:\n",
    "                receive_frequency = frequency_zones[1]\n",
    "    \n",
    "            analyser.frequency_selector.centre_frequency = receive_frequency\n",
    "            analyser.spectrum_plot.centre_frequency = receive_frequency*1e6\n",
    "            analyser.update_spectrum()\n",
    "            spectrum = analyser.get_spectrum()\n",
    "            maxvalue = np.max(spectrum)\n",
    "            maxindex = np.argsort(spectrum)[-1:][0]\n",
    "            fundamental.append(\n",
    "                calculate_fundamental(\n",
    "                    spectrum, sample_frequency, number_samples, \n",
    "                    receive_frequency*1e6)*1e-6)\n",
    "            snr.append(calculate_simple_snr(spectrum))\n",
    "\n",
    "    for i in range(0, len(analysers)):\n",
    "        results.append(\n",
    "            np.array([frequencies, fundamental[i::len(analysers)], \n",
    "                      snr[i::len(analysers)]]))\n",
    "\n",
    "    return results"
   ]
  },
  {
   "cell_type": "markdown",
   "metadata": {},
   "source": [
    "Running the following code cell will execute the spectrum sweep application.\n",
    "It will take some time to complete. \n",
    "\n",
    "While you wait, you can inspect the spectrum analyzer plots."
   ]
  },
  {
   "cell_type": "code",
   "execution_count": 10,
   "metadata": {},
   "outputs": [],
   "source": [
    "results = run_spectrum_sweep()"
   ]
  },
  {
   "cell_type": "markdown",
   "metadata": {},
   "source": [
    "### Analysing Results <a class=\"anchor\" id=\"analysing-results\"></a>\n",
    "\n",
    "Previously we had defined our measurements to be the SNR, and the fundamental\n",
    "frequency of the received signal. Let's inspect these measurements now. "
   ]
  },
  {
   "cell_type": "code",
   "execution_count": 11,
   "metadata": {},
   "outputs": [
    {
     "name": "stdout",
     "output_type": "stream",
     "text": [
      "Channel: 2\n"
     ]
    },
    {
     "data": {
      "text/html": [
       "<div>\n",
       "<style scoped>\n",
       "    .dataframe tbody tr th:only-of-type {\n",
       "        vertical-align: middle;\n",
       "    }\n",
       "\n",
       "    .dataframe tbody tr th {\n",
       "        vertical-align: top;\n",
       "    }\n",
       "\n",
       "    .dataframe thead th {\n",
       "        text-align: right;\n",
       "    }\n",
       "</style>\n",
       "<table border=\"1\" class=\"dataframe\">\n",
       "  <thead>\n",
       "    <tr style=\"text-align: right;\">\n",
       "      <th></th>\n",
       "      <th>0</th>\n",
       "      <th>1</th>\n",
       "      <th>2</th>\n",
       "      <th>3</th>\n",
       "      <th>4</th>\n",
       "      <th>5</th>\n",
       "      <th>6</th>\n",
       "      <th>7</th>\n",
       "      <th>8</th>\n",
       "      <th>9</th>\n",
       "    </tr>\n",
       "  </thead>\n",
       "  <tbody>\n",
       "    <tr>\n",
       "      <th>TX Frequency (MHz)</th>\n",
       "      <td>200.000000</td>\n",
       "      <td>600.000000</td>\n",
       "      <td>1000.000000</td>\n",
       "      <td>1600.000000</td>\n",
       "      <td>2600.000000</td>\n",
       "      <td>3200.00000</td>\n",
       "      <td>3600.000000</td>\n",
       "      <td>4200.00000</td>\n",
       "      <td>4400.000000</td>\n",
       "      <td>4800.000000</td>\n",
       "    </tr>\n",
       "    <tr>\n",
       "      <th>RX Fundamental (MHz)</th>\n",
       "      <td>200.000000</td>\n",
       "      <td>600.000000</td>\n",
       "      <td>1000.000000</td>\n",
       "      <td>1600.000000</td>\n",
       "      <td>2600.000000</td>\n",
       "      <td>3200.00000</td>\n",
       "      <td>3600.000000</td>\n",
       "      <td>4200.00000</td>\n",
       "      <td>4400.000000</td>\n",
       "      <td>4800.000000</td>\n",
       "    </tr>\n",
       "    <tr>\n",
       "      <th>SNR (dBFS)</th>\n",
       "      <td>90.827538</td>\n",
       "      <td>90.737943</td>\n",
       "      <td>89.745502</td>\n",
       "      <td>89.032357</td>\n",
       "      <td>84.872278</td>\n",
       "      <td>82.26698</td>\n",
       "      <td>83.079912</td>\n",
       "      <td>81.38387</td>\n",
       "      <td>81.026402</td>\n",
       "      <td>83.291947</td>\n",
       "    </tr>\n",
       "  </tbody>\n",
       "</table>\n",
       "</div>"
      ],
      "text/plain": [
       "                               0           1            2            3  \\\n",
       "TX Frequency (MHz)    200.000000  600.000000  1000.000000  1600.000000   \n",
       "RX Fundamental (MHz)  200.000000  600.000000  1000.000000  1600.000000   \n",
       "SNR (dBFS)             90.827538   90.737943    89.745502    89.032357   \n",
       "\n",
       "                                4           5            6           7  \\\n",
       "TX Frequency (MHz)    2600.000000  3200.00000  3600.000000  4200.00000   \n",
       "RX Fundamental (MHz)  2600.000000  3200.00000  3600.000000  4200.00000   \n",
       "SNR (dBFS)              84.872278    82.26698    83.079912    81.38387   \n",
       "\n",
       "                                8            9  \n",
       "TX Frequency (MHz)    4400.000000  4800.000000  \n",
       "RX Fundamental (MHz)  4400.000000  4800.000000  \n",
       "SNR (dBFS)              81.026402    83.291947  "
      ]
     },
     "metadata": {},
     "output_type": "display_data"
    },
    {
     "name": "stdout",
     "output_type": "stream",
     "text": [
      "Channel: 3\n"
     ]
    },
    {
     "data": {
      "text/html": [
       "<div>\n",
       "<style scoped>\n",
       "    .dataframe tbody tr th:only-of-type {\n",
       "        vertical-align: middle;\n",
       "    }\n",
       "\n",
       "    .dataframe tbody tr th {\n",
       "        vertical-align: top;\n",
       "    }\n",
       "\n",
       "    .dataframe thead th {\n",
       "        text-align: right;\n",
       "    }\n",
       "</style>\n",
       "<table border=\"1\" class=\"dataframe\">\n",
       "  <thead>\n",
       "    <tr style=\"text-align: right;\">\n",
       "      <th></th>\n",
       "      <th>0</th>\n",
       "      <th>1</th>\n",
       "      <th>2</th>\n",
       "      <th>3</th>\n",
       "      <th>4</th>\n",
       "      <th>5</th>\n",
       "      <th>6</th>\n",
       "      <th>7</th>\n",
       "      <th>8</th>\n",
       "      <th>9</th>\n",
       "    </tr>\n",
       "  </thead>\n",
       "  <tbody>\n",
       "    <tr>\n",
       "      <th>TX Frequency (MHz)</th>\n",
       "      <td>200.000000</td>\n",
       "      <td>600.000000</td>\n",
       "      <td>1000.00000</td>\n",
       "      <td>1600.000000</td>\n",
       "      <td>2600.000000</td>\n",
       "      <td>3200.000000</td>\n",
       "      <td>3600.000000</td>\n",
       "      <td>4200.000000</td>\n",
       "      <td>4400.000000</td>\n",
       "      <td>4800.000000</td>\n",
       "    </tr>\n",
       "    <tr>\n",
       "      <th>RX Fundamental (MHz)</th>\n",
       "      <td>200.000000</td>\n",
       "      <td>600.000000</td>\n",
       "      <td>1000.00000</td>\n",
       "      <td>1600.000000</td>\n",
       "      <td>2600.000000</td>\n",
       "      <td>3200.000000</td>\n",
       "      <td>3600.000000</td>\n",
       "      <td>4200.000000</td>\n",
       "      <td>4400.000000</td>\n",
       "      <td>4800.000000</td>\n",
       "    </tr>\n",
       "    <tr>\n",
       "      <th>SNR (dBFS)</th>\n",
       "      <td>91.454898</td>\n",
       "      <td>91.012576</td>\n",
       "      <td>89.56917</td>\n",
       "      <td>89.157591</td>\n",
       "      <td>90.274721</td>\n",
       "      <td>90.375974</td>\n",
       "      <td>89.129994</td>\n",
       "      <td>86.672627</td>\n",
       "      <td>72.371455</td>\n",
       "      <td>87.099996</td>\n",
       "    </tr>\n",
       "  </tbody>\n",
       "</table>\n",
       "</div>"
      ],
      "text/plain": [
       "                               0           1           2            3  \\\n",
       "TX Frequency (MHz)    200.000000  600.000000  1000.00000  1600.000000   \n",
       "RX Fundamental (MHz)  200.000000  600.000000  1000.00000  1600.000000   \n",
       "SNR (dBFS)             91.454898   91.012576    89.56917    89.157591   \n",
       "\n",
       "                                4            5            6            7  \\\n",
       "TX Frequency (MHz)    2600.000000  3200.000000  3600.000000  4200.000000   \n",
       "RX Fundamental (MHz)  2600.000000  3200.000000  3600.000000  4200.000000   \n",
       "SNR (dBFS)              90.274721    90.375974    89.129994    86.672627   \n",
       "\n",
       "                                8            9  \n",
       "TX Frequency (MHz)    4400.000000  4800.000000  \n",
       "RX Fundamental (MHz)  4400.000000  4800.000000  \n",
       "SNR (dBFS)              72.371455    87.099996  "
      ]
     },
     "metadata": {},
     "output_type": "display_data"
    }
   ],
   "source": [
    "import pandas as pd\n",
    "\n",
    "for i in range(len(analysers)):\n",
    "    print(''.join(['Channel: ', str(i+2)]))\n",
    "    dataframe = pd.DataFrame(\n",
    "        data=results[i], index=[\n",
    "            \"TX Frequency (MHz)\", \"RX Fundamental (MHz)\", \"SNR (dB)\"])\n",
    "    display(dataframe)"
   ]
  },
  {
   "cell_type": "markdown",
   "metadata": {},
   "source": [
    "For the settings given in this notebook, a suitable SNR is any value\n",
    "above 60 dB. The fundamental frequency of the received signal should be\n",
    "exactly the same as the frequency of the transmitted tone."
   ]
  },
  {
   "cell_type": "markdown",
   "metadata": {},
   "source": [
    "## Conclusion <a class=\"anchor\" id=\"conclusion\"></a>\n",
    "We presented a spectrum sweep application on RFSoC.\n",
    "You have learned how to setup the spectrum sweep application\n",
    "using loopback between a tone generator and spectrum analyzer\n",
    "for each channel. The SNR and fundamental frequency was measured\n",
    "for several candidate transmitter frequencies.\n",
    "\n",
    "[⬅️ Spectrum Analysis on RFSoC](02_rf_spectrum_analysis.ipynb)"
   ]
  },
  {
   "cell_type": "markdown",
   "metadata": {},
   "source": [
    "---\n",
    "Copyright (C) 2022 Xilinx, Inc\n",
    "\n",
    "SPDX-License-Identifier: BSD-3-Clause\n",
    "\n",
    "----\n",
    "\n",
    "----"
   ]
  }
 ],
 "metadata": {
  "kernelspec": {
   "display_name": "Python 3",
   "language": "python",
   "name": "python3"
  },
  "language_info": {
   "codemirror_mode": {
    "name": "ipython",
    "version": 3
   },
   "file_extension": ".py",
   "mimetype": "text/x-python",
   "name": "python",
   "nbconvert_exporter": "python",
   "pygments_lexer": "ipython3",
   "version": "3.8.2"
  },
  "widgets": {
   "application/vnd.jupyter.widget-state+json": {
    "state": {},
    "version_major": 2,
    "version_minor": 0
   }
  }
 },
 "nbformat": 4,
 "nbformat_minor": 4
}
