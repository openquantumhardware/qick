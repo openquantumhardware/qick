{
 "cells": [
  {
   "cell_type": "markdown",
   "metadata": {},
   "source": [
    "# RF Data Converter Introduction\n",
    "----\n",
    "\n",
    "<div class=\"alert alert-box alert-info\">\n",
    "Please use Jupyter labs http://board_ip_address/lab for this notebook.\n",
    "</div>\n",
    "\n",
    "This notebook presents an introduction to the RF Data\n",
    "Converters (RF DCs) on the RFSoC4x2 board.\n",
    "\n",
    "## Aims\n",
    "* Describe the `xrfdc` Python package that is required to control and\n",
    "  configure the RF DCs from Jupyter\n",
    "* Investigate the radio hierarchy in the base overlay, allowing the\n",
    "  user to develop very simple RF designs. \n",
    "* Present the data inspection and visualisation of the RF DCs using \n",
    "  Plotly.\n",
    "\n",
    "## Table of Contents\n",
    "* [Introduction](#introduction)\n",
    "* [Hardware Setup](#hardware-setup)\n",
    "* [The Radio Hierarchy](#radio-hierarchy)\n",
    "* [Transmitter and Receiver](#the-transmitter-and-receiver)\n",
    "* [RF Data Inspection](#rf-data-inspection)\n",
    "* [Conclusion](#conclusion)\n",
    "\n",
    "## References\n",
    "* [Xilinx, Inc, \"USP RF Data Converter: LogiCORE IP Product Guide\", PG269, v2.4, November 2020](https://www.xilinx.com/support/documentation/ip_documentation/usp_rf_data_converter/v2_4/pg269-rf-data-converter.pdf)\n",
    "* [Xilinx, Inc, \"Vivado Design Suite: The AXI Reference Guide\", UG1037, v4.0, June 2017](https://www.xilinx.com/support/documentation/ip_documentation/axi_ref_guide/latest/ug1037-vivado-axi-reference-guide.pdf)\n",
    "\n",
    "## Revision History\n",
    "\n",
    "* v1.0 | 25/02/2022 | First notebook revision."
   ]
  },
  {
   "cell_type": "markdown",
   "metadata": {},
   "source": [
    "----\n",
    "\n",
    "## Introduction <a class=\"anchor\" id=\"introduction\"></a>\n",
    "\n",
    "An overview of the Zynq RFSoC device is shown below; there are\n",
    "three major components:\n",
    "\n",
    "* Processing System (PS)\n",
    "* Programmable Logic (PL)\n",
    "* RF Data Converters (RF DC, including ADC and DAC)\n",
    "\n",
    "The RF data converters are significant features of the Zynq RFSoC\n",
    "device as they interface directly to the PL.\n",
    "This brings many advantages, including the ability to\n",
    "perform direct RF sampling and low-latency processing.\n",
    "The RFSoC4x2 is a Gen 3 RFSoC platform consisting of an XCZU48DR-FSVG1517-2-E RFSoC device.\n",
    "This RFSoC device has 8 RF ADC channels and 8 RF DAC channels. However, only the following\n",
    "is accessible on the RFSoC4x2 development board.\n",
    "\n",
    "* 4x RF Analogue-to-Digital Converters (RF ADCs)\n",
    "    * Sample rate of 5 GSPS\n",
    "    * 14-bit conversion\n",
    "* 2x RF Digital-to-Analogue Converters (RF DACs)\n",
    "    * Sample rate of 9.85 GSPS\n",
    "    * 14-bit conversion"
   ]
  },
  {
   "cell_type": "markdown",
   "metadata": {},
   "source": [
    "<img src='data/rfsystem_rfdc_overview.png' align='left' style='left' height='75%' width='75%'/>"
   ]
  },
  {
   "cell_type": "markdown",
   "metadata": {},
   "source": [
    "Let's take a closer look at the RF DC block, starting with\n",
    "the RF ADC tiles. Each tile contains 2 RF ADC blocks, \n",
    "which can be used to receive, or Digital Down Convert (DDC), \n",
    "an analogue signal. Each RF ADC block contains:\n",
    "\n",
    "* A gearbox FIFO\n",
    "* 1x (bypass), 2x, 3x, 4x, 5x, 6x, 8x, 10x, 12x, 16x, 20x, 24x or 40x decimator\n",
    "* A complex mixer\n",
    "* A Quadrature Modulation Correction (QMC) unit\n",
    "* Embedded Digital Step Attenuator (DSA)\n",
    "* On-chip clock distribution network\n",
    "\n",
    "The image below presents the typical RF ADC processing \n",
    "pipeline:\n",
    "\n",
    "1. The RF ADC samples the input waveform to convert it\n",
    "   into a digital signal.\n",
    "2. A threshold detector can be employed to detect and record\n",
    "   input amplitude levels. \n",
    "3. The QMC is used to offset potential imbalance in the\n",
    "   quality of the received complex signal.\n",
    "4. The I and Q mixer can mix the input signal to baseband.\n",
    "5. The I and Q decimators are capable of a wide range of\n",
    "   decimation options before interfacing the PL via the gearbox FIFO."
   ]
  },
  {
   "cell_type": "markdown",
   "metadata": {},
   "source": [
    "<img src='data/rfsystem_rfadc_block_overview.png' align='left' style='left' height='100%' width='100%'/>"
   ]
  },
  {
   "cell_type": "markdown",
   "metadata": {},
   "source": [
    "The RF DAC block has a similar pipeline to the RF ADC;\n",
    "however, it is in reverse this time for Digital Up Conversion (DUC).\n",
    "\n",
    "1. The data to be transmitted is interfaced to the RF DAC block from the PL.\n",
    "2. The digital signal is interpolated by a factor of 1x (bypass), 2x, 3x, 4x, 5x, 6x, 8x, 10x, 12x, 16x, 20x, 24x    or 40x.\n",
    "3. The digital signal is transferred to the complex mixer to be mixed\n",
    "   to the desired carrier frequency. \n",
    "4. The signal then passes through an Image Rejection (IMR), which is capable of removing images in either the 1st or 2nd Nyquist zones. The IMR provides an additional 2x interpolation that can be bypassed if required.\n",
    "5. After the IMR filter stage, the signal can optionally\n",
    "   be convolved with an inverse (anti) sinc filter to improve the\n",
    "   roll-off of the first Nyquist zone.\n",
    "6. The digital signal is then converted to analogue through the\n",
    "   RF DAC sampler.\n"
   ]
  },
  {
   "cell_type": "markdown",
   "metadata": {},
   "source": [
    "<img src='data/rfsystem_rfdac_block_overview.png' align='left' style='left' height='100%' width='100%'/>"
   ]
  },
  {
   "cell_type": "markdown",
   "metadata": {},
   "source": [
    "In this notebook, we will be demonstrating many of the features\n",
    "mentioned above via a simple loopback example.\n",
    "\n",
    "## Hardware Setup <a class=\"anchor\" id=\"hardware-setup\"></a>\n",
    "\n",
    "The RFSoC4x2 board contains 4 RF ADC channels and 2 RF DAC channels. For this demonstration, we will be using 2 RF ADC channels and 2 RF DAC channels in loopback.\n",
    "\n",
    "Make the loopback connection, using SMA cables, as shown below:\n",
    "\n",
    "* Channel 3: DAC A to ADC A\n",
    "* Channel 2: DAC B to ADC B\n",
    "\n",
    "See the image below for a demonstration."
   ]
  },
  {
   "cell_type": "markdown",
   "metadata": {},
   "source": [
    "<img src='data/rfsoc4x2_loopback.jpg' align='left' style='left' height='75%' width='75%'/>"
   ]
  },
  {
   "cell_type": "markdown",
   "metadata": {},
   "source": [
    "<div class=\"alert alert-heading alert-danger\">\n",
    "    <h4 class=\"alert-heading\">Warning:</h4>\n",
    "\n",
    "In this demo we are transmitting signals via cables.\n",
    "This device can also transmit wireless signals. \n",
    "Keep in mind that unlicensed transmission of wireless signals\n",
    "may be illegal in your location. \n",
    "Radio signals may also interfere with nearby devices,\n",
    "such as pacemakers and emergency radio equipment. \n",
    "If you are unsure, please seek professional support.\n",
    "</div>\n",
    "\n",
    "----"
   ]
  },
  {
   "cell_type": "markdown",
   "metadata": {},
   "source": [
    "## The Radio Hierarchy <a class=\"anchor\" id=\"radio-hierarchy\"></a>\n",
    "\n",
    "We need to add custom control logic in the PL to communicate\n",
    "with the RF ADC or RF DAC. The RFSoC4x2 base overlay contains\n",
    "such logic that will allow you to evaluate the RF DCs. \n",
    "There are two IP Cores - the transmitter and the receiver.\n",
    "\n",
    "* **Amplitude Controller** - can apply a value to the input of the RF DAC.\n",
    "The value can be set by writing to an AXI-Lite register. \n",
    "The register value can be mixed with the Numerically\n",
    "Controlled Oscillator (NCO) in the fine mixer to create a tone. \n",
    "The tone is looped back round into the RF ADC.\n",
    "\n",
    "* **Packet Generator** - interfaces to the output of RF ADC block. \n",
    "The data is used to generate an [AXI-Stream packet](https://www.xilinx.com/support/documentation/ip_documentation/axi_ref_guide/latest/ug1037-vivado-axi-reference-guide.pdf).\n",
    "The AXI-Stream packet is sent to an AXI Direct Memory\n",
    "Access (DMA) core and transferred to DDR memory.\n",
    "\n",
    "These 2 IP cores are connected to each channel of the RFSoC4x2 board.\n",
    "They are conveniently placed inside a hierarchical block, `radio`, \n",
    "as shown below."
   ]
  },
  {
   "cell_type": "markdown",
   "metadata": {},
   "source": [
    "<img src='data/rfsystem_introduction.png' align='left' style='left' height='75%' width='75%'/>"
   ]
  },
  {
   "cell_type": "markdown",
   "metadata": {},
   "source": [
    "Let's now download the base overlay and initialize the drivers."
   ]
  },
  {
   "cell_type": "code",
   "execution_count": 1,
   "metadata": {},
   "outputs": [
    {
     "data": {
      "application/javascript": [
       "\n",
       "try {\n",
       "require(['notebook/js/codecell'], function(codecell) {\n",
       "  codecell.CodeCell.options_default.highlight_modes[\n",
       "      'magic_text/x-csrc'] = {'reg':[/^%%microblaze/]};\n",
       "  Jupyter.notebook.events.one('kernel_ready.Kernel', function(){\n",
       "      Jupyter.notebook.get_cells().map(function(cell){\n",
       "          if (cell.cell_type == 'code'){ cell.auto_highlight(); } }) ;\n",
       "  });\n",
       "});\n",
       "} catch (e) {};\n"
      ]
     },
     "metadata": {},
     "output_type": "display_data"
    },
    {
     "data": {
      "application/javascript": [
       "\n",
       "try {\n",
       "require(['notebook/js/codecell'], function(codecell) {\n",
       "  codecell.CodeCell.options_default.highlight_modes[\n",
       "      'magic_text/x-csrc'] = {'reg':[/^%%pybind11/]};\n",
       "  Jupyter.notebook.events.one('kernel_ready.Kernel', function(){\n",
       "      Jupyter.notebook.get_cells().map(function(cell){\n",
       "          if (cell.cell_type == 'code'){ cell.auto_highlight(); } }) ;\n",
       "  });\n",
       "});\n",
       "} catch (e) {};\n"
      ]
     },
     "metadata": {},
     "output_type": "display_data"
    }
   ],
   "source": [
    "from pynq.overlays.base import BaseOverlay\n",
    "\n",
    "base = BaseOverlay('base.bit')"
   ]
  },
  {
   "cell_type": "markdown",
   "metadata": {},
   "source": [
    "The RFSoC4x2 has a sophisticated clocking network, which can generate\n",
    "low-jitter clocks for the RF DC Phase-Locked Loops (PLLs).\n",
    "\n",
    "The base overlay has a simple method to initialize these clocks. Run the cell below to set\n",
    "the LMK and LMX clocks to 245.76MHz and 491.52MHz, respectively."
   ]
  },
  {
   "cell_type": "code",
   "execution_count": 2,
   "metadata": {},
   "outputs": [],
   "source": [
    "base.init_rf_clks()"
   ]
  },
  {
   "cell_type": "markdown",
   "metadata": {},
   "source": [
    "Now we should investigate the `radio` hierarchy."
   ]
  },
  {
   "cell_type": "code",
   "execution_count": 3,
   "metadata": {},
   "outputs": [
    {
     "data": {
      "text/plain": [
       "\u001b[0;31mType:\u001b[0m           RadioWrapper\n",
       "\u001b[0;31mString form:\u001b[0m    <rfsystem.hierarchies.RadioWrapper object at 0xffff79bff6d0>\n",
       "\u001b[0;31mFile:\u001b[0m           /usr/local/share/pynq-venv/lib/python3.10/site-packages/rfsystem/hierarchies.py\n",
       "\u001b[0;31mDocstring:\u001b[0m     \n",
       "Hierarchy driver for the entire radio subsystem.\n",
       "\n",
       "Exposes the transmit, receive, and rfdc as attributes. The rfdc\n",
       "dac and adc tiles are passed to the transmitter and receiver\n",
       "respectively.\n",
       "\n",
       "This wrapper assumes the following separate pipelines\n",
       "* transmitter -> rfdc -> \"the outside world\"\n",
       "* \"the outside world\" -> rfdc => receiver\n",
       "\n",
       "The rfdc core is common between each pipeline.\n",
       "\n",
       "Attributes\n",
       "----------\n",
       "transmitter : pynq.lib.radio.Transmitter\n",
       "    The transmit control system\n",
       "receiver : pynq.lib.radio.Receiver\n",
       "    The receive control system\n",
       "rfdc : xrfdc package\n",
       "    The RF Data Converter core\n",
       "\u001b[0;31mInit docstring:\u001b[0m\n",
       "Create a new _IPMap based on a hierarchical description.\n",
       "\n",
       "        \n"
      ]
     },
     "metadata": {},
     "output_type": "display_data"
    }
   ],
   "source": [
    "base.radio?"
   ]
  },
  {
   "cell_type": "markdown",
   "metadata": {},
   "source": [
    "We can see the `transmitter` and `receiver` hierarchies. \n",
    "The RF DC object is also available, however, we don't need this. The reason\n",
    "is that each transmitter and receiver is automatically paired with their\n",
    "associated RF DC tile and block.\n",
    "\n",
    "The `radio` hierarchy also initializes all of the active RF ADC and RF DAC\n",
    "blocks to sample at 4915.2 MSPS (close to the maximum sample rate for the RF ADC).\n",
    "By default the RF DAC and RF ADC mixer frequencies are 1228.8 MHz, which is\n",
    "in the center of the first Nyquist Zone."
   ]
  },
  {
   "cell_type": "markdown",
   "metadata": {},
   "source": [
    "## Transmitter and Receiver <a class=\"anchor\" id=\"the-transmitter-and-receiver\"></a>\n",
    "\n",
    "The transmitter hierarchy contains two channels. Each channel contains an\n",
    "*Amplitude Controller* connected directly to an RF DAC. We can list the\n",
    "available channels of the transmitter using the `get_channel_description()`\n",
    "method."
   ]
  },
  {
   "cell_type": "code",
   "execution_count": 4,
   "metadata": {},
   "outputs": [
    {
     "data": {
      "text/plain": [
       "{'Channel 0': {'Tile': 228, 'Block': 0},\n",
       " 'Channel 1': {'Tile': 230, 'Block': 0}}"
      ]
     },
     "execution_count": 4,
     "metadata": {},
     "output_type": "execute_result"
    }
   ],
   "source": [
    "base.radio.transmitter.get_channel_description()"
   ]
  },
  {
   "cell_type": "markdown",
   "metadata": {},
   "source": [
    "The report above states that there are two active channels in the system.\n",
    "\n",
    "The receiver hierarchy contains four channels, however, for this demonstration we will only be using two.\n",
    "The *Packet Generator*\n",
    "arranges the data into AXI-Stream packets and sends these packets to DDR\n",
    "memory via AXI DMA. Let's run the cell below."
   ]
  },
  {
   "cell_type": "code",
   "execution_count": 5,
   "metadata": {},
   "outputs": [
    {
     "data": {
      "text/plain": [
       "{'Channel 0': {'Tile': 224, 'Block': 0},\n",
       " 'Channel 1': {'Tile': 224, 'Block': 1},\n",
       " 'Channel 2': {'Tile': 226, 'Block': 0},\n",
       " 'Channel 3': {'Tile': 226, 'Block': 1}}"
      ]
     },
     "execution_count": 5,
     "metadata": {},
     "output_type": "execute_result"
    }
   ],
   "source": [
    "base.radio.receiver.get_channel_description()"
   ]
  },
  {
   "cell_type": "markdown",
   "metadata": {},
   "source": [
    "There are several methods to read and write to RF block registers.\n",
    "These methods are common to the RF DAC and RF ADC.\n",
    "\n",
    "```python\n",
    "BlockStatus\n",
    "MixerSettings\n",
    "QMCSettings\n",
    "CoarseDelaySettings\n",
    "NyquistZone\n",
    "```\n",
    "\n",
    "For example, `base.radio.transmitter.channel[0].dac_block.QMCSettings`\n",
    "will display the QMC settings for the transmit DAC block.\n",
    "\n",
    "For many of these settings, you can change them and they will impact the operation."
   ]
  },
  {
   "cell_type": "code",
   "execution_count": 6,
   "metadata": {},
   "outputs": [
    {
     "data": {
      "text/plain": [
       "{'EnablePhase': 0,\n",
       " 'EnableGain': 0,\n",
       " 'GainCorrectionFactor': 0.0,\n",
       " 'PhaseCorrectionFactor': 0.0,\n",
       " 'OffsetCorrectionFactor': 0,\n",
       " 'EventSource': 0}"
      ]
     },
     "execution_count": 6,
     "metadata": {},
     "output_type": "execute_result"
    }
   ],
   "source": [
    "base.radio.transmitter.channel[0].dac_block.QMCSettings"
   ]
  },
  {
   "cell_type": "markdown",
   "metadata": {},
   "source": [
    "Another example you can try:\n",
    "```python\n",
    "base.radio.receiver.channel[2].adc_block.CoarseDelaySettings\n",
    "```\n",
    "\n",
    "To further investigate the RF ADC and RF DAC, you can run the code cell below."
   ]
  },
  {
   "cell_type": "code",
   "execution_count": 7,
   "metadata": {},
   "outputs": [
    {
     "name": "stdout",
     "output_type": "stream",
     "text": [
      "Help on RFdcDacBlock in module xrfdc object:\n",
      "\n",
      "class RFdcDacBlock(RFdcBlock)\n",
      " |  RFdcDacBlock(*args, **kwargs)\n",
      " |  \n",
      " |  Method resolution order:\n",
      " |      RFdcDacBlock\n",
      " |      RFdcBlock\n",
      " |      builtins.object\n",
      " |  \n",
      " |  Methods defined here:\n",
      " |  \n",
      " |  SetDACVOP(self, uACurrent)\n",
      " |  \n",
      " |  __init__(self, *args, **kwargs)\n",
      " |      Initialize self.  See help(type(self)) for accurate signature.\n",
      " |  \n",
      " |  ----------------------------------------------------------------------\n",
      " |  Readonly properties defined here:\n",
      " |  \n",
      " |  FabRdVldWords\n",
      " |  \n",
      " |  OutputCurr\n",
      " |  \n",
      " |  ----------------------------------------------------------------------\n",
      " |  Data descriptors defined here:\n",
      " |  \n",
      " |  DACCompMode\n",
      " |  \n",
      " |  DataPathMode\n",
      " |  \n",
      " |  DecoderMode\n",
      " |  \n",
      " |  FabWrVldWords\n",
      " |  \n",
      " |  IMRPassMode\n",
      " |  \n",
      " |  InterpolationFactor\n",
      " |  \n",
      " |  InvSincFIR\n",
      " |  \n",
      " |  ----------------------------------------------------------------------\n",
      " |  Methods inherited from RFdcBlock:\n",
      " |  \n",
      " |  GetConnectedIData(self)\n",
      " |  \n",
      " |  GetConnectedQData(self)\n",
      " |  \n",
      " |  ResetInternalFIFOWidth(self)\n",
      " |  \n",
      " |  ResetNCOPhase(self)\n",
      " |  \n",
      " |  UpdateEvent(self, Event)\n",
      " |  \n",
      " |  ----------------------------------------------------------------------\n",
      " |  Readonly properties inherited from RFdcBlock:\n",
      " |  \n",
      " |  BlockStatus\n",
      " |  \n",
      " |  EnabledInterrupts\n",
      " |  \n",
      " |  ----------------------------------------------------------------------\n",
      " |  Data descriptors inherited from RFdcBlock:\n",
      " |  \n",
      " |  CoarseDelaySettings\n",
      " |  \n",
      " |  MixerSettings\n",
      " |  \n",
      " |  NyquistZone\n",
      " |  \n",
      " |  PwrMode\n",
      " |  \n",
      " |  QMCSettings\n",
      " |  \n",
      " |  __dict__\n",
      " |      dictionary for instance variables (if defined)\n",
      " |  \n",
      " |  __weakref__\n",
      " |      list of weak references to the object (if defined)\n",
      "\n"
     ]
    }
   ],
   "source": [
    "help(base.radio.transmitter.channel[0].dac_block)"
   ]
  },
  {
   "cell_type": "markdown",
   "metadata": {},
   "source": [
    "More to try:\n",
    "```python\n",
    "help(base.radio.transmitter.channel[0].dac_tile)\n",
    "help(base.radio.receiver.channel[0].adc_block)\n",
    "help(base.radio.receiver.channel[0].adc_tile)\n",
    "```\n",
    "Many of these attributes / methods depend on the configuration\n",
    "of the PL and the hardware. You will need to implement your own hardware \n",
    "design if you want to do something else."
   ]
  },
  {
   "cell_type": "markdown",
   "metadata": {},
   "source": [
    "## RF Data Inspection <a class=\"anchor\" id=\"rf-data-inspection\"></a>\n",
    "\n",
    "Now that you have a fundamental understanding of how to control the RF DCs, \n",
    "we can inspect RF data using the radio hierarchy block. To make it more\n",
    "interesting, we generate stimulus using the RF DAC block for each channel. \n",
    "Let's configure the mixer frequencies for each RF-DAC block channel below. \n",
    "\n",
    "We select frequencies that fall directly within a frequency bin with minimal scallop loss, where:\n",
    "\n",
    "$$\n",
    "\\frac{f_s}{samples} = f_{bin}\\\\\n",
    "\\frac{2457.6 MHz}{256} = 9.6 MHz\n",
    "$$"
   ]
  },
  {
   "cell_type": "code",
   "execution_count": 8,
   "metadata": {},
   "outputs": [],
   "source": [
    "base.radio.transmitter.channel[0].dac_block.MixerSettings['Freq'] = 900 # MHz \n",
    "base.radio.transmitter.channel[1].dac_block.MixerSettings['Freq'] = 1200 # MHz"
   ]
  },
  {
   "cell_type": "markdown",
   "metadata": {},
   "source": [
    "The PL contains an amplitude controller for signal transmission. \n",
    "We can set the amplitude of the signal and enable transmission for each channel."
   ]
  },
  {
   "cell_type": "code",
   "execution_count": 9,
   "metadata": {},
   "outputs": [],
   "source": [
    "for i in range(0, len(base.radio.transmitter.channel)):\n",
    "    base.radio.transmitter.channel[i].control.gain = 0.5\n",
    "    base.radio.transmitter.channel[i].control.enable = True"
   ]
  },
  {
   "cell_type": "markdown",
   "metadata": {},
   "source": [
    "The RF-ADC block mixer frequency can also be tuned. We set it to 1228.8 MHz as\n",
    "that is the default setting. This is a suitable mixer frequency for the\n",
    "next part of the demonstration, where we will transfer time domain samples\n",
    "from receiver channels.\n",
    "\n",
    "Firstly, we will define the numbers of samples to be transferred. \n",
    "The range of samples that can be transferred is between 16 to 32768.\n",
    "Running the code cell below, will transfer complex data, with an amplitude of 1."
   ]
  },
  {
   "cell_type": "code",
   "execution_count": 10,
   "metadata": {},
   "outputs": [],
   "source": [
    "number_samples = 256\n",
    "cdata = []\n",
    "for i in range(0, len(base.radio.receiver.channel)):\n",
    "    cdata.append(base.radio.receiver.channel[i].transfer(number_samples))"
   ]
  },
  {
   "cell_type": "markdown",
   "metadata": {},
   "source": [
    "Now that we have complex channel data in Jupyter, we can import plotly, numpy,\n",
    "and ipwidgets to enable data visualization."
   ]
  },
  {
   "cell_type": "code",
   "execution_count": 11,
   "metadata": {},
   "outputs": [],
   "source": [
    "import plotly.graph_objs as go\n",
    "from plotly.subplots import make_subplots\n",
    "import numpy as np\n",
    "import ipywidgets as ipw"
   ]
  },
  {
   "cell_type": "markdown",
   "metadata": {},
   "source": [
    "The data can be plotted using `go.Scatter` and `go.FigureWidget` for each channel. Ipywidgets allows each figure to be displayed at the same time.\n",
    "\n",
    "Note that, if you followed the hardware setup above, there will only be signals present in ADCs A and B (channels 2 and 3). The other 2 channels will only have a low amplitude noise present. "
   ]
  },
  {
   "cell_type": "code",
   "execution_count": 12,
   "metadata": {},
   "outputs": [
    {
     "data": {
      "application/vnd.jupyter.widget-view+json": {
       "model_id": "5567946f6c2c4637966101df85bed4b3",
       "version_major": 2,
       "version_minor": 0
      },
      "text/plain": [
       "VBox(children=(FigureWidget({\n",
       "    'data': [{'name': 'Real',\n",
       "              'type': 'scatter',\n",
       "              'ui…"
      ]
     },
     "metadata": {},
     "output_type": "display_data"
    }
   ],
   "source": [
    "sample_frequency = 2457.6e6\n",
    "figs = []\n",
    "\n",
    "for i in range(0, len(base.radio.receiver.channel)):\n",
    "    plt_re_temp = (go.Scatter(\n",
    "            x = np.arange(0, number_samples/sample_frequency, \n",
    "                          1/sample_frequency),\n",
    "            y = np.real(cdata[i]), name='Real'))\n",
    "    plt_im_temp = (go.Scatter(\n",
    "            x = np.arange(0, number_samples/sample_frequency, \n",
    "                          1/sample_frequency),\n",
    "            y = np.imag(cdata[i]), name='Imag'))\n",
    "    figs.append(go.FigureWidget(data = [plt_re_temp, plt_im_temp],\n",
    "            layout = {'title': ''.join(['Time Domain Plot of ADC Channel ', \n",
    "                                         str(i)]), \n",
    "                      'xaxis': {'title' : 'Seconds (s)',\n",
    "                                'autorange' : True},\n",
    "                      'yaxis' : {'title' : 'Amplitude (V)'}}))\n",
    "    \n",
    "ipw.VBox(figs)"
   ]
  },
  {
   "cell_type": "markdown",
   "metadata": {},
   "source": [
    "You can return to the [RF Data Inspection](#rf-data-inspection) section and try different mixer frequencies or different amplitudes. You can try connecting the DACs to the other 2 ADC channels as well."
   ]
  },
  {
   "cell_type": "markdown",
   "metadata": {},
   "source": [
    "## Conclusion <a class=\"anchor\" id=\"conclusion\"></a>\n",
    "\n",
    "This notebook has presented a simple introduction to the RF Data Converters. \n",
    "The RF DCs were briefly described and a radio hierarchy in the PL was explored.\n",
    "RF data visualization was performed using `plotly`, `ipywidgets`, and `numpy` in Jupyter.\n",
    "\n",
    "| | [RF Spectrum Analysis ➡️](02_rf_spectrum_analysis.ipynb)"
   ]
  },
  {
   "cell_type": "markdown",
   "metadata": {},
   "source": [
    "---\n",
    "Copyright (C) 2022 Xilinx, Inc\n",
    "\n",
    "SPDX-License-Identifier: BSD-3-Clause\n",
    "\n",
    "----\n",
    "\n",
    "----"
   ]
  }
 ],
 "metadata": {
  "kernelspec": {
   "display_name": "Python 3",
   "language": "python",
   "name": "python3"
  },
  "language_info": {
   "codemirror_mode": {
    "name": "ipython",
    "version": 3
   },
   "file_extension": ".py",
   "mimetype": "text/x-python",
   "name": "python",
   "nbconvert_exporter": "python",
   "pygments_lexer": "ipython3",
   "version": "3.8.2"
  },
  "widgets": {
   "application/vnd.jupyter.widget-state+json": {
    "state": {},
    "version_major": 2,
    "version_minor": 0
   }
  }
 },
 "nbformat": 4,
 "nbformat_minor": 4
}
