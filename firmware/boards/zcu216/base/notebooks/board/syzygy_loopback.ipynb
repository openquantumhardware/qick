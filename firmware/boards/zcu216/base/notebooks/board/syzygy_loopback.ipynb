{
 "cells": [
  {
   "cell_type": "markdown",
   "metadata": {},
   "source": [
    "# Board SYZYGY Interface\n",
    "----"
   ]
  },
  {
   "cell_type": "markdown",
   "metadata": {},
   "source": [
    "## Aim/s\n",
    "* Enabling the SYZYGY interface on the board.\n",
    "* Test the SYZYGY [SZG-TST-STD](https://docs.opalkelly.com/display/SZGPODS/SZG-TST-STD) module (shown below).\n",
    "\n",
    "\n",
    "## References\n",
    "* [SYZYGY documentation](http://syzygyfpga.io/wp-content/uploads/2019/09/Syzygy-DNA-Specification-V1p1.pdf)\n",
    "* [SZG-TST-STD Test](https://docs.opalkelly.com/display/SZGPODS/SZG-TST-STD)\n",
    "\n",
    "## Last revision\n",
    "* 27Jan21 - Initial revision\n",
    "----"
   ]
  },
  {
   "cell_type": "markdown",
   "metadata": {},
   "source": [
    "## Pre-test setup\n",
    "\n",
    "#### SYZYGY VIO pin supported voltages\n",
    "The supported voltages for the VIO pin of the SYZYGY interface can be:\n",
    "* 1.2V\n",
    "* 1.8V\n",
    "* 2.5V\n",
    "* 3.3V\n",
    "\n",
    "<div class=\"alert alert-box alert-danger\">\n",
    "    The SYZYGY interface does <strong>not</strong> support hot-plug. <a href=\"http://syzygyfpga.io/wp-content/uploads/2019/09/Syzygy-DNA-Specification-V1p1.pdf\">SYZYGY documentation</a>.\n",
    "</div>\n",
    "\n",
    "#### Before running the test, the following steps should be completed:\n",
    "* Plugged the SZG-TST-STD module onto the board.\n",
    "* Boot the board\n",
    "* Setup voltage to **1.8V** (see below).\n",
    "</div>"
   ]
  },
  {
   "cell_type": "markdown",
   "metadata": {},
   "source": [
    "<img src=\"https://opalkelly.com/wp-content/uploads/TST-POD-STD.png\" alt=\"SZG-TST-STD\" style=\"width: 700px;\"/>"
   ]
  },
  {
   "cell_type": "markdown",
   "metadata": {},
   "source": [
    "### Load overlay"
   ]
  },
  {
   "cell_type": "code",
   "execution_count": null,
   "metadata": {},
   "outputs": [],
   "source": [
    "from pynq.overlays.base import BaseOverlay\n",
    "\n",
    "base = BaseOverlay(\"base.bit\")"
   ]
  },
  {
   "cell_type": "markdown",
   "metadata": {},
   "source": [
    "Now let's set the VIO voltage to be 1.8V."
   ]
  },
  {
   "cell_type": "code",
   "execution_count": null,
   "metadata": {},
   "outputs": [],
   "source": [
    "base.set_syzygy_vio(1.8)"
   ]
  },
  {
   "cell_type": "markdown",
   "metadata": {},
   "source": [
    "You should be able to verify that the voltage on VIO point of the SZG-TST-STD module is 1.8V."
   ]
  },
  {
   "cell_type": "markdown",
   "metadata": {},
   "source": [
    "### Test the SYZYGY-TST-STD module"
   ]
  },
  {
   "cell_type": "markdown",
   "metadata": {},
   "source": [
    "On base overlay, the SYZYGY data pins are connected to PL AXI GPIO block.\n",
    "So we can perform some GPIO operations to verify the data path.\n",
    "\n",
    "For the SYZYGY-TST-STD module, the mapping between AXI GPIO and the module\n",
    "pin layout is shown below.\n",
    "\n",
    "| GPIO pin | Module pin || GPIO pin | Module pin |\n",
    "|----------|------------||----------|------------|\n",
    "| 0        | S0         ||          |            |\n",
    "| 2        | S2         ||          |            |\n",
    "| 4        | S4         ||          |            |\n",
    "| 6        | S6         ||          |            |\n",
    "| 1        | S1         || 3        | S3         |\n",
    "| 5        | S5         || 7        | S7         |\n",
    "| 8        | S8         || 10       | S10        |\n",
    "| 9        | S9         || 11       | S11        |\n",
    "| 12       | S12        || 14       | S14        |\n",
    "| 13       | S13        || 20       | S15        |\n",
    "| 16       | S16        || 18       | S18        |\n",
    "| 17       | S17        || 19       | S19        |\n",
    "| 20       | S20        || 22       | S22        |\n",
    "| 21       | S21        || 23       | S23        |\n",
    "| 24       | S24        || 26       | S26        |\n",
    "| 25       | S25        || 27       | S27        |\n",
    "| 28       | P2C_CLKp   || 30       | P2C_CLKn   |\n",
    "| 29       | C2P_CLKp   || 31       | C2P_CLKn   |\n",
    "\n",
    "\n",
    "In the above table, keep in mind that the module pins on the same row\n",
    "are connected as a loop-back on the module. For example, if you write a\n",
    "logic 1 to pin S1, then you are supposed to get logic 1 at pin S3, \n",
    "and vice-versa. \n",
    "\n",
    "Based on this mapping, we can set each GPIO pin to be input (1) or output (0)."
   ]
  },
  {
   "cell_type": "code",
   "execution_count": null,
   "metadata": {},
   "outputs": [],
   "source": [
    "base.syzygy_std0.write(4, 0xCCCCCC9D)"
   ]
  },
  {
   "cell_type": "markdown",
   "metadata": {},
   "source": [
    "We can first check the power supply is good or not. Based on the data sheet,\n",
    "supply status is communicated back through SYZYGY pins S0, S2, S4, and S6.\n",
    "The status is shown below:\n",
    "\n",
    "|         | Power | 5.5V   | 3.3V   | VIO    |\n",
    "|---------|-------|--------|--------|--------|\n",
    "| S6 = 1  | Good  | S0 = 1 | S4 = 1 | S2 = 1 |\n",
    "|         | Bad   | S0 = 0 | S4 = 0 | S2 = 0 |\n",
    "| S6 = 0  | Good  | S0 = 0 | S4 = 0 | S2 = 0 |\n",
    "|         | Bad   | S0 = 1 | S4 = 1 | S2 = 1 |"
   ]
  },
  {
   "cell_type": "code",
   "execution_count": null,
   "metadata": {},
   "outputs": [],
   "source": [
    "base.syzygy_std0.write(0, 0x40)\n",
    "assert base.syzygy_std0.read(0) & 1 == 1, \"5.5V power is bad.\"\n",
    "assert base.syzygy_std0.read(0) & 4 == 4, \"VIO power is bad.\"\n",
    "assert base.syzygy_std0.read(0) & 16 == 16, \"3.3V power is bad.\"\n",
    "base.syzygy_std0.write(0, 0)\n",
    "assert base.syzygy_std0.read(0) & 1 == 0, \"5.5V power is bad.\"\n",
    "assert base.syzygy_std0.read(0) & 4 == 0, \"VIO power is bad.\"\n",
    "assert base.syzygy_std0.read(0) & 16 == 0, \"3.3V power is bad.\"\n",
    "print(\"Power test passed.\")"
   ]
  },
  {
   "cell_type": "markdown",
   "metadata": {},
   "source": [
    "Before we check all the pin pairs, let's define a test function."
   ]
  },
  {
   "cell_type": "code",
   "execution_count": null,
   "metadata": {},
   "outputs": [],
   "source": [
    "def test_loop_back(pin_pair):\n",
    "    input_pin, output_pin = pin_pair\n",
    "    write_value = 0x1 << input_pin\n",
    "    base.syzygy_std0.write(0, write_value)\n",
    "    read_value = base.syzygy_std0.read(0)\n",
    "    assert (\n",
    "        read_value & (0x1 << output_pin)\n",
    "    ) >> output_pin == 0x1, \"Read value is {}.\".format(read_value)\n",
    "    write_value = 0x0\n",
    "    base.syzygy_std0.write(0, write_value)\n",
    "    read_value = base.syzygy_std0.read(0)\n",
    "    assert (\n",
    "        read_value & (0x1 << output_pin)\n",
    "    ) >> output_pin == 0x0, \"Read value is {}.\".format(read_value)"
   ]
  },
  {
   "cell_type": "markdown",
   "metadata": {},
   "source": [
    "We can check all the pairs now."
   ]
  },
  {
   "cell_type": "code",
   "execution_count": null,
   "metadata": {},
   "outputs": [],
   "source": [
    "pin_pairs = [\n",
    "    (1, 3),\n",
    "    (5, 7),\n",
    "    (8, 10),\n",
    "    (9, 11),\n",
    "    (12, 14),\n",
    "    (13, 15),\n",
    "    (16, 18),\n",
    "    (17, 19),\n",
    "    (20, 22),\n",
    "    (21, 23),\n",
    "    (24, 26),\n",
    "    (25, 27),\n",
    "    (28, 30),\n",
    "    (29, 31),\n",
    "]\n",
    "_ = [test_loop_back(i) for i in pin_pairs]\n",
    "print(\"Pin pair loop-back tests passed.\")"
   ]
  },
  {
   "cell_type": "markdown",
   "metadata": {},
   "source": [
    "<div class=\"alert alert-box alert-success\">\n",
    "    Now we have confidence that the SYZYGY modules work on this board.\n",
    "</div>"
   ]
  },
  {
   "cell_type": "markdown",
   "metadata": {},
   "source": [
    "---\n",
    "Copyright (C) 2022 Xilinx, Inc\n",
    "\n",
    "SPDX-License-Identifier: BSD-3-Clause"
   ]
  },
  {
   "cell_type": "markdown",
   "metadata": {},
   "source": [
    "----\n",
    "\n",
    "----"
   ]
  }
 ],
 "metadata": {
  "kernelspec": {
   "display_name": "Python 3",
   "language": "python",
   "name": "python3"
  },
  "language_info": {
   "codemirror_mode": {
    "name": "ipython",
    "version": 3
   },
   "file_extension": ".py",
   "mimetype": "text/x-python",
   "name": "python",
   "nbconvert_exporter": "python",
   "pygments_lexer": "ipython3",
   "version": "3.8.2"
  },
  "toc": {
   "base_numbering": 1,
   "nav_menu": {},
   "number_sections": true,
   "sideBar": true,
   "skip_h1_title": false,
   "title_cell": "Table of Contents",
   "title_sidebar": "Contents",
   "toc_cell": false,
   "toc_position": {},
   "toc_section_display": true,
   "toc_window_display": false
  }
 },
 "nbformat": 4,
 "nbformat_minor": 4
}
