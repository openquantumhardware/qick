{
 "cells": [
  {
   "cell_type": "markdown",
   "id": "e09700ab-92ad-4f7b-9f56-2ae0db4c191b",
   "metadata": {},
   "source": [
    "# OLED Display\n",
    "----"
   ]
  },
  {
   "cell_type": "markdown",
   "id": "0c28cba0-abae-401f-b0fd-86b9c6a6ca0c",
   "metadata": {},
   "source": [
    "## Aim/s\n",
    "* To demonstrate the RFSoC4x2 oled API.\n",
    "\n",
    "## Last revised\n",
    "* 27Feb22 - Initial revision\n",
    "----"
   ]
  },
  {
   "cell_type": "markdown",
   "id": "e89e216a-4eda-49b4-925d-f521df1d2461",
   "metadata": {},
   "source": [
    "### Load the OLED Display\n",
    "Import the OLED driver and create an OLED object."
   ]
  },
  {
   "cell_type": "code",
   "execution_count": 1,
   "id": "49e5462b-5e22-4770-bce5-fc8b7a4195b2",
   "metadata": {},
   "outputs": [],
   "source": [
    "from rfsoc4x2 import oled\n",
    "oled = oled.oled_display()"
   ]
  },
  {
   "cell_type": "markdown",
   "id": "0168f865-6c3e-4db8-b1cd-6dc1a967411e",
   "metadata": {},
   "source": [
    "### Display \"Hello World!\"\n",
    "Use the OLED write command to display \"Hello World!\". The OLED write command accepts a string."
   ]
  },
  {
   "cell_type": "code",
   "execution_count": 2,
   "id": "5222cba0-c61f-4ba0-a793-c343bff063c9",
   "metadata": {},
   "outputs": [],
   "source": [
    "oled.write(\"Hello World!\")"
   ]
  },
  {
   "cell_type": "markdown",
   "id": "495a2dd9-3e49-4247-8f5c-7f8d20fd33e9",
   "metadata": {},
   "source": [
    "### Display the Date and Time\n",
    "Use the OLED to display the date and time across two lines. Initially, create a date and time string."
   ]
  },
  {
   "cell_type": "code",
   "execution_count": 3,
   "id": "10aefe61-63aa-4d06-a435-2bfa38039d2c",
   "metadata": {},
   "outputs": [
    {
     "name": "stdout",
     "output_type": "stream",
     "text": [
      "Apr 12, 2022\n",
      "11:41:37\n"
     ]
    }
   ],
   "source": [
    "from datetime import datetime\n",
    "\n",
    "# obtain the date and time\n",
    "now = datetime.now()\n",
    "\n",
    "# configure the format to (Date: MMM, DD, YYYY) (Time: H:M:S)\n",
    "dt_string = now.strftime(\"%b %d, %Y\\n%H:%M:%S\")\n",
    "print(dt_string)"
   ]
  },
  {
   "cell_type": "markdown",
   "id": "241c84ac-7035-455a-97d9-1a1b79cbd05f",
   "metadata": {},
   "source": [
    "Each OLED display line is able to accept 16 characters. The \"\\n\" character can be used to write to the second line. Alternatively, if the number of characters exceeds 16, then the second line will be used automatically. Now, write the date and time to the OLED display using two lines."
   ]
  },
  {
   "cell_type": "code",
   "execution_count": 4,
   "id": "ddadc36a-6861-4c94-895b-ecb294f20be3",
   "metadata": {},
   "outputs": [],
   "source": [
    "oled.write(dt_string)"
   ]
  },
  {
   "cell_type": "markdown",
   "id": "7d5f82ad-46d9-4a12-bc21-60913ce29055",
   "metadata": {},
   "source": [
    "---\n",
    "\n",
    "Copyright (C) 2022 Xilinx, Inc\n",
    "\n",
    "SPDX-License-Identifier: BSD-3-Clause\n",
    "\n",
    "---\n",
    "---"
   ]
  }
 ],
 "metadata": {
  "kernelspec": {
   "display_name": "Python 3",
   "language": "python",
   "name": "python3"
  },
  "language_info": {
   "codemirror_mode": {
    "name": "ipython",
    "version": 3
   },
   "file_extension": ".py",
   "mimetype": "text/x-python",
   "name": "python",
   "nbconvert_exporter": "python",
   "pygments_lexer": "ipython3",
   "version": "3.8.2"
  }
 },
 "nbformat": 4,
 "nbformat_minor": 5
}
