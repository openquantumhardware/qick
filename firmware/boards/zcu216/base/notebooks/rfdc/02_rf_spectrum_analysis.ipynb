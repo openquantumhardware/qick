{
 "cells": [
  {
   "cell_type": "markdown",
   "metadata": {},
   "source": [
    "# Spectrum Analysis on RFSoC\n",
    "----\n",
    "<div class=\"alert alert-box alert-info\">\n",
    "Please use Jupyter labs http://board_ip_address/lab for this notebook.\n",
    "</div>\n",
    "\n",
    "This notebook explores the frequency spectrum of the RF DCs.\n",
    "\n",
    "## Aims\n",
    "* Learn how to inspect and manipulate captured data from the RF ADCs.\n",
    "* Apply a window to time domain data as a preprocessing step for spectrum analysis.\n",
    "* Create a spectrum plot for visualization.\n",
    "\n",
    "## Table of Contents\n",
    "\n",
    "* [Hardware Setup](#hardware-setup)\n",
    "* [Frequency Domain Analysis](#frequency-domain-analysis)\n",
    "    * [Capture RF ADC Data](#capture-rf-adc-data)\n",
    "    * [Time Domain Windowing](#time-domain-windowing)\n",
    "    * [Convert to the Frequency Domain](#convert-to-the-frequency-domain)\n",
    "    * [The Power Spectral Density](#the-power-spectral-density)\n",
    "    * [Plotting the Spectrum](#plotting-the-spectrum)\n",
    "* [Conclusion](#conclusion)\n",
    "\n",
    "## References\n",
    "* [Xilinx, Inc, \"USP RF Data Converter: LogiCORE IP Product Guide\", PG269, v2.4, November 2020](https://www.xilinx.com/support/documentation/ip_documentation/usp_rf_data_converter/v2_4/pg269-rf-data-converter.pdf)\n",
    "* [Xilinx, Inc, \"ZCU208 Evaluation Board User Guide\", UG1410, v1.0, July 2020](https://www.xilinx.com/support/documentation/boards_and_kits/zcu208/ug1410-zcu208-eval-bd.pdf)\n",
    "* [Xilinx, Inc, \"CLK104 RF Clock Add-on Card\", UG1437, v1.0, March 2020](https://japan.xilinx.com/support/documentation/boards_and_kits/zcu216/ug1437-clk104.pdf)\n",
    "* [Cooley, James W.; Tukey, John W. (1965). \"An algorithm for the machine calculation of complex Fourier series\". Mathematics of Computation. 19 (90): 297–301.](https://www.ams.org/journals/mcom/1965-19-090/S0025-5718-1965-0178586-1/home.html)\n",
    "\n",
    "## Revision History\n",
    "* v1.0 | 02/02/2021 | First notebook revision.\n",
    "* v2.0 | 23/09/2021 | Revised for the ZCU208.\n",
    "\n",
    "----"
   ]
  },
  {
   "cell_type": "markdown",
   "metadata": {},
   "source": [
    "## Hardware Setup <a class=\"anchor\" id=\"hardware-setup\"></a>\n",
    "The hardware setup necessary for this notebook is covered in the <a href=\"./01_rf_dataconverter_introduction.ipynb\">RF Dataconverter Introduction</a>.  Please refer to it before continuing further.\n"
   ]
  },
  {
   "cell_type": "markdown",
   "metadata": {},
   "source": [
    "<div class=\"alert alert-heading alert-danger\">\n",
    "    <h4 class=\"alert-heading\">Warning:</h4>\n",
    "\n",
    "In this demo we are transmitting signals via cables.\n",
    "This device can also transmit wireless signals. \n",
    "Keep in mind that unlicensed transmission of wireless signals\n",
    "may be illegal in your location. \n",
    "Radio signals may also interfere with nearby devices,\n",
    "such as pacemakers and emergency radio equipment. \n",
    "If you are unsure, please seek professional support.\n",
    "</div>\n",
    "\n",
    "----"
   ]
  },
  {
   "cell_type": "markdown",
   "metadata": {},
   "source": [
    "## Frequency Domain Analysis <a class=\"anchor\" id=\"frequency-domain-analysis\"></a>\n",
    "\n",
    "Frequency domain analysis is the process of inspecting properties\n",
    "of the radio spectrum. There are several spectrum analysis algorithms and tools;\n",
    "the most common is the FFT.\n",
    "\n",
    "In this notebook, we will use the FFT on data\n",
    "captured from the RF ADC frontend to analyze the spectral properties of the\n",
    "received signal. The RF DAC will be used to provide stimulus through\n",
    "loopback and the mixer frequency can be changed to generate different\n",
    "input tones.\n",
    "\n",
    "Start by downloading the base overlay."
   ]
  },
  {
   "cell_type": "code",
   "execution_count": 2,
   "metadata": {},
   "outputs": [
    {
     "data": {
      "application/javascript": [
       "\n",
       "try {\n",
       "require(['notebook/js/codecell'], function(codecell) {\n",
       "  codecell.CodeCell.options_default.highlight_modes[\n",
       "      'magic_text/x-csrc'] = {'reg':[/^%%microblaze/]};\n",
       "  Jupyter.notebook.events.one('kernel_ready.Kernel', function(){\n",
       "      Jupyter.notebook.get_cells().map(function(cell){\n",
       "          if (cell.cell_type == 'code'){ cell.auto_highlight(); } }) ;\n",
       "  });\n",
       "});\n",
       "} catch (e) {};\n"
      ]
     },
     "metadata": {},
     "output_type": "display_data"
    },
    {
     "data": {
      "application/javascript": [
       "\n",
       "try {\n",
       "require(['notebook/js/codecell'], function(codecell) {\n",
       "  codecell.CodeCell.options_default.highlight_modes[\n",
       "      'magic_text/x-csrc'] = {'reg':[/^%%pybind11/]};\n",
       "  Jupyter.notebook.events.one('kernel_ready.Kernel', function(){\n",
       "      Jupyter.notebook.get_cells().map(function(cell){\n",
       "          if (cell.cell_type == 'code'){ cell.auto_highlight(); } }) ;\n",
       "  });\n",
       "});\n",
       "} catch (e) {};\n"
      ]
     },
     "metadata": {},
     "output_type": "display_data"
    }
   ],
   "source": [
    "from pynq.overlays.base import BaseOverlay\n",
    "base = BaseOverlay('base.bit')"
   ]
  },
  {
   "cell_type": "markdown",
   "metadata": {},
   "source": [
    "The ZCU208 has a sophisticated clocking network, which can generate\n",
    "low-jitter clocks for the RF DC Phase-Locked Loops (PLLs). This clocking \n",
    "network is contained on the CLK104 add-on card and is passed to the ZCU208 RF DC via SMA cables. \n",
    "\n",
    "The base overlay has a simple method to initialize these clocks. Run the cell below to set\n",
    "the LMK and LMX clocks to 245.76MHz and 491.52MHz, respectively."
   ]
  },
  {
   "cell_type": "code",
   "execution_count": 50,
   "metadata": {},
   "outputs": [],
   "source": [
    "base.init_rf_clks()"
   ]
  },
  {
   "cell_type": "markdown",
   "metadata": {},
   "source": [
    "### Setting up the Transmitter\n",
    "There are several interesting spectral properties to inspect.\n",
    "We will set up each RF DAC channel with a carrier frequency first.\n",
    "Then we can set the each channel to different frequencies and amplitudes\n",
    "to make our example more interesting."
   ]
  },
  {
   "cell_type": "code",
   "execution_count": 51,
   "metadata": {},
   "outputs": [],
   "source": [
    "def set_transmitter_channel(channel, enable, gain, frequency):\n",
    "    channel.control.enable = enable\n",
    "    channel.control.gain = gain\n",
    "    channel.dac_block.MixerSettings['EventSource'] = 2\n",
    "    channel.dac_block.MixerSettings['Freq'] = frequency"
   ]
  },
  {
   "cell_type": "code",
   "execution_count": 52,
   "metadata": {},
   "outputs": [],
   "source": [
    "#set_transmitter_channel(base.radio.transmitter.channel[0], True, 0.9, 200)  # Unused DAC228\n",
    "#set_transmitter_channel(base.radio.transmitter.channel[1], True, 0.8, 500)  # Unused DAC229\n",
    "set_transmitter_channel(base.radio.transmitter.channel[2], True, 0.7, 1000) # DAC230\n",
    "set_transmitter_channel(base.radio.transmitter.channel[3], True, 0.9, 1500) # DAC231"
   ]
  },
  {
   "cell_type": "markdown",
   "metadata": {},
   "source": [
    "The above code cell has set the transmitter for each channel as follows:\n",
    "\n",
    "* Transmitter Channel 2 - DAC 230\n",
    "    * Frequency: 1000 MHz\n",
    "    * Gain: 0.7\n",
    "* Transmitter Channel 3 - DAC 231\n",
    "    * Frequency: 1500 MHz\n",
    "    * Gain: 0.9\n",
    "    \n",
    "Lets look out for these frequencies when we finally reach the spectrum analysis section."
   ]
  },
  {
   "cell_type": "markdown",
   "metadata": {},
   "source": [
    "### Capture RF ADC Data <a class=\"anchor\" id=\"capture-rf-adc-data\"></a>\n",
    "\n",
    "In order to perform spectral analysis, we need to capture data from the RF\n",
    "ADC. We can capture data using the radio hierarchy block."
   ]
  },
  {
   "cell_type": "code",
   "execution_count": 53,
   "metadata": {},
   "outputs": [],
   "source": [
    "number_samples = 1229\n",
    "sample_frequency = 2458e6\n",
    "cdata = []\n",
    "for i in range(0, len(base.radio.receiver.channel)):\n",
    "    cdata.append(base.radio.receiver.channel[i].transfer(number_samples))"
   ]
  },
  {
   "cell_type": "markdown",
   "metadata": {},
   "source": [
    "Great, let's now create time domain plots for each segment of data captured\n",
    "from the RF ADC. \n",
    "\n",
    "In the cell below, we have created a simple helper function `plot_complex_time`\n",
    "which can help us quickly create new complex time domain plots. \n",
    "We will use `plotly`, `numpy`, and `ipywidgets` to support our visualization."
   ]
  },
  {
   "cell_type": "code",
   "execution_count": 54,
   "metadata": {},
   "outputs": [
    {
     "data": {
      "application/vnd.jupyter.widget-view+json": {
       "model_id": "720db8738c8b455d9d83929ce1f35eaa",
       "version_major": 2,
       "version_minor": 0
      },
      "text/plain": [
       "VBox(children=(FigureWidget({\n",
       "    'data': [{'name': 'Real',\n",
       "              'type': 'scatter',\n",
       "              'ui…"
      ]
     },
     "metadata": {},
     "output_type": "display_data"
    }
   ],
   "source": [
    "import plotly.graph_objs as go\n",
    "import numpy as np\n",
    "import ipywidgets as ipw\n",
    "\n",
    "def plot_complex_time(data, n=number_samples, fs=sample_frequency, \n",
    "                      title='Complex Time Plot'):\n",
    "    plt_re_temp = (go.Scatter(x = np.arange(0, n/fs, 1/fs),\n",
    "                              y = np.real(data), name='Real'))\n",
    "    plt_im_temp = (go.Scatter(x = np.arange(0, n/fs, 1/fs),\n",
    "                              y = np.imag(data), name='Imag'))\n",
    "    return go.FigureWidget(data = [plt_re_temp, plt_im_temp],\n",
    "                           layout = {'title': title, \n",
    "                                     'xaxis': {\n",
    "                                         'title': 'Seconds (s)',\n",
    "                                         'autorange' : True},\n",
    "                                     'yaxis': {\n",
    "                                         'title': 'Amplitude (V)'}})\n",
    "\n",
    "tfigs = []\n",
    "for i in range(0, len(base.radio.receiver.channel)):\n",
    "    tfigs.append(plot_complex_time(\n",
    "            data=cdata[i], \n",
    "            title=''.join(['Time Domain Plot of ADC Channel ', str(i)])))\n",
    "\n",
    "ipw.VBox(tfigs)"
   ]
  },
  {
   "cell_type": "markdown",
   "metadata": {},
   "source": [
    "Note that it is quite difficult to look at the plots and determine the signal's\n",
    "oscillation frequency. This is where spectral analysis can prove to be very\n",
    "useful. Let's first apply a simple window to our time domain signals."
   ]
  },
  {
   "cell_type": "markdown",
   "metadata": {},
   "source": [
    "### Time Domain Windowing <a class=\"anchor\" id=\"time-domain-windowing\"></a>\n",
    "\n",
    "Windowing is a useful tool in spectral analysis of a time domain signal. \n",
    "This technique is used on the time domain signal before FFT. \n",
    "\n",
    "Why do we need windowing? The FFT assumes that the input signal is periodic.\n",
    "To prevent unwanted frequency spurs and spectral leakage, the start of the\n",
    "signal should also connect to the end of the signal.\n",
    "\n",
    "In this example, we will use a simple Blackman\n",
    "filter to illustrate windowing."
   ]
  },
  {
   "cell_type": "code",
   "execution_count": 55,
   "metadata": {},
   "outputs": [],
   "source": [
    "window = np.array(np.blackman(number_samples)[:])"
   ]
  },
  {
   "cell_type": "markdown",
   "metadata": {},
   "source": [
    "The blackman window can be easily applied to the time domain data\n",
    "through element-wise multiplication. This is why the window created in the\n",
    "cell above, is the same size as our time domain data."
   ]
  },
  {
   "cell_type": "code",
   "execution_count": 56,
   "metadata": {},
   "outputs": [
    {
     "data": {
      "application/vnd.jupyter.widget-view+json": {
       "model_id": "6ccc888f25bd424d88d7871dddeef5b2",
       "version_major": 2,
       "version_minor": 0
      },
      "text/plain": [
       "VBox(children=(FigureWidget({\n",
       "    'data': [{'name': 'Real',\n",
       "              'type': 'scatter',\n",
       "              'ui…"
      ]
     },
     "metadata": {},
     "output_type": "display_data"
    }
   ],
   "source": [
    "wdata = []\n",
    "wfigs = []\n",
    "\n",
    "for i in range(0, len(base.radio.receiver.channel)):\n",
    "    wdata.append(cdata[i]*window)\n",
    "    wfigs.append(plot_complex_time(\n",
    "            data=wdata[i], \n",
    "            title=''.join(['Windowed Plot of ADC Channel ', str(i)])))\n",
    "\n",
    "ipw.VBox(wfigs)"
   ]
  },
  {
   "cell_type": "markdown",
   "metadata": {},
   "source": [
    "As you can see, the windowed data now starts and ends around an amplitude of 0.\n",
    "This reduces spectral leakage and unwanted spurs when we later perform\n",
    "spectral analysis."
   ]
  },
  {
   "cell_type": "markdown",
   "metadata": {},
   "source": [
    "### Convert to the Frequency Domain <a class=\"anchor\" id=\"convert-to-the-frequency-domain\"></a>\n",
    "\n",
    "Converting to the frequency domain is very easy using the FFT. The `numpy`\n",
    "package performs most of the hard work for us. Let's obtain the magnitude of\n",
    "the frequency spectrum."
   ]
  },
  {
   "cell_type": "code",
   "execution_count": 57,
   "metadata": {},
   "outputs": [],
   "source": [
    "fdata = []\n",
    "for i in range(0, len(base.radio.receiver.channel)):\n",
    "    fdata.append(np.fft.fftshift(np.fft.fft(wdata[i])))"
   ]
  },
  {
   "cell_type": "markdown",
   "metadata": {},
   "source": [
    "The FFT algorithm will always return the positive and\n",
    "negative frequencies in reverse order. So we should swap these around\n",
    "using `np.fft.fftshift` as given in the above cell. \n",
    "\n",
    "After shifting the frequency spectrum, we can plot to inspect the results."
   ]
  },
  {
   "cell_type": "code",
   "execution_count": 58,
   "metadata": {},
   "outputs": [
    {
     "data": {
      "application/vnd.jupyter.widget-view+json": {
       "model_id": "253872e3f6ed4622a30a0e698b1c5032",
       "version_major": 2,
       "version_minor": 0
      },
      "text/plain": [
       "VBox(children=(FigureWidget({\n",
       "    'data': [{'name': 'Spectrum',\n",
       "              'type': 'scatter',\n",
       "             …"
      ]
     },
     "metadata": {},
     "output_type": "display_data"
    }
   ],
   "source": [
    "def plot_complex_spectrum(data, N=number_samples, fs=sample_frequency, \n",
    "                          title='Complex Spectrum Plot', units='dBW', fc=0):\n",
    "    plt_temp = (go.Scatter(x = np.arange(-fs/2, fs/2, fs/N) + fc,\n",
    "                           y = data, name='Spectrum'))\n",
    "    return go.FigureWidget(data = plt_temp,\n",
    "                           layout = {'title': title, \n",
    "                                     'xaxis': {\n",
    "                                         'title': 'Frequency (Hz)',\n",
    "                                         'autorange': True},\n",
    "                                     'yaxis': {\n",
    "                                         'title': units}})\n",
    "\n",
    "magfigs = []\n",
    "for i in range(len(base.radio.receiver.channel)):\n",
    "    magfigs.append(plot_complex_spectrum(\n",
    "            data=abs(fdata[i]),\n",
    "            title=''.join(['Frequency Magnitude Plot of ADC Channel ', str(i)]),\n",
    "            units='|Y(f)|',\n",
    "            fc=round(abs(base.radio.receiver.channel[i].adc_block.MixerSettings['Freq']))*1e6))\n",
    "\n",
    "ipw.VBox(magfigs)"
   ]
  },
  {
   "cell_type": "markdown",
   "metadata": {},
   "source": [
    "The code cell above introduced a new custom function `plot_complex_spectrum`\n",
    "to help us plot complex frequency domain plots. This function has an optional\n",
    "argument `fc` to shift the plot's x-axis around the RF ADC block center frequency.\n",
    "\n",
    "Inspecting the plots, you will see a peak around 200 MHz on channel 0, \n",
    "and 1500 MHz on channel 1. Notice the power of the signal for each channel."
   ]
  },
  {
   "cell_type": "markdown",
   "metadata": {},
   "source": [
    "### The Power Spectral Density <a class=\"anchor\" id=\"the-power-spectral-density\"></a>\n",
    "A common way engineers typically inspect the frequency spectrum is by calculating the Power Spectral Density (PSD).\n",
    "\n",
    "$PSD[n] = 10 \\log_{10}(\\frac{{|y[n]|^{2}}}{f_{s} \\sum^{N_{w}}_{n=0}w^{2}[n]})$\n",
    "\n",
    "where $w$ is the window vector, $f_s$ is the sample frequency, $N_{w}$ is the length of the window, and $y_{n}$ is the output of the FFT derived above.\n",
    "\n",
    "Run the code cell below to calculate the PSD."
   ]
  },
  {
   "cell_type": "code",
   "execution_count": 59,
   "metadata": {},
   "outputs": [],
   "source": [
    "def freq_to_psd(data, N=number_samples, fs=sample_frequency, \n",
    "                window=np.array(np.ones(number_samples)[:])):\n",
    "    psd = (abs(data)**2)/(fs*np.sum(window**2))\n",
    "    return 10*np.where(psd > 0, np.log10(psd), 0)\n",
    "\n",
    "psd = []\n",
    "for i in range(0, len(base.radio.receiver.channel)):\n",
    "    psd.append(freq_to_psd(data=fdata[i], window=window))"
   ]
  },
  {
   "cell_type": "markdown",
   "metadata": {},
   "source": [
    "### Plotting the Spectrum <a class=\"anchor\" id=\"plotting-the-spectrum\"></a>\n",
    "\n",
    "Finally, we can do the frequency plots. We will plot the PSD similar to\n",
    "before and inspect the spectrum for each channel."
   ]
  },
  {
   "cell_type": "code",
   "execution_count": 60,
   "metadata": {},
   "outputs": [
    {
     "data": {
      "application/vnd.jupyter.widget-view+json": {
       "model_id": "51bfe779d8d640f8939b35f3931e8936",
       "version_major": 2,
       "version_minor": 0
      },
      "text/plain": [
       "VBox(children=(FigureWidget({\n",
       "    'data': [{'name': 'Spectrum',\n",
       "              'type': 'scatter',\n",
       "             …"
      ]
     },
     "metadata": {},
     "output_type": "display_data"
    }
   ],
   "source": [
    "psdfigs = []\n",
    "for i in range(0, len(base.radio.receiver.channel)):\n",
    "    psdfigs.append(plot_complex_spectrum(\n",
    "            data=psd[i],\n",
    "            title=''.join(['Power Spectral Density Plot of ADC Channel ',\n",
    "                           str(i)]),\n",
    "            units='dB',\n",
    "            fc=round(abs(base.radio.receiver.channel[\n",
    "                        i].adc_block.MixerSettings['Freq']))*1e6))\n",
    "\n",
    "ipw.VBox(psdfigs)"
   ]
  },
  {
   "cell_type": "markdown",
   "metadata": {},
   "source": [
    "You will be able to see the peaks of each tone that was generated from the RF\n",
    "DAC for each channel. Channel 0 was 200 MHz and channel 1 was 1500 MHz. \n",
    "\n",
    "Don't forget to investigate the power of the signal too. Channel 0 has better\n",
    "signal strength as we gave it a larger gain using the amplitude controller."
   ]
  },
  {
   "cell_type": "markdown",
   "metadata": {},
   "source": [
    "## Conclusion <a class=\"anchor\" id=\"conclusion\"></a>\n",
    "\n",
    "This notebook has presented RFSoC spectrum analysis. You have learned how\n",
    "to inspect and manipulate captured data from the RF ADCs, applied a window\n",
    "to time domain data, and created a spectrum plot for the PSD. \n",
    "\n",
    "The next notebook investigates a spectrum sweep application using the\n",
    "above visualization and analysis principles.\n",
    "\n",
    "[⬅️ RF Data Converter Introduction](01_rf_dataconverter_introduction.ipynb) | | [RF Spectrum Sweep ➡️](03_rf_spectrum_sweep.ipynb)"
   ]
  },
  {
   "cell_type": "markdown",
   "metadata": {},
   "source": [
    "Copyright (C) 2021 Xilinx, Inc\n",
    "\n",
    "SPDX-License-Identifier: BSD-3-Clause\n",
    "\n",
    "----\n",
    "\n",
    "----"
   ]
  }
 ],
 "metadata": {
  "kernelspec": {
   "display_name": "Python 3 (ipykernel)",
   "language": "python",
   "name": "python3"
  },
  "language_info": {
   "codemirror_mode": {
    "name": "ipython",
    "version": 3
   },
   "file_extension": ".py",
   "mimetype": "text/x-python",
   "name": "python",
   "nbconvert_exporter": "python",
   "pygments_lexer": "ipython3",
   "version": "3.10.4"
  },
  "widgets": {
   "application/vnd.jupyter.widget-state+json": {
    "state": {},
    "version_major": 2,
    "version_minor": 0
   }
  }
 },
 "nbformat": 4,
 "nbformat_minor": 4
}
