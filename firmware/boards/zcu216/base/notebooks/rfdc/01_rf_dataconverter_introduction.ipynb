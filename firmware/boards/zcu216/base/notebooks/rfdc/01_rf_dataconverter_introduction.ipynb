{
 "cells": [
  {
   "cell_type": "markdown",
   "metadata": {},
   "source": [
    "# RF Data Converter Introduction\n",
    "----\n",
    "\n",
    "<div class=\"alert alert-box alert-info\">\n",
    "Please use Jupyter labs http://board_ip_address/lab for this notebook.\n",
    "</div>\n",
    "\n",
    "This notebook presents an introduction to the RF Data\n",
    "Converters (RF DCs) on the ZCU208 board.\n",
    "\n",
    "## Aims\n",
    "* Describe the `xrfdc` Python package that is required to control and\n",
    "  configure the RF DCs from Jupyter\n",
    "* Investigate the radio hierarchy in the base overlay, allowing the\n",
    "  user to develop very simple RF designs. \n",
    "* Present the data inspection and visualisation of the RF DCs using \n",
    "  Plotly.\n",
    "\n",
    "## Table of Contents\n",
    "* [Introduction](#introduction)\n",
    "* [Hardware Setup](#hardware-setup)\n",
    "* [The Radio Hierarchy](#radio-hierarchy)\n",
    "* [Transmitter and Receiver](#the-transmitter-and-receiver)\n",
    "* [RF Data Inspection](#rf-data-inspection)\n",
    "* [Conclusion](#conclusion)\n",
    "\n",
    "## References\n",
    "* [Xilinx, Inc, \"USP RF Data Converter: LogiCORE IP Product Guide\", PG269, v2.4, November 2020](https://www.xilinx.com/support/documentation/ip_documentation/usp_rf_data_converter/v2_4/pg269-rf-data-converter.pdf)\n",
    "* [Xilinx, Inc, \"Vivado Design Suite: The AXI Reference Guide\", UG1037, v4.0, June 2017](https://www.xilinx.com/support/documentation/ip_documentation/axi_ref_guide/latest/ug1037-vivado-axi-reference-guide.pdf)\n",
    "* [Xilinx, Inc, \"ZCU208 Evaluation Board User Guide\", UG1410, v1.0, July 2020](https://www.xilinx.com/support/documentation/boards_and_kits/zcu208/ug1410-zcu208-eval-bd.pdf)\n",
    "* [Xilinx, Inc, \"CLK104 RF Clock Add-on Card\", UG1437, v1.0, March 2020](https://japan.xilinx.com/support/documentation/boards_and_kits/zcu216/ug1437-clk104.pdf)\n",
    "\n",
    "## Revision History\n",
    "\n",
    "* v1.0 | 02/02/2021 | First notebook revision.\n",
    "* v2.0 | 23/09/2021 | Revised for the ZCU208.\n",
    "* v3.0 | 27/09/2022 | Additional ADC tiles added to overlay."
   ]
  },
  {
   "cell_type": "markdown",
   "metadata": {},
   "source": [
    "----\n",
    "\n",
    "## Introduction <a class=\"anchor\" id=\"introduction\"></a>\n",
    "\n",
    "An overview of the Zynq RFSoC device is shown below; there are\n",
    "three major components:\n",
    "\n",
    "* Processing System (PS)\n",
    "* Programmable Logic (PL)\n",
    "* RF Data Converters (RF DC, including ADC and DAC)\n",
    "\n",
    "The RF data converters are significant features of the Zynq RFSoC\n",
    "device as they interface directly to the PL.\n",
    "This brings many advantages, including the ability to\n",
    "perform direct RF sampling and low-latency processing.\n",
    "\n",
    "The ZCU208 is a Gen 3 RFSoC platform consisting of an XCZU48DR-FSVG1517-2-E RFSoC device, \n",
    "which contains the following RF DCs:\n",
    "\n",
    "* 8x RF Analogue-to-Digital Converters (RF ADCs)\n",
    "    * Sample rate of 5 GSPS\n",
    "    * 14-bit conversion\n",
    "* 8x RF Digital-to-Analogue Converters (RF DACs)\n",
    "    * Sample rate of 7 GSPS\n",
    "    * 14-bit conversion"
   ]
  },
  {
   "cell_type": "markdown",
   "metadata": {},
   "source": [
    "Let's take a closer look at the RF DC block. Starting with\n",
    "the RF ADC tiles, you will notice that there are 4 tiles on this\n",
    "particular RFSoC device. Each tile contains 2 RF ADC blocks, \n",
    "which can be used to receive, or Digital Down Convert (DDC), \n",
    "an analogue signal. Each RF ADC block contains:\n",
    "\n",
    "* A gearbox FIFO\n",
    "* 1x (bypass), 2x, 3x, 4x, 5x, 6x, 8x, 10x, 12x, 16x, 20x, 24x or 40x decimator\n",
    "* A complex mixer\n",
    "* A Quadrature Modulation Correction (QMC) unit\n",
    "* Embedded Digital Step Attenuator (DSA)\n",
    "* On-chip clock distribution network\n",
    "\n",
    "The image below presents the typical RF ADC processing \n",
    "pipeline:\n",
    "\n",
    "1. The RF ADC samples the input waveform to convert it\n",
    "   into a digital signal.\n",
    "2. A threshold detector can be employed to detect and record\n",
    "   input amplitude levels. \n",
    "3. The QMC is used to offset potential imbalance in the\n",
    "   quality of the received complex signal.\n",
    "4. The I and Q mixer can mix the input signal to baseband.\n",
    "5. The I and Q decimators are capable of a wide range of\n",
    "   decimation options before interfacing the PL via the gearbox FIFO."
   ]
  },
  {
   "cell_type": "markdown",
   "metadata": {},
   "source": [
    "<img src='data/rfsystem_rfadc_block_overview.png' align='left' style='left' height='75%' width='75%'/>"
   ]
  },
  {
   "cell_type": "markdown",
   "metadata": {},
   "source": [
    "The RF DAC block has a similar pipeline to the RF ADC;\n",
    "however, it is in reverse this time for Digital Up Conversion (DUC).\n",
    "\n",
    "1. The data to be transmitted is interfaced to the RF DAC block from the PL.\n",
    "2. The digital signal is interpolated by a factor of 1x (bypass), 2x, 3x, 4x, 5x, 6x, 8x, 10x, 12x, 16x, 20x, 24x    or 40x.\n",
    "3. The digital signal is transferred to the complex mixer to be mixed\n",
    "   to the desired carrier frequency. \n",
    "4. After the QMC and coarse delay block, the signal can optionally\n",
    "   be convolved with an inverse (anti) sinc filter to improve the\n",
    "   roll-off of the first Nyquist zone.\n",
    "5. The digital signal is then converted to analogue through the\n",
    "   RF DAC sampler.\n"
   ]
  },
  {
   "cell_type": "markdown",
   "metadata": {},
   "source": [
    "<img src='data/rfsystem_rfdac_block_overview.png' align='left' style='left' height='75%' width='75%'/>"
   ]
  },
  {
   "cell_type": "markdown",
   "metadata": {},
   "source": [
    "In this notebook, we will be demonstrating many of the features\n",
    "mentioned above via a simple loopback example.\n",
    "\n",
    "# Hardware Setup <a class=\"anchor\" id=\"hardware-setup\"></a>\n",
    "\n",
    "The CLK104 add on board should be connected to the RFDCs using SMCs. This will enable a connection from the LMX to the on tile PLLs associated with ADC tile 225 and DAC tile 230. Clock distribution will be used to provide this clock to the other active tiles.\n",
    "<img src='data/CLK104_LMX_to_RFSOC.JPG' align='middle' width='50%' height='50%'/>\n",
    "\n",
    "Your ZCU208 board is capable of 8 channels, dependent on hardware configuration. Loopback is possible through the use of the XM655 add on card included with the ZCU208 kit. There are 8 JHC connections from the RFDC to the break out board. For this demonstration we will be using 2 DAC channels (JHC3) as the source.  Four ADC channels are configured but only 2 ADC channels (JHC5, JHC7) are captured at a time. You should create the loopback connection using SMA cables as shown below.  The DC Block and male-to-male adapters are necessary to complete the connections and are shown further below.\n",
    "\n",
    "## Configuration One\n",
    "* DAC Tile 230 (channel 2) to ADC Tile 224 (channel 0)\n",
    "* DAC Tile 231 (channel 3) to ADC Tile 225 (channel 1)\n",
    "\n",
    "## Configuration Two\n",
    "* DAC Tile 230 (channel 2) to ADC Tile 226 (channel 2)\n",
    "* DAC Tile 231 (channel 3) to ADC Tile 227 (channel 3)"
   ]
  },
  {
   "cell_type": "markdown",
   "metadata": {},
   "source": [
    "<img src='data/DAC_to_ADC_both.JPG' align='middle' width='70%' height='70%'/>\n",
    "<BR>\n",
    "<img src='data/DAC_to_ADC.JPG' align='middle' width='70%' height='70%'/>\n",
    "\n",
    "Switching from configuration one to two is a matter of removing the Carlisle connector from the ADC pad JHC5 to JHC7 and vice versa while leaving the DAC pad on JHC3.\n",
    "    "
   ]
  },
  {
   "cell_type": "markdown",
   "metadata": {},
   "source": [
    "<img src='data/DAC_to_ADC_M2M_DCBlock.JPG' align='middle' width='70%' height='70%'/>\n",
    "DC Block and male to male adapter"
   ]
  },
  {
   "cell_type": "markdown",
   "metadata": {},
   "source": [
    "<div class=\"alert alert-heading alert-danger\">\n",
    "    <h4 class=\"alert-heading\">Warning:</h4>\n",
    "\n",
    "The Carslile SMA cabling is prone to cable kinking, twisting and bending.  Take care to use the SMA housing only to screw and unscrew which helps avoid twisting the cable.  The various male connectors J21, et al. must not contact the SMA metal leads otherwise a short may occur.\n",
    "    \n",
    "In this demo we are transmitting signals via cables.\n",
    "This device can also transmit wireless signals. \n",
    "Keep in mind that unlicensed transmission of wireless signals\n",
    "may be illegal in your location. \n",
    "Radio signals may also interfere with nearby devices,\n",
    "such as pacemakers and emergency radio equipment. \n",
    "If you are unsure, please seek professional support.\n",
    "</div>\n",
    "\n",
    "----"
   ]
  },
  {
   "cell_type": "markdown",
   "metadata": {},
   "source": [
    "## The Radio Hierarchy <a class=\"anchor\" id=\"radio-hierarchy\"></a>\n",
    "\n",
    "We need to add custom control logic in the PL to communicate\n",
    "with the RF ADC or RF DAC. The ZCU208 base overlay contains\n",
    "such logic that will allow you to evaluate the RF DCs. \n",
    "There are two IP Cores - the transmitter and the receiver.\n",
    "\n",
    "* **Amplitude Controller** - can apply a value to the input of the RF DAC.\n",
    "The value can be set by writing to an AXI-Lite register. \n",
    "The register value can be mixed with the Numerically\n",
    "Controlled Oscillator (NCO) in the fine mixer to create a tone. \n",
    "The tone is looped back round into the RF ADC.\n",
    "\n",
    "* **Packet Generator** - interfaces to the output of RF ADC block. \n",
    "The data is used to generate an [AXI-Stream packet](https://www.xilinx.com/support/documentation/ip_documentation/axi_ref_guide/latest/ug1037-vivado-axi-reference-guide.pdf).\n",
    "The AXI-Stream packet is sent to an AXI Direct Memory\n",
    "Access (DMA) core and transferred to DDR memory.\n",
    "\n",
    "These 2 IP cores are connected to each channel of the ZCU208 board.\n",
    "They are conveniently placed inside a hierarchical block, `radio`, \n",
    "as shown below."
   ]
  },
  {
   "cell_type": "markdown",
   "metadata": {},
   "source": [
    "Let's now download the base overlay and initialize the drivers."
   ]
  },
  {
   "cell_type": "code",
   "execution_count": 1,
   "metadata": {},
   "outputs": [
    {
     "data": {
      "application/javascript": [
       "\n",
       "try {\n",
       "require(['notebook/js/codecell'], function(codecell) {\n",
       "  codecell.CodeCell.options_default.highlight_modes[\n",
       "      'magic_text/x-csrc'] = {'reg':[/^%%microblaze/]};\n",
       "  Jupyter.notebook.events.one('kernel_ready.Kernel', function(){\n",
       "      Jupyter.notebook.get_cells().map(function(cell){\n",
       "          if (cell.cell_type == 'code'){ cell.auto_highlight(); } }) ;\n",
       "  });\n",
       "});\n",
       "} catch (e) {};\n"
      ]
     },
     "metadata": {},
     "output_type": "display_data"
    },
    {
     "data": {
      "application/javascript": [
       "\n",
       "try {\n",
       "require(['notebook/js/codecell'], function(codecell) {\n",
       "  codecell.CodeCell.options_default.highlight_modes[\n",
       "      'magic_text/x-csrc'] = {'reg':[/^%%pybind11/]};\n",
       "  Jupyter.notebook.events.one('kernel_ready.Kernel', function(){\n",
       "      Jupyter.notebook.get_cells().map(function(cell){\n",
       "          if (cell.cell_type == 'code'){ cell.auto_highlight(); } }) ;\n",
       "  });\n",
       "});\n",
       "} catch (e) {};\n"
      ]
     },
     "metadata": {},
     "output_type": "display_data"
    }
   ],
   "source": [
    "import plotly.graph_objs as go\n",
    "import numpy as np\n",
    "import ipywidgets as ipw\n",
    "from pynq.overlays.base import BaseOverlay\n",
    "base = BaseOverlay('base.bit')"
   ]
  },
  {
   "cell_type": "markdown",
   "metadata": {},
   "source": [
    "The ZCU208 has a sophisticated clocking network, which can generate\n",
    "low-jitter clocks for the RF DC Phase-Locked Loops (PLLs). The base overlay\n",
    "has a simple method to initialize these clocks. Run the cell below to set\n",
    "the LMK and LMX clocks to 245.76MHz and 491.52MHz, respectively."
   ]
  },
  {
   "cell_type": "code",
   "execution_count": 2,
   "metadata": {},
   "outputs": [],
   "source": [
    "base.init_rf_clks()"
   ]
  },
  {
   "cell_type": "code",
   "execution_count": 3,
   "metadata": {},
   "outputs": [
    {
     "data": {
      "text/plain": [
       "<rfsystem.hierarchies.RadioWrapper at 0xffff88b0ada0>"
      ]
     },
     "execution_count": 3,
     "metadata": {},
     "output_type": "execute_result"
    }
   ],
   "source": [
    "base.radio"
   ]
  },
  {
   "cell_type": "markdown",
   "metadata": {},
   "source": [
    "Now we should investigate the `radio` hierarchy."
   ]
  },
  {
   "cell_type": "code",
   "execution_count": 6,
   "metadata": {},
   "outputs": [
    {
     "data": {
      "text/plain": [
       "\u001b[0;31mType:\u001b[0m           RadioWrapper\n",
       "\u001b[0;31mString form:\u001b[0m    <rfsystem.hierarchies.RadioWrapper object at 0xffff78c38730>\n",
       "\u001b[0;31mFile:\u001b[0m           /usr/local/share/pynq-venv/lib/python3.10/site-packages/rfsystem/hierarchies.py\n",
       "\u001b[0;31mDocstring:\u001b[0m     \n",
       "Hierarchy driver for the entire radio subsystem.\n",
       "\n",
       "Exposes the transmit, receive, and rfdc as attributes. The rfdc\n",
       "dac and adc tiles are passed to the transmitter and receiver\n",
       "respectively.\n",
       "\n",
       "This wrapper assumes the following separate pipelines\n",
       "* transmitter -> rfdc -> \"the outside world\"\n",
       "* \"the outside world\" -> rfdc => receiver\n",
       "\n",
       "The rfdc core is common between each pipeline.\n",
       "\n",
       "Attributes\n",
       "----------\n",
       "transmitter : pynq.lib.radio.Transmitter\n",
       "    The transmit control system\n",
       "receiver : pynq.lib.radio.Receiver\n",
       "    The receive control system\n",
       "rfdc : xrfdc package\n",
       "    The RF Data Converter core\n",
       "\u001b[0;31mInit docstring:\u001b[0m Create a new _IPMap based on a hierarchical description.\n"
      ]
     },
     "metadata": {},
     "output_type": "display_data"
    }
   ],
   "source": [
    "base.radio?"
   ]
  },
  {
   "cell_type": "markdown",
   "metadata": {},
   "source": [
    "We can see the `transmitter` and `receiver` hierarchies. \n",
    "The RF DC object is also available, however, we don't need this. The reason\n",
    "is that each transmitter and receiver is automatically paired with their\n",
    "associated RF DC tile and block.\n",
    "\n",
    "The `radio` hierarchy also initializes all of the active RF ADC and RF DAC\n",
    "blocks to sample at 4915.2 GSPS (close to the maximum sample rate for the RF ADC).\n",
    "By default the RF DAC and RF ADC mixer frequencies are 1228.8 MHz, which is\n",
    "in the center of the first Nyquist Zone."
   ]
  },
  {
   "cell_type": "markdown",
   "metadata": {},
   "source": [
    "## Transmitter and Receiver <a class=\"anchor\" id=\"the-transmitter-and-receiver\"></a>\n",
    "\n",
    "The transmitter hierarchy contains two channels. Each channel contains an\n",
    "*Amplitude Controller* connected directly to an RF DAC. We can list the\n",
    "available channels of the transmitter using the `get_channel_description()`\n",
    "method."
   ]
  },
  {
   "cell_type": "code",
   "execution_count": 5,
   "metadata": {},
   "outputs": [
    {
     "data": {
      "text/plain": [
       "\u001b[0;31mSignature:\u001b[0m \u001b[0mbase\u001b[0m\u001b[0;34m.\u001b[0m\u001b[0mradio\u001b[0m\u001b[0;34m.\u001b[0m\u001b[0mtransmitter\u001b[0m\u001b[0;34m.\u001b[0m\u001b[0mget_channel_description\u001b[0m\u001b[0;34m(\u001b[0m\u001b[0;34m)\u001b[0m\u001b[0;34m\u001b[0m\u001b[0;34m\u001b[0m\u001b[0m\n",
       "\u001b[0;31mDocstring:\u001b[0m\n",
       "Obtains the channels and their tile and block for the user.\n",
       "        \n",
       "\u001b[0;31mSource:\u001b[0m   \n",
       "    \u001b[0;32mdef\u001b[0m \u001b[0mget_channel_description\u001b[0m\u001b[0;34m(\u001b[0m\u001b[0mself\u001b[0m\u001b[0;34m)\u001b[0m\u001b[0;34m:\u001b[0m\u001b[0;34m\u001b[0m\n",
       "\u001b[0;34m\u001b[0m        \u001b[0;34m\"\"\"Obtains the channels and their tile and block for the user.\u001b[0m\n",
       "\u001b[0;34m        \"\"\"\u001b[0m\u001b[0;34m\u001b[0m\n",
       "\u001b[0;34m\u001b[0m        \u001b[0mch_dict\u001b[0m \u001b[0;34m=\u001b[0m \u001b[0;34m{\u001b[0m\u001b[0;34m}\u001b[0m\u001b[0;34m\u001b[0m\n",
       "\u001b[0;34m\u001b[0m        \u001b[0;32mfor\u001b[0m \u001b[0mi\u001b[0m \u001b[0;32min\u001b[0m \u001b[0mrange\u001b[0m\u001b[0;34m(\u001b[0m\u001b[0;36m0\u001b[0m\u001b[0;34m,\u001b[0m \u001b[0mlen\u001b[0m\u001b[0;34m(\u001b[0m\u001b[0mself\u001b[0m\u001b[0;34m.\u001b[0m\u001b[0m_dac_list\u001b[0m\u001b[0;34m)\u001b[0m\u001b[0;34m)\u001b[0m\u001b[0;34m:\u001b[0m\u001b[0;34m\u001b[0m\n",
       "\u001b[0;34m\u001b[0m            \u001b[0mtile\u001b[0m \u001b[0;34m=\u001b[0m \u001b[0mself\u001b[0m\u001b[0;34m.\u001b[0m\u001b[0m_dac_list\u001b[0m\u001b[0;34m[\u001b[0m\u001b[0mi\u001b[0m\u001b[0;34m]\u001b[0m\u001b[0;34m[\u001b[0m\u001b[0;36m0\u001b[0m\u001b[0;34m]\u001b[0m\u001b[0;34m\u001b[0m\n",
       "\u001b[0;34m\u001b[0m            \u001b[0mblock\u001b[0m \u001b[0;34m=\u001b[0m \u001b[0mself\u001b[0m\u001b[0;34m.\u001b[0m\u001b[0m_dac_list\u001b[0m\u001b[0;34m[\u001b[0m\u001b[0mi\u001b[0m\u001b[0;34m]\u001b[0m\u001b[0;34m[\u001b[0m\u001b[0;36m1\u001b[0m\u001b[0;34m]\u001b[0m\u001b[0;34m\u001b[0m\n",
       "\u001b[0;34m\u001b[0m            \u001b[0mch_dict\u001b[0m\u001b[0;34m.\u001b[0m\u001b[0mupdate\u001b[0m\u001b[0;34m(\u001b[0m\u001b[0;34m{\u001b[0m\u001b[0;34m''\u001b[0m\u001b[0;34m.\u001b[0m\u001b[0mjoin\u001b[0m\u001b[0;34m(\u001b[0m\u001b[0;34m[\u001b[0m\u001b[0;34m\"Channel \"\u001b[0m\u001b[0;34m,\u001b[0m \u001b[0mstr\u001b[0m\u001b[0;34m(\u001b[0m\u001b[0mi\u001b[0m\u001b[0;34m)\u001b[0m\u001b[0;34m]\u001b[0m\u001b[0;34m)\u001b[0m\u001b[0;34m:\u001b[0m \u001b[0;34m\u001b[0m\n",
       "\u001b[0;34m\u001b[0m                            \u001b[0;34m{\u001b[0m\u001b[0;34m\"Tile\"\u001b[0m\u001b[0;34m:\u001b[0m \u001b[0mtile\u001b[0m\u001b[0;34m+\u001b[0m\u001b[0;36m228\u001b[0m\u001b[0;34m,\u001b[0m\u001b[0;34m\u001b[0m\n",
       "\u001b[0;34m\u001b[0m                             \u001b[0;34m\"Block\"\u001b[0m\u001b[0;34m:\u001b[0m \u001b[0mblock\u001b[0m\u001b[0;34m}\u001b[0m\u001b[0;34m}\u001b[0m\u001b[0;34m)\u001b[0m\u001b[0;34m\u001b[0m\n",
       "\u001b[0;34m\u001b[0m        \u001b[0;32mreturn\u001b[0m \u001b[0mch_dict\u001b[0m\u001b[0;34m\u001b[0m\u001b[0;34m\u001b[0m\u001b[0m\n",
       "\u001b[0;31mFile:\u001b[0m      /usr/local/share/pynq-venv/lib/python3.10/site-packages/rfsystem/hierarchies.py\n",
       "\u001b[0;31mType:\u001b[0m      method\n"
      ]
     },
     "metadata": {},
     "output_type": "display_data"
    }
   ],
   "source": [
    "base.radio.transmitter.get_channel_description??"
   ]
  },
  {
   "cell_type": "markdown",
   "metadata": {},
   "source": [
    "The report above states that there are two active channels in the system.\n",
    "\n",
    "The receiver hierarchy also contains two channels. The *Packet Generator*\n",
    "arranges the data into AXI-Stream packets and sends these packets to DDR\n",
    "memory via AXI DMA. Let's run the cell below."
   ]
  },
  {
   "cell_type": "code",
   "execution_count": 7,
   "metadata": {},
   "outputs": [
    {
     "data": {
      "text/plain": [
       "{'Channel 0': {'Tile': 224, 'Block': 0},\n",
       " 'Channel 1': {'Tile': 225, 'Block': 0},\n",
       " 'Channel 2': {'Tile': 226, 'Block': 0},\n",
       " 'Channel 3': {'Tile': 227, 'Block': 0}}"
      ]
     },
     "execution_count": 7,
     "metadata": {},
     "output_type": "execute_result"
    }
   ],
   "source": [
    "base.radio.receiver.get_channel_description()"
   ]
  },
  {
   "cell_type": "markdown",
   "metadata": {},
   "source": [
    "There are several methods to read and write to RF block registers.\n",
    "These methods are common to the RF DAC and RF ADC.\n",
    "\n",
    "```python\n",
    "BlockStatus\n",
    "MixerSettings\n",
    "QMCSettings\n",
    "CoarseDelaySettings\n",
    "NyquistZone\n",
    "```\n",
    "\n",
    "For example, `base.radio.transmitter.channel[0].dac_block.QMCSettings`\n",
    "will display the QMC settings for the transmit DAC block.\n",
    "\n",
    "For many of these settings, you can change them and they will impact the operation."
   ]
  },
  {
   "cell_type": "code",
   "execution_count": 8,
   "metadata": {},
   "outputs": [
    {
     "data": {
      "text/plain": [
       "{'EnablePhase': 0,\n",
       " 'EnableGain': 0,\n",
       " 'GainCorrectionFactor': 0.0,\n",
       " 'PhaseCorrectionFactor': 0.0,\n",
       " 'OffsetCorrectionFactor': 0,\n",
       " 'EventSource': 0}"
      ]
     },
     "execution_count": 8,
     "metadata": {},
     "output_type": "execute_result"
    }
   ],
   "source": [
    "base.radio.transmitter.channel[0].dac_block.QMCSettings"
   ]
  },
  {
   "cell_type": "markdown",
   "metadata": {},
   "source": [
    "Another example you can try:\n",
    "```python\n",
    "base.radio.receiver.channel[0].adc_block.CoarseDelaySettings\n",
    "```\n",
    "\n",
    "To further investigate the RF ADC and RF DAC, you can run the code cell below."
   ]
  },
  {
   "cell_type": "code",
   "execution_count": 9,
   "metadata": {},
   "outputs": [
    {
     "name": "stdout",
     "output_type": "stream",
     "text": [
      "Help on RFdcDacBlock in module xrfdc object:\n",
      "\n",
      "class RFdcDacBlock(RFdcBlock)\n",
      " |  RFdcDacBlock(*args, **kwargs)\n",
      " |  \n",
      " |  Method resolution order:\n",
      " |      RFdcDacBlock\n",
      " |      RFdcBlock\n",
      " |      builtins.object\n",
      " |  \n",
      " |  Methods defined here:\n",
      " |  \n",
      " |  SetDACVOP(self, uACurrent)\n",
      " |  \n",
      " |  __init__(self, *args, **kwargs)\n",
      " |      Initialize self.  See help(type(self)) for accurate signature.\n",
      " |  \n",
      " |  ----------------------------------------------------------------------\n",
      " |  Readonly properties defined here:\n",
      " |  \n",
      " |  FabRdVldWords\n",
      " |  \n",
      " |  OutputCurr\n",
      " |  \n",
      " |  ----------------------------------------------------------------------\n",
      " |  Data descriptors defined here:\n",
      " |  \n",
      " |  DACCompMode\n",
      " |  \n",
      " |  DataPathMode\n",
      " |  \n",
      " |  DecoderMode\n",
      " |  \n",
      " |  FabWrVldWords\n",
      " |  \n",
      " |  IMRPassMode\n",
      " |  \n",
      " |  InterpolationFactor\n",
      " |  \n",
      " |  InvSincFIR\n",
      " |  \n",
      " |  ----------------------------------------------------------------------\n",
      " |  Methods inherited from RFdcBlock:\n",
      " |  \n",
      " |  GetConnectedIData(self)\n",
      " |  \n",
      " |  GetConnectedQData(self)\n",
      " |  \n",
      " |  ResetInternalFIFOWidth(self)\n",
      " |  \n",
      " |  ResetNCOPhase(self)\n",
      " |  \n",
      " |  UpdateEvent(self, Event)\n",
      " |  \n",
      " |  ----------------------------------------------------------------------\n",
      " |  Readonly properties inherited from RFdcBlock:\n",
      " |  \n",
      " |  BlockStatus\n",
      " |  \n",
      " |  EnabledInterrupts\n",
      " |  \n",
      " |  ----------------------------------------------------------------------\n",
      " |  Data descriptors inherited from RFdcBlock:\n",
      " |  \n",
      " |  CoarseDelaySettings\n",
      " |  \n",
      " |  MixerSettings\n",
      " |  \n",
      " |  NyquistZone\n",
      " |  \n",
      " |  PwrMode\n",
      " |  \n",
      " |  QMCSettings\n",
      " |  \n",
      " |  __dict__\n",
      " |      dictionary for instance variables (if defined)\n",
      " |  \n",
      " |  __weakref__\n",
      " |      list of weak references to the object (if defined)\n",
      "\n"
     ]
    }
   ],
   "source": [
    "help(base.radio.transmitter.channel[0].dac_block)"
   ]
  },
  {
   "cell_type": "markdown",
   "metadata": {},
   "source": [
    "More to try:\n",
    "```python\n",
    "help(base.radio.transmitter.channel[0].dac_tile)\n",
    "help(base.radio.receiver.channel[0].adc_block)\n",
    "help(base.radio.receiver.channel[0].adc_tile)\n",
    "```\n",
    "Many of these attributes / methods depend on the configuration\n",
    "of the PL and the hardware. You will need to implement your own hardware \n",
    "design if you want to do something else."
   ]
  },
  {
   "cell_type": "markdown",
   "metadata": {},
   "source": [
    "## RF Data Inspection <a class=\"anchor\" id=\"rf-data-inspection\"></a>\n",
    "\n",
    "Now that you have a fundamental understanding of how to control the RF DCs, \n",
    "we can inspect RF data using the radio hierarchy block. To make it more\n",
    "interesting, we generate stimulus using the RF DAC block for each channel. \n",
    "Let's configure the mixer frequencies for each RF-DAC block channel below. \n",
    "\n",
    "We choose frequencies which fall directly within a frequency bin with no scallop loss, where:\n",
    "\n",
    "$$\n",
    "\\frac{f_s}{samples} = f_{bin}\\\\\n",
    "\\frac{2457.6 MHz}{256} = 9.6 MHz\n",
    "$$"
   ]
  },
  {
   "cell_type": "code",
   "execution_count": 5,
   "metadata": {},
   "outputs": [],
   "source": [
    "#base.radio.transmitter.channel[0].dac_block.MixerSettings['Freq'] = 768  # MHz Unused \n",
    "#base.radio.transmitter.channel[1].dac_block.MixerSettings['Freq'] = 960  # MHz Unused\n",
    "base.radio.transmitter.channel[2].dac_block.MixerSettings['Freq'] = 1056 # MHz \n",
    "base.radio.transmitter.channel[3].dac_block.MixerSettings['Freq'] = 1200 # MHz"
   ]
  },
  {
   "cell_type": "markdown",
   "metadata": {},
   "source": [
    "The PL contains an amplitude controller for signal transmission. \n",
    "We can set the amplitude of the signal and enable transmission for each channel."
   ]
  },
  {
   "cell_type": "code",
   "execution_count": 6,
   "metadata": {},
   "outputs": [],
   "source": [
    "for i in range(0, len(base.radio.transmitter.channel)):\n",
    "    base.radio.transmitter.channel[i].control.gain = 0.8\n",
    "    base.radio.transmitter.channel[i].control.enable = True"
   ]
  },
  {
   "cell_type": "markdown",
   "metadata": {},
   "source": [
    "The RF-ADC block mixer frequency can also be tuned. We set it to 1228.8 MHz as\n",
    "that is the default setting. This is a suitable mixer frequency for the\n",
    "next part of the demonstration, where we will transfer time domain samples\n",
    "from receiver channels.\n",
    "\n",
    "Firstly, we will define the numbers of samples to be transferred. \n",
    "The range of samples that can be transferred is between 16 to 32768.\n",
    "Running the code cell below, will transfer complex data, with an amplitude of 1."
   ]
  },
  {
   "cell_type": "code",
   "execution_count": 7,
   "metadata": {},
   "outputs": [],
   "source": [
    "number_samples = 256\n",
    "cdata = []\n",
    "for i in range(0, len(base.radio.receiver.channel)):\n",
    "    cdata.append(base.radio.receiver.channel[i].transfer(number_samples))"
   ]
  },
  {
   "cell_type": "markdown",
   "metadata": {},
   "source": [
    "Now that we have complex channel data in Jupyter, we can import plotly, numpy,\n",
    "and ipwidgets to enable data visualization."
   ]
  },
  {
   "cell_type": "markdown",
   "metadata": {},
   "source": [
    "The data can be plotted using `go.Scatter` and `go.FigureWidget` for each channel. Ipywidgets allows each figure to be displayed at the same time."
   ]
  },
  {
   "cell_type": "code",
   "execution_count": 8,
   "metadata": {},
   "outputs": [
    {
     "data": {
      "application/vnd.jupyter.widget-view+json": {
       "model_id": "cc5107119c104ca0912f7b102b68f43a",
       "version_major": 2,
       "version_minor": 0
      },
      "text/plain": [
       "VBox(children=(FigureWidget({\n",
       "    'data': [{'name': 'Real',\n",
       "              'type': 'scatter',\n",
       "              'ui…"
      ]
     },
     "metadata": {},
     "output_type": "display_data"
    }
   ],
   "source": [
    "sample_frequency = 2457.6e6\n",
    "figs = []\n",
    "\n",
    "for i in range(0, len(base.radio.receiver.channel)):\n",
    "    plt_re_temp = (go.Scatter(\n",
    "            x = np.arange(0, number_samples/sample_frequency, \n",
    "                          1/sample_frequency),\n",
    "            y = np.real(cdata[i]), name='Real'))\n",
    "    plt_im_temp = (go.Scatter(\n",
    "            x = np.arange(0, number_samples/sample_frequency, \n",
    "                          1/sample_frequency),\n",
    "            y = np.imag(cdata[i]), name='Imag'))\n",
    "    figs.append(go.FigureWidget(data = [plt_re_temp, plt_im_temp],\n",
    "            layout = {'title': ''.join(['Time Domain Plot of ADC Channel ', \n",
    "                                         str(i)]), \n",
    "                      'xaxis': {'title' : 'Seconds (s)',\n",
    "                                'autorange' : True},\n",
    "                      'yaxis' : {'title' : 'Amplitude (V)'}}))\n",
    "\n",
    "ipw.VBox(figs)"
   ]
  },
  {
   "cell_type": "markdown",
   "metadata": {},
   "source": [
    "Repeat the cells above but changing to Configuration Two.  With Configuration Two, ADC channels 2 and 3 should now have a discernable sinusoidal waveform.\n",
    "\n",
    "You can also return to the [RF Data Inspection](#rf-data-inspection) section\n",
    "and try different mixer frequency or different amplitude gain."
   ]
  },
  {
   "cell_type": "markdown",
   "metadata": {},
   "source": [
    "## Conclusion <a class=\"anchor\" id=\"conclusion\"></a>\n",
    "\n",
    "This notebook has presented a simple introduction to the RF Data Converters. \n",
    "The RF DCs were briefly described and a radio hierarchy in PL was explored.\n",
    "RF data visualization was performed using `plotly`, `ipywidgets`, and `numpy` in Jupyter.\n",
    "\n",
    "| | [RF Spectrum Analysis ➡️](02_rf_spectrum_analysis.ipynb)"
   ]
  },
  {
   "cell_type": "markdown",
   "metadata": {},
   "source": [
    "Copyright (C) 2021 Xilinx, Inc\n",
    "\n",
    "SPDX-License-Identifier: BSD-3-Clause\n",
    "\n",
    "----\n",
    "\n",
    "----"
   ]
  }
 ],
 "metadata": {
  "kernelspec": {
   "display_name": "Python 3 (ipykernel)",
   "language": "python",
   "name": "python3"
  },
  "language_info": {
   "codemirror_mode": {
    "name": "ipython",
    "version": 3
   },
   "file_extension": ".py",
   "mimetype": "text/x-python",
   "name": "python",
   "nbconvert_exporter": "python",
   "pygments_lexer": "ipython3",
   "version": "3.10.4"
  },
  "vscode": {
   "interpreter": {
    "hash": "4d2633862f41f27d9b46e81f1ba1c78420cd082f001c942a35ba297c53b87da8"
   }
  },
  "widgets": {
   "application/vnd.jupyter.widget-state+json": {
    "state": {},
    "version_major": 2,
    "version_minor": 0
   }
  }
 },
 "nbformat": 4,
 "nbformat_minor": 4
}
