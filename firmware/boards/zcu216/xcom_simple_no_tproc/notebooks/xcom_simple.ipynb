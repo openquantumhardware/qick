{
 "cells": [
  {
   "cell_type": "code",
   "execution_count": 1,
   "id": "3b5c048a",
   "metadata": {},
   "outputs": [],
   "source": [
    "import sys\n",
    "## QICK LIBRARY\n",
    "from qick import * \n",
    "\n",
    "from pynq.buffer import allocate\n",
    "\n",
    "## tProc Assembler\n",
    "from qick.tprocv2_assembler import Assembler, Logger, LFSR\n",
    "\n",
    "import matplotlib.pyplot as plt\n",
    "import numpy as np\n",
    "import time\n",
    "import random\n",
    "\n",
    "import qick.tprocv2_assembler as qasm\n",
    "from importlib import reload  # Python 3.4+\n",
    "\n",
    "from pynq import Overlay"
   ]
  },
  {
   "cell_type": "code",
   "execution_count": 2,
   "id": "3c17e442-0ac3-4eb5-9ea8-39b07ef60560",
   "metadata": {},
   "outputs": [
    {
     "data": {
      "text/plain": [
       "'0.2.291'"
      ]
     },
     "execution_count": 2,
     "metadata": {},
     "output_type": "execute_result"
    }
   ],
   "source": [
    "#print(sys.path)\n",
    "qick.get_version()"
   ]
  },
  {
   "cell_type": "code",
   "execution_count": 3,
   "id": "7db30be5-bacf-4308-82df-468350fcc9ce",
   "metadata": {},
   "outputs": [
    {
     "data": {
      "application/javascript": [
       "\n",
       "try {\n",
       "require(['notebook/js/codecell'], function(codecell) {\n",
       "  codecell.CodeCell.options_default.highlight_modes[\n",
       "      'magic_text/x-csrc'] = {'reg':[/^%%microblaze/]};\n",
       "  Jupyter.notebook.events.one('kernel_ready.Kernel', function(){\n",
       "      Jupyter.notebook.get_cells().map(function(cell){\n",
       "          if (cell.cell_type == 'code'){ cell.auto_highlight(); } }) ;\n",
       "  });\n",
       "});\n",
       "} catch (e) {};\n"
      ]
     },
     "metadata": {},
     "output_type": "display_data"
    },
    {
     "data": {
      "application/javascript": [
       "\n",
       "try {\n",
       "require(['notebook/js/codecell'], function(codecell) {\n",
       "  codecell.CodeCell.options_default.highlight_modes[\n",
       "      'magic_text/x-csrc'] = {'reg':[/^%%pybind11/]};\n",
       "  Jupyter.notebook.events.one('kernel_ready.Kernel', function(){\n",
       "      Jupyter.notebook.get_cells().map(function(cell){\n",
       "          if (cell.cell_type == 'code'){ cell.auto_highlight(); } }) ;\n",
       "  });\n",
       "});\n",
       "} catch (e) {};\n"
      ]
     },
     "metadata": {},
     "output_type": "display_data"
    }
   ],
   "source": [
    "##### Load FGPA BitStream\n",
    "soc = Overlay('./xcom_simple.bit')\n",
    "#soc = Overlay('./xcom_simple_w_sync.bit')"
   ]
  },
  {
   "cell_type": "code",
   "execution_count": 4,
   "id": "c1d947e3-5480-4edd-a3e0-19b025e381ed",
   "metadata": {},
   "outputs": [],
   "source": [
    "#soc?"
   ]
  },
  {
   "cell_type": "code",
   "execution_count": 12,
   "id": "da444754-dd62-4189-bcc9-befe8c2fe0d5",
   "metadata": {},
   "outputs": [
    {
     "name": "stdout",
     "output_type": "stream",
     "text": [
      "00000000000000010000000000000000\n",
      "---------------------------------------------\n",
      "--- AXI XCOM Register STATUS\n",
      " tx_st     : 00\n",
      " c_cmd_st  : 00\n",
      " x_cmd_st  : 00\n",
      " rx_st[0]  : 00000\n",
      " rx_st[1]  : 00000\n",
      " tx_ready  : 1\n",
      " board_id  : 0000\n",
      "00000000000000010000000000000000\n",
      "---------------------------------------------\n",
      "--- AXI XCOM Register STATUS\n",
      " tx_st     : 00\n",
      " c_cmd_st  : 00\n",
      " x_cmd_st  : 00\n",
      " rx_st[0]  : 00000\n",
      " rx_st[1]  : 00000\n",
      " tx_ready  : 1\n",
      " board_id  : 0000\n"
     ]
    }
   ],
   "source": [
    "soc.xcom_axil_slv_0.print_status()\n",
    "soc.xcom_1.print_status()"
   ]
  },
  {
   "cell_type": "code",
   "execution_count": 13,
   "id": "99e97fdb",
   "metadata": {},
   "outputs": [],
   "source": [
    "#soc.xcom_0.write_local_flag(1)\n",
    "#help(soc.xcom_0)\n",
    "#soc.config_clocks(1)\n",
    "#print(soc)\n",
    "#print(soc.qtt)"
   ]
  },
  {
   "cell_type": "code",
   "execution_count": 20,
   "id": "45d3a87c",
   "metadata": {},
   "outputs": [],
   "source": [
    "soc.qick_processor_0.configure(soc.axi_dma_tproc)\n",
    "soc.xcom_axil_slv_0.xcom_cfg = 2\n",
    "soc.xcom_1.xcom_cfg = 2"
   ]
  },
  {
   "cell_type": "markdown",
   "id": "d5d7aba3-17a3-46bc-ad59-53e7b88fb533",
   "metadata": {},
   "source": [
    "# Test communication with other board "
   ]
  },
  {
   "cell_type": "code",
   "execution_count": 24,
   "id": "0c9bfe55-8265-4706-b816-9e641087f293",
   "metadata": {},
   "outputs": [
    {
     "name": "stdout",
     "output_type": "stream",
     "text": [
      "00000000000010010000000000000000\n",
      "---------------------------------------------\n",
      "--- AXI XCOM Register STATUS\n",
      " tx_st     : 00\n",
      " c_cmd_st  : 00\n",
      " x_cmd_st  : 00\n",
      " rx_st[0]  : 00000\n",
      " rx_st[1]  : 00000\n",
      " tx_ready  : 1\n",
      " board_id  : 0100\n",
      "00000000001001110000000000000000\n",
      "---------------------------------------------\n",
      "--- AXI XCOM Register STATUS\n",
      " tx_st     : 00\n",
      " c_cmd_st  : 00\n",
      " x_cmd_st  : 00\n",
      " rx_st[0]  : 00000\n",
      " rx_st[1]  : 00000\n",
      " tx_ready  : 1\n",
      " board_id  : 0011\n"
     ]
    }
   ],
   "source": [
    "soc.xcom_axil_slv_0.set_local_id(4)\n",
    "soc.xcom_1.set_local_id(3)\n",
    "soc.xcom_axil_slv_0.print_status()\n",
    "soc.xcom_1.print_status()"
   ]
  },
  {
   "cell_type": "code",
   "execution_count": 22,
   "id": "01473c2c-05da-4158-ab3a-f474288b615a",
   "metadata": {},
   "outputs": [
    {
     "name": "stdout",
     "output_type": "stream",
     "text": [
      "---------------------------------------------\n",
      "--- AXI Registers\n",
      " xcom_ctrl          32 - 0000_0000_0000_0000_0000_0000_0010_0000\n",
      "  xcom_cfg           2 - 0000_0000_0000_0000_0000_0000_0000_0010\n",
      "   axi_dt1           4 - 0000_0000_0000_0000_0000_0000_0000_0100\n",
      "   axi_dt2           0 - 0000_0000_0000_0000_0000_0000_0000_0000\n",
      "  axi_addr           0 - 0000_0000_0000_0000_0000_0000_0000_0000\n",
      "  board_id           4 - 0000_0000_0000_0000_0000_0000_0000_0100\n",
      "      flag           0 - 0000_0000_0000_0000_0000_0000_0000_0000\n",
      "       dt1           0 - 0000_0000_0000_0000_0000_0000_0000_0000\n",
      "       dt2           0 - 0000_0000_0000_0000_0000_0000_0000_0000\n",
      "       mem           0 - 0000_0000_0000_0000_0000_0000_0000_0000\n",
      "     rx_dt           0 - 0000_0000_0000_0000_0000_0000_0000_0000\n",
      "     tx_dt           0 - 0000_0000_0000_0000_0000_0000_0000_0000\n",
      "    status      589824 - 0000_0000_0000_1001_0000_0000_0000_0000\n",
      "     debug  3227517956 - 1100_0000_0110_0000_0000_0100_0000_0100\n",
      "3227517956 11000000011000000000010000000100\n",
      "---------------------------------------------\n",
      "--- AXI XCOM DEBUG\n",
      " cmd_loc_req_i : 0\n",
      " cmd_loc_ack   : 0\n",
      " loc_set_id    : 1\n",
      " loc_wflg      : 0\n",
      " loc_wreg      : 0\n",
      " loc_wmem      : 0\n",
      " cmd_net_req_i : 0\n",
      " cmd_net_ack   : 0\n",
      " cmd_op_i      : 00000100\n",
      " rx_cmd_op     : 0000\n",
      " tx_auto_id    : 0\n",
      " rx_no_dt      : 1\n",
      " rx_wflg       : 1\n",
      " rx_wreg       : 0\n",
      " rx_wmem       : 0\n",
      " rx_cmd_id     : 000\n",
      " cfg_i         : 1100\n",
      "---------------------------------------------\n",
      "--- AXI XCOM RX_DT\n",
      "rx_dt            0 -  00000000000000000000000000000000\n",
      "---------------------------------------------\n",
      "--- AXI XCOM TX_DT\n",
      "tx_dt            0 -  00000000000000000000000000000000\n",
      "00000000000010010000000000000000\n",
      "---------------------------------------------\n",
      "--- AXI XCOM Register STATUS\n",
      " tx_st     : 00\n",
      " c_cmd_st  : 00\n",
      " x_cmd_st  : 00\n",
      " rx_st[0]  : 00000\n",
      " rx_st[1]  : 00000\n",
      " tx_ready  : 1\n",
      " board_id  : 0100\n"
     ]
    }
   ],
   "source": [
    "#soc.xcom_axil_slv_0.send_byte(16, 8, 1)\n",
    "soc.xcom_axil_slv_0.print_axi_regs()\n",
    "soc.xcom_axil_slv_0.print_debug()\n",
    "soc.xcom_axil_slv_0.print_status()"
   ]
  },
  {
   "cell_type": "code",
   "execution_count": null,
   "id": "f27358ce-7740-41a3-80f3-4d5555bcb96d",
   "metadata": {},
   "outputs": [],
   "source": []
  },
  {
   "cell_type": "code",
   "execution_count": 7,
   "id": "e14754ad-8ed7-4845-b91c-1feb1403f713",
   "metadata": {},
   "outputs": [],
   "source": [
    "for i in range(16):\n",
    "    soc.xcom_axil_slv_0.set_local_id(i)\n",
    "    time.sleep(3);"
   ]
  },
  {
   "cell_type": "code",
   "execution_count": 6,
   "id": "e39a34bd-c520-4387-ad6d-ad0d21815c7f",
   "metadata": {},
   "outputs": [
    {
     "name": "stdout",
     "output_type": "stream",
     "text": [
      "---------------------------------------------\n",
      "--- AXI Registers\n",
      " xcom_ctrl          32 - 0000_0000_0000_0000_0000_0000_0010_0000\n",
      "  xcom_cfg           0 - 0000_0000_0000_0000_0000_0000_0000_0000\n",
      "   axi_dt1           3 - 0000_0000_0000_0000_0000_0000_0000_0011\n",
      "   axi_dt2           0 - 0000_0000_0000_0000_0000_0000_0000_0000\n",
      "  axi_addr           0 - 0000_0000_0000_0000_0000_0000_0000_0000\n",
      "  board_id           3 - 0000_0000_0000_0000_0000_0000_0000_0011\n",
      "      flag           0 - 0000_0000_0000_0000_0000_0000_0000_0000\n",
      "       dt1           0 - 0000_0000_0000_0000_0000_0000_0000_0000\n",
      "       dt2           0 - 0000_0000_0000_0000_0000_0000_0000_0000\n",
      "       mem           0 - 0000_0000_0000_0000_0000_0000_0000_0000\n",
      "     rx_dt           0 - 0000_0000_0000_0000_0000_0000_0000_0000\n",
      "     tx_dt           0 - 0000_0000_0000_0000_0000_0000_0000_0000\n",
      "    status     2555904 - 0000_0000_0010_0111_0000_0000_0000_0000\n",
      "     debug           0 - 0000_0000_0000_0000_0000_0000_0000_0000\n",
      "---------------------------------------------\n",
      "--- AXI Registers\n",
      " xcom_ctrl          32 - 0000_0000_0000_0000_0000_0000_0010_0000\n",
      "  xcom_cfg           0 - 0000_0000_0000_0000_0000_0000_0000_0000\n",
      "   axi_dt1           7 - 0000_0000_0000_0000_0000_0000_0000_0111\n",
      "   axi_dt2           0 - 0000_0000_0000_0000_0000_0000_0000_0000\n",
      "  axi_addr           0 - 0000_0000_0000_0000_0000_0000_0000_0000\n",
      "  board_id           7 - 0000_0000_0000_0000_0000_0000_0000_0111\n",
      "      flag           0 - 0000_0000_0000_0000_0000_0000_0000_0000\n",
      "       dt1           0 - 0000_0000_0000_0000_0000_0000_0000_0000\n",
      "       dt2           0 - 0000_0000_0000_0000_0000_0000_0000_0000\n",
      "       mem           0 - 0000_0000_0000_0000_0000_0000_0000_0000\n",
      "     rx_dt           0 - 0000_0000_0000_0000_0000_0000_0000_0000\n",
      "     tx_dt           0 - 0000_0000_0000_0000_0000_0000_0000_0000\n",
      "    status      983040 - 0000_0000_0000_1111_0000_0000_0000_0000\n",
      "     debug  1080035076 - 0100_0000_0110_0000_0000_0111_0000_0100\n"
     ]
    }
   ],
   "source": [
    "soc.xcom_axil_slv_0.set_local_id(4)\n",
    "soc.xcom_1.set_local_id(3)\n",
    "#soc.xcom_1.print_status()\n",
    "soc.xcom_1.print_axi_regs()\n",
    "#soc.xcom_axil_slv_0.print_status()\n",
    "soc.xcom_axil_slv_0.print_axi_regs()"
   ]
  },
  {
   "cell_type": "code",
   "execution_count": 14,
   "id": "d803438c-6b4b-4c97-bbc2-be49eb8a08e8",
   "metadata": {},
   "outputs": [
    {
     "name": "stdout",
     "output_type": "stream",
     "text": [
      "---------------------------------------------\n",
      "--- AXI Registers\n",
      " xcom_ctrl           0 - 0000_0000_0000_0000_0000_0000_0000_0000\n",
      "  xcom_cfg           0 - 0000_0000_0000_0000_0000_0000_0000_0000\n",
      "   axi_dt1           7 - 0000_0000_0000_0000_0000_0000_0000_0111\n",
      "   axi_dt2           0 - 0000_0000_0000_0000_0000_0000_0000_0000\n",
      "  axi_addr           0 - 0000_0000_0000_0000_0000_0000_0000_0000\n",
      "  board_id           7 - 0000_0000_0000_0000_0000_0000_0000_0111\n",
      "      flag           0 - 0000_0000_0000_0000_0000_0000_0000_0000\n",
      "       dt1           0 - 0000_0000_0000_0000_0000_0000_0000_0000\n",
      "       dt2           0 - 0000_0000_0000_0000_0000_0000_0000_0000\n",
      "       mem           0 - 0000_0000_0000_0000_0000_0000_0000_0000\n",
      "     rx_dt           0 - 0000_0000_0000_0000_0000_0000_0000_0000\n",
      "     tx_dt           0 - 0000_0000_0000_0000_0000_0000_0000_0000\n",
      "    status      983040 - 0000_0000_0000_1111_0000_0000_0000_0000\n",
      "     debug  1113589508 - 0100_0010_0110_0000_0000_0111_0000_0100\n",
      "---------------------------------------------\n",
      "--- AXI Registers\n",
      " xcom_ctrl           0 - 0000_0000_0000_0000_0000_0000_0000_0000\n",
      "  xcom_cfg           0 - 0000_0000_0000_0000_0000_0000_0000_0000\n",
      "   axi_dt1           7 - 0000_0000_0000_0000_0000_0000_0000_0111\n",
      "   axi_dt2           0 - 0000_0000_0000_0000_0000_0000_0000_0000\n",
      "  axi_addr           0 - 0000_0000_0000_0000_0000_0000_0000_0000\n",
      "  board_id           3 - 0000_0000_0000_0000_0000_0000_0000_0011\n",
      "      flag           0 - 0000_0000_0000_0000_0000_0000_0000_0000\n",
      "       dt1           0 - 0000_0000_0000_0000_0000_0000_0000_0000\n",
      "       dt2           0 - 0000_0000_0000_0000_0000_0000_0000_0000\n",
      "       mem           0 - 0000_0000_0000_0000_0000_0000_0000_0000\n",
      "     rx_dt           0 - 0000_0000_0000_0000_0000_0000_0000_0000\n",
      "     tx_dt           0 - 0000_0000_0000_0000_0000_0000_0000_0000\n",
      "    status    19333120 - 0000_0001_0010_0111_0000_0000_0000_0000\n",
      "     debug           0 - 0000_0000_0000_0000_0000_0000_0000_0000\n"
     ]
    }
   ],
   "source": [
    "soc.xcom_1.run_cmd(0, 7, 0)\n",
    "soc.xcom_axil_slv_0.print_axi_regs()\n",
    "soc.xcom_1.print_axi_regs()   "
   ]
  },
  {
   "cell_type": "code",
   "execution_count": null,
   "id": "34855e74-0063-444e-8723-3bcf917fe530",
   "metadata": {},
   "outputs": [],
   "source": [
    "# soc.xcom_axil_slv_0.auto_id()\n",
    "soc.xcom_1.auto_id()\n",
    "soc.xcom_1.print_status()\n",
    "soc.xcom_1.print_axi_regs()\n",
    "soc.xcom_axil_slv_0.print_status()\n",
    "soc.xcom_axil_slv_0.print_axi_regs()"
   ]
  },
  {
   "cell_type": "code",
   "execution_count": null,
   "id": "4e4bfe24-d150-4127-9761-676981f06572",
   "metadata": {},
   "outputs": [],
   "source": [
    "for i in range(8):\n",
    "    soc.xcom_axil_slv_0.run_cmd(i, 3, 0x1)\n",
    "    soc.xcom_axil_slv_0.print_axi_regs()\n",
    "    #soc.xcom_1.print_axi_regs()\n",
    "    time.sleep(2)\n",
    "    print(i)    "
   ]
  },
  {
   "cell_type": "code",
   "execution_count": null,
   "id": "e5dc366e-0326-4366-a31c-5bb4da894e60",
   "metadata": {},
   "outputs": [],
   "source": [
    "soc.xcom_axil_slv_0.send_half_word(0x10, 3, 1)\n",
    "soc.xcom_axil_slv_0.print_axi_regs()\n",
    "soc.xcom_1.print_axi_regs()"
   ]
  },
  {
   "cell_type": "markdown",
   "id": "254d234e-08ea-4499-92ae-371b008f3dcc",
   "metadata": {},
   "source": [
    "## Let's try the NET commands"
   ]
  },
  {
   "cell_type": "code",
   "execution_count": 56,
   "id": "49aae5db-df45-4a91-b454-167256eebcd5",
   "metadata": {},
   "outputs": [
    {
     "name": "stdout",
     "output_type": "stream",
     "text": [
      "00000000000001110000000000000000\n",
      "---------------------------------------------\n",
      "--- AXI XCOM Register STATUS\n",
      " tx_st     : 00\n",
      " c_cmd_st  : 00\n",
      " x_cmd_st  : 00\n",
      " rx_st[0]  : 00000\n",
      " rx_st[1]  : 00000\n",
      " tx_ready  : 1\n",
      " board_id  : 0011\n",
      "00000000010010110000000000000000\n",
      "---------------------------------------------\n",
      "--- AXI XCOM Register STATUS\n",
      " tx_st     : 00\n",
      " c_cmd_st  : 00\n",
      " x_cmd_st  : 00\n",
      " rx_st[0]  : 00000\n",
      " rx_st[1]  : 00000\n",
      " tx_ready  : 1\n",
      " board_id  : 0101\n"
     ]
    }
   ],
   "source": [
    "soc.xcom_axil_slv_0.set_local_id(3)\n",
    "soc.xcom_1.set_local_id(4)\n",
    "soc.xcom_axil_slv_0.print_status()\n",
    "soc.xcom_1.print_status()"
   ]
  },
  {
   "cell_type": "code",
   "execution_count": 60,
   "id": "b1b1f6e0-15f2-4f25-a7ce-8816fa751ef6",
   "metadata": {},
   "outputs": [
    {
     "name": "stdout",
     "output_type": "stream",
     "text": [
      "---------------------------------------------\n",
      "--- AXI Registers\n",
      " xcom_ctrl           3 - 0000_0000_0000_0000_0000_0000_0000_0011\n",
      "  xcom_cfg           0 - 0000_0000_0000_0000_0000_0000_0000_0000\n",
      "   axi_dt1           4 - 0000_0000_0000_0000_0000_0000_0000_0100\n",
      "   axi_dt2           1 - 0000_0000_0000_0000_0000_0000_0000_0001\n",
      "  axi_addr           0 - 0000_0000_0000_0000_0000_0000_0000_0000\n",
      "  board_id           4 - 0000_0000_0000_0000_0000_0000_0000_0100\n",
      "      flag           0 - 0000_0000_0000_0000_0000_0000_0000_0000\n",
      "       dt1           0 - 0000_0000_0000_0000_0000_0000_0000_0000\n",
      "       dt2           0 - 0000_0000_0000_0000_0000_0000_0000_0000\n",
      "       mem           0 - 0000_0000_0000_0000_0000_0000_0000_0000\n",
      "     rx_dt           0 - 0000_0000_0000_0000_0000_0000_0000_0000\n",
      "     tx_dt           1 - 0000_0000_0000_0000_0000_0000_0000_0001\n",
      "    status      589824 - 0000_0000_0000_1001_0000_0000_0000_0000\n",
      "     debug  1080103936 - 0100_0000_0110_0001_0001_0100_0000_0000\n",
      "---------------------------------------------\n",
      "--- AXI Registers\n",
      " xcom_ctrl          33 - 0000_0000_0000_0000_0000_0000_0010_0001\n",
      "  xcom_cfg           0 - 0000_0000_0000_0000_0000_0000_0000_0000\n",
      "   axi_dt1           4 - 0000_0000_0000_0000_0000_0000_0000_0100\n",
      "   axi_dt2           0 - 0000_0000_0000_0000_0000_0000_0000_0000\n",
      "  axi_addr           0 - 0000_0000_0000_0000_0000_0000_0000_0000\n",
      "  board_id           0 - 0000_0000_0000_0000_0000_0000_0000_0000\n",
      "      flag           0 - 0000_0000_0000_0000_0000_0000_0000_0000\n",
      "       dt1           0 - 0000_0000_0000_0000_0000_0000_0000_0000\n",
      "       dt2           0 - 0000_0000_0000_0000_0000_0000_0000_0000\n",
      "       mem           0 - 0000_0000_0000_0000_0000_0000_0000_0000\n",
      "     rx_dt           0 - 0000_0000_0000_0000_0000_0000_0000_0000\n",
      "     tx_dt           0 - 0000_0000_0000_0000_0000_0000_0000_0000\n",
      "    status     4915200 - 0000_0000_0100_1011_0000_0000_0000_0000\n",
      "     debug           0 - 0000_0000_0000_0000_0000_0000_0000_0000\n",
      "---------------------------------------------\n",
      "--- AXI Registers\n",
      " xcom_ctrl           1 - 0000_0000_0000_0000_0000_0000_0000_0001\n",
      "  xcom_cfg           0 - 0000_0000_0000_0000_0000_0000_0000_0000\n",
      "   axi_dt1           4 - 0000_0000_0000_0000_0000_0000_0000_0100\n",
      "   axi_dt2           1 - 0000_0000_0000_0000_0000_0000_0000_0001\n",
      "  axi_addr           0 - 0000_0000_0000_0000_0000_0000_0000_0000\n",
      "  board_id           4 - 0000_0000_0000_0000_0000_0000_0000_0100\n",
      "      flag           0 - 0000_0000_0000_0000_0000_0000_0000_0000\n",
      "       dt1           0 - 0000_0000_0000_0000_0000_0000_0000_0000\n",
      "       dt2           0 - 0000_0000_0000_0000_0000_0000_0000_0000\n",
      "       mem           0 - 0000_0000_0000_0000_0000_0000_0000_0000\n",
      "     rx_dt           0 - 0000_0000_0000_0000_0000_0000_0000_0000\n",
      "     tx_dt           1 - 0000_0000_0000_0000_0000_0000_0000_0001\n",
      "    status      589824 - 0000_0000_0000_1001_0000_0000_0000_0000\n",
      "     debug  1080034304 - 0100_0000_0110_0000_0000_0100_0000_0000\n",
      "---------------------------------------------\n",
      "--- AXI Registers\n",
      " xcom_ctrl          33 - 0000_0000_0000_0000_0000_0000_0010_0001\n",
      "  xcom_cfg           0 - 0000_0000_0000_0000_0000_0000_0000_0000\n",
      "   axi_dt1           4 - 0000_0000_0000_0000_0000_0000_0000_0100\n",
      "   axi_dt2           0 - 0000_0000_0000_0000_0000_0000_0000_0000\n",
      "  axi_addr           0 - 0000_0000_0000_0000_0000_0000_0000_0000\n",
      "  board_id           0 - 0000_0000_0000_0000_0000_0000_0000_0000\n",
      "      flag           0 - 0000_0000_0000_0000_0000_0000_0000_0000\n",
      "       dt1           0 - 0000_0000_0000_0000_0000_0000_0000_0000\n",
      "       dt2           0 - 0000_0000_0000_0000_0000_0000_0000_0000\n",
      "       mem           0 - 0000_0000_0000_0000_0000_0000_0000_0000\n",
      "     rx_dt           0 - 0000_0000_0000_0000_0000_0000_0000_0000\n",
      "     tx_dt           0 - 0000_0000_0000_0000_0000_0000_0000_0000\n",
      "    status     4915200 - 0000_0000_0100_1011_0000_0000_0000_0000\n",
      "     debug           0 - 0000_0000_0000_0000_0000_0000_0000_0000\n"
     ]
    }
   ],
   "source": [
    "soc.xcom_axil_slv_0.print_axi_regs()\n",
    "soc.xcom_1.print_axi_regs()\n",
    "soc.xcom_axil_slv_0.clear_flag(4)\n",
    "soc.xcom_axil_slv_0.print_axi_regs()\n",
    "soc.xcom_1.print_axi_regs()"
   ]
  },
  {
   "cell_type": "code",
   "execution_count": 59,
   "id": "cd1f4ae7-acb6-4c88-a5d5-50d757c6eed8",
   "metadata": {},
   "outputs": [
    {
     "name": "stdout",
     "output_type": "stream",
     "text": [
      "---------------------------------------------\n",
      "--- AXI Registers\n",
      " xcom_ctrl           1 - 0000_0000_0000_0000_0000_0000_0000_0001\n",
      "  xcom_cfg           0 - 0000_0000_0000_0000_0000_0000_0000_0000\n",
      "   axi_dt1           4 - 0000_0000_0000_0000_0000_0000_0000_0100\n",
      "   axi_dt2           1 - 0000_0000_0000_0000_0000_0000_0000_0001\n",
      "  axi_addr           0 - 0000_0000_0000_0000_0000_0000_0000_0000\n",
      "  board_id           4 - 0000_0000_0000_0000_0000_0000_0000_0100\n",
      "      flag           0 - 0000_0000_0000_0000_0000_0000_0000_0000\n",
      "       dt1           0 - 0000_0000_0000_0000_0000_0000_0000_0000\n",
      "       dt2           0 - 0000_0000_0000_0000_0000_0000_0000_0000\n",
      "       mem           0 - 0000_0000_0000_0000_0000_0000_0000_0000\n",
      "     rx_dt           1 - 0000_0000_0000_0000_0000_0000_0000_0001\n",
      "     tx_dt           1 - 0000_0000_0000_0000_0000_0000_0000_0001\n",
      "    status      589824 - 0000_0000_0000_1001_0000_0000_0000_0000\n",
      "     debug  1082590208 - 0100_0000_1000_0111_0000_0100_0000_0000\n",
      "---------------------------------------------\n",
      "--- AXI Registers\n",
      " xcom_ctrl          33 - 0000_0000_0000_0000_0000_0000_0010_0001\n",
      "  xcom_cfg           0 - 0000_0000_0000_0000_0000_0000_0000_0000\n",
      "   axi_dt1           4 - 0000_0000_0000_0000_0000_0000_0000_0100\n",
      "   axi_dt2           0 - 0000_0000_0000_0000_0000_0000_0000_0000\n",
      "  axi_addr           0 - 0000_0000_0000_0000_0000_0000_0000_0000\n",
      "  board_id           0 - 0000_0000_0000_0000_0000_0000_0000_0000\n",
      "      flag           0 - 0000_0000_0000_0000_0000_0000_0000_0000\n",
      "       dt1           0 - 0000_0000_0000_0000_0000_0000_0000_0000\n",
      "       dt2           0 - 0000_0000_0000_0000_0000_0000_0000_0000\n",
      "       mem           0 - 0000_0000_0000_0000_0000_0000_0000_0000\n",
      "     rx_dt           1 - 0000_0000_0000_0000_0000_0000_0000_0001\n",
      "     tx_dt           0 - 0000_0000_0000_0000_0000_0000_0000_0000\n",
      "    status     4915200 - 0000_0000_0100_1011_0000_0000_0000_0000\n",
      "     debug           0 - 0000_0000_0000_0000_0000_0000_0000_0000\n",
      "---------------------------------------------\n",
      "--- AXI Registers\n",
      " xcom_ctrl           3 - 0000_0000_0000_0000_0000_0000_0000_0011\n",
      "  xcom_cfg           0 - 0000_0000_0000_0000_0000_0000_0000_0000\n",
      "   axi_dt1           4 - 0000_0000_0000_0000_0000_0000_0000_0100\n",
      "   axi_dt2           1 - 0000_0000_0000_0000_0000_0000_0000_0001\n",
      "  axi_addr           0 - 0000_0000_0000_0000_0000_0000_0000_0000\n",
      "  board_id           4 - 0000_0000_0000_0000_0000_0000_0000_0100\n",
      "      flag           0 - 0000_0000_0000_0000_0000_0000_0000_0000\n",
      "       dt1           0 - 0000_0000_0000_0000_0000_0000_0000_0000\n",
      "       dt2           0 - 0000_0000_0000_0000_0000_0000_0000_0000\n",
      "       mem           0 - 0000_0000_0000_0000_0000_0000_0000_0000\n",
      "     rx_dt           0 - 0000_0000_0000_0000_0000_0000_0000_0000\n",
      "     tx_dt           1 - 0000_0000_0000_0000_0000_0000_0000_0001\n",
      "    status      589824 - 0000_0000_0000_1001_0000_0000_0000_0000\n",
      "     debug  1080103936 - 0100_0000_0110_0001_0001_0100_0000_0000\n",
      "---------------------------------------------\n",
      "--- AXI Registers\n",
      " xcom_ctrl          33 - 0000_0000_0000_0000_0000_0000_0010_0001\n",
      "  xcom_cfg           0 - 0000_0000_0000_0000_0000_0000_0000_0000\n",
      "   axi_dt1           4 - 0000_0000_0000_0000_0000_0000_0000_0100\n",
      "   axi_dt2           0 - 0000_0000_0000_0000_0000_0000_0000_0000\n",
      "  axi_addr           0 - 0000_0000_0000_0000_0000_0000_0000_0000\n",
      "  board_id           0 - 0000_0000_0000_0000_0000_0000_0000_0000\n",
      "      flag           0 - 0000_0000_0000_0000_0000_0000_0000_0000\n",
      "       dt1           0 - 0000_0000_0000_0000_0000_0000_0000_0000\n",
      "       dt2           0 - 0000_0000_0000_0000_0000_0000_0000_0000\n",
      "       mem           0 - 0000_0000_0000_0000_0000_0000_0000_0000\n",
      "     rx_dt           0 - 0000_0000_0000_0000_0000_0000_0000_0000\n",
      "     tx_dt           0 - 0000_0000_0000_0000_0000_0000_0000_0000\n",
      "    status     4915200 - 0000_0000_0100_1011_0000_0000_0000_0000\n",
      "     debug           0 - 0000_0000_0000_0000_0000_0000_0000_0000\n"
     ]
    }
   ],
   "source": [
    "soc.xcom_axil_slv_0.print_axi_regs()\n",
    "soc.xcom_1.print_axi_regs()\n",
    "soc.xcom_axil_slv_0.set_flag(4)\n",
    "soc.xcom_axil_slv_0.print_axi_regs()\n",
    "soc.xcom_1.print_axi_regs()"
   ]
  },
  {
   "cell_type": "code",
   "execution_count": 12,
   "id": "cc495ad0-06fa-47b9-a2ef-2d9fa38237fb",
   "metadata": {},
   "outputs": [
    {
     "name": "stdout",
     "output_type": "stream",
     "text": [
      "00000000000000000000000000000000\n",
      "---------------------------------------------\n",
      "--- AXI XCOM Register STATUS\n",
      " tx_st     : 00\n",
      " c_cmd_st  : 00\n",
      " x_cmd_st  : 00\n",
      " rx_st[0]  : 00000\n",
      " rx_st[1]  : 00000\n",
      " tx_ready  : 0\n",
      " board_id  : 0000\n",
      "0 00000000000000000000000000000000\n",
      "---------------------------------------------\n",
      "--- AXI XCOM DEBUG\n",
      " cmd_loc_req_i : 0\n",
      " cmd_loc_ack   : 0\n",
      " loc_set_id    : 0\n",
      " loc_wflg      : 0\n",
      " loc_wreg      : 0\n",
      " loc_wmem      : 0\n",
      " cmd_net_req_i : 0\n",
      " cmd_net_ack   : 0\n",
      " cmd_op_i      : 00000000\n",
      " rx_cmd_op     : 0000\n",
      " tx_auto_id    : 0\n",
      " rx_no_dt      : 0\n",
      " rx_wflg       : 0\n",
      " rx_wreg       : 0\n",
      " rx_wmem       : 0\n",
      " rx_cmd_id     : 000\n",
      " cfg_i         : 0000\n",
      "---------------------------------------------\n",
      "--- AXI XCOM RX_DT\n",
      "rx_dt            2 -  00000000000000000000000000000010\n",
      "---------------------------------------------\n",
      "--- AXI XCOM TX_DT\n",
      "tx_dt            0 -  00000000000000000000000000000000\n"
     ]
    }
   ],
   "source": [
    "#Board 6 to board 14\n",
    "soc.xcom_axil_slv_0.run_cmd(7, 5, 2)\n",
    "soc.xcom_1.print_status()\n",
    "soc.xcom_1.print_debug()"
   ]
  },
  {
   "cell_type": "markdown",
   "id": "3b245d8a-3cb9-4e3d-9354-0dfd6b4858a5",
   "metadata": {},
   "source": [
    "# soc.xcom_1.run_cmd(2, 4, 0)\n",
    "soc.xcom_1.print_status()\n",
    "soc.xcom_1.print_debug()"
   ]
  },
  {
   "cell_type": "markdown",
   "id": "3b5c3547-1229-451f-a466-47e8012f8b72",
   "metadata": {},
   "source": [
    "#### "
   ]
  },
  {
   "cell_type": "code",
   "execution_count": null,
   "id": "e94c7e72-a6cd-4d11-9d73-dbfe32b88c87",
   "metadata": {},
   "outputs": [],
   "source": [
    "for i in range(1,16):\n",
    "    soc.xcom_0.xcom_cfg = i\n",
    "    soc.xcom_0.send_byte(34, 15, 1)\n",
    "    soc.xcom_0.print_status()\n",
    "    soc.xcom_1.print_status()"
   ]
  },
  {
   "cell_type": "code",
   "execution_count": null,
   "id": "aa3d4c35-abbb-47bc-bcb4-bb7c43341ba8",
   "metadata": {},
   "outputs": [],
   "source": [
    "soc.xcom_0.print_status()\n",
    "soc.xcom_1.print_status()"
   ]
  },
  {
   "cell_type": "code",
   "execution_count": null,
   "id": "231b50d8-539f-43bc-8e14-d87a59f74211",
   "metadata": {},
   "outputs": [],
   "source": [
    "soc.xcom_0.set_local_id(1)\n",
    "#soc.xcom_1.print_axi_regs()\n",
    "soc.xcom_0.print_status()\n",
    "soc.xcom_0.print_debug()\n",
    "soc.xcom_1.set_local_id(2)\n",
    "soc.xcom_1.print_status()\n",
    "soc.xcom_1.print_debug()\n",
    "#soc.xcom_1.auto_id()\n",
    "#soc.xcom_1.run_cmd(16,7,7)"
   ]
  },
  {
   "cell_type": "code",
   "execution_count": null,
   "id": "dca95359-28e4-4943-aefe-36cf6290a6d0",
   "metadata": {},
   "outputs": [],
   "source": [
    "soc.xcom_0.xcom_cfg = 2\n",
    "soc.xcom_0.send_byte(34, 3, 2)\n",
    "soc.xcom_0.print_axi_regs()\n",
    "soc.xcom_0.print_status()\n",
    "soc.xcom_0.print_debug()\n",
    "soc.xcom_1.print_axi_regs()\n",
    "soc.xcom_1.print_status()\n",
    "soc.xcom_1.print_debug()\n",
    "#time.sleep(1)\n",
    "#soc.xcom_1.print_axi_regs()"
   ]
  },
  {
   "cell_type": "code",
   "execution_count": null,
   "id": "a4bd0db8",
   "metadata": {
    "scrolled": true,
    "tags": []
   },
   "outputs": [],
   "source": [
    "soc.xcom_0.xcom_cfg = 2\n",
    "#soc.xcom_0.set_flag(3)\n",
    "#print(soc.xcom_0.xcom_cfg)\n",
    "soc.xcom_0.print_status()\n",
    "#soc.xcom_0.print_debug()\n",
    "soc.xcom_1.print_status()\n",
    "#soc.xcom_1.print_debug()\n",
    "#soc.xcom_0.print_dt()\n",
    "#soc.xcom_0.print_axi_regs()"
   ]
  },
  {
   "cell_type": "code",
   "execution_count": null,
   "id": "dcfb368d",
   "metadata": {},
   "outputs": [],
   "source": [
    "soc.xcom_0.print_status()\n",
    "soc.xcom_1.print_status()"
   ]
  },
  {
   "cell_type": "code",
   "execution_count": null,
   "id": "8570b1f8",
   "metadata": {},
   "outputs": [],
   "source": [
    "soc.xcom_0.xcom_cfg = 10\n",
    "soc.xcom_0.print_status()\n",
    "soc.xcom_1.print_status()\n",
    "soc.xcom_0.auto_id()\n",
    "soc.xcom_1.auto_id()\n",
    "soc.xcom_0.print_status()\n",
    "soc.xcom_1.print_status()\n",
    "\n",
    "soc.xcom_0.xcom_cfg = 2\n",
    "soc.xcom_0.print_status()\n",
    "soc.xcom_1.print_status()\n",
    "soc.xcom_0.auto_id()\n",
    "soc.xcom_1.auto_id()\n",
    "soc.xcom_0.print_status()\n",
    "soc.xcom_1.print_status()\n",
    "soc.xcom_0.print_axi_regs()\n",
    "soc.xcom_1.print_axi_regs()"
   ]
  },
  {
   "cell_type": "code",
   "execution_count": null,
   "id": "980be341",
   "metadata": {},
   "outputs": [],
   "source": [
    "soc.xcom_0.xcom_cfg = 10\n",
    "soc.xcom_0.print_status()\n",
    "soc.xcom_0.print_debug()\n",
    "soc.xcom_0.print_axi_regs()"
   ]
  },
  {
   "cell_type": "code",
   "execution_count": 101,
   "id": "4a64d04e",
   "metadata": {},
   "outputs": [
    {
     "ename": "AttributeError",
     "evalue": "Could not find IP or hierarchy xcom_0 in overlay",
     "output_type": "error",
     "traceback": [
      "\u001b[0;31m---------------------------------------------------------------------------\u001b[0m",
      "\u001b[0;31mAttributeError\u001b[0m                            Traceback (most recent call last)",
      "Input \u001b[0;32mIn [101]\u001b[0m, in \u001b[0;36m<cell line: 1>\u001b[0;34m()\u001b[0m\n\u001b[0;32m----> 1\u001b[0m \u001b[43msoc\u001b[49m\u001b[38;5;241;43m.\u001b[39;49m\u001b[43mxcom_0\u001b[49m\u001b[38;5;241m.\u001b[39msend_byte(\u001b[38;5;241m34\u001b[39m, \u001b[38;5;241m3\u001b[39m, \u001b[38;5;241m1\u001b[39m)\n\u001b[1;32m      2\u001b[0m soc\u001b[38;5;241m.\u001b[39mxcom_0\u001b[38;5;241m.\u001b[39mprint_axi_regs()\n\u001b[1;32m      3\u001b[0m soc\u001b[38;5;241m.\u001b[39mxcom_1\u001b[38;5;241m.\u001b[39mprint_axi_regs()\n",
      "File \u001b[0;32m/usr/local/share/pynq-venv/lib/python3.10/site-packages/pynq/overlay.py:363\u001b[0m, in \u001b[0;36mOverlay.__getattr__\u001b[0;34m(self, key)\u001b[0m\n\u001b[1;32m    358\u001b[0m \u001b[38;5;124;03m\"\"\"Overload of __getattr__ to return a driver for an IP or\u001b[39;00m\n\u001b[1;32m    359\u001b[0m \u001b[38;5;124;03mhierarchy. Throws an `RuntimeError` if the overlay is not loaded.\u001b[39;00m\n\u001b[1;32m    360\u001b[0m \n\u001b[1;32m    361\u001b[0m \u001b[38;5;124;03m\"\"\"\u001b[39;00m\n\u001b[1;32m    362\u001b[0m \u001b[38;5;28;01mif\u001b[39;00m \u001b[38;5;28mself\u001b[39m\u001b[38;5;241m.\u001b[39mis_loaded():\n\u001b[0;32m--> 363\u001b[0m     \u001b[38;5;28;01mreturn\u001b[39;00m \u001b[38;5;28;43mgetattr\u001b[39;49m\u001b[43m(\u001b[49m\u001b[38;5;28;43mself\u001b[39;49m\u001b[38;5;241;43m.\u001b[39;49m\u001b[43m_ip_map\u001b[49m\u001b[43m,\u001b[49m\u001b[43m \u001b[49m\u001b[43mkey\u001b[49m\u001b[43m)\u001b[49m\n\u001b[1;32m    364\u001b[0m \u001b[38;5;28;01melse\u001b[39;00m:\n\u001b[1;32m    365\u001b[0m     \u001b[38;5;28;01mraise\u001b[39;00m \u001b[38;5;167;01mRuntimeError\u001b[39;00m(\u001b[38;5;124m\"\u001b[39m\u001b[38;5;124mOverlay not currently loaded\u001b[39m\u001b[38;5;124m\"\u001b[39m)\n",
      "File \u001b[0;32m/usr/local/share/pynq-venv/lib/python3.10/site-packages/pynq/overlay.py:931\u001b[0m, in \u001b[0;36m_IPMap.__getattr__\u001b[0;34m(self, key)\u001b[0m\n\u001b[1;32m    929\u001b[0m     \u001b[38;5;28;01mreturn\u001b[39;00m mem\n\u001b[1;32m    930\u001b[0m \u001b[38;5;28;01melse\u001b[39;00m:\n\u001b[0;32m--> 931\u001b[0m     \u001b[38;5;28;01mraise\u001b[39;00m \u001b[38;5;167;01mAttributeError\u001b[39;00m(\n\u001b[1;32m    932\u001b[0m         \u001b[38;5;124m\"\u001b[39m\u001b[38;5;124mCould not find IP or hierarchy \u001b[39m\u001b[38;5;132;01m{}\u001b[39;00m\u001b[38;5;124m in overlay\u001b[39m\u001b[38;5;124m\"\u001b[39m\u001b[38;5;241m.\u001b[39mformat(key)\n\u001b[1;32m    933\u001b[0m     )\n",
      "\u001b[0;31mAttributeError\u001b[0m: Could not find IP or hierarchy xcom_0 in overlay"
     ]
    }
   ],
   "source": [
    "soc.xcom_0.send_byte(34, 3, 1)\n",
    "soc.xcom_0.print_axi_regs()\n",
    "soc.xcom_1.print_axi_regs()"
   ]
  },
  {
   "cell_type": "code",
   "execution_count": 21,
   "id": "df5b206d",
   "metadata": {},
   "outputs": [
    {
     "name": "stdout",
     "output_type": "stream",
     "text": [
      "---------------------------------------------\n",
      "--- AXI Registers\n",
      " xcom_ctrl           5 - 0000_0000_0000_0000_0000_0000_0000_0101\n",
      "  xcom_cfg          10 - 0000_0000_0000_0000_0000_0000_0000_1010\n",
      "   axi_dt1           3 - 0000_0000_0000_0000_0000_0000_0000_0011\n",
      "   axi_dt2          34 - 0000_0000_0000_0000_0000_0000_0010_0010\n",
      "  axi_addr           0 - 0000_0000_0000_0000_0000_0000_0000_0000\n",
      "  board_id           1 - 0000_0000_0000_0000_0000_0000_0000_0001\n",
      "      flag           0 - 0000_0000_0000_0000_0000_0000_0000_0000\n",
      "       dt1           0 - 0000_0000_0000_0000_0000_0000_0000_0000\n",
      "       dt2           0 - 0000_0000_0000_0000_0000_0000_0000_0000\n",
      "       mem           0 - 0000_0000_0000_0000_0000_0000_0000_0000\n",
      "     rx_dt           0 - 0000_0000_0000_0000_0000_0000_0000_0000\n",
      "     tx_dt          34 - 0000_0000_0000_0000_0000_0000_0010_0010\n",
      "    status       12418 - 0000_0000_0000_0000_0011_0000_1000_0010\n",
      "     debug           0 - 0000_0000_0000_0000_0000_0000_0000_0000\n",
      "---------------------------------------------\n",
      "--- AXI Registers\n",
      " xcom_ctrl          19 - 0000_0000_0000_0000_0000_0000_0001_0011\n",
      "  xcom_cfg           0 - 0000_0000_0000_0000_0000_0000_0000_0000\n",
      "   axi_dt1           0 - 0000_0000_0000_0000_0000_0000_0000_0000\n",
      "   axi_dt2           0 - 0000_0000_0000_0000_0000_0000_0000_0000\n",
      "  axi_addr           0 - 0000_0000_0000_0000_0000_0000_0000_0000\n",
      "  board_id           1 - 0000_0000_0000_0000_0000_0000_0000_0001\n",
      "      flag           0 - 0000_0000_0000_0000_0000_0000_0000_0000\n",
      "       dt1           0 - 0000_0000_0000_0000_0000_0000_0000_0000\n",
      "       dt2           0 - 0000_0000_0000_0000_0000_0000_0000_0000\n",
      "       mem           0 - 0000_0000_0000_0000_0000_0000_0000_0000\n",
      "     rx_dt           0 - 0000_0000_0000_0000_0000_0000_0000_0000\n",
      "     tx_dt           0 - 0000_0000_0000_0000_0000_0000_0000_0000\n",
      "    status    31469698 - 0000_0001_1110_0000_0011_0000_1000_0010\n",
      "     debug           0 - 0000_0000_0000_0000_0000_0000_0000_0000\n"
     ]
    }
   ],
   "source": [
    "soc.xcom_0.print_axi_regs()\n",
    "soc.xcom_1.print_axi_regs()"
   ]
  },
  {
   "cell_type": "code",
   "execution_count": 13,
   "id": "4aacde98",
   "metadata": {},
   "outputs": [],
   "source": [
    "#soc.xcom_1.send_byte(1023, 1, 12)\n",
    "#socxcom_1.send_word(-1, 1, 1)\n",
    "soc.xcom_0.update_byte(255, 3)\n",
    "soc.xcom_1.update_byte(138, 7)"
   ]
  },
  {
   "cell_type": "code",
   "execution_count": 14,
   "id": "996f2269",
   "metadata": {},
   "outputs": [
    {
     "name": "stdout",
     "output_type": "stream",
     "text": [
      "---------------------------------------------\n",
      "--- AXI Registers\n",
      " xcom_ctrl          21 - 0000_0000_0000_0000_0000_0000_0001_0101\n",
      "  xcom_cfg           2 - 0000_0000_0000_0000_0000_0000_0000_0010\n",
      "   axi_dt1           3 - 0000_0000_0000_0000_0000_0000_0000_0011\n",
      "   axi_dt2         255 - 0000_0000_0000_0000_0000_0000_1111_1111\n",
      "  axi_addr           0 - 0000_0000_0000_0000_0000_0000_0000_0000\n",
      "  board_id           1 - 0000_0000_0000_0000_0000_0000_0000_0001\n",
      "      flag           0 - 0000_0000_0000_0000_0000_0000_0000_0000\n",
      "       dt1           0 - 0000_0000_0000_0000_0000_0000_0000_0000\n",
      "       dt2           0 - 0000_0000_0000_0000_0000_0000_0000_0000\n",
      "       mem           0 - 0000_0000_0000_0000_0000_0000_0000_0000\n",
      "     rx_dt           0 - 0000_0000_0000_0000_0000_0000_0000_0000\n",
      "     tx_dt         255 - 0000_0000_0000_0000_0000_0000_1111_1111\n",
      "    status    14692482 - 0000_0000_1110_0000_0011_0000_1000_0010\n",
      "     debug           0 - 0000_0000_0000_0000_0000_0000_0000_0000\n",
      "---------------------------------------------\n",
      "--- AXI Registers\n",
      " xcom_ctrl          21 - 0000_0000_0000_0000_0000_0000_0001_0101\n",
      "  xcom_cfg           0 - 0000_0000_0000_0000_0000_0000_0000_0000\n",
      "   axi_dt1           7 - 0000_0000_0000_0000_0000_0000_0000_0111\n",
      "   axi_dt2         138 - 0000_0000_0000_0000_0000_0000_1000_1010\n",
      "  axi_addr           0 - 0000_0000_0000_0000_0000_0000_0000_0000\n",
      "  board_id           1 - 0000_0000_0000_0000_0000_0000_0000_0001\n",
      "      flag           0 - 0000_0000_0000_0000_0000_0000_0000_0000\n",
      "       dt1           0 - 0000_0000_0000_0000_0000_0000_0000_0000\n",
      "       dt2           0 - 0000_0000_0000_0000_0000_0000_0000_0000\n",
      "       mem           0 - 0000_0000_0000_0000_0000_0000_0000_0000\n",
      "     rx_dt           0 - 0000_0000_0000_0000_0000_0000_0000_0000\n",
      "     tx_dt         138 - 0000_0000_0000_0000_0000_0000_1000_1010\n",
      "    status     2109570 - 0000_0000_0010_0000_0011_0000_1000_0010\n",
      "     debug           0 - 0000_0000_0000_0000_0000_0000_0000_0000\n"
     ]
    }
   ],
   "source": [
    "soc.xcom_0.print_axi_regs()\n",
    "soc.xcom_1.print_axi_regs()"
   ]
  },
  {
   "cell_type": "code",
   "execution_count": 15,
   "id": "edc1d779",
   "metadata": {},
   "outputs": [],
   "source": [
    "soc.xcom_0.xcom_cfg = 3"
   ]
  },
  {
   "cell_type": "code",
   "execution_count": 23,
   "id": "3efd1c24",
   "metadata": {},
   "outputs": [],
   "source": [
    "soc.xcom_0.run_cmd(14, 14, 0x5000)"
   ]
  },
  {
   "cell_type": "code",
   "execution_count": 73,
   "id": "2fbb35dc",
   "metadata": {},
   "outputs": [
    {
     "name": "stdout",
     "output_type": "stream",
     "text": [
      "addr  xcom_0_mem   xcom_1_mem  \n",
      "  0            0            0\n",
      "  1            0            0\n",
      "  2            0            0\n",
      "  3            0            0\n",
      "  4            0            0\n",
      "  5            0            0\n"
     ]
    }
   ],
   "source": [
    "print(\"{0:5s} {2:12s} {4:12s}\".format('addr','\\t','xcom_0_mem','\\t','xcom_1_mem'))\n",
    "for i in range(6):\n",
    "    soc.xcom_axil_slv_0.axi_addr = i\n",
    "    soc.xcom_1.axi_addr = i\n",
    "    print(\"{0:3d} {2:12d} {4:12d}\".format(soc.xcom_axil_slv_0.axi_addr, '\\t', soc.xcom_axil_slv_0.mem, '\\t', soc.xcom_1.mem))\n",
    "    soc.xcom_axil_slv_0.me"
   ]
  },
  {
   "cell_type": "code",
   "execution_count": 18,
   "id": "c9ae97fc",
   "metadata": {},
   "outputs": [],
   "source": [
    "soc.xcom_1.run_cmd(14, 2, 32)"
   ]
  },
  {
   "cell_type": "code",
   "execution_count": 31,
   "id": "0d3a1ba7",
   "metadata": {},
   "outputs": [
    {
     "name": "stdout",
     "output_type": "stream",
     "text": [
      "addr  xcom_0_mem   xcom_1_mem  \n",
      "  0            0            0\n",
      "  1            0            0\n",
      "  2            0            0\n",
      "  3            0            0\n",
      "  4            0            0\n",
      "  5            0            0\n",
      "  6            0            0\n",
      "  7            0            0\n",
      "  8            0            0\n",
      "  9            0            0\n",
      " 10            0            0\n",
      " 11            0            0\n",
      " 12            0            0\n",
      " 13            0            0\n",
      " 14            0            0\n",
      " 15            0            0\n"
     ]
    }
   ],
   "source": [
    "print(\"{0:5s} {2:12s} {4:12s}\".format('addr','\\t','xcom_0_mem','\\t','xcom_1_mem'))\n",
    "for i in range(16):\n",
    "    soc.xcom_axil_slv_0.axi_addr = i\n",
    "    soc.xcom_1.axi_addr = i\n",
    "    print(\"{0:3d} {2:12d} {4:12d}\".format(soc.xcom_axil_slv_0.axi_addr, '\\t', soc.xcom_axil_slv_0.mem, '\\t', soc.xcom_1.mem))\n",
    "    soc.xcom_axil_slv_0.mem"
   ]
  },
  {
   "cell_type": "code",
   "execution_count": 26,
   "id": "059a53da",
   "metadata": {},
   "outputs": [],
   "source": [
    "soc.xcom_axil_slv_0.xcom_cfg = 0"
   ]
  },
  {
   "cell_type": "code",
   "execution_count": 27,
   "id": "3ab16018",
   "metadata": {},
   "outputs": [
    {
     "name": "stdout",
     "output_type": "stream",
     "text": [
      "error xcom_0 to xcom_0 - sent, received 3103495396 0\n",
      "Final Values\n",
      "addr  xcom_0_mem   xcom_1_mem  \n",
      "  0            0            0\n",
      "  1            0            0\n",
      "  2            0            0\n",
      "  3            0            0\n",
      "  4            0            0\n",
      "  5            0            0\n"
     ]
    }
   ],
   "source": [
    "# write random 32 bit number to memory to self and other xcom\n",
    "# ~50 seconds for 100k loops\n",
    "num_loops = 10000\n",
    "#xcom_0 to xcom_0\n",
    "for i in range(num_loops):\n",
    "    soc.xcom_axil_slv_0.axi_addr = 2\n",
    "    random_int = random.randint(0,4294867295)\n",
    "    soc.xcom_axil_slv_0.run_cmd(14, 2, random_int)\n",
    "    readback=soc.xcom_axil_slv_0.mem\n",
    "    if readback != random_int:\n",
    "        print('error xcom_0 to xcom_0 - sent, received',random_int,readback)\n",
    "        break\n",
    "    #xcom_1 to xcom_1\n",
    "    soc.xcom_1.axi_addr = 3\n",
    "    random_int = random.randint(0,4294867295)\n",
    "    soc.xcom_1.run_cmd(14, 3, random_int)\n",
    "    readback=soc.xcom_1.mem\n",
    "    if readback != random_int:\n",
    "        print('error xcom_1 to xcom_1 - sent, received',random_int,readback)\n",
    "        break\n",
    "    #xcom_0 to xcom_1\n",
    "    soc.xcom_1.axi_addr = 2\n",
    "    random_int = random.randint(0,4294867295)\n",
    "    soc.xcom_axil_slv_0.run_cmd(14, 3, random_int)\n",
    "    readback=soc.xcom_1.mem\n",
    "    if readback != random_int:\n",
    "        print('error xcom_0 to xcom_1 - sent, received',random_int,readback)\n",
    "        break\n",
    "    #xcom_1 to xcom_0\n",
    "    soc.xcom_axil_slv_0.axi_addr = 3\n",
    "    random_int = random.randint(0,4294867295)\n",
    "    soc.xcom_1.run_cmd(14, 2, random_int)\n",
    "    readback=soc.xcom_axil_slv_0.mem\n",
    "    if readback != random_int:\n",
    "        print('error xcom_1 to xcom_0 - sent, received',random_int,readback)\n",
    "        break\n",
    "        \n",
    "print('Final Values')\n",
    "print(\"{0:5s} {2:12s} {4:12s}\".format('addr','\\t','xcom_0_mem','\\t','xcom_1_mem'))\n",
    "for i in range(6):\n",
    "    soc.xcom_axil_slv_0.axi_addr = i\n",
    "    soc.xcom_1.axi_addr = i\n",
    "    print(\"{0:3d} {2:12d} {4:12d}\".format(soc.xcom_axil_slv_0.axi_addr, '\\t', soc.xcom_axil_slv_0.mem, '\\t', soc.xcom_1.mem))\n",
    "    soc.xcom_axil_slv_0.mem"
   ]
  },
  {
   "cell_type": "code",
   "execution_count": 28,
   "id": "361fbf06",
   "metadata": {},
   "outputs": [],
   "source": [
    "#WRITE MEM\n",
    "soc.xcom_axil_slv_0.run_cmd(19, 4, 4)"
   ]
  },
  {
   "cell_type": "code",
   "execution_count": 78,
   "id": "b71f2b07",
   "metadata": {},
   "outputs": [
    {
     "name": "stdout",
     "output_type": "stream",
     "text": [
      "---------------------------------------------\n",
      "--- AXI Registers\n",
      " xcom_ctrl          39 - 0000_0000_0000_0000_0000_0000_0010_0111\n",
      "  xcom_cfg           2 - 0000_0000_0000_0000_0000_0000_0000_0010\n",
      "   axi_dt1           4 - 0000_0000_0000_0000_0000_0000_0000_0100\n",
      "   axi_dt2           4 - 0000_0000_0000_0000_0000_0000_0000_0100\n",
      "  axi_addr           5 - 0000_0000_0000_0000_0000_0000_0000_0101\n",
      "  board_id           1 - 0000_0000_0000_0000_0000_0000_0000_0001\n",
      "      flag           0 - 0000_0000_0000_0000_0000_0000_0000_0000\n",
      "       dt1           0 - 0000_0000_0000_0000_0000_0000_0000_0000\n",
      "       dt2           0 - 0000_0000_0000_0000_0000_0000_0000_0000\n",
      "       mem           0 - 0000_0000_0000_0000_0000_0000_0000_0000\n",
      "     rx_dt           4 - 0000_0000_0000_0000_0000_0000_0000_0100\n",
      "     tx_dt           4 - 0000_0000_0000_0000_0000_0000_0000_0100\n",
      "    status      196608 - 0000_0000_0000_0011_0000_0000_0000_0000\n",
      "     debug  1091449888 - 0100_0001_0000_1110_0011_0100_0010_0000\n"
     ]
    }
   ],
   "source": [
    "### soc.qick_xcom_0.axi_addr = 2\n",
    "soc.xcom_axil_slv_0.print_axi_regs()"
   ]
  },
  {
   "cell_type": "code",
   "execution_count": 33,
   "id": "d58f4e5b",
   "metadata": {},
   "outputs": [
    {
     "name": "stdout",
     "output_type": "stream",
     "text": [
      "---------------------------------------------\n",
      "--- AXI Registers\n",
      " xcom_ctrl          39 - 0000_0000_0000_0000_0000_0000_0010_0111\n",
      "  xcom_cfg           0 - 0000_0000_0000_0000_0000_0000_0000_0000\n",
      "   axi_dt1           4 - 0000_0000_0000_0000_0000_0000_0000_0100\n",
      "   axi_dt2           4 - 0000_0000_0000_0000_0000_0000_0000_0100\n",
      "  axi_addr           2 - 0000_0000_0000_0000_0000_0000_0000_0010\n",
      "  board_id           1 - 0000_0000_0000_0000_0000_0000_0000_0001\n",
      "      flag           0 - 0000_0000_0000_0000_0000_0000_0000_0000\n",
      "       dt1           0 - 0000_0000_0000_0000_0000_0000_0000_0000\n",
      "       dt2           0 - 0000_0000_0000_0000_0000_0000_0000_0000\n",
      "       mem           0 - 0000_0000_0000_0000_0000_0000_0000_0000\n",
      "     rx_dt           0 - 0000_0000_0000_0000_0000_0000_0000_0000\n",
      "     tx_dt           4 - 0000_0000_0000_0000_0000_0000_0000_0100\n",
      "    status    27277376 - 0000_0001_1010_0000_0011_1000_0100_0000\n",
      "     debug           0 - 0000_0000_0000_0000_0000_0000_0000_0000\n"
     ]
    }
   ],
   "source": [
    "soc.xcom_0.axi_addr = 2\n",
    "soc.xcom_0.print_axi_regs()"
   ]
  },
  {
   "cell_type": "code",
   "execution_count": 79,
   "id": "c61a04a7",
   "metadata": {},
   "outputs": [
    {
     "name": "stdout",
     "output_type": "stream",
     "text": [
      "---------------------------------------------\n",
      "--- AXI Registers\n",
      " xcom_ctrl          19 - 0000_0000_0000_0000_0000_0000_0001_0011\n",
      "  xcom_cfg           2 - 0000_0000_0000_0000_0000_0000_0000_0010\n",
      "   axi_dt1           0 - 0000_0000_0000_0000_0000_0000_0000_0000\n",
      "   axi_dt2           0 - 0000_0000_0000_0000_0000_0000_0000_0000\n",
      "  axi_addr           4 - 0000_0000_0000_0000_0000_0000_0000_0100\n",
      "  board_id           0 - 0000_0000_0000_0000_0000_0000_0000_0000\n",
      "      flag           0 - 0000_0000_0000_0000_0000_0000_0000_0000\n",
      "       dt1           0 - 0000_0000_0000_0000_0000_0000_0000_0000\n",
      "       dt2           0 - 0000_0000_0000_0000_0000_0000_0000_0000\n",
      "       mem           0 - 0000_0000_0000_0000_0000_0000_0000_0000\n",
      "     rx_dt           4 - 0000_0000_0000_0000_0000_0000_0000_0100\n",
      "     tx_dt           0 - 0000_0000_0000_0000_0000_0000_0000_0000\n",
      "    status     2424832 - 0000_0000_0010_0101_0000_0000_0000_0000\n",
      "     debug           0 - 0000_0000_0000_0000_0000_0000_0000_0000\n"
     ]
    }
   ],
   "source": [
    "soc.xcom_1.axi_addr = 4\n",
    "soc.xcom_1.print_axi_regs()"
   ]
  },
  {
   "cell_type": "code",
   "execution_count": 80,
   "id": "bea2711f",
   "metadata": {},
   "outputs": [
    {
     "name": "stdout",
     "output_type": "stream",
     "text": [
      "---------------------------------------------\n",
      "--- AXI Registers\n",
      " xcom_ctrl           5 - 0000_0000_0000_0000_0000_0000_0000_0101\n",
      "  xcom_cfg           2 - 0000_0000_0000_0000_0000_0000_0000_0010\n",
      "   axi_dt1           0 - 0000_0000_0000_0000_0000_0000_0000_0000\n",
      "   axi_dt2  4294967295 - 1111_1111_1111_1111_1111_1111_1111_1111\n",
      "  axi_addr           5 - 0000_0000_0000_0000_0000_0000_0000_0101\n",
      "  board_id           1 - 0000_0000_0000_0000_0000_0000_0000_0001\n",
      "      flag           0 - 0000_0000_0000_0000_0000_0000_0000_0000\n",
      "       dt1           0 - 0000_0000_0000_0000_0000_0000_0000_0000\n",
      "       dt2           0 - 0000_0000_0000_0000_0000_0000_0000_0000\n",
      "       mem           0 - 0000_0000_0000_0000_0000_0000_0000_0000\n",
      "     rx_dt         255 - 0000_0000_0000_0000_0000_0000_1111_1111\n",
      "     tx_dt  4294967295 - 1111_1111_1111_1111_1111_1111_1111_1111\n",
      "    status      196608 - 0000_0000_0000_0011_0000_0000_0000_0000\n",
      "     debug  1082269712 - 0100_0000_1000_0010_0010_0000_0001_0000\n",
      "---------------------------------------------\n",
      "--- AXI Registers\n",
      " xcom_ctrl          19 - 0000_0000_0000_0000_0000_0000_0001_0011\n",
      "  xcom_cfg           2 - 0000_0000_0000_0000_0000_0000_0000_0010\n",
      "   axi_dt1           0 - 0000_0000_0000_0000_0000_0000_0000_0000\n",
      "   axi_dt2           0 - 0000_0000_0000_0000_0000_0000_0000_0000\n",
      "  axi_addr           4 - 0000_0000_0000_0000_0000_0000_0000_0100\n",
      "  board_id           0 - 0000_0000_0000_0000_0000_0000_0000_0000\n",
      "      flag           0 - 0000_0000_0000_0000_0000_0000_0000_0000\n",
      "       dt1           0 - 0000_0000_0000_0000_0000_0000_0000_0000\n",
      "       dt2           0 - 0000_0000_0000_0000_0000_0000_0000_0000\n",
      "       mem           0 - 0000_0000_0000_0000_0000_0000_0000_0000\n",
      "     rx_dt         255 - 0000_0000_0000_0000_0000_0000_1111_1111\n",
      "     tx_dt           0 - 0000_0000_0000_0000_0000_0000_0000_0000\n",
      "    status     2424832 - 0000_0000_0010_0101_0000_0000_0000_0000\n",
      "     debug           0 - 0000_0000_0000_0000_0000_0000_0000_0000\n"
     ]
    }
   ],
   "source": [
    "soc.xcom_axil_slv_0.send_byte(-1, 0, 1)\n",
    "soc.xcom_axil_slv_0.print_axi_regs()\n",
    "soc.xcom_1.print_axi_regs()"
   ]
  },
  {
   "cell_type": "code",
   "execution_count": 81,
   "id": "b01ae914",
   "metadata": {},
   "outputs": [
    {
     "name": "stdout",
     "output_type": "stream",
     "text": [
      "---------------------------------------------\n",
      "--- AXI Registers\n",
      "     tproc_ctrl           0 - 0000_0000_0000_0000_0000_0000_0000_0000\n",
      "      tproc_cfg           0 - 0000_0000_0000_0000_0000_0000_0000_0000\n",
      "       mem_addr           0 - 0000_0000_0000_0000_0000_0000_0000_0000\n",
      "        mem_len           0 - 0000_0000_0000_0000_0000_0000_0000_0000\n",
      "       mem_dt_i           0 - 0000_0000_0000_0000_0000_0000_0000_0000\n",
      "      axi_w_dt1           0 - 0000_0000_0000_0000_0000_0000_0000_0000\n",
      "      axi_w_dt2           0 - 0000_0000_0000_0000_0000_0000_0000_0000\n",
      "       core_cfg           0 - 0000_0000_0000_0000_0000_0000_0000_0000\n",
      "     axi_dt_src           0 - 0000_0000_0000_0000_0000_0000_0000_0000\n",
      "       mem_dt_o           0 - 0000_0000_0000_0000_0000_0000_0000_0000\n",
      "      axi_r_dt1           0 - 0000_0000_0000_0000_0000_0000_0000_0000\n",
      "      axi_r_dt2           0 - 0000_0000_0000_0000_0000_0000_0000_0000\n",
      "       time_usr           0 - 0000_0000_0000_0000_0000_0000_0000_0000\n",
      "   tproc_status   251658308 - 0000_1111_0000_0000_0000_0000_0100_0100\n",
      "    tproc_debug          15 - 0000_0000_0000_0000_0000_0000_0000_1111\n"
     ]
    }
   ],
   "source": [
    "#soc.qick_processor_0.print_status()\n",
    "#soc.qick_processor_0.print_debug()\n",
    "soc.qick_processor_0.print_axi_regs()"
   ]
  },
  {
   "cell_type": "code",
   "execution_count": 82,
   "id": "42f6a3bf",
   "metadata": {},
   "outputs": [
    {
     "name": "stdout",
     "output_type": "stream",
     "text": [
      "---------------------------------------------\n",
      "--- AXI Registers\n",
      "     tproc_ctrl           0 - 0000_0000_0000_0000_0000_0000_0000_0000\n",
      "      tproc_cfg  4294967295 - 1111_1111_1111_1111_1111_1111_1111_1111\n",
      "       mem_addr           0 - 0000_0000_0000_0000_0000_0000_0000_0000\n",
      "        mem_len           0 - 0000_0000_0000_0000_0000_0000_0000_0000\n",
      "       mem_dt_i           0 - 0000_0000_0000_0000_0000_0000_0000_0000\n",
      "      axi_w_dt1           0 - 0000_0000_0000_0000_0000_0000_0000_0000\n",
      "      axi_w_dt2           0 - 0000_0000_0000_0000_0000_0000_0000_0000\n",
      "       core_cfg           0 - 0000_0000_0000_0000_0000_0000_0000_0000\n",
      "     axi_dt_src           0 - 0000_0000_0000_0000_0000_0000_0000_0000\n",
      "       mem_dt_o           0 - 0000_0000_0000_0000_0000_0000_0000_0000\n",
      "      axi_r_dt1           0 - 0000_0000_0000_0000_0000_0000_0000_0000\n",
      "      axi_r_dt2           0 - 0000_0000_0000_0000_0000_0000_0000_0000\n",
      "       time_usr           0 - 0000_0000_0000_0000_0000_0000_0000_0000\n",
      "   tproc_status   251658308 - 0000_1111_0000_0000_0000_0000_0100_0100\n",
      "    tproc_debug          15 - 0000_0000_0000_0000_0000_0000_0000_1111\n",
      "0\n",
      "---------------------------------------------\n",
      "--- AXI TPROC Register STATUS\n",
      "--- PROCESSOR -- \n",
      "Core_STATE      : 101 - C_RUN\n",
      "Core_EN         : 1\n",
      "Time_STATE      : 011 - T_INIT\n",
      "Time_EN         : 1\n",
      "----------------\n",
      "Core_Src_dt     : 00\n",
      "----------------\n",
      "Core Src  Flag  : 000\n",
      "--    C0  Flag  : 0\n",
      ".Internal Flag  : 0\n",
      ".Axi      Flag  : 0\n",
      ".External Flag  : 0\n",
      ".QNET     Flag  : 0\n",
      ".QCOM     Flag  : 0\n",
      ".QP1      Flag  : 0\n",
      ".Port_dt_new    : 0\n",
      "----------------\n",
      "div_dt_new      : 0\n",
      "qnet_dt_new     : 0\n",
      "qcom_dt_new     : 0\n",
      "qp1_dt_new      : 0\n",
      "qp2_dt_new      : 0\n",
      "div_rdy         : 1\n",
      "arith_rdy       : 1\n",
      "qnet_rdy        : 0\n",
      "qcom_rdy        : 0\n",
      "qp1_rdy         : 0\n",
      "qp2_rdy         : 0\n",
      "337279\n",
      "400485\n"
     ]
    }
   ],
   "source": [
    "soc.qick_processor_0.tproc_cfg = -1\n",
    "soc.qick_processor_0.print_axi_regs()\n",
    "print(soc.qick_processor_0.time_usr)\n",
    "soc.qick_processor_0.start()\n",
    "soc.qick_processor_0.print_status()\n",
    "print(soc.qick_processor_0.time_usr)\n",
    "soc.qick_processor_0.stop()\n",
    "print(soc.qick_processor_0.time_usr)"
   ]
  },
  {
   "cell_type": "code",
   "execution_count": 83,
   "id": "85210584",
   "metadata": {},
   "outputs": [
    {
     "name": "stdout",
     "output_type": "stream",
     "text": [
      "---------------------------------------------\n",
      "--- AXI TPROC Register STATUS\n",
      "--- PROCESSOR -- \n",
      "Core_STATE      : 100 - C_STOP\n",
      "Core_EN         : 0\n",
      "Time_STATE      : 100 - T_RUN\n",
      "Time_EN         : 0\n",
      "----------------\n",
      "Core_Src_dt     : 00\n",
      "----------------\n",
      "Core Src  Flag  : 000\n",
      "--    C0  Flag  : 0\n",
      ".Internal Flag  : 0\n",
      ".Axi      Flag  : 0\n",
      ".External Flag  : 0\n",
      ".QNET     Flag  : 0\n",
      ".QCOM     Flag  : 0\n",
      ".QP1      Flag  : 0\n",
      ".Port_dt_new    : 0\n",
      "----------------\n",
      "div_dt_new      : 0\n",
      "qnet_dt_new     : 0\n",
      "qcom_dt_new     : 0\n",
      "qp1_dt_new      : 0\n",
      "qp2_dt_new      : 0\n",
      "div_rdy         : 1\n",
      "arith_rdy       : 1\n",
      "qnet_rdy        : 0\n",
      "qcom_rdy        : 0\n",
      "qp1_rdy         : 0\n",
      "qp2_rdy         : 0\n"
     ]
    }
   ],
   "source": [
    "soc.qick_processor_0.print_status()"
   ]
  },
  {
   "cell_type": "code",
   "execution_count": 84,
   "id": "01a03d9c",
   "metadata": {},
   "outputs": [
    {
     "ename": "RuntimeError",
     "evalue": "DMA channel not started",
     "output_type": "error",
     "traceback": [
      "\u001b[0;31m---------------------------------------------------------------------------\u001b[0m",
      "\u001b[0;31mRuntimeError\u001b[0m                              Traceback (most recent call last)",
      "Input \u001b[0;32mIn [84]\u001b[0m, in \u001b[0;36m<cell line: 31>\u001b[0;34m()\u001b[0m\n\u001b[1;32m     25\u001b[0m p_txt, p_bin  \u001b[38;5;241m=\u001b[39m Assembler\u001b[38;5;241m.\u001b[39mstr_asm2bin(asm)\n\u001b[1;32m     27\u001b[0m \u001b[38;5;66;03m#soc.qick_processor_0.Load_PMEM(p_bin)\u001b[39;00m\n\u001b[1;32m     28\u001b[0m \u001b[38;5;66;03m#soc.tproc.Load_PMEM(p_bin)\u001b[39;00m\n\u001b[1;32m     29\u001b[0m \u001b[38;5;66;03m#soc.qick_processor_0.load_bin_program(p_bin,1)\u001b[39;00m\n\u001b[1;32m     30\u001b[0m \u001b[38;5;66;03m#soc.qick_processor_0.load_mem(p_bin, 'pmem')\u001b[39;00m\n\u001b[0;32m---> 31\u001b[0m \u001b[43msoc\u001b[49m\u001b[38;5;241;43m.\u001b[39;49m\u001b[43mqick_processor_0\u001b[49m\u001b[38;5;241;43m.\u001b[39;49m\u001b[43mload_mem\u001b[49m\u001b[43m(\u001b[49m\u001b[43mmem_sel\u001b[49m\u001b[38;5;241;43m=\u001b[39;49m\u001b[38;5;124;43m'\u001b[39;49m\u001b[38;5;124;43mpmem\u001b[39;49m\u001b[38;5;124;43m'\u001b[39;49m\u001b[43m,\u001b[49m\u001b[43m \u001b[49m\u001b[43mbuff_in\u001b[49m\u001b[38;5;241;43m=\u001b[39;49m\u001b[43mp_bin\u001b[49m\u001b[43m)\u001b[49m\n\u001b[1;32m     32\u001b[0m \u001b[38;5;66;03m# soc.tproc.load_mem(mem_sel='dmem', buff_in=np.zeros(100,dtype=np.int32))\u001b[39;00m\n\u001b[1;32m     34\u001b[0m soc\u001b[38;5;241m.\u001b[39mqick_processor_0\u001b[38;5;241m.\u001b[39mstart()\n",
      "File \u001b[0;32m/home/xilinx/jupyter_notebooks/htest/xcom_test/qick/drivers/tproc.py:624\u001b[0m, in \u001b[0;36mAxis_QICK_Proc.load_mem\u001b[0;34m(self, mem_sel, buff_in, addr)\u001b[0m\n\u001b[1;32m    621\u001b[0m \u001b[38;5;28mself\u001b[39m\u001b[38;5;241m.\u001b[39mtproc_cfg       \u001b[38;5;241m|\u001b[39m\u001b[38;5;241m=\u001b[39m {\u001b[38;5;124m'\u001b[39m\u001b[38;5;124mpmem\u001b[39m\u001b[38;5;124m'\u001b[39m: \u001b[38;5;241m7\u001b[39m, \u001b[38;5;124m'\u001b[39m\u001b[38;5;124mdmem\u001b[39m\u001b[38;5;124m'\u001b[39m: \u001b[38;5;241m11\u001b[39m, \u001b[38;5;124m'\u001b[39m\u001b[38;5;124mwmem\u001b[39m\u001b[38;5;124m'\u001b[39m: \u001b[38;5;241m15\u001b[39m}[mem_sel]\n\u001b[1;32m    623\u001b[0m \u001b[38;5;66;03m# DMA data.\u001b[39;00m\n\u001b[0;32m--> 624\u001b[0m \u001b[38;5;28;43mself\u001b[39;49m\u001b[38;5;241;43m.\u001b[39;49m\u001b[43mdma\u001b[49m\u001b[38;5;241;43m.\u001b[39;49m\u001b[43msendchannel\u001b[49m\u001b[38;5;241;43m.\u001b[39;49m\u001b[43mtransfer\u001b[49m\u001b[43m(\u001b[49m\u001b[38;5;28;43mself\u001b[39;49m\u001b[38;5;241;43m.\u001b[39;49m\u001b[43mbuff_wr\u001b[49m\u001b[43m,\u001b[49m\u001b[43m \u001b[49m\u001b[43mnbytes\u001b[49m\u001b[38;5;241;43m=\u001b[39;49m\u001b[38;5;28;43mint\u001b[39;49m\u001b[43m(\u001b[49m\u001b[43mlength\u001b[49m\u001b[38;5;241;43m*\u001b[39;49m\u001b[38;5;241;43m32\u001b[39;49m\u001b[43m)\u001b[49m\u001b[43m)\u001b[49m\n\u001b[1;32m    625\u001b[0m \u001b[38;5;28mself\u001b[39m\u001b[38;5;241m.\u001b[39mdma\u001b[38;5;241m.\u001b[39msendchannel\u001b[38;5;241m.\u001b[39mwait()\n\u001b[1;32m    627\u001b[0m \u001b[38;5;66;03m# End Operation\u001b[39;00m\n",
      "File \u001b[0;32m/usr/local/share/pynq-venv/lib/python3.10/site-packages/pynq/lib/dma.py:136\u001b[0m, in \u001b[0;36m_SDMAChannel.transfer\u001b[0;34m(self, array, start, nbytes)\u001b[0m\n\u001b[1;32m    107\u001b[0m \u001b[38;5;124;03m\"\"\"Transfer memory with the DMA\u001b[39;00m\n\u001b[1;32m    108\u001b[0m \n\u001b[1;32m    109\u001b[0m \u001b[38;5;124;03mTransfer must only be called when the channel is idle.\u001b[39;00m\n\u001b[0;32m   (...)\u001b[0m\n\u001b[1;32m    133\u001b[0m \n\u001b[1;32m    134\u001b[0m \u001b[38;5;124;03m\"\"\"\u001b[39;00m\n\u001b[1;32m    135\u001b[0m \u001b[38;5;28;01mif\u001b[39;00m \u001b[38;5;129;01mnot\u001b[39;00m \u001b[38;5;28mself\u001b[39m\u001b[38;5;241m.\u001b[39mrunning:\n\u001b[0;32m--> 136\u001b[0m     \u001b[38;5;28;01mraise\u001b[39;00m \u001b[38;5;167;01mRuntimeError\u001b[39;00m(\u001b[38;5;124m\"\u001b[39m\u001b[38;5;124mDMA channel not started\u001b[39m\u001b[38;5;124m\"\u001b[39m)\n\u001b[1;32m    137\u001b[0m \u001b[38;5;28;01mif\u001b[39;00m \u001b[38;5;129;01mnot\u001b[39;00m \u001b[38;5;28mself\u001b[39m\u001b[38;5;241m.\u001b[39midle \u001b[38;5;129;01mand\u001b[39;00m \u001b[38;5;129;01mnot\u001b[39;00m \u001b[38;5;28mself\u001b[39m\u001b[38;5;241m.\u001b[39m_first_transfer:\n\u001b[1;32m    138\u001b[0m     \u001b[38;5;28;01mraise\u001b[39;00m \u001b[38;5;167;01mRuntimeError\u001b[39;00m(\u001b[38;5;124m\"\u001b[39m\u001b[38;5;124mDMA channel not idle\u001b[39m\u001b[38;5;124m\"\u001b[39m)\n",
      "\u001b[0;31mRuntimeError\u001b[0m: DMA channel not started"
     ]
    }
   ],
   "source": [
    "asm = \"\"\"\n",
    "//TEST program\n",
    "// write some registers\n",
    "REG_WR r1 imm #1\n",
    "REG_WR r2 imm #2\n",
    "REG_WR r3 imm #3\n",
    "REG_WR r4 imm #4\n",
    "REG_WR r5 op -op(s_rand)\n",
    "// Set flag\n",
    "//PA 0 r1\n",
    "\n",
    "// Write to mem\n",
    "REG_WR s_ctrl imm ctrl_clr_qpa \n",
    "REG_WR s_cfg imm cfg_src_qpa \n",
    "WAIT qpa_rdy \n",
    "PA 14 r2 r5\n",
    "WAIT qpa_dt\n",
    "\n",
    "//REG_WR s_ctrl imm ctrl_clr_qpb \n",
    "//REG_WR s_cfg imm cfg_src_qpb \n",
    "//WAIT qpb_rdy \n",
    "//PB 14 r2 r1\n",
    "//WAIT qpb_dt\n",
    "\"\"\"\n",
    "p_txt, p_bin  = Assembler.str_asm2bin(asm)\n",
    "\n",
    "#soc.qick_processor_0.Load_PMEM(p_bin)\n",
    "#soc.tproc.Load_PMEM(p_bin)\n",
    "#soc.qick_processor_0.load_bin_program(p_bin,1)\n",
    "#soc.qick_processor_0.load_mem(p_bin, 'pmem')\n",
    "soc.qick_processor_0.load_mem(mem_sel='pmem', buff_in=p_bin)\n",
    "# soc.tproc.load_mem(mem_sel='dmem', buff_in=np.zeros(100,dtype=np.int32))\n",
    "\n",
    "soc.qick_processor_0.start()\n",
    "time.sleep(0.9)\n",
    "soc.qick_processor_0.stop()\n",
    "\n",
    "print('------------------------------')\n",
    "print(\"{0:5s} {2:12s} {4:12s}\".format('addr','\\t','xcom_0_mem','\\t','xcom_1_mem'))\n",
    "for i in range(6):\n",
    "    soc.xcom_axil_slv_0.axi_addr = i\n",
    "    soc.xcom_1.axi_addr = i\n",
    "    print(\"{0:3d} {2:12d} {4:12d}\".format(soc.xcom_axil_slv_0.axi_addr, '\\t', soc.xcom_axil_slv_0.mem, '\\t', soc.xcom_1.mem))\n",
    "    soc.xcom_axil_slv_0.mem\n",
    "    \n",
    "soc.xcom_axil_slv_0.print_axi_regs()\n",
    "soc.xcom_1.print_axi_regs()"
   ]
  },
  {
   "cell_type": "code",
   "execution_count": 85,
   "id": "038dfe0c",
   "metadata": {},
   "outputs": [],
   "source": [
    "soc.xcom_axil_slv_0.xcom_cfg = 2"
   ]
  },
  {
   "cell_type": "code",
   "execution_count": 86,
   "id": "1240db02",
   "metadata": {},
   "outputs": [
    {
     "name": "stdout",
     "output_type": "stream",
     "text": [
      "---------------------------------------------\n",
      "--- AXI TPROC Register STATUS\n",
      "--- PROCESSOR -- \n",
      "Core_STATE      : 100 - C_STOP\n",
      "Core_EN         : 0\n",
      "Time_STATE      : 100 - T_RUN\n",
      "Time_EN         : 0\n",
      "----------------\n",
      "Core_Src_dt     : 00\n",
      "----------------\n",
      "Core Src  Flag  : 000\n",
      "--    C0  Flag  : 0\n",
      ".Internal Flag  : 0\n",
      ".Axi      Flag  : 0\n",
      ".External Flag  : 0\n",
      ".QNET     Flag  : 0\n",
      ".QCOM     Flag  : 0\n",
      ".QP1      Flag  : 0\n",
      ".Port_dt_new    : 0\n",
      "----------------\n",
      "div_dt_new      : 0\n",
      "qnet_dt_new     : 0\n",
      "qcom_dt_new     : 0\n",
      "qp1_dt_new      : 0\n",
      "qp2_dt_new      : 0\n",
      "div_rdy         : 1\n",
      "arith_rdy       : 1\n",
      "qnet_rdy        : 0\n",
      "qcom_rdy        : 0\n",
      "qp1_rdy         : 0\n",
      "qp2_rdy         : 0\n",
      "---------------------------------------------\n",
      "--- AXI Registers\n",
      "     tproc_ctrl           0 - 0000_0000_0000_0000_0000_0000_0000_0000\n",
      "      tproc_cfg  4294967239 - 1111_1111_1111_1111_1111_1111_1100_0111\n",
      "       mem_addr           0 - 0000_0000_0000_0000_0000_0000_0000_0000\n",
      "        mem_len          13 - 0000_0000_0000_0000_0000_0000_0000_1101\n",
      "       mem_dt_i           0 - 0000_0000_0000_0000_0000_0000_0000_0000\n",
      "      axi_w_dt1           0 - 0000_0000_0000_0000_0000_0000_0000_0000\n",
      "      axi_w_dt2           0 - 0000_0000_0000_0000_0000_0000_0000_0000\n",
      "       core_cfg           1 - 0000_0000_0000_0000_0000_0000_0000_0001\n",
      "     axi_dt_src           0 - 0000_0000_0000_0000_0000_0000_0000_0000\n",
      "       mem_dt_o           0 - 0000_0000_0000_0000_0000_0000_0000_0000\n",
      "      axi_r_dt1           0 - 0000_0000_0000_0000_0000_0000_0000_0000\n",
      "      axi_r_dt2           0 - 0000_0000_0000_0000_0000_0000_0000_0000\n",
      "       time_usr      400485 - 0000_0000_0000_0110_0001_1100_0110_0101\n",
      "   tproc_status   201326660 - 0000_1100_0000_0000_0000_0000_0100_0100\n",
      "    tproc_debug          15 - 0000_0000_0000_0000_0000_0000_0000_1111\n"
     ]
    }
   ],
   "source": [
    "soc.qick_processor_0.core_cfg = 1\n",
    "soc.qick_processor_0.print_status()\n",
    "#soc.qick_processor_0.print_debug()\n",
    "soc.qick_processor_0.print_axi_regs()"
   ]
  },
  {
   "cell_type": "code",
   "execution_count": null,
   "id": "cdd56a89",
   "metadata": {},
   "outputs": [],
   "source": [
    "# help(soc.qick_processor_0.load_bin_program)\n",
    "help(soc.qick_processor_0)"
   ]
  },
  {
   "cell_type": "code",
   "execution_count": 42,
   "id": "770b631c",
   "metadata": {},
   "outputs": [
    {
     "data": {
      "text/plain": [
       "'0.2.291'"
      ]
     },
     "execution_count": 42,
     "metadata": {},
     "output_type": "execute_result"
    }
   ],
   "source": [
    "qick.get_version()"
   ]
  },
  {
   "cell_type": "code",
   "execution_count": 230,
   "id": "f5a36541",
   "metadata": {},
   "outputs": [],
   "source": [
    "soc.qick_processor_0.reset()"
   ]
  }
 ],
 "metadata": {
  "kernelspec": {
   "display_name": "Python 3 (ipykernel)",
   "language": "python",
   "name": "python3"
  },
  "language_info": {
   "codemirror_mode": {
    "name": "ipython",
    "version": 3
   },
   "file_extension": ".py",
   "mimetype": "text/x-python",
   "name": "python",
   "nbconvert_exporter": "python",
   "pygments_lexer": "ipython3",
   "version": "3.10.4"
  }
 },
 "nbformat": 4,
 "nbformat_minor": 5
}
