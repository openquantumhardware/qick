{
 "cells": [
  {
   "cell_type": "code",
   "execution_count": null,
   "id": "3b5c048a",
   "metadata": {},
   "outputs": [],
   "source": [
    "import sys\n",
    "import matplotlib.pyplot as plt\n",
    "import numpy as np\n",
    "import time\n",
    "#import random\n",
    "\n",
    "## QICK LIBRARY\n",
    "from qick import * \n",
    "import qick.tprocv2_assembler as qasm\n",
    "## tProc Assembler\n",
    "from qick.tprocv2_assembler import Assembler, LFSR\n",
    "\n",
    "from pynq.buffer import allocate\n",
    "from pynq import Overlay\n",
    "from importlib import reload"
   ]
  },
  {
   "cell_type": "code",
   "execution_count": null,
   "id": "3c17e442-0ac3-4eb5-9ea8-39b07ef60560",
   "metadata": {},
   "outputs": [],
   "source": [
    "#print(sys.path)\n",
    "qick.get_version()"
   ]
  },
  {
   "cell_type": "code",
   "execution_count": null,
   "id": "7db30be5-bacf-4308-82df-468350fcc9ce",
   "metadata": {},
   "outputs": [],
   "source": [
    "##### Load FGPA BitStream\n",
    "soc = Overlay('./xcom_simple.bit')\n",
    "#soc = Overlay('./xcom_simple_w_sync.bit')"
   ]
  },
  {
   "cell_type": "code",
   "execution_count": null,
   "id": "c1d947e3-5480-4edd-a3e0-19b025e381ed",
   "metadata": {},
   "outputs": [],
   "source": [
    "#soc?"
   ]
  },
  {
   "cell_type": "code",
   "execution_count": null,
   "id": "da444754-dd62-4189-bcc9-befe8c2fe0d5",
   "metadata": {},
   "outputs": [],
   "source": [
    "soc.xcom_axil_slv_0.print_status()\n",
    "soc.xcom_1.print_status()"
   ]
  },
  {
   "cell_type": "code",
   "execution_count": null,
   "id": "45d3a87c",
   "metadata": {},
   "outputs": [],
   "source": [
    "soc.xcom_axil_slv_0.xcom_cfg = 2\n",
    "soc.xcom_1.xcom_cfg = 2"
   ]
  },
  {
   "cell_type": "code",
   "execution_count": null,
   "id": "0c9bfe55-8265-4706-b816-9e641087f293",
   "metadata": {},
   "outputs": [],
   "source": [
    "soc.xcom_axil_slv_0.set_local_id(5)\n",
    "soc.xcom_1.set_local_id(6)\n",
    "soc.xcom_axil_slv_0.print_status()\n",
    "soc.xcom_1.print_status()"
   ]
  },
  {
   "cell_type": "markdown",
   "id": "d5d7aba3-17a3-46bc-ad59-53e7b88fb533",
   "metadata": {},
   "source": [
    "# Test communication with other board "
   ]
  },
  {
   "cell_type": "code",
   "execution_count": null,
   "id": "01473c2c-05da-4158-ab3a-f474288b615a",
   "metadata": {},
   "outputs": [],
   "source": [
    "soc.xcom_axil_slv_0.send_byte(16, 4, 1)"
   ]
  },
  {
   "cell_type": "code",
   "execution_count": null,
   "id": "560b09b1-b29f-416f-af5b-3e8233d36e64",
   "metadata": {},
   "outputs": [],
   "source": [
    "soc.xcom_axil_slv_0.run_cmd(soc.xcom_axil_slv_0.opcodes['XCOM_QCTRL'], 5, 7)"
   ]
  },
  {
   "cell_type": "code",
   "execution_count": null,
   "id": "b96f5a94-4bbf-44ca-a17a-19196b4ce618",
   "metadata": {},
   "outputs": [],
   "source": [
    "soc.xcom_axil_slv_0.print_axi_regs()\n",
    "soc.xcom_axil_slv_0.print_debug()\n",
    "soc.xcom_axil_slv_0.print_status()"
   ]
  },
  {
   "cell_type": "code",
   "execution_count": null,
   "id": "9d60fad0-aa2c-4be9-8ea8-e9c995df2fdf",
   "metadata": {},
   "outputs": [],
   "source": [
    "#test the memory write\n",
    "soc.xcom_axil_slv_0.run_cmd(soc.xcom_axil_slv_0.opcodes['XCOM_WRITE_MEM'], 6, 0x200)"
   ]
  },
  {
   "cell_type": "code",
   "execution_count": null,
   "id": "f27358ce-7740-41a3-80f3-4d5555bcb96d",
   "metadata": {},
   "outputs": [],
   "source": [
    "print(\"{0:5s} {2:12s} {4:12s}\".format('addr','\\t','xcom_0_mem','\\t','xcom_1_mem'))\n",
    "for i in range(16):\n",
    "    soc.xcom_axil_slv_0.axi_addr = i\n",
    "    soc.xcom_1.axi_addr = i\n",
    "    print(\"{0:3d} {2:12d} {4:12d}\".format(soc.xcom_axil_slv_0.axi_addr, '\\t', soc.xcom_axil_slv_0.mem, '\\t', soc.xcom_1.mem))\n",
    "    soc.xcom_axil_slv_0.mem"
   ]
  },
  {
   "cell_type": "code",
   "execution_count": null,
   "id": "e3b579b2-a6bb-4365-94f6-3084a42006b8",
   "metadata": {},
   "outputs": [],
   "source": [
    "print(\"{0:5s} {2:12s} \".format('addr','\\t','xcom_1_mem'))\n",
    "for i in range(16):\n",
    "    #soc.xcom_1.axi_addr = i\n",
    "    soc.xcom_1.axi_addr = i\n",
    "    print(\"{0:3d} {2:12d}\".format(soc.xcom_1.axi_addr, '\\t', soc.xcom_1.mem))\n",
    "    soc.xcom_1.mem"
   ]
  },
  {
   "cell_type": "code",
   "execution_count": null,
   "id": "e14754ad-8ed7-4845-b91c-1feb1403f713",
   "metadata": {},
   "outputs": [],
   "source": [
    "for i in range(16):\n",
    "    soc.xcom_axil_slv_0.set_local_id(i)\n",
    "    time.sleep(3);"
   ]
  },
  {
   "cell_type": "code",
   "execution_count": null,
   "id": "e39a34bd-c520-4387-ad6d-ad0d21815c7f",
   "metadata": {},
   "outputs": [],
   "source": [
    "soc.xcom_axil_slv_0.set_local_id(4)\n",
    "soc.xcom_1.set_local_id(3)\n",
    "#soc.xcom_1.print_status()\n",
    "soc.xcom_1.print_axi_regs()\n",
    "#soc.xcom_axil_slv_0.print_status()\n",
    "soc.xcom_axil_slv_0.print_axi_regs()"
   ]
  },
  {
   "cell_type": "code",
   "execution_count": null,
   "id": "d803438c-6b4b-4c97-bbc2-be49eb8a08e8",
   "metadata": {},
   "outputs": [],
   "source": [
    "soc.xcom_1.run_cmd(0, 7, 0)\n",
    "soc.xcom_axil_slv_0.print_axi_regs()\n",
    "soc.xcom_1.print_axi_regs()   "
   ]
  },
  {
   "cell_type": "code",
   "execution_count": null,
   "id": "34855e74-0063-444e-8723-3bcf917fe530",
   "metadata": {},
   "outputs": [],
   "source": [
    "# soc.xcom_axil_slv_0.auto_id()\n",
    "soc.xcom_1.auto_id()\n",
    "soc.xcom_1.print_status()\n",
    "soc.xcom_1.print_axi_regs()\n",
    "soc.xcom_axil_slv_0.print_status()\n",
    "soc.xcom_axil_slv_0.print_axi_regs()"
   ]
  },
  {
   "cell_type": "code",
   "execution_count": null,
   "id": "4e4bfe24-d150-4127-9761-676981f06572",
   "metadata": {},
   "outputs": [],
   "source": [
    "for i in range(8):\n",
    "    soc.xcom_axil_slv_0.run_cmd(i, 3, 0x1)\n",
    "    soc.xcom_axil_slv_0.print_axi_regs()\n",
    "    #soc.xcom_1.print_axi_regs()\n",
    "    time.sleep(2)\n",
    "    print(i)    "
   ]
  },
  {
   "cell_type": "code",
   "execution_count": null,
   "id": "e5dc366e-0326-4366-a31c-5bb4da894e60",
   "metadata": {},
   "outputs": [],
   "source": [
    "soc.xcom_axil_slv_0.send_half_word(0x10, 3, 1)\n",
    "soc.xcom_axil_slv_0.print_axi_regs()\n",
    "soc.xcom_1.print_axi_regs()"
   ]
  },
  {
   "cell_type": "markdown",
   "id": "254d234e-08ea-4499-92ae-371b008f3dcc",
   "metadata": {},
   "source": [
    "## Let's try the NET commands"
   ]
  },
  {
   "cell_type": "code",
   "execution_count": null,
   "id": "49aae5db-df45-4a91-b454-167256eebcd5",
   "metadata": {},
   "outputs": [],
   "source": [
    "soc.xcom_axil_slv_0.set_local_id(3)\n",
    "soc.xcom_1.set_local_id(4)\n",
    "soc.xcom_axil_slv_0.print_status()\n",
    "soc.xcom_1.print_status()"
   ]
  },
  {
   "cell_type": "code",
   "execution_count": null,
   "id": "b1b1f6e0-15f2-4f25-a7ce-8816fa751ef6",
   "metadata": {},
   "outputs": [],
   "source": [
    "soc.xcom_axil_slv_0.print_axi_regs()\n",
    "soc.xcom_1.print_axi_regs()\n",
    "soc.xcom_axil_slv_0.clear_flag(4)\n",
    "soc.xcom_axil_slv_0.print_axi_regs()\n",
    "soc.xcom_1.print_axi_regs()"
   ]
  },
  {
   "cell_type": "code",
   "execution_count": null,
   "id": "cd1f4ae7-acb6-4c88-a5d5-50d757c6eed8",
   "metadata": {},
   "outputs": [],
   "source": [
    "soc.xcom_axil_slv_0.print_axi_regs()\n",
    "soc.xcom_1.print_axi_regs()\n",
    "soc.xcom_axil_slv_0.set_flag(4)\n",
    "soc.xcom_axil_slv_0.print_axi_regs()\n",
    "soc.xcom_1.print_axi_regs()"
   ]
  },
  {
   "cell_type": "code",
   "execution_count": null,
   "id": "cc495ad0-06fa-47b9-a2ef-2d9fa38237fb",
   "metadata": {},
   "outputs": [],
   "source": [
    "#Board 6 to board 14\n",
    "soc.xcom_axil_slv_0.run_cmd(7, 5, 2)\n",
    "soc.xcom_1.print_status()\n",
    "soc.xcom_1.print_debug()"
   ]
  },
  {
   "cell_type": "markdown",
   "id": "3b245d8a-3cb9-4e3d-9354-0dfd6b4858a5",
   "metadata": {},
   "source": [
    "# soc.xcom_1.run_cmd(2, 4, 0)\n",
    "soc.xcom_1.print_status()\n",
    "soc.xcom_1.print_debug()"
   ]
  },
  {
   "cell_type": "markdown",
   "id": "3b5c3547-1229-451f-a466-47e8012f8b72",
   "metadata": {},
   "source": [
    "#### "
   ]
  },
  {
   "cell_type": "code",
   "execution_count": null,
   "id": "e94c7e72-a6cd-4d11-9d73-dbfe32b88c87",
   "metadata": {},
   "outputs": [],
   "source": [
    "for i in range(1,16):\n",
    "    soc.xcom_0.xcom_cfg = i\n",
    "    soc.xcom_0.send_byte(34, 15, 1)\n",
    "    soc.xcom_0.print_status()\n",
    "    soc.xcom_1.print_status()"
   ]
  },
  {
   "cell_type": "code",
   "execution_count": null,
   "id": "aa3d4c35-abbb-47bc-bcb4-bb7c43341ba8",
   "metadata": {},
   "outputs": [],
   "source": [
    "soc.xcom_0.print_status()\n",
    "soc.xcom_1.print_status()"
   ]
  },
  {
   "cell_type": "code",
   "execution_count": null,
   "id": "231b50d8-539f-43bc-8e14-d87a59f74211",
   "metadata": {},
   "outputs": [],
   "source": [
    "soc.xcom_0.set_local_id(1)\n",
    "#soc.xcom_1.print_axi_regs()\n",
    "soc.xcom_0.print_status()\n",
    "soc.xcom_0.print_debug()\n",
    "soc.xcom_1.set_local_id(2)\n",
    "soc.xcom_1.print_status()\n",
    "soc.xcom_1.print_debug()\n",
    "#soc.xcom_1.auto_id()\n",
    "#soc.xcom_1.run_cmd(16,7,7)"
   ]
  },
  {
   "cell_type": "code",
   "execution_count": null,
   "id": "dca95359-28e4-4943-aefe-36cf6290a6d0",
   "metadata": {},
   "outputs": [],
   "source": [
    "soc.xcom_0.xcom_cfg = 2\n",
    "soc.xcom_0.send_byte(34, 3, 2)\n",
    "soc.xcom_0.print_axi_regs()\n",
    "soc.xcom_0.print_status()\n",
    "soc.xcom_0.print_debug()\n",
    "soc.xcom_1.print_axi_regs()\n",
    "soc.xcom_1.print_status()\n",
    "soc.xcom_1.print_debug()\n",
    "#time.sleep(1)\n",
    "#soc.xcom_1.print_axi_regs()"
   ]
  },
  {
   "cell_type": "code",
   "execution_count": null,
   "id": "a4bd0db8",
   "metadata": {
    "scrolled": true,
    "tags": []
   },
   "outputs": [],
   "source": [
    "soc.xcom_0.xcom_cfg = 2\n",
    "#soc.xcom_0.set_flag(3)\n",
    "#print(soc.xcom_0.xcom_cfg)\n",
    "soc.xcom_0.print_status()\n",
    "#soc.xcom_0.print_debug()\n",
    "soc.xcom_1.print_status()\n",
    "#soc.xcom_1.print_debug()\n",
    "#soc.xcom_0.print_dt()\n",
    "#soc.xcom_0.print_axi_regs()"
   ]
  },
  {
   "cell_type": "code",
   "execution_count": null,
   "id": "dcfb368d",
   "metadata": {},
   "outputs": [],
   "source": [
    "soc.xcom_0.print_status()\n",
    "soc.xcom_1.print_status()"
   ]
  },
  {
   "cell_type": "code",
   "execution_count": null,
   "id": "8570b1f8",
   "metadata": {},
   "outputs": [],
   "source": [
    "soc.xcom_0.xcom_cfg = 10\n",
    "soc.xcom_0.print_status()\n",
    "soc.xcom_1.print_status()\n",
    "soc.xcom_0.auto_id()\n",
    "soc.xcom_1.auto_id()\n",
    "soc.xcom_0.print_status()\n",
    "soc.xcom_1.print_status()\n",
    "\n",
    "soc.xcom_0.xcom_cfg = 2\n",
    "soc.xcom_0.print_status()\n",
    "soc.xcom_1.print_status()\n",
    "soc.xcom_0.auto_id()\n",
    "soc.xcom_1.auto_id()\n",
    "soc.xcom_0.print_status()\n",
    "soc.xcom_1.print_status()\n",
    "soc.xcom_0.print_axi_regs()\n",
    "soc.xcom_1.print_axi_regs()"
   ]
  },
  {
   "cell_type": "code",
   "execution_count": null,
   "id": "980be341",
   "metadata": {},
   "outputs": [],
   "source": [
    "soc.xcom_0.xcom_cfg = 10\n",
    "soc.xcom_0.print_status()\n",
    "soc.xcom_0.print_debug()\n",
    "soc.xcom_0.print_axi_regs()"
   ]
  },
  {
   "cell_type": "code",
   "execution_count": null,
   "id": "4a64d04e",
   "metadata": {},
   "outputs": [],
   "source": [
    "soc.xcom_0.send_byte(34, 3, 1)\n",
    "soc.xcom_0.print_axi_regs()\n",
    "soc.xcom_1.print_axi_regs()"
   ]
  },
  {
   "cell_type": "code",
   "execution_count": null,
   "id": "df5b206d",
   "metadata": {},
   "outputs": [],
   "source": [
    "soc.xcom_0.print_axi_regs()\n",
    "soc.xcom_1.print_axi_regs()"
   ]
  },
  {
   "cell_type": "code",
   "execution_count": null,
   "id": "4aacde98",
   "metadata": {},
   "outputs": [],
   "source": [
    "#soc.xcom_1.send_byte(1023, 1, 12)\n",
    "#socxcom_1.send_word(-1, 1, 1)\n",
    "soc.xcom_0.update_byte(255, 3)\n",
    "soc.xcom_1.update_byte(138, 7)"
   ]
  },
  {
   "cell_type": "code",
   "execution_count": null,
   "id": "996f2269",
   "metadata": {},
   "outputs": [],
   "source": [
    "soc.xcom_0.print_axi_regs()\n",
    "soc.xcom_1.print_axi_regs()"
   ]
  },
  {
   "cell_type": "code",
   "execution_count": null,
   "id": "edc1d779",
   "metadata": {},
   "outputs": [],
   "source": [
    "soc.xcom_0.xcom_cfg = 3"
   ]
  },
  {
   "cell_type": "code",
   "execution_count": null,
   "id": "3efd1c24",
   "metadata": {},
   "outputs": [],
   "source": [
    "soc.xcom_0.run_cmd(14, 14, 0x5000)"
   ]
  },
  {
   "cell_type": "code",
   "execution_count": null,
   "id": "2fbb35dc",
   "metadata": {},
   "outputs": [],
   "source": [
    "print(\"{0:5s} {2:12s} {4:12s}\".format('addr','\\t','xcom_0_mem','\\t','xcom_1_mem'))\n",
    "for i in range(6):\n",
    "    soc.xcom_axil_slv_0.axi_addr = i\n",
    "    soc.xcom_1.axi_addr = i\n",
    "    print(\"{0:3d} {2:12d} {4:12d}\".format(soc.xcom_axil_slv_0.axi_addr, '\\t', soc.xcom_axil_slv_0.mem, '\\t', soc.xcom_1.mem))\n",
    "    soc.xcom_axil_slv_0.me"
   ]
  },
  {
   "cell_type": "code",
   "execution_count": null,
   "id": "c9ae97fc",
   "metadata": {},
   "outputs": [],
   "source": [
    "soc.xcom_1.run_cmd(14, 2, 32)"
   ]
  },
  {
   "cell_type": "code",
   "execution_count": null,
   "id": "0d3a1ba7",
   "metadata": {},
   "outputs": [],
   "source": [
    "print(\"{0:5s} {2:12s} {4:12s}\".format('addr','\\t','xcom_0_mem','\\t','xcom_1_mem'))\n",
    "for i in range(16):\n",
    "    soc.xcom_axil_slv_0.axi_addr = i\n",
    "    soc.xcom_1.axi_addr = i\n",
    "    print(\"{0:3d} {2:12d} {4:12d}\".format(soc.xcom_axil_slv_0.axi_addr, '\\t', soc.xcom_axil_slv_0.mem, '\\t', soc.xcom_1.mem))\n",
    "    soc.xcom_axil_slv_0.mem"
   ]
  },
  {
   "cell_type": "code",
   "execution_count": null,
   "id": "059a53da",
   "metadata": {},
   "outputs": [],
   "source": [
    "soc.xcom_axil_slv_0.xcom_cfg = 0"
   ]
  },
  {
   "cell_type": "code",
   "execution_count": null,
   "id": "3ab16018",
   "metadata": {},
   "outputs": [],
   "source": [
    "# write random 32 bit number to memory to self and other xcom\n",
    "# ~50 seconds for 100k loops\n",
    "num_loops = 10000\n",
    "#xcom_0 to xcom_0\n",
    "for i in range(num_loops):\n",
    "    soc.xcom_axil_slv_0.axi_addr = 2\n",
    "    random_int = random.randint(0,4294867295)\n",
    "    soc.xcom_axil_slv_0.run_cmd(14, 2, random_int)\n",
    "    readback=soc.xcom_axil_slv_0.mem\n",
    "    if readback != random_int:\n",
    "        print('error xcom_0 to xcom_0 - sent, received',random_int,readback)\n",
    "        break\n",
    "    #xcom_1 to xcom_1\n",
    "    soc.xcom_1.axi_addr = 3\n",
    "    random_int = random.randint(0,4294867295)\n",
    "    soc.xcom_1.run_cmd(14, 3, random_int)\n",
    "    readback=soc.xcom_1.mem\n",
    "    if readback != random_int:\n",
    "        print('error xcom_1 to xcom_1 - sent, received',random_int,readback)\n",
    "        break\n",
    "    #xcom_0 to xcom_1\n",
    "    soc.xcom_1.axi_addr = 2\n",
    "    random_int = random.randint(0,4294867295)\n",
    "    soc.xcom_axil_slv_0.run_cmd(14, 3, random_int)\n",
    "    readback=soc.xcom_1.mem\n",
    "    if readback != random_int:\n",
    "        print('error xcom_0 to xcom_1 - sent, received',random_int,readback)\n",
    "        break\n",
    "    #xcom_1 to xcom_0\n",
    "    soc.xcom_axil_slv_0.axi_addr = 3\n",
    "    random_int = random.randint(0,4294867295)\n",
    "    soc.xcom_1.run_cmd(14, 2, random_int)\n",
    "    readback=soc.xcom_axil_slv_0.mem\n",
    "    if readback != random_int:\n",
    "        print('error xcom_1 to xcom_0 - sent, received',random_int,readback)\n",
    "        break\n",
    "        \n",
    "print('Final Values')\n",
    "print(\"{0:5s} {2:12s} {4:12s}\".format('addr','\\t','xcom_0_mem','\\t','xcom_1_mem'))\n",
    "for i in range(6):\n",
    "    soc.xcom_axil_slv_0.axi_addr = i\n",
    "    soc.xcom_1.axi_addr = i\n",
    "    print(\"{0:3d} {2:12d} {4:12d}\".format(soc.xcom_axil_slv_0.axi_addr, '\\t', soc.xcom_axil_slv_0.mem, '\\t', soc.xcom_1.mem))\n",
    "    soc.xcom_axil_slv_0.mem"
   ]
  },
  {
   "cell_type": "code",
   "execution_count": null,
   "id": "361fbf06",
   "metadata": {},
   "outputs": [],
   "source": [
    "#WRITE MEM\n",
    "soc.xcom_axil_slv_0.run_cmd(19, 4, 4)"
   ]
  },
  {
   "cell_type": "code",
   "execution_count": null,
   "id": "b71f2b07",
   "metadata": {},
   "outputs": [],
   "source": [
    "### soc.qick_xcom_0.axi_addr = 2\n",
    "soc.xcom_axil_slv_0.print_axi_regs()"
   ]
  },
  {
   "cell_type": "code",
   "execution_count": null,
   "id": "d58f4e5b",
   "metadata": {},
   "outputs": [],
   "source": [
    "soc.xcom_0.axi_addr = 2\n",
    "soc.xcom_0.print_axi_regs()"
   ]
  },
  {
   "cell_type": "code",
   "execution_count": null,
   "id": "c61a04a7",
   "metadata": {},
   "outputs": [],
   "source": [
    "soc.xcom_1.axi_addr = 4\n",
    "soc.xcom_1.print_axi_regs()"
   ]
  },
  {
   "cell_type": "code",
   "execution_count": null,
   "id": "bea2711f",
   "metadata": {},
   "outputs": [],
   "source": [
    "soc.xcom_axil_slv_0.send_byte(-1, 0, 1)\n",
    "soc.xcom_axil_slv_0.print_axi_regs()\n",
    "soc.xcom_1.print_axi_regs()"
   ]
  },
  {
   "cell_type": "code",
   "execution_count": null,
   "id": "b01ae914",
   "metadata": {},
   "outputs": [],
   "source": [
    "#soc.qick_processor_0.print_status()\n",
    "#soc.qick_processor_0.print_debug()\n",
    "soc.qick_processor_0.print_axi_regs()"
   ]
  },
  {
   "cell_type": "code",
   "execution_count": null,
   "id": "42f6a3bf",
   "metadata": {},
   "outputs": [],
   "source": [
    "soc.qick_processor_0.tproc_cfg = -1\n",
    "soc.qick_processor_0.print_axi_regs()\n",
    "print(soc.qick_processor_0.time_usr)\n",
    "soc.qick_processor_0.start()\n",
    "soc.qick_processor_0.print_status()\n",
    "print(soc.qick_processor_0.time_usr)\n",
    "soc.qick_processor_0.stop()\n",
    "print(soc.qick_processor_0.time_usr)"
   ]
  },
  {
   "cell_type": "code",
   "execution_count": null,
   "id": "85210584",
   "metadata": {},
   "outputs": [],
   "source": [
    "soc.qick_processor_0.print_status()"
   ]
  },
  {
   "cell_type": "code",
   "execution_count": null,
   "id": "01a03d9c",
   "metadata": {},
   "outputs": [],
   "source": [
    "asm = \"\"\"\n",
    "//TEST program\n",
    "// write some registers\n",
    "REG_WR r1 imm #1\n",
    "REG_WR r2 imm #2\n",
    "REG_WR r3 imm #3\n",
    "REG_WR r4 imm #4\n",
    "REG_WR r5 op -op(s_rand)\n",
    "// Set flag\n",
    "//PA 0 r1\n",
    "\n",
    "// Write to mem\n",
    "REG_WR s_ctrl imm ctrl_clr_qpa \n",
    "REG_WR s_cfg imm cfg_src_qpa \n",
    "WAIT qpa_rdy \n",
    "PA 14 r2 r5\n",
    "WAIT qpa_dt\n",
    "\n",
    "//REG_WR s_ctrl imm ctrl_clr_qpb \n",
    "//REG_WR s_cfg imm cfg_src_qpb \n",
    "//WAIT qpb_rdy \n",
    "//PB 14 r2 r1\n",
    "//WAIT qpb_dt\n",
    "\"\"\"\n",
    "p_txt, p_bin  = Assembler.str_asm2bin(asm)\n",
    "\n",
    "#soc.qick_processor_0.Load_PMEM(p_bin)\n",
    "#soc.tproc.Load_PMEM(p_bin)\n",
    "#soc.qick_processor_0.load_bin_program(p_bin,1)\n",
    "#soc.qick_processor_0.load_mem(p_bin, 'pmem')\n",
    "soc.qick_processor_0.load_mem(mem_sel='pmem', buff_in=p_bin)\n",
    "# soc.tproc.load_mem(mem_sel='dmem', buff_in=np.zeros(100,dtype=np.int32))\n",
    "\n",
    "soc.qick_processor_0.start()\n",
    "time.sleep(0.9)\n",
    "soc.qick_processor_0.stop()\n",
    "\n",
    "print('------------------------------')\n",
    "print(\"{0:5s} {2:12s} {4:12s}\".format('addr','\\t','xcom_0_mem','\\t','xcom_1_mem'))\n",
    "for i in range(6):\n",
    "    soc.xcom_axil_slv_0.axi_addr = i\n",
    "    soc.xcom_1.axi_addr = i\n",
    "    print(\"{0:3d} {2:12d} {4:12d}\".format(soc.xcom_axil_slv_0.axi_addr, '\\t', soc.xcom_axil_slv_0.mem, '\\t', soc.xcom_1.mem))\n",
    "    soc.xcom_axil_slv_0.mem\n",
    "    \n",
    "soc.xcom_axil_slv_0.print_axi_regs()\n",
    "soc.xcom_1.print_axi_regs()"
   ]
  },
  {
   "cell_type": "code",
   "execution_count": null,
   "id": "038dfe0c",
   "metadata": {},
   "outputs": [],
   "source": [
    "soc.xcom_axil_slv_0.xcom_cfg = 2"
   ]
  },
  {
   "cell_type": "code",
   "execution_count": null,
   "id": "1240db02",
   "metadata": {},
   "outputs": [],
   "source": [
    "soc.qick_processor_0.core_cfg = 1\n",
    "soc.qick_processor_0.print_status()\n",
    "#soc.qick_processor_0.print_debug()\n",
    "soc.qick_processor_0.print_axi_regs()"
   ]
  },
  {
   "cell_type": "code",
   "execution_count": null,
   "id": "cdd56a89",
   "metadata": {},
   "outputs": [],
   "source": [
    "# help(soc.qick_processor_0.load_bin_program)\n",
    "help(soc.qick_processor_0)"
   ]
  },
  {
   "cell_type": "code",
   "execution_count": null,
   "id": "770b631c",
   "metadata": {},
   "outputs": [],
   "source": [
    "qick.get_version()"
   ]
  },
  {
   "cell_type": "code",
   "execution_count": null,
   "id": "f5a36541",
   "metadata": {},
   "outputs": [],
   "source": [
    "soc.qick_processor_0.reset()"
   ]
  }
 ],
 "metadata": {
  "kernelspec": {
   "display_name": "Python 3 (ipykernel)",
   "language": "python",
   "name": "python3"
  },
  "language_info": {
   "codemirror_mode": {
    "name": "ipython",
    "version": 3
   },
   "file_extension": ".py",
   "mimetype": "text/x-python",
   "name": "python",
   "nbconvert_exporter": "python",
   "pygments_lexer": "ipython3",
   "version": "3.10.4"
  }
 },
 "nbformat": 4,
 "nbformat_minor": 5
}
