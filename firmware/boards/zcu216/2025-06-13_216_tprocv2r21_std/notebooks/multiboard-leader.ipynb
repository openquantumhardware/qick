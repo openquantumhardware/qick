{
 "cells": [
  {
   "cell_type": "markdown",
   "metadata": {},
   "source": [
    "# Simple synchronism test of the XCOM block\n",
    "\n",
    "The general idea is that the boards are locked to a common reference, a \"PPS\" signal comming from a GPS for example. In this case we generate a false PPS in the HP 8110A generator. It has two synchronous channels and give us a \"typical\" PPS signal (200ms high, 800ms low). There is a \"leader\" board and a \"follower\" board. The boards are inter-connected through xcom blocks. "
   ]
  },
  {
   "cell_type": "markdown",
   "metadata": {},
   "source": [
    "### Hardware setup\n",
    "We'll use two ZCU216 boards for this setup. The RF cabling is similar to what we use for the standard demos (DAC 228_0 to ADC 224_0), except that the second loopback goes between boards (DAC 229_2 of each board to ADC 224_1 of the other)."
   ]
  },
  {
   "cell_type": "markdown",
   "metadata": {},
   "source": [
    "# First test the generators and acquisition\n",
    "The idea here is to test the loopback connection like in 00_intro.ipynb"
   ]
  },
  {
   "cell_type": "code",
   "execution_count": null,
   "metadata": {},
   "outputs": [],
   "source": [
    "# jupyter setup boilerplate\n",
    "%matplotlib inline\n",
    "import time\n",
    "import matplotlib.pyplot as plt\n",
    "import numpy as np\n",
    "from qick import *\n",
    "# for now, all the tProc v2 classes needto be individually imported (can't use qick.*)\n",
    "# the main program class\n",
    "from qick.asm_v2 import AveragerProgramV2\n",
    "# for defining sweeps\n",
    "from qick.asm_v2 import QickSpan, QickSweep1D"
   ]
  },
  {
   "cell_type": "code",
   "execution_count": null,
   "metadata": {},
   "outputs": [],
   "source": [
    "qick.get_version()"
   ]
  },
  {
   "cell_type": "code",
   "execution_count": null,
   "metadata": {},
   "outputs": [],
   "source": [
    "soc = QickSoc('./tprocv2r21_standard.bit')\n",
    "soccfg = soc\n",
    "#print(soccfg)"
   ]
  },
  {
   "cell_type": "code",
   "execution_count": null,
   "metadata": {},
   "outputs": [],
   "source": [
    "# ZCU216 standard FW, full-speed gen\n",
    "GEN_CH = 0\n",
    "RO_CH = 0\n",
    "TRIG_TIME = 0.40\n",
    "FREQ = 500"
   ]
  },
  {
   "cell_type": "code",
   "execution_count": null,
   "metadata": {},
   "outputs": [],
   "source": [
    "class MultiPulseProgram(AveragerProgramV2):\n",
    "    def _initialize(self, cfg):\n",
    "        ro_ch = cfg['ro_ch']\n",
    "        gen_ch = cfg['gen_ch']\n",
    "        \n",
    "        self.declare_gen(ch=gen_ch, nqz=1)\n",
    "        self.declare_readout(ch=ro_ch, length=cfg['ro_len'])\n",
    "\n",
    "        ramp_len = 0.2\n",
    "        self.add_gauss(ch=gen_ch, name=\"ramp\", sigma=ramp_len/10, length=ramp_len, even_length=True)\n",
    "        \n",
    "        self.add_pulse(ch=gen_ch, name=\"myflattop\", ro_ch=ro_ch, \n",
    "                       style=\"flat_top\", \n",
    "                       envelope=\"ramp\", \n",
    "                       freq=cfg['freq'], \n",
    "                       length=0.1,\n",
    "                       phase=0,\n",
    "                       gain=1.0, \n",
    "                      )\n",
    "\n",
    "        self.add_pulse(ch=gen_ch, name=\"mygaus\", ro_ch=ro_ch, \n",
    "                       style=\"arb\", \n",
    "                       envelope=\"ramp\", \n",
    "                       freq=cfg['freq'], \n",
    "                       phase=0,\n",
    "                       gain=1.0, \n",
    "                      )\n",
    "\n",
    "        self.add_pulse(ch=gen_ch, name=\"myconst\", ro_ch=ro_ch, \n",
    "                       style=\"const\", \n",
    "                       length=0.2, \n",
    "                       freq=cfg['freq'], \n",
    "                       phase=0,\n",
    "                       gain=1.0,\n",
    "                      )\n",
    "\n",
    "        self.add_pulse(ch=gen_ch, name=\"myflattop2\", ro_ch=ro_ch, \n",
    "                       style=\"flat_top\", \n",
    "                       envelope=\"ramp\", \n",
    "                       freq=cfg['freq'], \n",
    "                       length=0.1,\n",
    "                       phase=90,\n",
    "                       gain=1.0, \n",
    "                      )\n",
    "\n",
    "        self.add_readoutconfig(ch=ro_ch, name=\"myro\", freq=cfg['freq'], gen_ch=gen_ch)\n",
    "        # send the config to the dynamic RO\n",
    "        self.send_readoutconfig(ch=ro_ch, name=\"myro\", t=0)\n",
    "        \n",
    "    def _body(self, cfg):\n",
    "        self.trigger(ros=[cfg['ro_ch']], pins=[0], t=cfg['trig_time'], ddr4=True)\n",
    "\n",
    "        self.pulse(ch=cfg['gen_ch'], name=\"myflattop\", t=0)\n",
    "        self.pulse(ch=cfg['gen_ch'], name=\"mygaus\", t=0.4)\n",
    "        self.pulse(ch=cfg['gen_ch'], name=\"myconst\", t=0.8)\n",
    "        self.pulse(ch=cfg['gen_ch'], name=\"myflattop2\", t=1.2)\n",
    "        self.pulse(ch=cfg['gen_ch'], name=\"mygaus\", t=1.6)\n",
    "        \n"
   ]
  },
  {
   "cell_type": "code",
   "execution_count": null,
   "metadata": {},
   "outputs": [],
   "source": [
    "soc.xcom_0.xcom_cfg = 4"
   ]
  },
  {
   "cell_type": "code",
   "execution_count": null,
   "metadata": {},
   "outputs": [],
   "source": [
    "soc.xcom_0.set_local_id(5)\n",
    "soc.xcom_0.print_axi_regs()"
   ]
  },
  {
   "cell_type": "code",
   "execution_count": null,
   "metadata": {},
   "outputs": [],
   "source": [
    "soc.xcom_0.run_cmd(soc.xcom_0.opcodes['XCOM_WRITE_MEM'], 2, 0x5001)"
   ]
  },
  {
   "cell_type": "code",
   "execution_count": null,
   "metadata": {},
   "outputs": [],
   "source": [
    "print(\"{0:5s} {2:12s}\".format('addr','\\t','xcom_0_mem'))\n",
    "for i in range(16):\n",
    "    soc.xcom_0.axi_addr = i\n",
    "    #soc.xcom_1.axi_addr = i\n",
    "    print(\"{0:3d} {2:12d}\".format(soc.xcom_0.axi_addr, '\\t', soc.xcom_0.mem))\n",
    "    soc.xcom_0.mem"
   ]
  },
  {
   "cell_type": "code",
   "execution_count": null,
   "metadata": {},
   "outputs": [],
   "source": [
    "soc.xcom_0.print_axi_regs()"
   ]
  },
  {
   "cell_type": "code",
   "execution_count": null,
   "metadata": {},
   "outputs": [],
   "source": [
    "config = {'gen_ch': GEN_CH,\n",
    "          'ro_ch': RO_CH,\n",
    "          'freq': FREQ,\n",
    "          'trig_time': TRIG_TIME,\n",
    "          'ro_len': 1.9\n",
    "         }\n",
    "\n",
    "#prog = MultiPulseProgram(soccfg, reps=1, final_delay=0.5, cfg=config)\n",
    "#\n",
    "#iq_list = prog.acquire_decimated(soc, soft_avgs=10)\n",
    "#t = prog.get_time_axis(ro_index=0)\n",
    "#\n",
    "#plt.plot(t, iq_list[0][:,0], label=\"I value\")\n",
    "#plt.plot(t, iq_list[0][:,1], label=\"Q value\")\n",
    "#plt.plot(t, np.abs(iq_list[0].dot([1,1j])), label=\"magnitude\")\n",
    "#plt.legend()\n",
    "#plt.ylabel(\"a.u.\")\n",
    "#plt.xlabel(\"us\");"
   ]
  },
  {
   "cell_type": "code",
   "execution_count": null,
   "metadata": {},
   "outputs": [],
   "source": [
    "prog = MultiPulseProgram(soccfg, reps=1, final_delay=0.5, cfg=config)\n",
    "\n",
    "soc.xcom_0.run_cmd(soc.xcom_0.opcodes['XCOM_QRST_SYNC'], 4, 3)\n",
    "iq_list = prog.acquire_decimated(soc, soft_avgs=10, start_src='external')\n",
    "\n",
    "t = prog.get_time_axis(ro_index=0)\n",
    "\n",
    "plt.plot(t, iq_list[0][:,0], label=\"I value\")\n",
    "plt.plot(t, iq_list[0][:,1], label=\"Q value\")\n",
    "plt.plot(t, np.abs(iq_list[0].dot([1,1j])), label=\"magnitude\")\n",
    "plt.legend()\n",
    "plt.ylabel(\"a.u.\")\n",
    "plt.xlabel(\"us\");"
   ]
  },
  {
   "cell_type": "code",
   "execution_count": null,
   "metadata": {},
   "outputs": [],
   "source": [
    "GEN_CHS = [0]\n",
    "RO_CHS = [0]\n",
    "TRIG_TIME = 120 # tProc ticks\n",
    "FREQ = 500"
   ]
  },
  {
   "cell_type": "code",
   "execution_count": null,
   "metadata": {},
   "outputs": [],
   "source": [
    "class LoopbackProgramV2(AveragerProgramV2):\n",
    "    def _initialize(self, cfg):\n",
    "        ro_chs = cfg['ro_chs']\n",
    "        gen_chs = cfg['gen_chs']\n",
    "        for gen_ch in gen_chs:\n",
    "            self.declare_gen(ch=gen_ch, nqz=1)\n",
    "            \n",
    "        self.add_pulse(ch=gen_chs,\n",
    "                      name=\"mypulse\",\n",
    "                      ro_ch=ro_chs[0],\n",
    "                      style=\"const\",\n",
    "                      freq=cfg['freq'],\n",
    "                      length=cfg['pulse_len'],\n",
    "                      phase=cfg['gen_phase'],\n",
    "                      gain=cfg['gen_gain'],\n",
    "                      )\n",
    "\n",
    "        for ro_ch in ro_chs:\n",
    "            self.declare_readout(ch=ro_ch, length=cfg['ro_len'])\n",
    "\n",
    "        self.add_readoutconfig(ch=ro_chs,\n",
    "                              name=\"myro\",\n",
    "                              freq=cfg['freq'],\n",
    "                              gen_ch=gen_chs[0])\n",
    "\n",
    "        for ro_ch in ro_chs:\n",
    "            self.send_readoutconfig(ch=ro_ch,\n",
    "                                   name=\"myro\",\n",
    "                                   t=0)\n",
    "        if cfg['send_start']:\n",
    "            self.delay(0.5)  # give processor some time to set registers\n",
    "            self.trigger(pins=[0], t=0) # output a pulse on PMOD0_0, to trigger the follower\n",
    "            self.delay(cfg['leader_delay']) # give follower time to catch up\n",
    "                    \n",
    "    def _body(self, cfg):\n",
    "        for gen_ch in cfg['gen_chs']:\n",
    "            self.pulse(ch=gen_ch, name=\"mypulse\", t=0)\n",
    "        self.trigger(ros=cfg['ro_chs'], t=cfg['trig_time'])\n",
    "        \n"
   ]
  },
  {
   "cell_type": "code",
   "execution_count": null,
   "metadata": {},
   "outputs": [],
   "source": [
    "config = \\\n",
    "{\n",
    "    'gen_chs': GEN_CHS,\n",
    "    'ro_chs': RO_CHS,\n",
    "    'freq': FREQ,\n",
    "    'trig_time': TRIG_TIME-0.2,\n",
    "    'ro_len': 0.5,\n",
    "    'pulse_len': 0.05,\n",
    "    'gen_gain': 1.0,\n",
    "    'gen_phase': 0.0,\n",
    "    'send_start': False,\n",
    "    'leader_delay': 0.05,\n",
    "}\n",
    "\n",
    "# soc, soccfg = proxies[1]\n",
    "# prog = LoopbackProgramV2(soccfg, reps=1, final_delay=0.5, cfg=config)\n",
    "\n",
    "# iq_list = prog.acquire_decimated(soc, soft_avgs=10, start_src='internal')\n",
    "# t = prog.get_time_axis(ro_index=0)\n",
    "\n",
    "# plt.plot(t, iq_list[0][:,0], label=\"I value\")\n",
    "# plt.plot(t, iq_list[0][:,1], label=\"Q value\")\n",
    "# plt.plot(t, np.abs(iq_list[0].dot([1,1j])), label=\"magnitude\")\n",
    "# plt.legend()\n",
    "# plt.ylabel(\"a.u.\")\n",
    "# plt.xlabel(\"us\");"
   ]
  },
  {
   "cell_type": "code",
   "execution_count": null,
   "metadata": {},
   "outputs": [],
   "source": [
    "prog = LoopbackProgramV2(soccfg, reps=1, final_delay=0.5, cfg=config) #MultiPulseProgram(soccfg, reps=1, final_delay=0.5, cfg=config)\n",
    "\n",
    "soc.xcom_0.run_cmd(soc.xcom_0.opcodes['XCOM_QRST_SYNC'], 4, 3)\n",
    "iq_list = prog.acquire_decimated(soc, soft_avgs=10, start_src='external')\n",
    "\n",
    "t = prog.get_time_axis(ro_index=0)\n",
    "\n",
    "plt.plot(t, iq_list[0][:,0], label=\"I value\")\n",
    "plt.plot(t, iq_list[0][:,1], label=\"Q value\")\n",
    "plt.plot(t, np.abs(iq_list[0].dot([1,1j])), label=\"magnitude\")\n",
    "plt.legend()\n",
    "plt.ylabel(\"a.u.\")\n",
    "plt.xlabel(\"us\");"
   ]
  },
  {
   "cell_type": "markdown",
   "metadata": {},
   "source": [
    "In the next cell we just start the processor of board 4 using the **XCOM_QCTRL** command. \n",
    "This command will set the `start_proc` signal in board 4. "
   ]
  },
  {
   "cell_type": "code",
   "execution_count": null,
   "metadata": {},
   "outputs": [],
   "source": [
    "soc.xcom_0.run_cmd(soc.xcom_0.opcodes['XCOM_QCTRL'], 4, 6) #6 means start_proc"
   ]
  }
 ],
 "metadata": {
  "kernelspec": {
   "display_name": "Python 3 (ipykernel)",
   "language": "python",
   "name": "python3"
  },
  "language_info": {
   "codemirror_mode": {
    "name": "ipython",
    "version": 3
   },
   "file_extension": ".py",
   "mimetype": "text/x-python",
   "name": "python",
   "nbconvert_exporter": "python",
   "pygments_lexer": "ipython3",
   "version": "3.10.4"
  }
 },
 "nbformat": 4,
 "nbformat_minor": 4
}
