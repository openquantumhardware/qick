{
 "cells": [
  {
   "cell_type": "markdown",
   "metadata": {},
   "source": [
    "# Simple synchronism test of the XCOM block\n",
    "\n",
    "The general idea is that the boards are locked to a common reference, a \"PPS\" signal comming from a GPS for example. In this case we generate a false PPS in the HP 8110A generator. It has two synchronous channels and give us a \"typical\" PPS signal (200ms high, 800ms low). There is a \"leader\" board and a \"follower\" board. The boards are inter-connected through xcom blocks. "
   ]
  },
  {
   "cell_type": "markdown",
   "metadata": {},
   "source": [
    "### Hardware setup\n",
    "We'll use two ZCU216 boards for this setup. The RF cabling is similar to what we use for the standard demos (DAC 228_0 to ADC 224_0), except that the second loopback goes between boards (DAC 229_2 of each board to ADC 224_1 of the other)."
   ]
  },
  {
   "cell_type": "markdown",
   "metadata": {},
   "source": [
    "# First test the generators and acquisition\n",
    "The idea here is to test the loopback connection like in 00_intro.ipynb"
   ]
  },
  {
   "cell_type": "code",
   "execution_count": 46,
   "metadata": {},
   "outputs": [],
   "source": [
    "# jupyter setup boilerplate\n",
    "%matplotlib inline\n",
    "import time\n",
    "import matplotlib.pyplot as plt\n",
    "import numpy as np\n",
    "from qick import *\n",
    "# for now, all the tProc v2 classes needto be individually imported (can't use qick.*)\n",
    "# the main program class\n",
    "from qick.asm_v2 import AveragerProgramV2\n",
    "# for defining sweeps\n",
    "from qick.asm_v2 import QickSpan, QickSweep1D"
   ]
  },
  {
   "cell_type": "code",
   "execution_count": 47,
   "metadata": {},
   "outputs": [
    {
     "data": {
      "text/plain": [
       "'0.2.347'"
      ]
     },
     "execution_count": 47,
     "metadata": {},
     "output_type": "execute_result"
    }
   ],
   "source": [
    "qick.get_version()"
   ]
  },
  {
   "cell_type": "code",
   "execution_count": 48,
   "metadata": {},
   "outputs": [],
   "source": [
    "soc = QickSoc('./tprocv2r21_standard.bit')\n",
    "soccfg = soc\n",
    "#print(soccfg)"
   ]
  },
  {
   "cell_type": "code",
   "execution_count": 49,
   "metadata": {},
   "outputs": [],
   "source": [
    "# ZCU216 standard FW, full-speed gen\n",
    "GEN_CH = 0\n",
    "RO_CH = 0\n",
    "TRIG_TIME = 0.40\n",
    "FREQ = 500"
   ]
  },
  {
   "cell_type": "code",
   "execution_count": 50,
   "metadata": {},
   "outputs": [],
   "source": [
    "class MultiPulseProgram(AveragerProgramV2):\n",
    "    def _initialize(self, cfg):\n",
    "        ro_ch = cfg['ro_ch']\n",
    "        gen_ch = cfg['gen_ch']\n",
    "        \n",
    "        self.declare_gen(ch=gen_ch, nqz=1)\n",
    "        self.declare_readout(ch=ro_ch, length=cfg['ro_len'])\n",
    "\n",
    "        ramp_len = 0.2\n",
    "        self.add_gauss(ch=gen_ch, name=\"ramp\", sigma=ramp_len/10, length=ramp_len, even_length=True)\n",
    "        \n",
    "        self.add_pulse(ch=gen_ch, name=\"myflattop\", ro_ch=ro_ch, \n",
    "                       style=\"flat_top\", \n",
    "                       envelope=\"ramp\", \n",
    "                       freq=cfg['freq'], \n",
    "                       length=0.1,\n",
    "                       phase=0,\n",
    "                       gain=1.0, \n",
    "                      )\n",
    "\n",
    "        self.add_pulse(ch=gen_ch, name=\"mygaus\", ro_ch=ro_ch, \n",
    "                       style=\"arb\", \n",
    "                       envelope=\"ramp\", \n",
    "                       freq=cfg['freq'], \n",
    "                       phase=0,\n",
    "                       gain=1.0, \n",
    "                      )\n",
    "\n",
    "        self.add_pulse(ch=gen_ch, name=\"myconst\", ro_ch=ro_ch, \n",
    "                       style=\"const\", \n",
    "                       length=0.2, \n",
    "                       freq=cfg['freq'], \n",
    "                       phase=0,\n",
    "                       gain=1.0,\n",
    "                      )\n",
    "\n",
    "        self.add_pulse(ch=gen_ch, name=\"myflattop2\", ro_ch=ro_ch, \n",
    "                       style=\"flat_top\", \n",
    "                       envelope=\"ramp\", \n",
    "                       freq=cfg['freq'], \n",
    "                       length=0.1,\n",
    "                       phase=90,\n",
    "                       gain=1.0, \n",
    "                      )\n",
    "\n",
    "        self.add_readoutconfig(ch=ro_ch, name=\"myro\", freq=cfg['freq'], gen_ch=gen_ch)\n",
    "        # send the config to the dynamic RO\n",
    "        self.send_readoutconfig(ch=ro_ch, name=\"myro\", t=0)\n",
    "        \n",
    "    def _body(self, cfg):\n",
    "        self.trigger(ros=[cfg['ro_ch']], pins=[0], t=cfg['trig_time'], ddr4=True)\n",
    "\n",
    "        self.pulse(ch=cfg['gen_ch'], name=\"myflattop\", t=0)\n",
    "        self.pulse(ch=cfg['gen_ch'], name=\"mygaus\", t=0.4)\n",
    "        self.pulse(ch=cfg['gen_ch'], name=\"myconst\", t=0.8)\n",
    "        self.pulse(ch=cfg['gen_ch'], name=\"myflattop2\", t=1.2)\n",
    "        self.pulse(ch=cfg['gen_ch'], name=\"mygaus\", t=1.6)\n",
    "        \n"
   ]
  },
  {
   "cell_type": "code",
   "execution_count": 51,
   "metadata": {},
   "outputs": [],
   "source": [
    "soc.xcom_0.xcom_cfg = 4"
   ]
  },
  {
   "cell_type": "code",
   "execution_count": 52,
   "metadata": {},
   "outputs": [
    {
     "name": "stdout",
     "output_type": "stream",
     "text": [
      "---------------------------------------------\n",
      "--- AXI Registers\n",
      " xcom_ctrl          32 - 0000_0000_0000_0000_0000_0000_0010_0000\n",
      "  xcom_cfg           4 - 0000_0000_0000_0000_0000_0000_0000_0100\n",
      "   axi_dt1           4 - 0000_0000_0000_0000_0000_0000_0000_0100\n",
      "   axi_dt2           0 - 0000_0000_0000_0000_0000_0000_0000_0000\n",
      "  axi_addr           0 - 0000_0000_0000_0000_0000_0000_0000_0000\n",
      "  board_id           4 - 0000_0000_0000_0000_0000_0000_0000_0100\n",
      "      flag           0 - 0000_0000_0000_0000_0000_0000_0000_0000\n",
      "       dt1           0 - 0000_0000_0000_0000_0000_0000_0000_0000\n",
      "       dt2           0 - 0000_0000_0000_0000_0000_0000_0000_0000\n",
      "       mem           0 - 0000_0000_0000_0000_0000_0000_0000_0000\n",
      "     rx_dt           0 - 0000_0000_0000_0000_0000_0000_0000_0000\n",
      "     tx_dt           0 - 0000_0000_0000_0000_0000_0000_0000_0000\n",
      "    status     6881280 - 0000_0000_0110_1001_0000_0000_0000_0000\n",
      "     debug           0 - 0000_0000_0000_0000_0000_0000_0000_0000\n"
     ]
    }
   ],
   "source": [
    "soc.xcom_0.set_local_id(4)\n",
    "soc.xcom_0.print_axi_regs()"
   ]
  },
  {
   "cell_type": "code",
   "execution_count": 53,
   "metadata": {},
   "outputs": [],
   "source": [
    "soc.xcom_0.run_cmd(soc.xcom_0.opcodes['XCOM_WRITE_MEM'], 2, 0x5001)"
   ]
  },
  {
   "cell_type": "code",
   "execution_count": 54,
   "metadata": {},
   "outputs": [
    {
     "name": "stdout",
     "output_type": "stream",
     "text": [
      "addr  xcom_0_mem  \n",
      "  0            0\n",
      "  1            0\n",
      "  2        20481\n",
      "  3            0\n",
      "  4            0\n",
      "  5            0\n",
      "  6            0\n",
      "  7            0\n",
      "  8            0\n",
      "  9            0\n",
      " 10            0\n",
      " 11            0\n",
      " 12            0\n",
      " 13            0\n",
      " 14            0\n",
      " 15            0\n"
     ]
    }
   ],
   "source": [
    "print(\"{0:5s} {2:12s}\".format('addr','\\t','xcom_0_mem'))\n",
    "for i in range(16):\n",
    "    soc.xcom_0.axi_addr = i\n",
    "    #soc.xcom_1.axi_addr = i\n",
    "    print(\"{0:3d} {2:12d}\".format(soc.xcom_0.axi_addr, '\\t', soc.xcom_0.mem))\n",
    "    soc.xcom_0.mem"
   ]
  },
  {
   "cell_type": "code",
   "execution_count": 55,
   "metadata": {},
   "outputs": [
    {
     "name": "stdout",
     "output_type": "stream",
     "text": [
      "---------------------------------------------\n",
      "--- AXI Registers\n",
      " xcom_ctrl          38 - 0000_0000_0000_0000_0000_0000_0010_0110\n",
      "  xcom_cfg           4 - 0000_0000_0000_0000_0000_0000_0000_0100\n",
      "   axi_dt1           2 - 0000_0000_0000_0000_0000_0000_0000_0010\n",
      "   axi_dt2       20481 - 0000_0000_0000_0000_0101_0000_0000_0001\n",
      "  axi_addr          15 - 0000_0000_0000_0000_0000_0000_0000_1111\n",
      "  board_id           4 - 0000_0000_0000_0000_0000_0000_0000_0100\n",
      "      flag           0 - 0000_0000_0000_0000_0000_0000_0000_0000\n",
      "       dt1           0 - 0000_0000_0000_0000_0000_0000_0000_0000\n",
      "       dt2           0 - 0000_0000_0000_0000_0000_0000_0000_0000\n",
      "       mem           0 - 0000_0000_0000_0000_0000_0000_0000_0000\n",
      "     rx_dt           0 - 0000_0000_0000_0000_0000_0000_0000_0000\n",
      "     tx_dt       20481 - 0000_0000_0000_0000_0101_0000_0000_0001\n",
      "    status    13172736 - 0000_0000_1100_1001_0000_0000_0000_0000\n",
      "     debug           0 - 0000_0000_0000_0000_0000_0000_0000_0000\n"
     ]
    }
   ],
   "source": [
    "soc.xcom_0.print_axi_regs()"
   ]
  },
  {
   "cell_type": "code",
   "execution_count": 56,
   "metadata": {},
   "outputs": [],
   "source": [
    "config = {'gen_ch': GEN_CH,\n",
    "          'ro_ch': RO_CH,\n",
    "          'freq': FREQ,\n",
    "          'trig_time': TRIG_TIME,\n",
    "          'ro_len': 1.9\n",
    "         }\n",
    "\n",
    "#prog = MultiPulseProgram(soccfg, reps=1, final_delay=0.5, cfg=config)\n",
    "#\n",
    "#iq_list = prog.acquire_decimated(soc, soft_avgs=10)\n",
    "#t = prog.get_time_axis(ro_index=0)\n",
    "#\n",
    "#plt.plot(t, iq_list[0][:,0], label=\"I value\")\n",
    "#plt.plot(t, iq_list[0][:,1], label=\"Q value\")\n",
    "#plt.plot(t, np.abs(iq_list[0].dot([1,1j])), label=\"magnitude\")\n",
    "#plt.legend()\n",
    "#plt.ylabel(\"a.u.\")\n",
    "#plt.xlabel(\"us\");"
   ]
  },
  {
   "cell_type": "code",
   "execution_count": 74,
   "metadata": {},
   "outputs": [
    {
     "data": {
      "application/vnd.jupyter.widget-view+json": {
       "model_id": "432ff1b67d0c47adb145612fc77006c2",
       "version_major": 2,
       "version_minor": 0
      },
      "text/plain": [
       "  0%|          | 0/1 [00:00<?, ?it/s]"
      ]
     },
     "metadata": {},
     "output_type": "display_data"
    },
    {
     "name": "stdout",
     "output_type": "stream",
     "text": [
      "-228.20034246575344\n"
     ]
    },
    {
     "data": {
      "image/png": "[encoded data removed]",
      "text/plain": [
       "<Figure size 432x288 with 1 Axes>"
      ]
     },
     "metadata": {
      "needs_background": "light"
     },
     "output_type": "display_data"
    }
   ],
   "source": [
    "prog = MultiPulseProgram(soccfg, reps=1, final_delay=0.5, cfg=config)\n",
    "\n",
    "iq_list = prog.acquire_decimated(soc, soft_avgs=10, start_src='external')\n",
    "#iq_list = prog.acquire_decimated(soc, soft_avgs=10, start_src='internal')\n",
    "\n",
    "t = prog.get_time_axis(ro_index=0)\n",
    "\n",
    "plt.plot(t, iq_list[0][:,0], label=\"I value\")\n",
    "plt.plot(t, iq_list[0][:,1], label=\"Q value\")\n",
    "plt.plot(t, np.abs(iq_list[0].dot([1,1j])), label=\"magnitude\")\n",
    "plt.legend()\n",
    "plt.ylabel(\"a.u.\")\n",
    "plt.xlabel(\"us\");\n",
    "\n",
    "print(np.mean(iq_list[0][:,0]))"
   ]
  },
  {
   "cell_type": "code",
   "execution_count": 75,
   "metadata": {},
   "outputs": [
    {
     "name": "stdout",
     "output_type": "stream",
     "text": [
      "The float value: -228.20034246575344\n",
      "Its 32-bit binary (IEEE 754 single-precision) representation: 11000011011001000011001101001010\n",
      "Its 32-bit hexadecimal representation: 0xc364334a\n",
      "\n",
      "Breakdown (IEEE 754 Single-Precision):\n",
      "  Sign bit:    1 (0 for positive, 1 for negative)\n",
      "  Exponent:    10000110 (8 bits, biased by 127)\n",
      "  Mantissa:    11001000011001101001010 (23 bits, implicit leading 1)\n",
      "  Actual Exponent: 7\n",
      "  Mantissa (decimal): 1.7828152179718018\n",
      "  Reconstructed Value: -228.20034790039062\n"
     ]
    }
   ],
   "source": [
    "import struct\n",
    "\n",
    "def float_to_binary32(float_value):\n",
    "    \"\"\"\n",
    "    Converts a Python float (double-precision) to its 32-bit IEEE 754\n",
    "    single-precision binary representation.\n",
    "\n",
    "    Args:\n",
    "        float_value (float): The floating-point number to convert.\n",
    "\n",
    "    Returns:\n",
    "        str: A string representing the 32-bit binary value (e.g., \"01000010110101010001111010111000\").\n",
    "             Returns an error message if conversion fails.\n",
    "    \"\"\"\n",
    "    try:\n",
    "        # 'f' for float (single-precision), '>' for big-endian byte order\n",
    "        # '<' for little-endian byte order (more common on x86 systems)\n",
    "        # We'll use '<' for typical system compatibility.\n",
    "        # If you need big-endian, change to '>f'\n",
    "        packed_bytes = struct.pack('<f', float_value)\n",
    "\n",
    "        # Convert the bytes to an integer\n",
    "        # 'I' for unsigned int, '<' for little-endian\n",
    "        integer_representation = struct.unpack('<I', packed_bytes)[0]\n",
    "\n",
    "        # Convert the integer to a 32-bit binary string\n",
    "        # bin() returns a string like '0b1010...'\n",
    "        # [2:] removes the '0b' prefix\n",
    "        # zfill(32) pads with leading zeros to ensure 32 bits\n",
    "        binary_string = bin(integer_representation)[2:].zfill(32)\n",
    "\n",
    "        return binary_string, integer_representation # Return both for hex printing\n",
    "    except OverflowError:\n",
    "        return \"Error: Value is too large or too small for 32-bit float.\", None\n",
    "    except Exception as e:\n",
    "        return f\"An unexpected error occurred: {e}\", None\n",
    "\n",
    "# The float value to convert\n",
    "value_to_convert = np.mean(iq_list[0][:,0])\n",
    "\n",
    "# Perform the conversion\n",
    "binary_representation, int_rep = float_to_binary32(value_to_convert)\n",
    "\n",
    "# Print the result\n",
    "print(f\"The float value: {value_to_convert}\")\n",
    "print(f\"Its 32-bit binary (IEEE 754 single-precision) representation: {binary_representation}\")\n",
    "\n",
    "# Print the hexadecimal representation\n",
    "if int_rep is not None:\n",
    "    print(f\"Its 32-bit hexadecimal representation: {hex(int_rep)}\")\n",
    "\n",
    "# You can also manually decode it to verify (for understanding)\n",
    "# This part is just for demonstration and not part of the conversion function\n",
    "if len(binary_representation) == 32:\n",
    "    sign_bit = binary_representation[0]\n",
    "    exponent_bits = binary_representation[1:9]\n",
    "    mantissa_bits = binary_representation[9:]\n",
    "\n",
    "    print(\"\\nBreakdown (IEEE 754 Single-Precision):\")\n",
    "    print(f\"  Sign bit:    {sign_bit} (0 for positive, 1 for negative)\")\n",
    "    print(f\"  Exponent:    {exponent_bits} (8 bits, biased by 127)\")\n",
    "    print(f\"  Mantissa:    {mantissa_bits} (23 bits, implicit leading 1)\")\n",
    "\n",
    "    # Decode the exponent\n",
    "    exponent_int = int(exponent_bits, 2)\n",
    "    biased_exponent = exponent_int\n",
    "    actual_exponent = biased_exponent - 127\n",
    "    print(f\"  Actual Exponent: {actual_exponent}\")\n",
    "\n",
    "    # Decode the mantissa\n",
    "    # Add the implicit leading '1'\n",
    "    mantissa_decimal = 1.0\n",
    "    for i, bit in enumerate(mantissa_bits):\n",
    "        if bit == '1':\n",
    "            mantissa_decimal += (2**(-(i + 1)))\n",
    "    print(f\"  Mantissa (decimal): {mantissa_decimal}\")\n",
    "\n",
    "    # Reconstruct the value (for verification)\n",
    "    reconstructed_value = ((-1)**int(sign_bit)) * mantissa_decimal * (2**actual_exponent)\n",
    "    print(f\"  Reconstructed Value: {reconstructed_value}\")"
   ]
  },
  {
   "cell_type": "code",
   "execution_count": 79,
   "metadata": {},
   "outputs": [
    {
     "name": "stdout",
     "output_type": "stream",
     "text": [
      "3278123850\n",
      "-228.20034246575344 -1342.0 83.0\n"
     ]
    }
   ],
   "source": [
    "binary_representation, int_rep = float_to_binary32(np.mean(iq_list[0][:,0]))\n",
    "print(int_rep)\n",
    "#soc.xcom_0.run_cmd(soc.xcom_0.opcodes['XCOM_SEND_32BIT_2'], 5, np.mean(iq_list[0][:,0])) #6 means start_proc\n",
    "soc.xcom_0.run_cmd(soc.xcom_0.opcodes['XCOM_SEND_32BIT_2'], 5, int_rep) #6 means start_proc\n",
    "print(np.mean(iq_list[0][:,0]), np.min(iq_list[0][:,0]), np.max(iq_list[0][:,0]))"
   ]
  },
  {
   "cell_type": "code",
   "execution_count": null,
   "metadata": {},
   "outputs": [],
   "source": [
    "GEN_CHS = [0]\n",
    "RO_CHS = [0]\n",
    "TRIG_TIME = 120 # tProc ticks\n",
    "FREQ = 500"
   ]
  },
  {
   "cell_type": "code",
   "execution_count": null,
   "metadata": {},
   "outputs": [],
   "source": [
    "class LoopbackProgramV2(AveragerProgramV2):\n",
    "    def _initialize(self, cfg):\n",
    "        ro_chs = cfg['ro_chs']\n",
    "        gen_chs = cfg['gen_chs']\n",
    "        for gen_ch in gen_chs:\n",
    "            self.declare_gen(ch=gen_ch, nqz=1)\n",
    "            \n",
    "        self.add_pulse(ch=gen_chs,\n",
    "                      name=\"mypulse\",\n",
    "                      ro_ch=ro_chs[0],\n",
    "                      style=\"const\",\n",
    "                      freq=cfg['freq'],\n",
    "                      length=cfg['pulse_len'],\n",
    "                      phase=cfg['gen_phase'],\n",
    "                      gain=cfg['gen_gain'],\n",
    "                      )\n",
    "\n",
    "        for ro_ch in ro_chs:\n",
    "            self.declare_readout(ch=ro_ch, length=cfg['ro_len'])\n",
    "\n",
    "        self.add_readoutconfig(ch=ro_chs,\n",
    "                              name=\"myro\",\n",
    "                              freq=cfg['freq'],\n",
    "                              gen_ch=gen_chs[0])\n",
    "\n",
    "        for ro_ch in ro_chs:\n",
    "            self.send_readoutconfig(ch=ro_ch,\n",
    "                                   name=\"myro\",\n",
    "                                   t=0)\n",
    "        if cfg['send_start']:\n",
    "            self.delay(0.5)  # give processor some time to set registers\n",
    "            self.trigger(pins=[0], t=0) # output a pulse on PMOD0_0, to trigger the follower\n",
    "            self.delay(cfg['leader_delay']) # give follower time to catch up\n",
    "                    \n",
    "    def _body(self, cfg):\n",
    "        for gen_ch in cfg['gen_chs']:\n",
    "            self.pulse(ch=gen_ch, name=\"mypulse\", t=0)\n",
    "        self.trigger(ros=cfg['ro_chs'], t=cfg['trig_time'])\n",
    "        \n"
   ]
  },
  {
   "cell_type": "code",
   "execution_count": null,
   "metadata": {},
   "outputs": [],
   "source": [
    "config = \\\n",
    "{\n",
    "    'gen_chs': GEN_CHS,\n",
    "    'ro_chs': RO_CHS,\n",
    "    'freq': FREQ,\n",
    "    'trig_time': TRIG_TIME-0.2,\n",
    "    'ro_len': 0.5,\n",
    "    'pulse_len': 0.05,\n",
    "    'gen_gain': 1.0,\n",
    "    'gen_phase': 0.0,\n",
    "    'send_start': False,\n",
    "    'leader_delay': 0.05,\n",
    "}\n",
    "\n",
    "# soc, soccfg = proxies[1]\n",
    "# prog = LoopbackProgramV2(soccfg, reps=1, final_delay=0.5, cfg=config)\n",
    "\n",
    "# iq_list = prog.acquire_decimated(soc, soft_avgs=10, start_src='internal')\n",
    "# t = prog.get_time_axis(ro_index=0)\n",
    "\n",
    "# plt.plot(t, iq_list[0][:,0], label=\"I value\")\n",
    "# plt.plot(t, iq_list[0][:,1], label=\"Q value\")\n",
    "# plt.plot(t, np.abs(iq_list[0].dot([1,1j])), label=\"magnitude\")\n",
    "# plt.legend()\n",
    "# plt.ylabel(\"a.u.\")\n",
    "# plt.xlabel(\"us\");"
   ]
  },
  {
   "cell_type": "code",
   "execution_count": null,
   "metadata": {},
   "outputs": [],
   "source": [
    "prog = LoopbackProgramV2(soccfg, reps=1, final_delay=0.5, cfg=config) #MultiPulseProgram(soccfg, reps=1, final_delay=0.5, cfg=config)\n",
    "\n",
    "iq_list = prog.acquire_decimated(soc, soft_avgs=10, start_src='external')\n",
    "\n",
    "t = prog.get_time_axis(ro_index=0)\n",
    "\n",
    "plt.plot(t, iq_list[0][:,0], label=\"I value\")\n",
    "plt.plot(t, iq_list[0][:,1], label=\"Q value\")\n",
    "plt.plot(t, np.abs(iq_list[0].dot([1,1j])), label=\"magnitude\")\n",
    "plt.legend()\n",
    "plt.ylabel(\"a.u.\")\n",
    "plt.xlabel(\"us\");"
   ]
  },
  {
   "cell_type": "code",
   "execution_count": null,
   "metadata": {},
   "outputs": [],
   "source": [
    "soc.xcom_0.run_cmd(soc.xcom_0.opcodes['XCOM_QCTRL'], 5, 6) #6 means start_proc"
   ]
  },
  {
   "cell_type": "code",
   "execution_count": null,
   "metadata": {},
   "outputs": [],
   "source": []
  }
 ],
 "metadata": {
  "kernelspec": {
   "display_name": "Python 3 (ipykernel)",
   "language": "python",
   "name": "python3"
  },
  "language_info": {
   "codemirror_mode": {
    "name": "ipython",
    "version": 3
   },
   "file_extension": ".py",
   "mimetype": "text/x-python",
   "name": "python",
   "nbconvert_exporter": "python",
   "pygments_lexer": "ipython3",
   "version": "3.10.4"
  }
 },
 "nbformat": 4,
 "nbformat_minor": 4
}
