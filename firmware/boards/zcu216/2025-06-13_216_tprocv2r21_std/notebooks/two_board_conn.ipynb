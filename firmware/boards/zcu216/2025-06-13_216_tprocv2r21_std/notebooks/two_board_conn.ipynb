{
 "cells": [
  {
   "cell_type": "markdown",
   "id": "c548f089-4410-466b-8b68-ebe6fc8deac5",
   "metadata": {},
   "source": [
    "# Two boards connection test\n",
    "\n",
    "The idea here is to test the connection between the two boards using the XCOM block and the tprocv2r21_standard firmware."
   ]
  },
  {
   "cell_type": "code",
   "execution_count": 1,
   "id": "355ddac9-c0f3-4672-9d30-25564df95938",
   "metadata": {},
   "outputs": [],
   "source": [
    "# jupyter setup boilerplate\n",
    "%matplotlib inline\n",
    "import matplotlib.pyplot as plt\n",
    "import numpy as np\n",
    "import time\n",
    "import random\n",
    "from qick import *\n",
    "# the main program class\n",
    "from qick.asm_v2 import AveragerProgramV2\n",
    "# for defining sweeps\n",
    "from qick.asm_v2 import QickSpan, QickSweep1D\n",
    "## tProc Assembler\n",
    "from qick.tprocv2_assembler import Assembler, LFSR\n",
    "from pynq import Overlay"
   ]
  },
  {
   "cell_type": "code",
   "execution_count": 2,
   "id": "43a49014-0da6-4c15-90ea-cc78860d9ccf",
   "metadata": {},
   "outputs": [
    {
     "data": {
      "text/plain": [
       "'0.2.343'"
      ]
     },
     "execution_count": 2,
     "metadata": {},
     "output_type": "execute_result"
    }
   ],
   "source": [
    "#print(sys.path)\n",
    "qick.get_version()"
   ]
  },
  {
   "cell_type": "code",
   "execution_count": 3,
   "id": "d3e74325-30fc-46b5-876f-389c756eb5af",
   "metadata": {},
   "outputs": [
    {
     "data": {
      "application/javascript": [
       "\n",
       "try {\n",
       "require(['notebook/js/codecell'], function(codecell) {\n",
       "  codecell.CodeCell.options_default.highlight_modes[\n",
       "      'magic_text/x-csrc'] = {'reg':[/^%%microblaze/]};\n",
       "  Jupyter.notebook.events.one('kernel_ready.Kernel', function(){\n",
       "      Jupyter.notebook.get_cells().map(function(cell){\n",
       "          if (cell.cell_type == 'code'){ cell.auto_highlight(); } }) ;\n",
       "  });\n",
       "});\n",
       "} catch (e) {};\n"
      ]
     },
     "metadata": {},
     "output_type": "display_data"
    },
    {
     "data": {
      "application/javascript": [
       "\n",
       "try {\n",
       "require(['notebook/js/codecell'], function(codecell) {\n",
       "  codecell.CodeCell.options_default.highlight_modes[\n",
       "      'magic_text/x-csrc'] = {'reg':[/^%%pybind11/]};\n",
       "  Jupyter.notebook.events.one('kernel_ready.Kernel', function(){\n",
       "      Jupyter.notebook.get_cells().map(function(cell){\n",
       "          if (cell.cell_type == 'code'){ cell.auto_highlight(); } }) ;\n",
       "  });\n",
       "});\n",
       "} catch (e) {};\n"
      ]
     },
     "metadata": {},
     "output_type": "display_data"
    }
   ],
   "source": [
    "##### Load FGPA BitStream\n",
    "soc = Overlay('./tprocv2r21_standard.bit')"
   ]
  },
  {
   "cell_type": "code",
   "execution_count": 4,
   "id": "730999a5-9607-407e-8890-d269e7f7dde8",
   "metadata": {},
   "outputs": [],
   "source": [
    "#soc?"
   ]
  },
  {
   "cell_type": "code",
   "execution_count": 5,
   "id": "ef22001f-304f-4147-ab8a-00e02373094a",
   "metadata": {},
   "outputs": [],
   "source": [
    "soc.xcom_0.xcom_cfg = 4"
   ]
  },
  {
   "cell_type": "code",
   "execution_count": 6,
   "id": "75f4bf1d-f7b4-4835-991d-fbc247665aa2",
   "metadata": {},
   "outputs": [
    {
     "name": "stdout",
     "output_type": "stream",
     "text": [
      "00000000000000010000000000000000\n",
      "---------------------------------------------\n",
      "--- AXI XCOM Register STATUS\n",
      " tx_st     : IDLE\n",
      " rx_st[0]  : 00000\n",
      " rx_st     : IDLE\n",
      " tx_ready     : 1\n",
      " board_id     : 0000\n",
      " rx_data_cntr : 0000\n"
     ]
    }
   ],
   "source": [
    "soc.xcom_0.print_status()"
   ]
  },
  {
   "cell_type": "code",
   "execution_count": 7,
   "id": "96397b88-063d-4ccf-82ed-9af73719da39",
   "metadata": {},
   "outputs": [],
   "source": [
    "#Simple test of local ID\n",
    "#for i in range(16):\n",
    "#    soc.xcom_0.set_local_id(i)\n",
    "#    time.sleep(3);"
   ]
  },
  {
   "cell_type": "code",
   "execution_count": 8,
   "id": "ba8f035c-8cb2-4cea-aebf-c5b85d8be676",
   "metadata": {},
   "outputs": [
    {
     "name": "stdout",
     "output_type": "stream",
     "text": [
      "---------------------------------------------\n",
      "--- AXI Registers\n",
      " xcom_ctrl          32 - 0000_0000_0000_0000_0000_0000_0010_0000\n",
      "  xcom_cfg           4 - 0000_0000_0000_0000_0000_0000_0000_0100\n",
      "   axi_dt1           5 - 0000_0000_0000_0000_0000_0000_0000_0101\n",
      "   axi_dt2           0 - 0000_0000_0000_0000_0000_0000_0000_0000\n",
      "  axi_addr           0 - 0000_0000_0000_0000_0000_0000_0000_0000\n",
      "  board_id           5 - 0000_0000_0000_0000_0000_0000_0000_0101\n",
      "      flag           0 - 0000_0000_0000_0000_0000_0000_0000_0000\n",
      "       dt1           0 - 0000_0000_0000_0000_0000_0000_0000_0000\n",
      "       dt2           0 - 0000_0000_0000_0000_0000_0000_0000_0000\n",
      "       mem           0 - 0000_0000_0000_0000_0000_0000_0000_0000\n",
      "     rx_dt           0 - 0000_0000_0000_0000_0000_0000_0000_0000\n",
      "     tx_dt           0 - 0000_0000_0000_0000_0000_0000_0000_0000\n",
      "    status     2818048 - 0000_0000_0010_1011_0000_0000_0000_0000\n",
      "     debug           0 - 0000_0000_0000_0000_0000_0000_0000_0000\n"
     ]
    }
   ],
   "source": [
    "soc.xcom_0.set_local_id(5)\n",
    "#soc.xcom_1.print_status()\n",
    "soc.xcom_0.print_axi_regs()"
   ]
  },
  {
   "cell_type": "code",
   "execution_count": 9,
   "id": "7b367c2b-da27-4dc9-ad65-8268e3579eae",
   "metadata": {},
   "outputs": [
    {
     "name": "stdout",
     "output_type": "stream",
     "text": [
      "---------------------------------------------\n",
      "--- AXI Registers\n",
      " xcom_ctrl          32 - 0000_0000_0000_0000_0000_0000_0010_0000\n",
      "  xcom_cfg           4 - 0000_0000_0000_0000_0000_0000_0000_0100\n",
      "   axi_dt1           5 - 0000_0000_0000_0000_0000_0000_0000_0101\n",
      "   axi_dt2           0 - 0000_0000_0000_0000_0000_0000_0000_0000\n",
      "  axi_addr           0 - 0000_0000_0000_0000_0000_0000_0000_0000\n",
      "  board_id           5 - 0000_0000_0000_0000_0000_0000_0000_0101\n",
      "      flag           0 - 0000_0000_0000_0000_0000_0000_0000_0000\n",
      "       dt1           0 - 0000_0000_0000_0000_0000_0000_0000_0000\n",
      "       dt2           0 - 0000_0000_0000_0000_0000_0000_0000_0000\n",
      "       mem           0 - 0000_0000_0000_0000_0000_0000_0000_0000\n",
      "     rx_dt           0 - 0000_0000_0000_0000_0000_0000_0000_0000\n",
      "     tx_dt           0 - 0000_0000_0000_0000_0000_0000_0000_0000\n",
      "    status     2818048 - 0000_0000_0010_1011_0000_0000_0000_0000\n",
      "     debug           0 - 0000_0000_0000_0000_0000_0000_0000_0000\n",
      "00000000001010110000000000000000\n",
      "---------------------------------------------\n",
      "--- AXI XCOM Register STATUS\n",
      " tx_st     : IDLE\n",
      " rx_st[0]  : 00000\n",
      " rx_st     : IDLE\n",
      " tx_ready     : 1\n",
      " board_id     : 0101\n",
      " rx_data_cntr : 0001\n"
     ]
    }
   ],
   "source": [
    "soc.xcom_0.print_axi_regs()\n",
    "soc.xcom_0.print_status()"
   ]
  },
  {
   "cell_type": "code",
   "execution_count": 25,
   "id": "2f6d79fd-a0f2-4bb8-b526-3de06f2430f9",
   "metadata": {},
   "outputs": [],
   "source": [
    "#soc.xcom_0.auto_id()"
   ]
  },
  {
   "cell_type": "code",
   "execution_count": 10,
   "id": "463175f1-6e89-46b6-a799-746059aaf742",
   "metadata": {},
   "outputs": [
    {
     "name": "stdout",
     "output_type": "stream",
     "text": [
      "---------------------------------------------\n",
      "--- AXI Registers\n",
      " xcom_ctrl           8 - 0000_0000_0000_0000_0000_0000_0000_1000\n",
      "  xcom_cfg           4 - 0000_0000_0000_0000_0000_0000_0000_0100\n",
      "   axi_dt1           4 - 0000_0000_0000_0000_0000_0000_0000_0100\n",
      "   axi_dt2           1 - 0000_0000_0000_0000_0000_0000_0000_0001\n",
      "  axi_addr           0 - 0000_0000_0000_0000_0000_0000_0000_0000\n",
      "  board_id           5 - 0000_0000_0000_0000_0000_0000_0000_0101\n",
      "      flag           0 - 0000_0000_0000_0000_0000_0000_0000_0000\n",
      "       dt1           0 - 0000_0000_0000_0000_0000_0000_0000_0000\n",
      "       dt2           0 - 0000_0000_0000_0000_0000_0000_0000_0000\n",
      "       mem           0 - 0000_0000_0000_0000_0000_0000_0000_0000\n",
      "     rx_dt           0 - 0000_0000_0000_0000_0000_0000_0000_0000\n",
      "     tx_dt           1 - 0000_0000_0000_0000_0000_0000_0000_0001\n",
      "    status     4915200 - 0000_0000_0100_1011_0000_0000_0000_0000\n",
      "     debug           0 - 0000_0000_0000_0000_0000_0000_0000_0000\n",
      "00000000010010110000000000000000\n",
      "---------------------------------------------\n",
      "--- AXI XCOM Register STATUS\n",
      " tx_st     : IDLE\n",
      " rx_st[0]  : 00000\n",
      " rx_st     : IDLE\n",
      " tx_ready     : 1\n",
      " board_id     : 0101\n",
      " rx_data_cntr : 0010\n"
     ]
    }
   ],
   "source": [
    "soc.xcom_0.send_half_word(0x01, 4, 1)\n",
    "soc.xcom_0.print_axi_regs()\n",
    "soc.xcom_0.print_status()"
   ]
  },
  {
   "cell_type": "code",
   "execution_count": 13,
   "id": "fe3bb114-77a4-4bc9-8569-3084c4d89f57",
   "metadata": {},
   "outputs": [],
   "source": [
    "for i in range(16):\n",
    "    soc.xcom_0.run_cmd(soc.xcom_0.opcodes['XCOM_WRITE_MEM'], i, 0x5000+i)"
   ]
  },
  {
   "cell_type": "code",
   "execution_count": 23,
   "id": "0139a958-4b12-47a7-8095-b3d60095eb34",
   "metadata": {},
   "outputs": [
    {
     "name": "stdout",
     "output_type": "stream",
     "text": [
      "addr  xcom_0_mem   xcom_1_mem  \n",
      "  0        20480        20480\n",
      "  1           23           23\n",
      "  2        20482        20482\n",
      "  3        20483        20483\n",
      "  4        20484        20484\n",
      "  5        20485        20485\n",
      "  6        20486        20486\n",
      "  7        20487        20487\n",
      "  8        20488        20488\n",
      "  9        20489        20489\n",
      " 10        20490        20490\n",
      " 11        20491        20491\n",
      " 12        20492        20492\n",
      " 13        20493        20493\n",
      " 14        20494        20494\n",
      " 15        20494        20494\n"
     ]
    }
   ],
   "source": [
    "print(\"{0:5s} {2:12s} {4:12s}\".format('addr','\\t','xcom_0_mem','\\t','xcom_1_mem'))\n",
    "for i in range(16):\n",
    "    soc.xcom_0.axi_addr = i\n",
    "    #soc.xcom_1.axi_addr = i\n",
    "    print(\"{0:3d} {2:12d} {4:12d}\".format(soc.xcom_0.axi_addr, '\\t', soc.xcom_0.mem, '\\t', soc.xcom_0.mem))\n",
    "    soc.xcom_0.mem"
   ]
  },
  {
   "cell_type": "code",
   "execution_count": 16,
   "id": "36b31f76-2620-468e-b8ad-6b0e5ce06190",
   "metadata": {},
   "outputs": [],
   "source": [
    "soc.xcom_0.run_cmd(0x32, 4, 1)"
   ]
  },
  {
   "cell_type": "code",
   "execution_count": null,
   "id": "87d09217-0e16-45da-b4e4-545332c21290",
   "metadata": {},
   "outputs": [],
   "source": []
  }
 ],
 "metadata": {
  "kernelspec": {
   "display_name": "Python 3 (ipykernel)",
   "language": "python",
   "name": "python3"
  },
  "language_info": {
   "codemirror_mode": {
    "name": "ipython",
    "version": 3
   },
   "file_extension": ".py",
   "mimetype": "text/x-python",
   "name": "python",
   "nbconvert_exporter": "python",
   "pygments_lexer": "ipython3",
   "version": "3.10.4"
  }
 },
 "nbformat": 4,
 "nbformat_minor": 5
}
