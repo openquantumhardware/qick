{
 "cells": [
  {
   "cell_type": "code",
   "execution_count": 2,
   "id": "3b5c048a",
   "metadata": {},
   "outputs": [],
   "source": [
    "import sys\n",
    "## QICK LIBRARY\n",
    "from qick import * \n",
    "\n",
    "from pynq.buffer import allocate\n",
    "\n",
    "## tProc Assembler\n",
    "from qick.tprocv2_assembler import Assembler, LFSR\n",
    "\n",
    "import matplotlib.pyplot as plt\n",
    "import numpy as np\n",
    "import time\n",
    "import random\n",
    "\n",
    "import qick.tprocv2_assembler as qasm\n",
    "from importlib import reload  # Python 3.4+\n",
    "\n",
    "from pynq import Overlay"
   ]
  },
  {
   "cell_type": "code",
   "execution_count": 3,
   "id": "3c17e442-0ac3-4eb5-9ea8-39b07ef60560",
   "metadata": {},
   "outputs": [
    {
     "data": {
      "text/plain": [
       "'0.2.343'"
      ]
     },
     "execution_count": 3,
     "metadata": {},
     "output_type": "execute_result"
    }
   ],
   "source": [
    "#print(sys.path)\n",
    "qick.get_version()"
   ]
  },
  {
   "cell_type": "code",
   "execution_count": 4,
   "id": "7db30be5-bacf-4308-82df-468350fcc9ce",
   "metadata": {},
   "outputs": [
    {
     "data": {
      "application/javascript": [
       "\n",
       "try {\n",
       "require(['notebook/js/codecell'], function(codecell) {\n",
       "  codecell.CodeCell.options_default.highlight_modes[\n",
       "      'magic_text/x-csrc'] = {'reg':[/^%%microblaze/]};\n",
       "  Jupyter.notebook.events.one('kernel_ready.Kernel', function(){\n",
       "      Jupyter.notebook.get_cells().map(function(cell){\n",
       "          if (cell.cell_type == 'code'){ cell.auto_highlight(); } }) ;\n",
       "  });\n",
       "});\n",
       "} catch (e) {};\n"
      ]
     },
     "metadata": {},
     "output_type": "display_data"
    },
    {
     "data": {
      "application/javascript": [
       "\n",
       "try {\n",
       "require(['notebook/js/codecell'], function(codecell) {\n",
       "  codecell.CodeCell.options_default.highlight_modes[\n",
       "      'magic_text/x-csrc'] = {'reg':[/^%%pybind11/]};\n",
       "  Jupyter.notebook.events.one('kernel_ready.Kernel', function(){\n",
       "      Jupyter.notebook.get_cells().map(function(cell){\n",
       "          if (cell.cell_type == 'code'){ cell.auto_highlight(); } }) ;\n",
       "  });\n",
       "});\n",
       "} catch (e) {};\n"
      ]
     },
     "metadata": {},
     "output_type": "display_data"
    }
   ],
   "source": [
    "##### Load FGPA BitStream\n",
    "soc = Overlay('./xcom_test.bit')"
   ]
  },
  {
   "cell_type": "code",
   "execution_count": 5,
   "id": "c1d947e3-5480-4edd-a3e0-19b025e381ed",
   "metadata": {},
   "outputs": [],
   "source": [
    "#soc?"
   ]
  },
  {
   "cell_type": "code",
   "execution_count": 9,
   "id": "da444754-dd62-4189-bcc9-befe8c2fe0d5",
   "metadata": {},
   "outputs": [
    {
     "name": "stdout",
     "output_type": "stream",
     "text": [
      "00000000000000010000000000000000\n",
      "---------------------------------------------\n",
      "--- AXI XCOM Register STATUS\n",
      " tx_st     : IDLE\n",
      " rx_st[0]  : 00000\n",
      " rx_st     : IDLE\n",
      " tx_ready     : 1\n",
      " board_id     : 0000\n",
      " rx_data_cntr : 0000\n",
      "00000000000000010000000000000000\n",
      "---------------------------------------------\n",
      "--- AXI XCOM Register STATUS\n",
      " tx_st     : IDLE\n",
      " rx_st[0]  : 00000\n",
      " rx_st     : IDLE\n",
      " tx_ready     : 1\n",
      " board_id     : 0000\n",
      " rx_data_cntr : 0000\n"
     ]
    }
   ],
   "source": [
    "soc.xcom_0.print_status()\n",
    "soc.xcom_1.print_status()"
   ]
  },
  {
   "cell_type": "code",
   "execution_count": 21,
   "id": "99e97fdb",
   "metadata": {},
   "outputs": [],
   "source": [
    "#soc.xcom_0.write_local_flag(1)\n",
    "#help(soc.xcom_0)\n",
    "#soc.config_clocks(1)\n",
    "#print(soc)\n",
    "#print(soc.qtt)"
   ]
  },
  {
   "cell_type": "code",
   "execution_count": 10,
   "id": "45d3a87c",
   "metadata": {},
   "outputs": [],
   "source": [
    "soc.qick_processor_0.configure(soc.axi_dma_tproc)\n",
    "soc.xcom_0.xcom_cfg = 2\n",
    "soc.xcom_1.xcom_cfg = 2"
   ]
  },
  {
   "cell_type": "code",
   "execution_count": 11,
   "id": "e14754ad-8ed7-4845-b91c-1feb1403f713",
   "metadata": {},
   "outputs": [
    {
     "name": "stdout",
     "output_type": "stream",
     "text": [
      "00000000001010110000000000000000\n",
      "---------------------------------------------\n",
      "--- AXI XCOM Register STATUS\n",
      " tx_st     : IDLE\n",
      " rx_st[0]  : 00000\n",
      " rx_st     : IDLE\n",
      " tx_ready     : 1\n",
      " board_id     : 0101\n",
      " rx_data_cntr : 0001\n",
      "00000000001101010000000000000000\n",
      "---------------------------------------------\n",
      "--- AXI XCOM Register STATUS\n",
      " tx_st     : IDLE\n",
      " rx_st[0]  : 00000\n",
      " rx_st     : IDLE\n",
      " tx_ready     : 1\n",
      " board_id     : 1010\n",
      " rx_data_cntr : 0001\n"
     ]
    }
   ],
   "source": [
    "soc.xcom_0.set_local_id(5)\n",
    "soc.xcom_1.set_local_id(10)\n",
    "soc.xcom_0.print_status()\n",
    "soc.xcom_1.print_status()"
   ]
  },
  {
   "cell_type": "markdown",
   "id": "83fb05d1-8102-48e2-9008-71def7a51566",
   "metadata": {},
   "source": [
    "# Test the connection and communicarion with other board"
   ]
  },
  {
   "cell_type": "code",
   "execution_count": 8,
   "id": "552a053a-b954-40ae-a5ab-d6c66889e27e",
   "metadata": {},
   "outputs": [],
   "source": [
    "soc.xcom_0.send_byte(31, 4, 2)"
   ]
  },
  {
   "cell_type": "code",
   "execution_count": 14,
   "id": "8a5f04e6-1f54-4b5e-bf06-3ba31b915aa0",
   "metadata": {},
   "outputs": [
    {
     "name": "stdout",
     "output_type": "stream",
     "text": [
      "---------------------------------------------\n",
      "--- AXI Registers\n",
      " xcom_ctrl          32 - 0000_0000_0000_0000_0000_0000_0010_0000\n",
      "  xcom_cfg           2 - 0000_0000_0000_0000_0000_0000_0000_0010\n",
      "   axi_dt1           5 - 0000_0000_0000_0000_0000_0000_0000_0101\n",
      "   axi_dt2           0 - 0000_0000_0000_0000_0000_0000_0000_0000\n",
      "  axi_addr           0 - 0000_0000_0000_0000_0000_0000_0000_0000\n",
      "  board_id           5 - 0000_0000_0000_0000_0000_0000_0000_0101\n",
      "      flag           0 - 0000_0000_0000_0000_0000_0000_0000_0000\n",
      "       dt1           0 - 0000_0000_0000_0000_0000_0000_0000_0000\n",
      "       dt2           0 - 0000_0000_0000_0000_0000_0000_0000_0000\n",
      "       mem           0 - 0000_0000_0000_0000_0000_0000_0000_0000\n",
      "     rx_dt          18 - 0000_0000_0000_0000_0000_0000_0001_0010\n",
      "     tx_dt           0 - 0000_0000_0000_0000_0000_0000_0000_0000\n",
      "    status     2818048 - 0000_0000_0010_1011_0000_0000_0000_0000\n",
      "     debug           0 - 0000_0000_0000_0000_0000_0000_0000_0000\n",
      "0 00000000000000000000000000000000\n",
      "---------------------------------------------\n",
      "--- AXI XCOM DEBUG\n",
      " cmd_loc_req_i : 0\n",
      " cmd_loc_ack   : 0\n",
      " loc_set_id    : 0\n",
      " loc_wflg      : 0\n",
      " loc_wreg      : 0\n",
      " loc_wmem      : 0\n",
      " cmd_net_req_i : 0\n",
      " cmd_net_ack   : 0\n",
      " cmd_op_i      : 00000000\n",
      " rx_cmd_op     : 0000\n",
      " tx_auto_id    : 0\n",
      " rx_no_dt      : 0\n",
      " rx_wflg       : 0\n",
      " rx_wreg       : 0\n",
      " rx_wmem       : 0\n",
      " rx_cmd_id     : 000\n",
      " cfg_i         : 0000\n",
      "---------------------------------------------\n",
      "--- AXI XCOM RX_DT\n",
      "rx_dt           18 -  00000000000000000000000000010010\n",
      "---------------------------------------------\n",
      "--- AXI XCOM TX_DT\n",
      "tx_dt            0 -  00000000000000000000000000000000\n",
      "00000000001010110000000000000000\n",
      "---------------------------------------------\n",
      "--- AXI XCOM Register STATUS\n",
      " tx_st     : IDLE\n",
      " rx_st[0]  : 00000\n",
      " rx_st     : IDLE\n",
      " tx_ready     : 1\n",
      " board_id     : 0101\n",
      " rx_data_cntr : 0001\n"
     ]
    }
   ],
   "source": [
    "soc.xcom_0.print_axi_regs()\n",
    "soc.xcom_0.print_debug()\n",
    "soc.xcom_0.print_status()"
   ]
  },
  {
   "cell_type": "markdown",
   "id": "254d234e-08ea-4499-92ae-371b008f3dcc",
   "metadata": {},
   "source": [
    "## Let's try the NET commands"
   ]
  },
  {
   "cell_type": "code",
   "execution_count": 24,
   "id": "cc495ad0-06fa-47b9-a2ef-2d9fa38237fb",
   "metadata": {},
   "outputs": [
    {
     "name": "stdout",
     "output_type": "stream",
     "text": [
      "00000000010101010000000001000010\n",
      "---------------------------------------------\n",
      "--- AXI XCOM Register STATUS\n",
      " tx_st     : WSYNC\n",
      " rx_st[0]  : 00001\n",
      " rx_st     : UNKNOWN\n",
      " tx_ready     : 1\n",
      " board_id     : 1010\n",
      " rx_data_cntr : 0010\n",
      "00000000101010110000000000000010\n",
      "---------------------------------------------\n",
      "--- AXI XCOM Register STATUS\n",
      " tx_st     : WSYNC\n",
      " rx_st[0]  : 00000\n",
      " rx_st     : IDLE\n",
      " tx_ready     : 1\n",
      " board_id     : 0101\n",
      " rx_data_cntr : 0101\n"
     ]
    }
   ],
   "source": [
    "#Board 6 to board 14\n",
    "soc.xcom_0.run_cmd(8, 4, 2)\n",
    "#soc.xcom_1.send_word(0x2, 3, 1)\n",
    "#soc.xcom_1.auto_id()\n",
    "soc.xcom_1.print_status()\n",
    "soc.xcom_0.print_status()"
   ]
  },
  {
   "cell_type": "code",
   "execution_count": null,
   "id": "7ecc9abb-4f15-4233-b4cb-4558b32e5e82",
   "metadata": {},
   "outputs": [],
   "source": [
    "## soc.xcom_1.xcom_cfg = 2\n",
    "soc.xcom_1.send_byte(31, 10, 1)"
   ]
  },
  {
   "cell_type": "code",
   "execution_count": null,
   "id": "e94c7e72-a6cd-4d11-9d73-dbfe32b88c87",
   "metadata": {},
   "outputs": [],
   "source": []
  },
  {
   "cell_type": "code",
   "execution_count": null,
   "id": "aa3d4c35-abbb-47bc-bcb4-bb7c43341ba8",
   "metadata": {},
   "outputs": [],
   "source": []
  },
  {
   "cell_type": "code",
   "execution_count": 57,
   "id": "231b50d8-539f-43bc-8e14-d87a59f74211",
   "metadata": {},
   "outputs": [
    {
     "name": "stdout",
     "output_type": "stream",
     "text": [
      "00000001000000110000000000000000\n",
      "---------------------------------------------\n",
      "--- AXI XCOM Register STATUS\n",
      " tx_st     : 00\n",
      " c_cmd_st  : 00\n",
      " x_cmd_st  : 00\n",
      " rx_st[0]  : 00000\n",
      " rx_st[1]  : 00000\n",
      " tx_ready  : 1\n",
      " board_id  : 0001\n",
      "0 00000000000000000000000000000000\n",
      "---------------------------------------------\n",
      "--- AXI XCOM DEBUG\n",
      " cmd_loc_req_i : 0\n",
      " cmd_loc_ack   : 0\n",
      " loc_set_id    : 0\n",
      " loc_wflg      : 0\n",
      " loc_wreg      : 0\n",
      " loc_wmem      : 0\n",
      " cmd_net_req_i : 0\n",
      " cmd_net_ack   : 0\n",
      " cmd_op_i      : 00000000\n",
      " rx_cmd_op     : 0000\n",
      " tx_auto_id    : 0\n",
      " rx_no_dt      : 0\n",
      " rx_wflg       : 0\n",
      " rx_wreg       : 0\n",
      " rx_wmem       : 0\n",
      " rx_cmd_id     : 000\n",
      " cfg_i         : 0000\n",
      "---------------------------------------------\n",
      "--- AXI XCOM RX_DT\n",
      "rx_dt           31 -  00000000000000000000000000011111\n",
      "---------------------------------------------\n",
      "--- AXI XCOM TX_DT\n",
      "tx_dt           34 -  00000000000000000000000000100010\n",
      "00000001001001010000000000000000\n",
      "---------------------------------------------\n",
      "--- AXI XCOM Register STATUS\n",
      " tx_st     : 00\n",
      " c_cmd_st  : 00\n",
      " x_cmd_st  : 00\n",
      " rx_st[0]  : 00000\n",
      " rx_st[1]  : 00000\n",
      " tx_ready  : 1\n",
      " board_id  : 0010\n",
      "0 00000000000000000000000000000000\n",
      "---------------------------------------------\n",
      "--- AXI XCOM DEBUG\n",
      " cmd_loc_req_i : 0\n",
      " cmd_loc_ack   : 0\n",
      " loc_set_id    : 0\n",
      " loc_wflg      : 0\n",
      " loc_wreg      : 0\n",
      " loc_wmem      : 0\n",
      " cmd_net_req_i : 0\n",
      " cmd_net_ack   : 0\n",
      " cmd_op_i      : 00000000\n",
      " rx_cmd_op     : 0000\n",
      " tx_auto_id    : 0\n",
      " rx_no_dt      : 0\n",
      " rx_wflg       : 0\n",
      " rx_wreg       : 0\n",
      " rx_wmem       : 0\n",
      " rx_cmd_id     : 000\n",
      " cfg_i         : 0000\n",
      "---------------------------------------------\n",
      "--- AXI XCOM RX_DT\n",
      "rx_dt           31 -  00000000000000000000000000011111\n",
      "---------------------------------------------\n",
      "--- AXI XCOM TX_DT\n",
      "tx_dt           31 -  00000000000000000000000000011111\n"
     ]
    }
   ],
   "source": [
    "soc.xcom_0.set_local_id(1)\n",
    "#soc.xcom_1.print_axi_regs()\n",
    "soc.xcom_0.print_status()\n",
    "soc.xcom_0.print_debug()\n",
    "soc.xcom_1.set_local_id(2)\n",
    "soc.xcom_1.print_status()"
   ]
  },
  {
   "cell_type": "code",
   "execution_count": 58,
   "id": "dca95359-28e4-4943-aefe-36cf6290a6d0",
   "metadata": {},
   "outputs": [
    {
     "name": "stdout",
     "output_type": "stream",
     "text": [
      "---------------------------------------------\n",
      "--- AXI Registers\n",
      " xcom_ctrl           4 - 0000_0000_0000_0000_0000_0000_0000_0100\n",
      "  xcom_cfg           2 - 0000_0000_0000_0000_0000_0000_0000_0010\n",
      "   axi_dt1           3 - 0000_0000_0000_0000_0000_0000_0000_0011\n",
      "   axi_dt2          34 - 0000_0000_0000_0000_0000_0000_0010_0010\n",
      "  axi_addr           0 - 0000_0000_0000_0000_0000_0000_0000_0000\n",
      "  board_id           1 - 0000_0000_0000_0000_0000_0000_0000_0001\n",
      "      flag           0 - 0000_0000_0000_0000_0000_0000_0000_0000\n",
      "       dt1           0 - 0000_0000_0000_0000_0000_0000_0000_0000\n",
      "       dt2           0 - 0000_0000_0000_0000_0000_0000_0000_0000\n",
      "       mem           0 - 0000_0000_0000_0000_0000_0000_0000_0000\n",
      "     rx_dt          31 - 0000_0000_0000_0000_0000_0000_0001_1111\n",
      "     tx_dt          34 - 0000_0000_0000_0000_0000_0000_0010_0010\n",
      "    status    19070976 - 0000_0001_0010_0011_0000_0000_0000_0000\n",
      "     debug           0 - 0000_0000_0000_0000_0000_0000_0000_0000\n",
      "00000001001000110000000000000000\n",
      "---------------------------------------------\n",
      "--- AXI XCOM Register STATUS\n",
      " tx_st     : 00\n",
      " c_cmd_st  : 00\n",
      " x_cmd_st  : 00\n",
      " rx_st[0]  : 00000\n",
      " rx_st[1]  : 00000\n",
      " tx_ready  : 1\n",
      " board_id  : 0001\n",
      "0 00000000000000000000000000000000\n",
      "---------------------------------------------\n",
      "--- AXI XCOM DEBUG\n",
      " cmd_loc_req_i : 0\n",
      " cmd_loc_ack   : 0\n",
      " loc_set_id    : 0\n",
      " loc_wflg      : 0\n",
      " loc_wreg      : 0\n",
      " loc_wmem      : 0\n",
      " cmd_net_req_i : 0\n",
      " cmd_net_ack   : 0\n",
      " cmd_op_i      : 00000000\n",
      " rx_cmd_op     : 0000\n",
      " tx_auto_id    : 0\n",
      " rx_no_dt      : 0\n",
      " rx_wflg       : 0\n",
      " rx_wreg       : 0\n",
      " rx_wmem       : 0\n",
      " rx_cmd_id     : 000\n",
      " cfg_i         : 0000\n",
      "---------------------------------------------\n",
      "--- AXI XCOM RX_DT\n",
      "rx_dt           31 -  00000000000000000000000000011111\n",
      "---------------------------------------------\n",
      "--- AXI XCOM TX_DT\n",
      "tx_dt           34 -  00000000000000000000000000100010\n",
      "---------------------------------------------\n",
      "--- AXI Registers\n",
      " xcom_ctrl          32 - 0000_0000_0000_0000_0000_0000_0010_0000\n",
      "  xcom_cfg           2 - 0000_0000_0000_0000_0000_0000_0000_0010\n",
      "   axi_dt1           2 - 0000_0000_0000_0000_0000_0000_0000_0010\n",
      "   axi_dt2          31 - 0000_0000_0000_0000_0000_0000_0001_1111\n",
      "  axi_addr           0 - 0000_0000_0000_0000_0000_0000_0000_0000\n",
      "  board_id           2 - 0000_0000_0000_0000_0000_0000_0000_0010\n",
      "      flag           0 - 0000_0000_0000_0000_0000_0000_0000_0000\n",
      "       dt1           0 - 0000_0000_0000_0000_0000_0000_0000_0000\n",
      "       dt2           0 - 0000_0000_0000_0000_0000_0000_0000_0000\n",
      "       mem           0 - 0000_0000_0000_0000_0000_0000_0000_0000\n",
      "     rx_dt          31 - 0000_0000_0000_0000_0000_0000_0001_1111\n",
      "     tx_dt          31 - 0000_0000_0000_0000_0000_0000_0001_1111\n",
      "    status    19202048 - 0000_0001_0010_0101_0000_0000_0000_0000\n",
      "     debug           0 - 0000_0000_0000_0000_0000_0000_0000_0000\n",
      "00000001001001010000000000000000\n",
      "---------------------------------------------\n",
      "--- AXI XCOM Register STATUS\n",
      " tx_st     : 00\n",
      " c_cmd_st  : 00\n",
      " x_cmd_st  : 00\n",
      " rx_st[0]  : 00000\n",
      " rx_st[1]  : 00000\n",
      " tx_ready  : 1\n",
      " board_id  : 0010\n",
      "0 00000000000000000000000000000000\n",
      "---------------------------------------------\n",
      "--- AXI XCOM DEBUG\n",
      " cmd_loc_req_i : 0\n",
      " cmd_loc_ack   : 0\n",
      " loc_set_id    : 0\n",
      " loc_wflg      : 0\n",
      " loc_wreg      : 0\n",
      " loc_wmem      : 0\n",
      " cmd_net_req_i : 0\n",
      " cmd_net_ack   : 0\n",
      " cmd_op_i      : 00000000\n",
      " rx_cmd_op     : 0000\n",
      " tx_auto_id    : 0\n",
      " rx_no_dt      : 0\n",
      " rx_wflg       : 0\n",
      " rx_wreg       : 0\n",
      " rx_wmem       : 0\n",
      " rx_cmd_id     : 000\n",
      " cfg_i         : 0000\n",
      "---------------------------------------------\n",
      "--- AXI XCOM RX_DT\n",
      "rx_dt           31 -  00000000000000000000000000011111\n",
      "---------------------------------------------\n",
      "--- AXI XCOM TX_DT\n",
      "tx_dt           31 -  00000000000000000000000000011111\n"
     ]
    }
   ],
   "source": [
    "soc.xcom_0.xcom_cfg = 2\n",
    "soc.xcom_0.send_byte(34, 3, 2)\n",
    "soc.xcom_0.print_axi_regs()\n",
    "soc.xcom_0.print_status()\n",
    "soc.xcom_0.print_debug()\n",
    "soc.xcom_1.print_axi_regs()\n",
    "soc.xcom_1.print_status()\n",
    "soc.xcom_1.print_debug()\n",
    "#time.sleep(1)\n",
    "#soc.xcom_1.print_axi_regs()"
   ]
  },
  {
   "cell_type": "code",
   "execution_count": 113,
   "id": "a4bd0db8",
   "metadata": {
    "scrolled": true,
    "tags": []
   },
   "outputs": [
    {
     "name": "stdout",
     "output_type": "stream",
     "text": [
      "00000000101000110000000000000000\n",
      "---------------------------------------------\n",
      "--- AXI XCOM Register STATUS\n",
      " tx_st     : 00\n",
      " c_cmd_st  : 00\n",
      " x_cmd_st  : 00\n",
      " rx_st[0]  : 00000\n",
      " rx_st[1]  : 00000\n",
      " tx_ready  : 1\n",
      " board_id  : 0001\n",
      "00000000011001010000000000000000\n",
      "---------------------------------------------\n",
      "--- AXI XCOM Register STATUS\n",
      " tx_st     : 00\n",
      " c_cmd_st  : 00\n",
      " x_cmd_st  : 00\n",
      " rx_st[0]  : 00000\n",
      " rx_st[1]  : 00000\n",
      " tx_ready  : 1\n",
      " board_id  : 0010\n"
     ]
    }
   ],
   "source": [
    "soc.xcom_0.xcom_cfg = 2\n",
    "#soc.xcom_0.set_flag(3)\n",
    "#print(soc.xcom_0.xcom_cfg)\n",
    "soc.xcom_0.print_status()\n",
    "#soc.xcom_0.print_debug()\n",
    "soc.xcom_1.print_status()\n",
    "#soc.xcom_1.print_debug()\n",
    "#soc.xcom_0.print_dt()\n",
    "#soc.xcom_0.print_axi_regs()"
   ]
  },
  {
   "cell_type": "code",
   "execution_count": 114,
   "id": "dcfb368d",
   "metadata": {},
   "outputs": [
    {
     "name": "stdout",
     "output_type": "stream",
     "text": [
      "00000000101000110000000000000000\n",
      "---------------------------------------------\n",
      "--- AXI XCOM Register STATUS\n",
      " tx_st     : 00\n",
      " c_cmd_st  : 00\n",
      " x_cmd_st  : 00\n",
      " rx_st[0]  : 00000\n",
      " rx_st[1]  : 00000\n",
      " tx_ready  : 1\n",
      " board_id  : 0001\n",
      "00000000011001010000000000000000\n",
      "---------------------------------------------\n",
      "--- AXI XCOM Register STATUS\n",
      " tx_st     : 00\n",
      " c_cmd_st  : 00\n",
      " x_cmd_st  : 00\n",
      " rx_st[0]  : 00000\n",
      " rx_st[1]  : 00000\n",
      " tx_ready  : 1\n",
      " board_id  : 0010\n"
     ]
    }
   ],
   "source": [
    "soc.xcom_0.print_status()\n",
    "soc.xcom_1.print_status()"
   ]
  },
  {
   "cell_type": "code",
   "execution_count": 115,
   "id": "8570b1f8",
   "metadata": {},
   "outputs": [
    {
     "name": "stdout",
     "output_type": "stream",
     "text": [
      "00000000101000110000000000000000\n",
      "---------------------------------------------\n",
      "--- AXI XCOM Register STATUS\n",
      " tx_st     : 00\n",
      " c_cmd_st  : 00\n",
      " x_cmd_st  : 00\n",
      " rx_st[0]  : 00000\n",
      " rx_st[1]  : 00000\n",
      " tx_ready  : 1\n",
      " board_id  : 0001\n",
      "00000000011001010000000000000000\n",
      "---------------------------------------------\n",
      "--- AXI XCOM Register STATUS\n",
      " tx_st     : 00\n",
      " c_cmd_st  : 00\n",
      " x_cmd_st  : 00\n",
      " rx_st[0]  : 00000\n",
      " rx_st[1]  : 00000\n",
      " tx_ready  : 1\n",
      " board_id  : 0010\n",
      "00000000110001010000000000000000\n",
      "---------------------------------------------\n",
      "--- AXI XCOM Register STATUS\n",
      " tx_st     : 00\n",
      " c_cmd_st  : 00\n",
      " x_cmd_st  : 00\n",
      " rx_st[0]  : 00000\n",
      " rx_st[1]  : 00000\n",
      " tx_ready  : 1\n",
      " board_id  : 0010\n",
      "00000000100001010000000000000000\n",
      "---------------------------------------------\n",
      "--- AXI XCOM Register STATUS\n",
      " tx_st     : 00\n",
      " c_cmd_st  : 00\n",
      " x_cmd_st  : 00\n",
      " rx_st[0]  : 00000\n",
      " rx_st[1]  : 00000\n",
      " tx_ready  : 1\n",
      " board_id  : 0010\n",
      "00000000110001010000000000000000\n",
      "---------------------------------------------\n",
      "--- AXI XCOM Register STATUS\n",
      " tx_st     : 00\n",
      " c_cmd_st  : 00\n",
      " x_cmd_st  : 00\n",
      " rx_st[0]  : 00000\n",
      " rx_st[1]  : 00000\n",
      " tx_ready  : 1\n",
      " board_id  : 0010\n",
      "00000000100001010000000000000000\n",
      "---------------------------------------------\n",
      "--- AXI XCOM Register STATUS\n",
      " tx_st     : 00\n",
      " c_cmd_st  : 00\n",
      " x_cmd_st  : 00\n",
      " rx_st[0]  : 00000\n",
      " rx_st[1]  : 00000\n",
      " tx_ready  : 1\n",
      " board_id  : 0010\n",
      "00000000111001010000000000000010\n",
      "---------------------------------------------\n",
      "--- AXI XCOM Register STATUS\n",
      " tx_st     : 10\n",
      " c_cmd_st  : 00\n",
      " x_cmd_st  : 00\n",
      " rx_st[0]  : 00000\n",
      " rx_st[1]  : 00000\n",
      " tx_ready  : 1\n",
      " board_id  : 0010\n",
      "00000000100001010000000000000000\n",
      "---------------------------------------------\n",
      "--- AXI XCOM Register STATUS\n",
      " tx_st     : 00\n",
      " c_cmd_st  : 00\n",
      " x_cmd_st  : 00\n",
      " rx_st[0]  : 00000\n",
      " rx_st[1]  : 00000\n",
      " tx_ready  : 1\n",
      " board_id  : 0010\n",
      "---------------------------------------------\n",
      "--- AXI Registers\n",
      " xcom_ctrl          16 - 0000_0000_0000_0000_0000_0000_0001_0000\n",
      "  xcom_cfg           2 - 0000_0000_0000_0000_0000_0000_0000_0010\n",
      "   axi_dt1           0 - 0000_0000_0000_0000_0000_0000_0000_0000\n",
      "   axi_dt2           0 - 0000_0000_0000_0000_0000_0000_0000_0000\n",
      "  axi_addr           5 - 0000_0000_0000_0000_0000_0000_0000_0101\n",
      "  board_id           2 - 0000_0000_0000_0000_0000_0000_0000_0010\n",
      "      flag           0 - 0000_0000_0000_0000_0000_0000_0000_0000\n",
      "       dt1           0 - 0000_0000_0000_0000_0000_0000_0000_0000\n",
      "       dt2           0 - 0000_0000_0000_0000_0000_0000_0000_0000\n",
      "       mem           0 - 0000_0000_0000_0000_0000_0000_0000_0000\n",
      "     rx_dt           0 - 0000_0000_0000_0000_0000_0000_0000_0000\n",
      "     tx_dt           0 - 0000_0000_0000_0000_0000_0000_0000_0000\n",
      "    status    15007746 - 0000_0000_1110_0101_0000_0000_0000_0010\n",
      "     debug           0 - 0000_0000_0000_0000_0000_0000_0000_0000\n",
      "---------------------------------------------\n",
      "--- AXI Registers\n",
      " xcom_ctrl          16 - 0000_0000_0000_0000_0000_0000_0001_0000\n",
      "  xcom_cfg           2 - 0000_0000_0000_0000_0000_0000_0000_0010\n",
      "   axi_dt1           0 - 0000_0000_0000_0000_0000_0000_0000_0000\n",
      "   axi_dt2           0 - 0000_0000_0000_0000_0000_0000_0000_0000\n",
      "  axi_addr           5 - 0000_0000_0000_0000_0000_0000_0000_0101\n",
      "  board_id           2 - 0000_0000_0000_0000_0000_0000_0000_0010\n",
      "      flag           0 - 0000_0000_0000_0000_0000_0000_0000_0000\n",
      "       dt1           0 - 0000_0000_0000_0000_0000_0000_0000_0000\n",
      "       dt2           0 - 0000_0000_0000_0000_0000_0000_0000_0000\n",
      "       mem           0 - 0000_0000_0000_0000_0000_0000_0000_0000\n",
      "     rx_dt           0 - 0000_0000_0000_0000_0000_0000_0000_0000\n",
      "     tx_dt           0 - 0000_0000_0000_0000_0000_0000_0000_0000\n",
      "    status     8716288 - 0000_0000_1000_0101_0000_0000_0000_0000\n",
      "     debug           0 - 0000_0000_0000_0000_0000_0000_0000_0000\n"
     ]
    }
   ],
   "source": [
    "soc.xcom_0.xcom_cfg = 10\n",
    "soc.xcom_0.print_status()\n",
    "soc.xcom_1.print_status()\n",
    "soc.xcom_0.auto_id()\n",
    "soc.xcom_1.auto_id()\n",
    "soc.xcom_0.print_status()\n",
    "soc.xcom_1.print_status()\n",
    "\n",
    "soc.xcom_0.xcom_cfg = 2\n",
    "soc.xcom_0.print_status()\n",
    "soc.xcom_1.print_status()\n",
    "soc.xcom_0.auto_id()\n",
    "soc.xcom_1.auto_id()\n",
    "soc.xcom_0.print_status()\n",
    "soc.xcom_1.print_status()\n",
    "soc.xcom_0.print_axi_regs()\n",
    "soc.xcom_1.print_axi_regs()"
   ]
  },
  {
   "cell_type": "code",
   "execution_count": 116,
   "id": "980be341",
   "metadata": {},
   "outputs": [
    {
     "name": "stdout",
     "output_type": "stream",
     "text": [
      "00000000111001010000000000000010\n",
      "---------------------------------------------\n",
      "--- AXI XCOM Register STATUS\n",
      " tx_st     : 10\n",
      " c_cmd_st  : 00\n",
      " x_cmd_st  : 00\n",
      " rx_st[0]  : 00000\n",
      " rx_st[1]  : 00000\n",
      " tx_ready  : 1\n",
      " board_id  : 0010\n",
      "0 00000000000000000000000000000000\n",
      "---------------------------------------------\n",
      "--- AXI XCOM DEBUG\n",
      " cmd_loc_req_i : 0\n",
      " cmd_loc_ack   : 0\n",
      " loc_set_id    : 0\n",
      " loc_wflg      : 0\n",
      " loc_wreg      : 0\n",
      " loc_wmem      : 0\n",
      " cmd_net_req_i : 0\n",
      " cmd_net_ack   : 0\n",
      " cmd_op_i      : 00000000\n",
      " rx_cmd_op     : 0000\n",
      " tx_auto_id    : 0\n",
      " rx_no_dt      : 0\n",
      " rx_wflg       : 0\n",
      " rx_wreg       : 0\n",
      " rx_wmem       : 0\n",
      " rx_cmd_id     : 000\n",
      " cfg_i         : 0000\n",
      "---------------------------------------------\n",
      "--- AXI XCOM RX_DT\n",
      "rx_dt            0 -  00000000000000000000000000000000\n",
      "---------------------------------------------\n",
      "--- AXI XCOM TX_DT\n",
      "tx_dt            0 -  00000000000000000000000000000000\n",
      "---------------------------------------------\n",
      "--- AXI Registers\n",
      " xcom_ctrl          16 - 0000_0000_0000_0000_0000_0000_0001_0000\n",
      "  xcom_cfg           7 - 0000_0000_0000_0000_0000_0000_0000_0111\n",
      "   axi_dt1           0 - 0000_0000_0000_0000_0000_0000_0000_0000\n",
      "   axi_dt2           0 - 0000_0000_0000_0000_0000_0000_0000_0000\n",
      "  axi_addr           5 - 0000_0000_0000_0000_0000_0000_0000_0101\n",
      "  board_id           2 - 0000_0000_0000_0000_0000_0000_0000_0010\n",
      "      flag           0 - 0000_0000_0000_0000_0000_0000_0000_0000\n",
      "       dt1           0 - 0000_0000_0000_0000_0000_0000_0000_0000\n",
      "       dt2           0 - 0000_0000_0000_0000_0000_0000_0000_0000\n",
      "       mem           0 - 0000_0000_0000_0000_0000_0000_0000_0000\n",
      "     rx_dt           0 - 0000_0000_0000_0000_0000_0000_0000_0000\n",
      "     tx_dt           0 - 0000_0000_0000_0000_0000_0000_0000_0000\n",
      "    status    15007746 - 0000_0000_1110_0101_0000_0000_0000_0010\n",
      "     debug           0 - 0000_0000_0000_0000_0000_0000_0000_0000\n"
     ]
    }
   ],
   "source": [
    "soc.xcom_0.xcom_cfg = 7\n",
    "soc.xcom_0.print_status()\n",
    "soc.xcom_0.print_debug()\n",
    "soc.xcom_0.print_axi_regs()"
   ]
  },
  {
   "cell_type": "code",
   "execution_count": 131,
   "id": "4a64d04e",
   "metadata": {},
   "outputs": [
    {
     "name": "stdout",
     "output_type": "stream",
     "text": [
      "---------------------------------------------\n",
      "--- AXI Registers\n",
      " xcom_ctrl           4 - 0000_0000_0000_0000_0000_0000_0000_0100\n",
      "  xcom_cfg           7 - 0000_0000_0000_0000_0000_0000_0000_0111\n",
      "   axi_dt1           2 - 0000_0000_0000_0000_0000_0000_0000_0010\n",
      "   axi_dt2          14 - 0000_0000_0000_0000_0000_0000_0000_1110\n",
      "  axi_addr           5 - 0000_0000_0000_0000_0000_0000_0000_0101\n",
      "  board_id           2 - 0000_0000_0000_0000_0000_0000_0000_0010\n",
      "      flag           0 - 0000_0000_0000_0000_0000_0000_0000_0000\n",
      "       dt1           0 - 0000_0000_0000_0000_0000_0000_0000_0000\n",
      "       dt2           0 - 0000_0000_0000_0000_0000_0000_0000_0000\n",
      "       mem           0 - 0000_0000_0000_0000_0000_0000_0000_0000\n",
      "     rx_dt          10 - 0000_0000_0000_0000_0000_0000_0000_1010\n",
      "     tx_dt           0 - 0000_0000_0000_0000_0000_0000_0000_0000\n",
      "    status    15007746 - 0000_0000_1110_0101_0000_0000_0000_0010\n",
      "     debug           0 - 0000_0000_0000_0000_0000_0000_0000_0000\n",
      "---------------------------------------------\n",
      "--- AXI Registers\n",
      " xcom_ctrl          12 - 0000_0000_0000_0000_0000_0000_0000_1100\n",
      "  xcom_cfg           2 - 0000_0000_0000_0000_0000_0000_0000_0010\n",
      "   axi_dt1           2 - 0000_0000_0000_0000_0000_0000_0000_0010\n",
      "   axi_dt2          10 - 0000_0000_0000_0000_0000_0000_0000_1010\n",
      "  axi_addr           5 - 0000_0000_0000_0000_0000_0000_0000_0101\n",
      "  board_id           2 - 0000_0000_0000_0000_0000_0000_0000_0010\n",
      "      flag           0 - 0000_0000_0000_0000_0000_0000_0000_0000\n",
      "       dt1           0 - 0000_0000_0000_0000_0000_0000_0000_0000\n",
      "       dt2           0 - 0000_0000_0000_0000_0000_0000_0000_0000\n",
      "       mem           0 - 0000_0000_0000_0000_0000_0000_0000_0000\n",
      "     rx_dt          10 - 0000_0000_0000_0000_0000_0000_0000_1010\n",
      "     tx_dt          10 - 0000_0000_0000_0000_0000_0000_0000_1010\n",
      "    status    31784960 - 0000_0001_1110_0101_0000_0000_0000_0000\n",
      "     debug           0 - 0000_0000_0000_0000_0000_0000_0000_0000\n"
     ]
    }
   ],
   "source": [
    "soc.xcom_1.send_word(10, 2, 2)\n",
    "soc.xcom_0.print_axi_regs()\n",
    "soc.xcom_1.print_axi_regs()"
   ]
  },
  {
   "cell_type": "code",
   "execution_count": 12,
   "id": "df5b206d",
   "metadata": {},
   "outputs": [
    {
     "name": "stdout",
     "output_type": "stream",
     "text": [
      "---------------------------------------------\n",
      "--- AXI Registers\n",
      " xcom_ctrl           5 - 0000_0000_0000_0000_0000_0000_0000_0101\n",
      "  xcom_cfg          15 - 0000_0000_0000_0000_0000_0000_0000_1111\n",
      "   axi_dt1           3 - 0000_0000_0000_0000_0000_0000_0000_0011\n",
      "   axi_dt2          34 - 0000_0000_0000_0000_0000_0000_0010_0010\n",
      "  axi_addr           0 - 0000_0000_0000_0000_0000_0000_0000_0000\n",
      "  board_id           8 - 0000_0000_0000_0000_0000_0000_0000_1000\n",
      "      flag           0 - 0000_0000_0000_0000_0000_0000_0000_0000\n",
      "       dt1           0 - 0000_0000_0000_0000_0000_0000_0000_0000\n",
      "       dt2           0 - 0000_0000_0000_0000_0000_0000_0000_0000\n",
      "       mem           0 - 0000_0000_0000_0000_0000_0000_0000_0000\n",
      "     rx_dt          34 - 0000_0000_0000_0000_0000_0000_0010_0010\n",
      "     tx_dt          34 - 0000_0000_0000_0000_0000_0000_0010_0010\n",
      "    status    15794177 - 0000_0000_1111_0001_0000_0000_0000_0001\n",
      "     debug           0 - 0000_0000_0000_0000_0000_0000_0000_0000\n",
      "---------------------------------------------\n",
      "--- AXI Registers\n",
      " xcom_ctrl          33 - 0000_0000_0000_0000_0000_0000_0010_0001\n",
      "  xcom_cfg           2 - 0000_0000_0000_0000_0000_0000_0000_0010\n",
      "   axi_dt1           8 - 0000_0000_0000_0000_0000_0000_0000_1000\n",
      "   axi_dt2           0 - 0000_0000_0000_0000_0000_0000_0000_0000\n",
      "  axi_addr           0 - 0000_0000_0000_0000_0000_0000_0000_0000\n",
      "  board_id           8 - 0000_0000_0000_0000_0000_0000_0000_1000\n",
      "      flag           0 - 0000_0000_0000_0000_0000_0000_0000_0000\n",
      "       dt1           0 - 0000_0000_0000_0000_0000_0000_0000_0000\n",
      "       dt2           0 - 0000_0000_0000_0000_0000_0000_0000_0000\n",
      "       mem           0 - 0000_0000_0000_0000_0000_0000_0000_0000\n",
      "     rx_dt          34 - 0000_0000_0000_0000_0000_0000_0010_0010\n",
      "     tx_dt           0 - 0000_0000_0000_0000_0000_0000_0000_0000\n",
      "    status     3211264 - 0000_0000_0011_0001_0000_0000_0000_0000\n",
      "     debug           0 - 0000_0000_0000_0000_0000_0000_0000_0000\n"
     ]
    }
   ],
   "source": [
    "soc.xcom_0.print_axi_regs()\n",
    "soc.xcom_1.print_axi_regs()"
   ]
  },
  {
   "cell_type": "code",
   "execution_count": 13,
   "id": "4aacde98",
   "metadata": {},
   "outputs": [],
   "source": [
    "#soc.xcom_1.send_byte(1023, 1, 12)\n",
    "#socxcom_1.send_word(-1, 1, 1)\n",
    "soc.xcom_0.update_byte(255, 3)\n",
    "soc.xcom_1.update_byte(138, 7)"
   ]
  },
  {
   "cell_type": "code",
   "execution_count": 14,
   "id": "996f2269",
   "metadata": {},
   "outputs": [
    {
     "name": "stdout",
     "output_type": "stream",
     "text": [
      "---------------------------------------------\n",
      "--- AXI Registers\n",
      " xcom_ctrl          21 - 0000_0000_0000_0000_0000_0000_0001_0101\n",
      "  xcom_cfg          15 - 0000_0000_0000_0000_0000_0000_0000_1111\n",
      "   axi_dt1           3 - 0000_0000_0000_0000_0000_0000_0000_0011\n",
      "   axi_dt2         255 - 0000_0000_0000_0000_0000_0000_1111_1111\n",
      "  axi_addr           0 - 0000_0000_0000_0000_0000_0000_0000_0000\n",
      "  board_id           8 - 0000_0000_0000_0000_0000_0000_0000_1000\n",
      "      flag           0 - 0000_0000_0000_0000_0000_0000_0000_0000\n",
      "       dt1           0 - 0000_0000_0000_0000_0000_0000_0000_0000\n",
      "       dt2           0 - 0000_0000_0000_0000_0000_0000_0000_0000\n",
      "       mem           0 - 0000_0000_0000_0000_0000_0000_0000_0000\n",
      "     rx_dt         255 - 0000_0000_0000_0000_0000_0000_1111_1111\n",
      "     tx_dt         255 - 0000_0000_0000_0000_0000_0000_1111_1111\n",
      "    status    19988480 - 0000_0001_0011_0001_0000_0000_0000_0000\n",
      "     debug           0 - 0000_0000_0000_0000_0000_0000_0000_0000\n",
      "---------------------------------------------\n",
      "--- AXI Registers\n",
      " xcom_ctrl          21 - 0000_0000_0000_0000_0000_0000_0001_0101\n",
      "  xcom_cfg           2 - 0000_0000_0000_0000_0000_0000_0000_0010\n",
      "   axi_dt1           7 - 0000_0000_0000_0000_0000_0000_0000_0111\n",
      "   axi_dt2         138 - 0000_0000_0000_0000_0000_0000_1000_1010\n",
      "  axi_addr           0 - 0000_0000_0000_0000_0000_0000_0000_0000\n",
      "  board_id           7 - 0000_0000_0000_0000_0000_0000_0000_0111\n",
      "      flag           0 - 0000_0000_0000_0000_0000_0000_0000_0000\n",
      "       dt1           0 - 0000_0000_0000_0000_0000_0000_0000_0000\n",
      "       dt2           0 - 0000_0000_0000_0000_0000_0000_0000_0000\n",
      "       mem           0 - 0000_0000_0000_0000_0000_0000_0000_0000\n",
      "     rx_dt         138 - 0000_0000_0000_0000_0000_0000_1000_1010\n",
      "     tx_dt         138 - 0000_0000_0000_0000_0000_0000_1000_1010\n",
      "    status     9371648 - 0000_0000_1000_1111_0000_0000_0000_0000\n",
      "     debug           0 - 0000_0000_0000_0000_0000_0000_0000_0000\n"
     ]
    }
   ],
   "source": [
    "soc.xcom_0.print_axi_regs()\n",
    "soc.xcom_1.print_axi_regs()"
   ]
  },
  {
   "cell_type": "code",
   "execution_count": 59,
   "id": "edc1d779",
   "metadata": {},
   "outputs": [],
   "source": [
    "soc.xcom_0.xcom_cfg = 3"
   ]
  },
  {
   "cell_type": "code",
   "execution_count": 18,
   "id": "90cc64d6-af72-4d6f-9ee6-f24fa0e199b9",
   "metadata": {},
   "outputs": [
    {
     "name": "stdout",
     "output_type": "stream",
     "text": [
      "addr  xcom_0_mem   xcom_1_mem  \n",
      "  0        20480            0\n",
      "  1        20481           16\n",
      "  2        20482            0\n",
      "  3        20483            0\n",
      "  4        20484            0\n",
      "  5        20485            0\n",
      "  6        20486            0\n",
      "  7        20487            0\n",
      "  8        20488            0\n",
      "  9        20489            0\n",
      " 10        20490            0\n",
      " 11        20491            0\n",
      " 12        20492            0\n",
      " 13        20493            0\n",
      " 14        20494            0\n",
      " 15        20495            0\n"
     ]
    }
   ],
   "source": [
    "for i in range(16):\n",
    "    soc.xcom_0.run_cmd(soc.xcom_0.opcodes['XCOM_WRITE_MEM'], i, 0x5000+i)\n",
    "\n",
    "print(\"{0:5s} {2:12s} {4:12s}\".format('addr','\\t','xcom_0_mem','\\t','xcom_1_mem'))\n",
    "for i in range(16):\n",
    "    soc.xcom_0.axi_addr = i\n",
    "    soc.xcom_1.axi_addr = i\n",
    "    print(\"{0:3d} {2:12d} {4:12d}\".format(soc.xcom_0.axi_addr, '\\t', soc.xcom_0.mem, '\\t', soc.xcom_1.mem))\n",
    "    soc.xcom_0.mem"
   ]
  },
  {
   "cell_type": "code",
   "execution_count": 84,
   "id": "3efd1c24",
   "metadata": {},
   "outputs": [],
   "source": [
    "soc.xcom_0.run_cmd(19, 13, 0x24)"
   ]
  },
  {
   "cell_type": "code",
   "execution_count": 16,
   "id": "2fbb35dc",
   "metadata": {},
   "outputs": [
    {
     "name": "stdout",
     "output_type": "stream",
     "text": [
      "addr  xcom_0_mem   xcom_1_mem  \n",
      "  0            0            0\n",
      "  1           17           16\n",
      "  2            0            0\n",
      "  3            0            0\n",
      "  4            0            0\n",
      "  5            0            0\n",
      "  6            0            0\n",
      "  7            0            0\n",
      "  8            0            0\n",
      "  9            0            0\n",
      " 10            0            0\n",
      " 11            0            0\n",
      " 12            0            0\n",
      " 13            0            0\n",
      " 14            0            0\n",
      " 15            0            0\n"
     ]
    }
   ],
   "source": [
    "print(\"{0:5s} {2:12s} {4:12s}\".format('addr','\\t','xcom_0_mem','\\t','xcom_1_mem'))\n",
    "for i in range(16):\n",
    "    soc.xcom_0.axi_addr = i\n",
    "    soc.xcom_1.axi_addr = i\n",
    "    print(\"{0:3d} {2:12d} {4:12d}\".format(soc.xcom_0.axi_addr, '\\t', soc.xcom_0.mem, '\\t', soc.xcom_1.mem))\n",
    "    soc.xcom_0.mem"
   ]
  },
  {
   "cell_type": "code",
   "execution_count": 99,
   "id": "c9ae97fc",
   "metadata": {},
   "outputs": [],
   "source": [
    "soc.xcom_1.run_cmd(19, 2, 32)"
   ]
  },
  {
   "cell_type": "code",
   "execution_count": 100,
   "id": "0d3a1ba7",
   "metadata": {},
   "outputs": [
    {
     "name": "stdout",
     "output_type": "stream",
     "text": [
      "addr  xcom_0_mem   xcom_1_mem  \n",
      "  0        20481            0\n",
      "  1        20481            0\n",
      "  2   3059460576           32\n",
      "  3   2380828044   3767387205\n",
      "  4            0            0\n",
      "  5            0            0\n"
     ]
    }
   ],
   "source": [
    "print(\"{0:5s} {2:12s} {4:12s}\".format('addr','\\t','xcom_0_mem','\\t','xcom_1_mem'))\n",
    "for i in range(6):\n",
    "    soc.xcom_0.axi_addr = i\n",
    "    soc.xcom_1.axi_addr = i\n",
    "    print(\"{0:3d} {2:12d} {4:12d}\".format(soc.xcom_0.axi_addr, '\\t', soc.xcom_0.mem, '\\t', soc.xcom_1.mem))\n",
    "    soc.xcom_0.mem"
   ]
  },
  {
   "cell_type": "code",
   "execution_count": 88,
   "id": "059a53da",
   "metadata": {},
   "outputs": [],
   "source": [
    "soc.xcom_0.xcom_cfg = 0"
   ]
  },
  {
   "cell_type": "code",
   "execution_count": 101,
   "id": "b5cf0734-cd8f-4363-ac2f-fdea55ffc435",
   "metadata": {},
   "outputs": [
    {
     "data": {
      "text/plain": [
       "0"
      ]
     },
     "execution_count": 101,
     "metadata": {},
     "output_type": "execute_result"
    }
   ],
   "source": [
    "soc.xcom_0.mem"
   ]
  },
  {
   "cell_type": "code",
   "execution_count": 103,
   "id": "3ab16018",
   "metadata": {},
   "outputs": [
    {
     "name": "stdout",
     "output_type": "stream",
     "text": [
      "error xcom_0 to xcom_1 - sent 3101098253, received 32\n",
      "Final Values\n",
      "addr  xcom_0_mem   xcom_1_mem  \n",
      "  0        20481            0\n",
      "  1        20481            0\n",
      "  2   1526152106           32\n",
      "  3   3101098253   1299816033\n",
      "  4            0            0\n",
      "  5            0            0\n",
      "  6            0            0\n",
      "  7            0            0\n",
      "  8            0            0\n",
      "  9            0            0\n",
      " 10            0            0\n",
      " 11            0            0\n",
      " 12            0            0\n",
      " 13           36            2\n",
      " 14        20481         1280\n",
      " 15        20481         1280\n"
     ]
    }
   ],
   "source": [
    "# write random 32 bit number to memory to self and other xcom\n",
    "# ~50 seconds for 100k loops\n",
    "num_loops = 10000\n",
    "#xcom_0 to xcom_0\n",
    "for i in range(num_loops):\n",
    "    soc.xcom_0.axi_addr = 2\n",
    "    random_int = random.randint(0,4294867295)\n",
    "    soc.xcom_0.run_cmd(19, 2, random_int)\n",
    "    readback=soc.xcom_0.mem\n",
    "    if readback != random_int:\n",
    "        print('error xcom_0 to xcom_0 - sent, received',random_int,readback)\n",
    "        break\n",
    "    #xcom_1 to xcom_1\n",
    "    soc.xcom_1.axi_addr = 3\n",
    "    random_int = random.randint(0,4294867295)\n",
    "    soc.xcom_1.run_cmd(19, 3, random_int)\n",
    "    readback=soc.xcom_1.mem\n",
    "    if readback != random_int:\n",
    "        print('error xcom_1 to xcom_1 - sent, received',random_int,readback)\n",
    "        break\n",
    "    #xcom_0 to xcom_1\n",
    "    soc.xcom_1.axi_addr = 2\n",
    "    random_int = random.randint(0,4294867295)\n",
    "    soc.xcom_0.run_cmd(19, 3, random_int)\n",
    "    readback=soc.xcom_1.mem\n",
    "    if readback != random_int:\n",
    "        print(f'error xcom_0 to xcom_1 - sent {random_int}, received {readback}')\n",
    "        break\n",
    "    #xcom_1 to xcom_0\n",
    "    soc.xcom_0.axi_addr = 3\n",
    "    random_int = random.randint(0,4294867295)\n",
    "    soc.xcom_1.run_cmd(19, 2, random_int)\n",
    "    readback=soc.xcom_0.mem\n",
    "    if readback != random_int:\n",
    "        print('error xcom_1 to xcom_0 - sent, received',random_int,readback)\n",
    "        break\n",
    "        \n",
    "print('Final Values')\n",
    "print(\"{0:5s} {2:12s} {4:12s}\".format('addr','\\t','xcom_0_mem','\\t','xcom_1_mem'))\n",
    "for i in range(16):\n",
    "    soc.xcom_0.axi_addr = i\n",
    "    soc.xcom_1.axi_addr = i\n",
    "    print(\"{0:3d} {2:12d} {4:12d}\".format(soc.xcom_0.axi_addr, '\\t', soc.xcom_0.mem, '\\t', soc.xcom_1.mem))\n",
    "    soc.xcom_0.mem"
   ]
  },
  {
   "cell_type": "code",
   "execution_count": 104,
   "id": "361fbf06",
   "metadata": {},
   "outputs": [],
   "source": [
    "#WRITE MEM\n",
    "soc.xcom_0.run_cmd(19, 4, 4)"
   ]
  },
  {
   "cell_type": "code",
   "execution_count": 105,
   "id": "b71f2b07",
   "metadata": {},
   "outputs": [
    {
     "name": "stdout",
     "output_type": "stream",
     "text": [
      "---------------------------------------------\n",
      "--- AXI Registers\n",
      " xcom_ctrl          36 - 0000_0000_0000_0000_0000_0000_0010_0100\n",
      "  xcom_cfg           0 - 0000_0000_0000_0000_0000_0000_0000_0000\n",
      "   axi_dt1           4 - 0000_0000_0000_0000_0000_0000_0000_0100\n",
      "   axi_dt2           4 - 0000_0000_0000_0000_0000_0000_0000_0100\n",
      "  axi_addr          15 - 0000_0000_0000_0000_0000_0000_0000_1111\n",
      "  board_id           1 - 0000_0000_0000_0000_0000_0000_0000_0001\n",
      "      flag           0 - 0000_0000_0000_0000_0000_0000_0000_0000\n",
      "       dt1           0 - 0000_0000_0000_0000_0000_0000_0000_0000\n",
      "       dt2           0 - 0000_0000_0000_0000_0000_0000_0000_0000\n",
      "       mem       20481 - 0000_0000_0000_0000_0101_0000_0000_0001\n",
      "     rx_dt          32 - 0000_0000_0000_0000_0000_0000_0010_0000\n",
      "     tx_dt           4 - 0000_0000_0000_0000_0000_0000_0000_0100\n",
      "    status    10682368 - 0000_0000_1010_0011_0000_0000_0000_0000\n",
      "     debug           0 - 0000_0000_0000_0000_0000_0000_0000_0000\n"
     ]
    }
   ],
   "source": [
    "### soc.qick_xcom_0.axi_addr = 2\n",
    "soc.xcom_0.print_axi_regs()"
   ]
  },
  {
   "cell_type": "code",
   "execution_count": 24,
   "id": "d58f4e5b",
   "metadata": {},
   "outputs": [
    {
     "name": "stdout",
     "output_type": "stream",
     "text": [
      "---------------------------------------------\n",
      "--- AXI Registers\n",
      " xcom_ctrl          39 - 0000_0000_0000_0000_0000_0000_0010_0111\n",
      "  xcom_cfg           0 - 0000_0000_0000_0000_0000_0000_0000_0000\n",
      "   axi_dt1           4 - 0000_0000_0000_0000_0000_0000_0000_0100\n",
      "   axi_dt2           4 - 0000_0000_0000_0000_0000_0000_0000_0100\n",
      "  axi_addr           2 - 0000_0000_0000_0000_0000_0000_0000_0010\n",
      "  board_id           8 - 0000_0000_0000_0000_0000_0000_0000_1000\n",
      "      flag           0 - 0000_0000_0000_0000_0000_0000_0000_0000\n",
      "       dt1           0 - 0000_0000_0000_0000_0000_0000_0000_0000\n",
      "       dt2           0 - 0000_0000_0000_0000_0000_0000_0000_0000\n",
      "       mem           0 - 0000_0000_0000_0000_0000_0000_0000_0000\n",
      "     rx_dt           4 - 0000_0000_0000_0000_0000_0000_0000_0100\n",
      "     tx_dt           4 - 0000_0000_0000_0000_0000_0000_0000_0100\n",
      "    status     3211264 - 0000_0000_0011_0001_0000_0000_0000_0000\n",
      "     debug           0 - 0000_0000_0000_0000_0000_0000_0000_0000\n"
     ]
    }
   ],
   "source": [
    "soc.xcom_0.axi_addr = 2\n",
    "soc.xcom_0.print_axi_regs()"
   ]
  },
  {
   "cell_type": "code",
   "execution_count": 25,
   "id": "c61a04a7",
   "metadata": {},
   "outputs": [
    {
     "name": "stdout",
     "output_type": "stream",
     "text": [
      "---------------------------------------------\n",
      "--- AXI Registers\n",
      " xcom_ctrl          29 - 0000_0000_0000_0000_0000_0000_0001_1101\n",
      "  xcom_cfg           2 - 0000_0000_0000_0000_0000_0000_0000_0010\n",
      "   axi_dt1           2 - 0000_0000_0000_0000_0000_0000_0000_0010\n",
      "   axi_dt2          32 - 0000_0000_0000_0000_0000_0000_0010_0000\n",
      "  axi_addr           4 - 0000_0000_0000_0000_0000_0000_0000_0100\n",
      "  board_id           7 - 0000_0000_0000_0000_0000_0000_0000_0111\n",
      "      flag           0 - 0000_0000_0000_0000_0000_0000_0000_0000\n",
      "       dt1           0 - 0000_0000_0000_0000_0000_0000_0000_0000\n",
      "       dt2           0 - 0000_0000_0000_0000_0000_0000_0000_0000\n",
      "       mem           0 - 0000_0000_0000_0000_0000_0000_0000_0000\n",
      "     rx_dt          32 - 0000_0000_0000_0000_0000_0000_0010_0000\n",
      "     tx_dt          32 - 0000_0000_0000_0000_0000_0000_0010_0000\n",
      "    status    15663104 - 0000_0000_1110_1111_0000_0000_0000_0000\n",
      "     debug           0 - 0000_0000_0000_0000_0000_0000_0000_0000\n"
     ]
    }
   ],
   "source": [
    "soc.xcom_1.axi_addr = 4\n",
    "soc.xcom_1.print_axi_regs()"
   ]
  },
  {
   "cell_type": "code",
   "execution_count": 26,
   "id": "bea2711f",
   "metadata": {},
   "outputs": [
    {
     "name": "stdout",
     "output_type": "stream",
     "text": [
      "---------------------------------------------\n",
      "--- AXI Registers\n",
      " xcom_ctrl           5 - 0000_0000_0000_0000_0000_0000_0000_0101\n",
      "  xcom_cfg           0 - 0000_0000_0000_0000_0000_0000_0000_0000\n",
      "   axi_dt1           0 - 0000_0000_0000_0000_0000_0000_0000_0000\n",
      "   axi_dt2  4294967295 - 1111_1111_1111_1111_1111_1111_1111_1111\n",
      "  axi_addr           2 - 0000_0000_0000_0000_0000_0000_0000_0010\n",
      "  board_id           8 - 0000_0000_0000_0000_0000_0000_0000_1000\n",
      "      flag           0 - 0000_0000_0000_0000_0000_0000_0000_0000\n",
      "       dt1           0 - 0000_0000_0000_0000_0000_0000_0000_0000\n",
      "       dt2           0 - 0000_0000_0000_0000_0000_0000_0000_0000\n",
      "       mem           0 - 0000_0000_0000_0000_0000_0000_0000_0000\n",
      "     rx_dt         255 - 0000_0000_0000_0000_0000_0000_1111_1111\n",
      "     tx_dt  4294967295 - 1111_1111_1111_1111_1111_1111_1111_1111\n",
      "    status     9502720 - 0000_0000_1001_0001_0000_0000_0000_0000\n",
      "     debug           0 - 0000_0000_0000_0000_0000_0000_0000_0000\n",
      "---------------------------------------------\n",
      "--- AXI Registers\n",
      " xcom_ctrl          29 - 0000_0000_0000_0000_0000_0000_0001_1101\n",
      "  xcom_cfg           2 - 0000_0000_0000_0000_0000_0000_0000_0010\n",
      "   axi_dt1           2 - 0000_0000_0000_0000_0000_0000_0000_0010\n",
      "   axi_dt2          32 - 0000_0000_0000_0000_0000_0000_0010_0000\n",
      "  axi_addr           4 - 0000_0000_0000_0000_0000_0000_0000_0100\n",
      "  board_id           7 - 0000_0000_0000_0000_0000_0000_0000_0111\n",
      "      flag           0 - 0000_0000_0000_0000_0000_0000_0000_0000\n",
      "       dt1           0 - 0000_0000_0000_0000_0000_0000_0000_0000\n",
      "       dt2           0 - 0000_0000_0000_0000_0000_0000_0000_0000\n",
      "       mem           0 - 0000_0000_0000_0000_0000_0000_0000_0000\n",
      "     rx_dt         255 - 0000_0000_0000_0000_0000_0000_1111_1111\n",
      "     tx_dt          32 - 0000_0000_0000_0000_0000_0000_0010_0000\n",
      "    status    15663104 - 0000_0000_1110_1111_0000_0000_0000_0000\n",
      "     debug           0 - 0000_0000_0000_0000_0000_0000_0000_0000\n"
     ]
    }
   ],
   "source": [
    "soc.xcom_0.send_byte(-1, 0, 1)\n",
    "soc.xcom_0.print_axi_regs()\n",
    "soc.xcom_1.print_axi_regs()"
   ]
  },
  {
   "cell_type": "code",
   "execution_count": 106,
   "id": "b01ae914",
   "metadata": {},
   "outputs": [
    {
     "name": "stdout",
     "output_type": "stream",
     "text": [
      "---------------------------------------------\n",
      "--- AXI Registers\n",
      "     tproc_ctrl           0 - 0000_0000_0000_0000_0000_0000_0000_0000\n",
      "      tproc_cfg           0 - 0000_0000_0000_0000_0000_0000_0000_0000\n",
      "       mem_addr           0 - 0000_0000_0000_0000_0000_0000_0000_0000\n",
      "        mem_len           0 - 0000_0000_0000_0000_0000_0000_0000_0000\n",
      "       mem_dt_i           0 - 0000_0000_0000_0000_0000_0000_0000_0000\n",
      "      axi_w_dt1           0 - 0000_0000_0000_0000_0000_0000_0000_0000\n",
      "      axi_w_dt2           0 - 0000_0000_0000_0000_0000_0000_0000_0000\n",
      "       core_cfg           0 - 0000_0000_0000_0000_0000_0000_0000_0000\n",
      "     axi_dt_src           0 - 0000_0000_0000_0000_0000_0000_0000_0000\n",
      "       mem_dt_o           0 - 0000_0000_0000_0000_0000_0000_0000_0000\n",
      "      axi_r_dt1           0 - 0000_0000_0000_0000_0000_0000_0000_0000\n",
      "      axi_r_dt2           0 - 0000_0000_0000_0000_0000_0000_0000_0000\n",
      "       time_usr           0 - 0000_0000_0000_0000_0000_0000_0000_0000\n",
      "   tproc_status   218103876 - 0000_1101_0000_0000_0000_0000_0100_0100\n",
      "    tproc_debug          15 - 0000_0000_0000_0000_0000_0000_0000_1111\n"
     ]
    }
   ],
   "source": [
    "#soc.qick_processor_0.print_status()\n",
    "#soc.qick_processor_0.print_debug()\n",
    "soc.qick_processor_0.print_axi_regs()"
   ]
  },
  {
   "cell_type": "code",
   "execution_count": 107,
   "id": "42f6a3bf",
   "metadata": {},
   "outputs": [
    {
     "name": "stdout",
     "output_type": "stream",
     "text": [
      "---------------------------------------------\n",
      "--- AXI Registers\n",
      "     tproc_ctrl           0 - 0000_0000_0000_0000_0000_0000_0000_0000\n",
      "      tproc_cfg  4294967295 - 1111_1111_1111_1111_1111_1111_1111_1111\n",
      "       mem_addr           0 - 0000_0000_0000_0000_0000_0000_0000_0000\n",
      "        mem_len           0 - 0000_0000_0000_0000_0000_0000_0000_0000\n",
      "       mem_dt_i           0 - 0000_0000_0000_0000_0000_0000_0000_0000\n",
      "      axi_w_dt1           0 - 0000_0000_0000_0000_0000_0000_0000_0000\n",
      "      axi_w_dt2           0 - 0000_0000_0000_0000_0000_0000_0000_0000\n",
      "       core_cfg           0 - 0000_0000_0000_0000_0000_0000_0000_0000\n",
      "     axi_dt_src           0 - 0000_0000_0000_0000_0000_0000_0000_0000\n",
      "       mem_dt_o           0 - 0000_0000_0000_0000_0000_0000_0000_0000\n",
      "      axi_r_dt1           0 - 0000_0000_0000_0000_0000_0000_0000_0000\n",
      "      axi_r_dt2           0 - 0000_0000_0000_0000_0000_0000_0000_0000\n",
      "       time_usr           0 - 0000_0000_0000_0000_0000_0000_0000_0000\n",
      "   tproc_status   218103876 - 0000_1101_0000_0000_0000_0000_0100_0100\n",
      "    tproc_debug          15 - 0000_0000_0000_0000_0000_0000_0000_1111\n",
      "0\n",
      "---------------------------------------------\n",
      "--- AXI TPROC Register STATUS\n",
      "--- PROCESSOR -- \n",
      "Core_STATE      : 101 - C_RUN\n",
      "Core_EN         : 1\n",
      "Time_STATE      : 011 - T_INIT\n",
      "Time_EN         : 1\n",
      "----------------\n",
      "Core_Src_dt     : 00\n",
      "----------------\n",
      "Core Src  Flag  : 000\n",
      "--    C0  Flag  : 0\n",
      ".Internal Flag  : 0\n",
      ".Axi      Flag  : 0\n",
      ".External Flag  : 0\n",
      ".QNET     Flag  : 0\n",
      ".QCOM     Flag  : 0\n",
      ".QP1      Flag  : 0\n",
      ".Port_dt_new    : 0\n",
      "----------------\n",
      "div_dt_new      : 0\n",
      "qnet_dt_new     : 0\n",
      "qcom_dt_new     : 0\n",
      "qp1_dt_new      : 0\n",
      "qp2_dt_new      : 0\n",
      "div_rdy         : 1\n",
      "arith_rdy       : 1\n",
      "qnet_rdy        : 0\n",
      "qcom_rdy        : 0\n",
      "qp1_rdy         : 0\n",
      "qp2_rdy         : 0\n",
      "289587\n",
      "358306\n"
     ]
    }
   ],
   "source": [
    "soc.qick_processor_0.tproc_cfg = -1\n",
    "soc.qick_processor_0.print_axi_regs()\n",
    "print(soc.qick_processor_0.time_usr)\n",
    "soc.qick_processor_0.start()\n",
    "soc.qick_processor_0.print_status()\n",
    "print(soc.qick_processor_0.time_usr)\n",
    "soc.qick_processor_0.stop()\n",
    "print(soc.qick_processor_0.time_usr)"
   ]
  },
  {
   "cell_type": "code",
   "execution_count": 108,
   "id": "85210584",
   "metadata": {},
   "outputs": [
    {
     "name": "stdout",
     "output_type": "stream",
     "text": [
      "---------------------------------------------\n",
      "--- AXI TPROC Register STATUS\n",
      "--- PROCESSOR -- \n",
      "Core_STATE      : 100 - C_STOP\n",
      "Core_EN         : 0\n",
      "Time_STATE      : 100 - T_RUN\n",
      "Time_EN         : 0\n",
      "----------------\n",
      "Core_Src_dt     : 00\n",
      "----------------\n",
      "Core Src  Flag  : 000\n",
      "--    C0  Flag  : 0\n",
      ".Internal Flag  : 0\n",
      ".Axi      Flag  : 0\n",
      ".External Flag  : 0\n",
      ".QNET     Flag  : 0\n",
      ".QCOM     Flag  : 0\n",
      ".QP1      Flag  : 0\n",
      ".Port_dt_new    : 0\n",
      "----------------\n",
      "div_dt_new      : 0\n",
      "qnet_dt_new     : 0\n",
      "qcom_dt_new     : 0\n",
      "qp1_dt_new      : 0\n",
      "qp2_dt_new      : 0\n",
      "div_rdy         : 1\n",
      "arith_rdy       : 1\n",
      "qnet_rdy        : 0\n",
      "qcom_rdy        : 0\n",
      "qp1_rdy         : 0\n",
      "qp2_rdy         : 0\n"
     ]
    }
   ],
   "source": [
    "soc.qick_processor_0.print_status()"
   ]
  },
  {
   "cell_type": "code",
   "execution_count": 112,
   "id": "01a03d9c",
   "metadata": {},
   "outputs": [
    {
     "name": "stdout",
     "output_type": "stream",
     "text": [
      "------------------------------\n",
      "addr  xcom_0_mem   xcom_1_mem  \n",
      "  0        20481            0\n",
      "  1        20481            0\n",
      "  2   1526152106           32\n",
      "  3   3101098253   1299816033\n",
      "  4            4            0\n",
      "  5            0            0\n",
      "---------------------------------------------\n",
      "--- AXI Registers\n",
      " xcom_ctrl          36 - 0000_0000_0000_0000_0000_0000_0010_0100\n",
      "  xcom_cfg           2 - 0000_0000_0000_0000_0000_0000_0000_0010\n",
      "   axi_dt1           4 - 0000_0000_0000_0000_0000_0000_0000_0100\n",
      "   axi_dt2           4 - 0000_0000_0000_0000_0000_0000_0000_0100\n",
      "  axi_addr           5 - 0000_0000_0000_0000_0000_0000_0000_0101\n",
      "  board_id           1 - 0000_0000_0000_0000_0000_0000_0000_0001\n",
      "      flag           0 - 0000_0000_0000_0000_0000_0000_0000_0000\n",
      "       dt1           0 - 0000_0000_0000_0000_0000_0000_0000_0000\n",
      "       dt2           0 - 0000_0000_0000_0000_0000_0000_0000_0000\n",
      "       mem           0 - 0000_0000_0000_0000_0000_0000_0000_0000\n",
      "     rx_dt          32 - 0000_0000_0000_0000_0000_0000_0010_0000\n",
      "     tx_dt           4 - 0000_0000_0000_0000_0000_0000_0000_0100\n",
      "    status    10682368 - 0000_0000_1010_0011_0000_0000_0000_0000\n",
      "     debug           0 - 0000_0000_0000_0000_0000_0000_0000_0000\n",
      "---------------------------------------------\n",
      "--- AXI Registers\n",
      " xcom_ctrl          36 - 0000_0000_0000_0000_0000_0000_0010_0100\n",
      "  xcom_cfg           2 - 0000_0000_0000_0000_0000_0000_0000_0010\n",
      "   axi_dt1           3 - 0000_0000_0000_0000_0000_0000_0000_0011\n",
      "   axi_dt2  1299816033 - 0100_1101_0111_1001_1001_1110_0110_0001\n",
      "  axi_addr           5 - 0000_0000_0000_0000_0000_0000_0000_0101\n",
      "  board_id           2 - 0000_0000_0000_0000_0000_0000_0000_0010\n",
      "      flag           0 - 0000_0000_0000_0000_0000_0000_0000_0000\n",
      "       dt1           0 - 0000_0000_0000_0000_0000_0000_0000_0000\n",
      "       dt2           0 - 0000_0000_0000_0000_0000_0000_0000_0000\n",
      "       mem           0 - 0000_0000_0000_0000_0000_0000_0000_0000\n",
      "     rx_dt  1264815867 - 0100_1011_0110_0011_1000_1110_1111_1011\n",
      "     tx_dt  1299816033 - 0100_1101_0111_1001_1001_1110_0110_0001\n",
      "    status     6619136 - 0000_0000_0110_0101_0000_0000_0000_0000\n",
      "     debug           0 - 0000_0000_0000_0000_0000_0000_0000_0000\n"
     ]
    }
   ],
   "source": [
    "asm = \"\"\"\n",
    "//TEST program\n",
    "// write some registers\n",
    "REG_WR r1 imm #1\n",
    "REG_WR r2 imm #2\n",
    "REG_WR r3 imm #3\n",
    "REG_WR r4 imm #4\n",
    "REG_WR r5 op -op(s_rand)\n",
    "// Set flag\n",
    "//PA 0 r1\n",
    "\n",
    "// Write to mem\n",
    "REG_WR s_ctrl imm ctrl_clr_qpa \n",
    "REG_WR s_cfg imm cfg_src_qpa \n",
    "WAIT qpa_rdy \n",
    "PA 14 r2 r5\n",
    "WAIT qpa_dt\n",
    "\n",
    "//REG_WR s_ctrl imm ctrl_clr_qpb \n",
    "//REG_WR s_cfg imm cfg_src_qpb \n",
    "//WAIT qpb_rdy \n",
    "//PB 14 r2 r1\n",
    "//WAIT qpb_dt\n",
    "\"\"\"\n",
    "p_txt, p_bin  = Assembler.str_asm2bin(asm)\n",
    "\n",
    "#soc.qick_processor_0.Load_PMEM(p_bin)\n",
    "#soc.tproc.Load_PMEM(p_bin)\n",
    "#soc.qick_processor_0.load_bin_program(p_bin,1)\n",
    "#soc.qick_processor_0.load_mem(p_bin, 'pmem')\n",
    "soc.qick_processor_0.load_mem(mem_sel='pmem', buff_in=p_bin)\n",
    "# soc.tproc.load_mem(mem_sel='dmem', buff_in=np.zeros(100,dtype=np.int32))\n",
    "\n",
    "soc.qick_processor_0.start()\n",
    "time.sleep(0.9)\n",
    "soc.qick_processor_0.stop()\n",
    "\n",
    "print('------------------------------')\n",
    "print(\"{0:5s} {2:12s} {4:12s}\".format('addr','\\t','xcom_0_mem','\\t','xcom_1_mem'))\n",
    "for i in range(6):\n",
    "    soc.xcom_0.axi_addr = i\n",
    "    soc.xcom_1.axi_addr = i\n",
    "    print(\"{0:3d} {2:12d} {4:12d}\".format(soc.xcom_0.axi_addr, '\\t', soc.xcom_0.mem, '\\t', soc.xcom_1.mem))\n",
    "    soc.xcom_0.mem\n",
    "    \n",
    "soc.xcom_0.print_axi_regs()\n",
    "soc.xcom_1.print_axi_regs()"
   ]
  },
  {
   "cell_type": "code",
   "execution_count": 110,
   "id": "038dfe0c",
   "metadata": {},
   "outputs": [],
   "source": [
    "soc.xcom_0.xcom_cfg = 2"
   ]
  },
  {
   "cell_type": "code",
   "execution_count": null,
   "id": "1240db02",
   "metadata": {},
   "outputs": [],
   "source": [
    "soc.qick_processor_0.core_cfg = 1\n",
    "soc.qick_processor_0.print_status()\n",
    "#soc.qick_processor_0.print_debug()\n",
    "soc.qick_processor_0.print_axi_regs()"
   ]
  },
  {
   "cell_type": "code",
   "execution_count": null,
   "id": "cdd56a89",
   "metadata": {},
   "outputs": [],
   "source": [
    "# help(soc.qick_processor_0.load_bin_program)\n",
    "help(soc.qick_processor_0)"
   ]
  },
  {
   "cell_type": "code",
   "execution_count": 42,
   "id": "770b631c",
   "metadata": {},
   "outputs": [
    {
     "data": {
      "text/plain": [
       "'0.2.291'"
      ]
     },
     "execution_count": 42,
     "metadata": {},
     "output_type": "execute_result"
    }
   ],
   "source": [
    "qick.get_version()"
   ]
  },
  {
   "cell_type": "code",
   "execution_count": 230,
   "id": "f5a36541",
   "metadata": {},
   "outputs": [],
   "source": [
    "soc.qick_processor_0.reset()"
   ]
  }
 ],
 "metadata": {
  "kernelspec": {
   "display_name": "Python 3 (ipykernel)",
   "language": "python",
   "name": "python3"
  },
  "language_info": {
   "codemirror_mode": {
    "name": "ipython",
    "version": 3
   },
   "file_extension": ".py",
   "mimetype": "text/x-python",
   "name": "python",
   "nbconvert_exporter": "python",
   "pygments_lexer": "ipython3",
   "version": "3.10.4"
  }
 },
 "nbformat": 4,
 "nbformat_minor": 5
}
