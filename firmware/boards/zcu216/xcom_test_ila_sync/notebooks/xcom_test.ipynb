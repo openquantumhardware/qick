{
 "cells": [
  {
   "cell_type": "code",
   "execution_count": null,
   "id": "3b5c048a",
   "metadata": {},
   "outputs": [],
   "source": [
    "import sys\n",
    "import matplotlib.pyplot as plt\n",
    "import numpy as np\n",
    "import time\n",
    "import random\n",
    "\n",
    "## QICK LIBRARY\n",
    "from qick import * \n",
    "import qick.tprocv2_assembler as qasm\n",
    "## tProc Assembler\n",
    "from qick.tprocv2_assembler import Assembler, LFSR\n",
    "\n",
    "from pynq.buffer import allocate\n",
    "from pynq import Overlay\n",
    "from importlib import reload"
   ]
  },
  {
   "cell_type": "code",
   "execution_count": null,
   "id": "3c17e442-0ac3-4eb5-9ea8-39b07ef60560",
   "metadata": {},
   "outputs": [],
   "source": [
    "#print(sys.path)\n",
    "#qick.get_version()"
   ]
  },
  {
   "cell_type": "code",
   "execution_count": null,
   "id": "7db30be5-bacf-4308-82df-468350fcc9ce",
   "metadata": {},
   "outputs": [],
   "source": [
    "##### Load FGPA BitStream\n",
    "soc = Overlay('./xcom_test.bit')"
   ]
  },
  {
   "cell_type": "code",
   "execution_count": null,
   "id": "c1d947e3-5480-4edd-a3e0-19b025e381ed",
   "metadata": {},
   "outputs": [],
   "source": [
    "#soc?"
   ]
  },
  {
   "cell_type": "code",
   "execution_count": null,
   "id": "da444754-dd62-4189-bcc9-befe8c2fe0d5",
   "metadata": {},
   "outputs": [],
   "source": [
    "soc.xcom_0.print_status()\n",
    "soc.xcom_1.print_status()"
   ]
  },
  {
   "cell_type": "code",
   "execution_count": null,
   "id": "45d3a87c",
   "metadata": {},
   "outputs": [],
   "source": [
    "#soc.qick_processor_0.configure(soc.axi_dma_tproc)\n",
    "soc.xcom_0.xcom_cfg = 2\n",
    "soc.xcom_1.xcom_cfg = 2"
   ]
  },
  {
   "cell_type": "code",
   "execution_count": null,
   "id": "e14754ad-8ed7-4845-b91c-1feb1403f713",
   "metadata": {},
   "outputs": [],
   "source": [
    "soc.xcom_0.set_local_id(4)\n",
    "soc.xcom_1.set_local_id(11)\n",
    "soc.xcom_0.print_status()\n",
    "soc.xcom_1.print_status()"
   ]
  },
  {
   "cell_type": "markdown",
   "id": "83fb05d1-8102-48e2-9008-71def7a51566",
   "metadata": {},
   "source": [
<<<<<<< Updated upstream
    "## Test the connection and communicarion with other board\n",
    "Initially we review the general status of the system."
=======
    "## Test the connection and communicarion with other board"
   ]
  },
  {
   "cell_type": "code",
   "execution_count": null,
   "id": "d1a56a59-f8a3-4c54-bfd6-36724fe475b6",
   "metadata": {},
   "outputs": [],
   "source": [
    "#write into the memory in the other board\n",
    "soc.xcom_0.run_cmd(soc.xcom_0.opcodes['XCOM_SEND_32BIT_2'], 0, 0x3000)"
   ]
  },
  {
   "cell_type": "code",
   "execution_count": null,
   "id": "552a053a-b954-40ae-a5ab-d6c66889e27e",
   "metadata": {},
   "outputs": [],
   "source": [
    "#soc.xcom_0.send_byte(3, 5, 2)\n",
    "#for i in range(10):\n",
    "#    soc.xcom_0.send_byte(100+i*2, 5, 2)\n",
    "#    time.sleep(4)\n",
    "#soc.xcom_0.send_byte(0x300, 5, 1)\n",
    "soc.xcom_0.send_word(0x501,5,1)"
>>>>>>> Stashed changes
   ]
  },
  {
   "cell_type": "code",
   "execution_count": null,
   "id": "8a5f04e6-1f54-4b5e-bf06-3ba31b915aa0",
   "metadata": {},
   "outputs": [],
   "source": [
    "soc.xcom_0.print_axi_regs()\n",
    "soc.xcom_0.print_debug()\n",
    "soc.xcom_0.print_status()"
   ]
  },
  {
   "cell_type": "code",
   "execution_count": null,
   "id": "552a053a-b954-40ae-a5ab-d6c66889e27e",
   "metadata": {},
   "outputs": [],
   "source": [
<<<<<<< Updated upstream
    "soc.xcom_0.send_byte(200, 4, 1)\n",
    "soc.xcom_0.print_status()"
   ]
  },
  {
   "cell_type": "markdown",
   "id": "254d234e-08ea-4499-92ae-371b008f3dcc",
=======
    "for i in range(2,8):\n",
    "    soc.xcom_0.run_cmd(soc.xcom_0.opcodes['XCOM_QCTRL'], 5, i)\n",
    "    soc.xcom_0.print_status()\n",
    "    print(i)\n",
    "    time.sleep(5)"
   ]
  },
  {
   "cell_type": "code",
   "execution_count": null,
   "id": "a00b2cd8-baa2-469f-b2e2-b993c274067e",
>>>>>>> Stashed changes
   "metadata": {},
   "source": [
<<<<<<< Updated upstream
    "## Let's try the LOC commands"
=======
    "soc.xcom_0.run_cmd(soc.xcom_0.opcodes['XCOM_QRST_SYNC'], 5, 0)\n",
    "soc.xcom_0.print_status()"
>>>>>>> Stashed changes
   ]
  },
  {
   "cell_type": "code",
   "execution_count": null,
<<<<<<< Updated upstream
   "id": "745251fd-cf1d-4dc3-860d-dbfcbd305707",
   "metadata": {},
   "outputs": [],
   "source": [
    "#test the memory write\n",
    "#soc.xcom_0.run_cmd(soc.xcom_0.opcodes['XCOM_WRITE_MEM'], 1, 350)\n",
    "soc.xcom_1.run_cmd(soc.xcom_1.opcodes['XCOM_SEND_32BIT_2'], 0, 0x200)"
=======
   "id": "7ecc9abb-4f15-4233-b4cb-4558b32e5e82",
   "metadata": {},
   "outputs": [],
   "source": [
    "## soc.xcom_1.xcom_cfg = 2\n",
    "soc.xcom_1.send_byte(31, 5, 1)"
>>>>>>> Stashed changes
   ]
  },
  {
   "cell_type": "code",
   "execution_count": null,
   "id": "6e74f6dd-0be1-4521-a152-05cd845a1bf5",
   "metadata": {},
   "outputs": [],
   "source": [
    "print(\"{0:5s} {2:12s}\".format('addr','\\t','xcom_0_mem'))\n",
    "for i in range(16):\n",
    "    soc.xcom_0.axi_addr = i\n",
    "    #soc.xcom_1.axi_addr = i\n",
    "    print(\"{0:3d} {2:12d}\".format(soc.xcom_0.axi_addr, '\\t', soc.xcom_0.mem))\n",
    "    soc.xcom_0.mem"
   ]
  },
  {
   "cell_type": "markdown",
   "id": "8a4d03d1-f2ba-496a-86f0-9162da75bf31",
   "metadata": {},
   "source": [
    "## Let's try the NET commands"
   ]
  },
  {
   "cell_type": "code",
   "execution_count": null,
<<<<<<< Updated upstream
   "id": "cc495ad0-06fa-47b9-a2ef-2d9fa38237fb",
   "metadata": {},
   "outputs": [],
   "source": [
    "soc.xcom_0.run_cmd(soc.xcom_0.opcodes['XCOM_WRITE_MEM'], 3, 2)\n",
    "soc.xcom_1.print_status()\n",
    "soc.xcom_0.print_status()"
   ]
  },
  {
   "cell_type": "code",
   "execution_count": null,
   "id": "7ecc9abb-4f15-4233-b4cb-4558b32e5e82",
   "metadata": {},
   "outputs": [],
   "source": [
    "## soc.xcom_1.xcom_cfg = 2\n",
    "soc.xcom_1.send_byte(31, 10, 1)"
   ]
  },
  {
   "cell_type": "code",
   "execution_count": null,
=======
>>>>>>> Stashed changes
   "id": "4a64d04e",
   "metadata": {},
   "outputs": [],
   "source": [
    "soc.xcom_1.send_word(10, 2, 2)\n",
    "soc.xcom_0.print_axi_regs()\n",
    "soc.xcom_1.print_axi_regs()"
   ]
  },
  {
   "cell_type": "code",
   "execution_count": null,
   "id": "df5b206d",
   "metadata": {},
   "outputs": [],
   "source": [
    "soc.xcom_0.print_axi_regs()\n",
    "soc.xcom_1.print_axi_regs()"
   ]
  },
  {
   "cell_type": "code",
   "execution_count": null,
   "id": "edc1d779",
   "metadata": {},
   "outputs": [],
   "source": [
    "soc.xcom_0.xcom_cfg = 3"
   ]
  },
  {
   "cell_type": "code",
   "execution_count": null,
   "id": "90cc64d6-af72-4d6f-9ee6-f24fa0e199b9",
   "metadata": {},
   "outputs": [],
   "source": [
    "for i in range(16):\n",
    "    soc.xcom_0.run_cmd(soc.xcom_0.opcodes['XCOM_WRITE_MEM'], i, 0x5000+i)\n",
    "\n",
    "print(\"{0:5s} {2:12s} {4:12s}\".format('addr','\\t','xcom_0_mem','\\t','xcom_1_mem'))\n",
    "for i in range(16):\n",
    "    soc.xcom_0.axi_addr = i\n",
    "    soc.xcom_1.axi_addr = i\n",
    "    print(\"{0:3d} {2:12d} {4:12d}\".format(soc.xcom_0.axi_addr, '\\t', soc.xcom_0.mem, '\\t', soc.xcom_1.mem))\n",
    "    soc.xcom_0.mem"
   ]
  },
  {
   "cell_type": "code",
   "execution_count": null,
   "id": "3efd1c24",
   "metadata": {},
   "outputs": [],
   "source": [
    "soc.xcom_0.run_cmd(19, 13, 0x24)"
   ]
  },
  {
   "cell_type": "code",
   "execution_count": null,
   "id": "2fbb35dc",
   "metadata": {},
   "outputs": [],
   "source": [
    "print(\"{0:5s} {2:12s} {4:12s}\".format('addr','\\t','xcom_0_mem','\\t','xcom_1_mem'))\n",
    "for i in range(16):\n",
    "    soc.xcom_0.axi_addr = i\n",
    "    soc.xcom_1.axi_addr = i\n",
    "    print(\"{0:3d} {2:12d} {4:12d}\".format(soc.xcom_0.axi_addr, '\\t', soc.xcom_0.mem, '\\t', soc.xcom_1.mem))\n",
    "    soc.xcom_0.mem"
   ]
  },
  {
   "cell_type": "code",
   "execution_count": null,
   "id": "c9ae97fc",
   "metadata": {},
   "outputs": [],
   "source": [
    "soc.xcom_1.run_cmd(19, 2, 32)"
   ]
  },
  {
   "cell_type": "code",
   "execution_count": null,
   "id": "0d3a1ba7",
   "metadata": {},
   "outputs": [],
   "source": [
    "print(\"{0:5s} {2:12s} {4:12s}\".format('addr','\\t','xcom_0_mem','\\t','xcom_1_mem'))\n",
    "for i in range(6):\n",
    "    soc.xcom_0.axi_addr = i\n",
    "    soc.xcom_1.axi_addr = i\n",
    "    print(\"{0:3d} {2:12d} {4:12d}\".format(soc.xcom_0.axi_addr, '\\t', soc.xcom_0.mem, '\\t', soc.xcom_1.mem))\n",
    "    soc.xcom_0.mem"
   ]
  },
  {
   "cell_type": "code",
   "execution_count": null,
   "id": "059a53da",
   "metadata": {},
   "outputs": [],
   "source": [
    "soc.xcom_0.xcom_cfg = 0"
   ]
  },
  {
   "cell_type": "code",
   "execution_count": null,
   "id": "b5cf0734-cd8f-4363-ac2f-fdea55ffc435",
   "metadata": {},
   "outputs": [],
   "source": [
    "soc.xcom_0.mem"
   ]
  },
  {
   "cell_type": "code",
   "execution_count": null,
   "id": "3ab16018",
   "metadata": {},
   "outputs": [],
   "source": [
    "# write random 32 bit number to memory to self and other xcom\n",
    "# ~50 seconds for 100k loops\n",
    "num_loops = 10000\n",
    "#xcom_0 to xcom_0\n",
    "for i in range(num_loops):\n",
    "    soc.xcom_0.axi_addr = 2\n",
    "    random_int = random.randint(0,4294867295)\n",
    "    soc.xcom_0.run_cmd(19, 2, random_int)\n",
    "    readback=soc.xcom_0.mem\n",
    "    if readback != random_int:\n",
    "        print('error xcom_0 to xcom_0 - sent, received',random_int,readback)\n",
    "        break\n",
    "    #xcom_1 to xcom_1\n",
    "    soc.xcom_1.axi_addr = 3\n",
    "    random_int = random.randint(0,4294867295)\n",
    "    soc.xcom_1.run_cmd(19, 3, random_int)\n",
    "    readback=soc.xcom_1.mem\n",
    "    if readback != random_int:\n",
    "        print('error xcom_1 to xcom_1 - sent, received',random_int,readback)\n",
    "        break\n",
    "    #xcom_0 to xcom_1\n",
    "    soc.xcom_1.axi_addr = 2\n",
    "    random_int = random.randint(0,4294867295)\n",
    "    soc.xcom_0.run_cmd(19, 3, random_int)\n",
    "    readback=soc.xcom_1.mem\n",
    "    if readback != random_int:\n",
    "        print(f'error xcom_0 to xcom_1 - sent {random_int}, received {readback}')\n",
    "        break\n",
    "    #xcom_1 to xcom_0\n",
    "    soc.xcom_0.axi_addr = 3\n",
    "    random_int = random.randint(0,4294867295)\n",
    "    soc.xcom_1.run_cmd(19, 2, random_int)\n",
    "    readback=soc.xcom_0.mem\n",
    "    if readback != random_int:\n",
    "        print('error xcom_1 to xcom_0 - sent, received',random_int,readback)\n",
    "        break\n",
    "        \n",
    "print('Final Values')\n",
    "print(\"{0:5s} {2:12s} {4:12s}\".format('addr','\\t','xcom_0_mem','\\t','xcom_1_mem'))\n",
    "for i in range(16):\n",
    "    soc.xcom_0.axi_addr = i\n",
    "    soc.xcom_1.axi_addr = i\n",
    "    print(\"{0:3d} {2:12d} {4:12d}\".format(soc.xcom_0.axi_addr, '\\t', soc.xcom_0.mem, '\\t', soc.xcom_1.mem))\n",
    "    soc.xcom_0.mem"
   ]
  },
  {
   "cell_type": "code",
   "execution_count": null,
   "id": "361fbf06",
   "metadata": {},
   "outputs": [],
   "source": [
    "#WRITE MEM\n",
    "soc.xcom_0.run_cmd(19, 4, 4)"
   ]
  },
  {
   "cell_type": "code",
   "execution_count": null,
   "id": "b71f2b07",
   "metadata": {},
   "outputs": [],
   "source": [
    "### soc.qick_xcom_0.axi_addr = 2\n",
    "soc.xcom_0.print_axi_regs()"
   ]
  },
  {
   "cell_type": "code",
   "execution_count": null,
   "id": "d58f4e5b",
   "metadata": {},
   "outputs": [],
   "source": [
    "soc.xcom_0.axi_addr = 2\n",
    "soc.xcom_0.print_axi_regs()"
   ]
  },
  {
   "cell_type": "code",
   "execution_count": null,
   "id": "c61a04a7",
   "metadata": {},
   "outputs": [],
   "source": [
    "soc.xcom_1.axi_addr = 4\n",
    "soc.xcom_1.print_axi_regs()"
   ]
  },
  {
   "cell_type": "code",
   "execution_count": null,
   "id": "bea2711f",
   "metadata": {},
   "outputs": [],
   "source": [
    "soc.xcom_0.send_byte(-1, 0, 1)\n",
    "soc.xcom_0.print_axi_regs()\n",
    "soc.xcom_1.print_axi_regs()"
   ]
  },
  {
   "cell_type": "code",
   "execution_count": null,
   "id": "b01ae914",
   "metadata": {},
   "outputs": [],
   "source": [
    "#soc.qick_processor_0.print_status()\n",
    "#soc.qick_processor_0.print_debug()\n",
    "soc.qick_processor_0.print_axi_regs()"
   ]
  },
  {
   "cell_type": "code",
   "execution_count": null,
   "id": "42f6a3bf",
   "metadata": {},
   "outputs": [],
   "source": [
    "soc.qick_processor_0.tproc_cfg = -1\n",
    "soc.qick_processor_0.print_axi_regs()\n",
    "print(soc.qick_processor_0.time_usr)\n",
    "soc.qick_processor_0.start()\n",
    "soc.qick_processor_0.print_status()\n",
    "print(soc.qick_processor_0.time_usr)\n",
    "soc.qick_processor_0.stop()\n",
    "print(soc.qick_processor_0.time_usr)"
   ]
  },
  {
   "cell_type": "code",
   "execution_count": null,
   "id": "85210584",
   "metadata": {},
   "outputs": [],
   "source": [
    "soc.qick_processor_0.print_status()"
   ]
  },
  {
   "cell_type": "code",
   "execution_count": null,
   "id": "01a03d9c",
   "metadata": {},
   "outputs": [],
   "source": [
    "asm = \"\"\"\n",
    "//TEST program\n",
    "// write some registers\n",
    "REG_WR r1 imm #1\n",
    "REG_WR r2 imm #2\n",
    "REG_WR r3 imm #3\n",
    "REG_WR r4 imm #4\n",
    "REG_WR r5 op -op(s_rand)\n",
    "// Set flag\n",
    "//PA 0 r1\n",
    "\n",
    "// Write to mem\n",
    "REG_WR s_ctrl imm ctrl_clr_qpa \n",
    "REG_WR s_cfg imm cfg_src_qpa \n",
    "WAIT qpa_rdy \n",
    "PA 14 r2 r5\n",
    "WAIT qpa_dt\n",
    "\n",
    "//REG_WR s_ctrl imm ctrl_clr_qpb \n",
    "//REG_WR s_cfg imm cfg_src_qpb \n",
    "//WAIT qpb_rdy \n",
    "//PB 14 r2 r1\n",
    "//WAIT qpb_dt\n",
    "\"\"\"\n",
    "p_txt, p_bin  = Assembler.str_asm2bin(asm)\n",
    "\n",
    "#soc.qick_processor_0.Load_PMEM(p_bin)\n",
    "#soc.tproc.Load_PMEM(p_bin)\n",
    "#soc.qick_processor_0.load_bin_program(p_bin,1)\n",
    "#soc.qick_processor_0.load_mem(p_bin, 'pmem')\n",
    "soc.qick_processor_0.load_mem(mem_sel='pmem', buff_in=p_bin)\n",
    "# soc.tproc.load_mem(mem_sel='dmem', buff_in=np.zeros(100,dtype=np.int32))\n",
    "\n",
    "soc.qick_processor_0.start()\n",
    "time.sleep(0.9)\n",
    "soc.qick_processor_0.stop()\n",
    "\n",
    "print('------------------------------')\n",
    "print(\"{0:5s} {2:12s} {4:12s}\".format('addr','\\t','xcom_0_mem','\\t','xcom_1_mem'))\n",
    "for i in range(6):\n",
    "    soc.xcom_0.axi_addr = i\n",
    "    soc.xcom_1.axi_addr = i\n",
    "    print(\"{0:3d} {2:12d} {4:12d}\".format(soc.xcom_0.axi_addr, '\\t', soc.xcom_0.mem, '\\t', soc.xcom_1.mem))\n",
    "    soc.xcom_0.mem\n",
    "    \n",
    "soc.xcom_0.print_axi_regs()\n",
    "soc.xcom_1.print_axi_regs()"
   ]
  },
  {
   "cell_type": "code",
   "execution_count": null,
   "id": "038dfe0c",
   "metadata": {},
   "outputs": [],
   "source": [
    "soc.xcom_0.xcom_cfg = 2"
   ]
  },
  {
   "cell_type": "code",
   "execution_count": null,
   "id": "1240db02",
   "metadata": {},
   "outputs": [],
   "source": [
    "soc.qick_processor_0.core_cfg = 1\n",
    "soc.qick_processor_0.print_status()\n",
    "#soc.qick_processor_0.print_debug()\n",
    "soc.qick_processor_0.print_axi_regs()"
   ]
  },
  {
   "cell_type": "code",
   "execution_count": null,
   "id": "cdd56a89",
   "metadata": {},
   "outputs": [],
   "source": [
    "# help(soc.qick_processor_0.load_bin_program)\n",
    "help(soc.qick_processor_0)"
   ]
  },
  {
   "cell_type": "code",
   "execution_count": null,
   "id": "770b631c",
   "metadata": {},
   "outputs": [],
   "source": [
    "qick.get_version()"
   ]
  },
  {
   "cell_type": "code",
   "execution_count": null,
   "id": "f5a36541",
   "metadata": {},
   "outputs": [],
   "source": [
    "soc.qick_processor_0.reset()"
   ]
  }
 ],
 "metadata": {
  "kernelspec": {
   "display_name": "Python 3 (ipykernel)",
   "language": "python",
   "name": "python3"
  },
  "language_info": {
   "codemirror_mode": {
    "name": "ipython",
    "version": 3
   },
   "file_extension": ".py",
   "mimetype": "text/x-python",
   "name": "python",
   "nbconvert_exporter": "python",
   "pygments_lexer": "ipython3",
   "version": "3.10.4"
  }
 },
 "nbformat": 4,
 "nbformat_minor": 5
}
