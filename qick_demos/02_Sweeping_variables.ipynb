{
 "cells": [
  {
   "cell_type": "markdown",
   "metadata": {},
   "source": [
    "# <center> Sweeping variables demonstration\n",
    "\n",
    "### <center> In this demo you will sweep the amplitude of a pulse in loopback to demonstrate control over the QICK. \n",
    "\n",
    "We will sweep in two ways:\n",
    "* Within the QICK assembly language (advantage: faster, disadvantage: cannot be used to sweep the readout frequency)\n",
    "* With a Python outer loop (advantage: can sweep any parameter, disadvantage: slower)"
   ]
  },
  {
   "cell_type": "code",
   "execution_count": 1,
   "metadata": {},
   "outputs": [
    {
     "data": {
      "application/javascript": [
       "\n",
       "try {\n",
       "require(['notebook/js/codecell'], function(codecell) {\n",
       "  codecell.CodeCell.options_default.highlight_modes[\n",
       "      'magic_text/x-csrc'] = {'reg':[/^%%pybind11/]};\n",
       "  Jupyter.notebook.events.one('kernel_ready.Kernel', function(){\n",
       "      Jupyter.notebook.get_cells().map(function(cell){\n",
       "          if (cell.cell_type == 'code'){ cell.auto_highlight(); } }) ;\n",
       "  });\n",
       "});\n",
       "} catch (e) {};\n"
      ]
     },
     "metadata": {},
     "output_type": "display_data"
    },
    {
     "name": "stdout",
     "output_type": "stream",
     "text": [
      "Populating the interactive namespace from numpy and matplotlib\n"
     ]
    }
   ],
   "source": [
    "# Import the QICK drivers and auxiliary libraries\n",
    "from qick import *\n",
    "from tqdm.notebook import tqdm\n",
    "%pylab inline"
   ]
  },
  {
   "cell_type": "code",
   "execution_count": 2,
   "metadata": {},
   "outputs": [],
   "source": [
    "# Load bitstream with custom overlay\n",
    "soc = QickSoc()\n",
    "# Since we're running locally on the QICK, we don't need a separate QickConfig object.\n",
    "# If running remotely, you could generate a QickConfig from the QickSoc:\n",
    "#     soccfg = QickConfig(soc.get_cfg())\n",
    "# or save the config to file, and load it later:\n",
    "#     with open(\"qick_config.json\", \"w\") as f:\n",
    "#         f.write(soc.dump_cfg())\n",
    "#     soccfg = QickConfig(\"qick_config.json\")\n",
    "soccfg = soc\n",
    "# print(soccfg)\n"
   ]
  },
  {
   "cell_type": "markdown",
   "metadata": {},
   "source": [
    "### Hardware Configuration\n",
    "\n",
    "tProc channel 7   : DAC 229 CH3  <-> Readout channel 0 : ADC 224 CH0"
   ]
  },
  {
   "cell_type": "code",
   "execution_count": 3,
   "metadata": {},
   "outputs": [],
   "source": [
    "class LoopbackProgram(AveragerProgram):\n",
    "    def initialize(self):\n",
    "        cfg=self.cfg   \n",
    "\n",
    "        # set the nyquist zone\n",
    "        self.declare_gen(ch=cfg[\"res_ch\"], nqz=1)\n",
    "\n",
    "        #configure the readout lengths and downconversion frequencies\n",
    "        self.declare_readout(ch=cfg[\"ro_ch\"], length=self.cfg[\"readout_length\"],\n",
    "                             freq=self.cfg[\"pulse_freq\"], gen_ch=cfg[\"res_ch\"])\n",
    "\n",
    "        freq=self.freq2reg(cfg[\"pulse_freq\"], gen_ch=cfg[\"res_ch\"], ro_ch=cfg[\"ro_ch\"])  # convert frequency to dac frequency (ensuring it is an available adc frequency)\n",
    "        self.set_pulse_registers(ch=cfg[\"res_ch\"], style=\"const\", freq=freq, phase=0, gain=cfg[\"pulse_gain\"], \n",
    "                                 length=cfg[\"length\"])\n",
    "        self.synci(200)  # give processor some time to configure pulses\n",
    "    \n",
    "    def body(self):\n",
    "        self.measure(pulse_ch=self.cfg[\"res_ch\"], \n",
    "             adcs=[self.cfg[\"ro_ch\"]],\n",
    "             adc_trig_offset=self.cfg[\"adc_trig_offset\"],\n",
    "             wait=True,\n",
    "             syncdelay=self.us2cycles(self.cfg[\"relax_delay\"]))"
   ]
  },
  {
   "cell_type": "code",
   "execution_count": 4,
   "metadata": {},
   "outputs": [],
   "source": [
    "class SweepProgram(RAveragerProgram):\n",
    "    def initialize(self):\n",
    "        cfg=self.cfg   \n",
    "\n",
    "        # set the nyquist zone\n",
    "        self.declare_gen(ch=cfg[\"res_ch\"], nqz=1)\n",
    "\n",
    "        self.r_rp=self.ch_page(self.cfg[\"res_ch\"])     # get register page for res_ch\n",
    "        self.r_gain=self.sreg(cfg[\"res_ch\"], \"gain\")   #Get gain register for res_ch\n",
    "        \n",
    "        #configure the readout lengths and downconversion frequencies\n",
    "        self.declare_readout(ch=cfg[\"ro_ch\"], length=self.cfg[\"readout_length\"],\n",
    "                             freq=self.cfg[\"pulse_freq\"], gen_ch=cfg[\"res_ch\"])\n",
    "        \n",
    "        freq=self.freq2reg(cfg[\"pulse_freq\"], gen_ch=cfg[\"res_ch\"], ro_ch=cfg[\"ro_ch\"])  # convert frequency to dac frequency (ensuring it is an available adc frequency)\n",
    "        self.set_pulse_registers(ch=cfg[\"res_ch\"], style=\"const\", freq=freq, phase=0, gain=cfg[\"start\"], \n",
    "                                 length=cfg[\"length\"])\n",
    "        self.synci(200)  # give processor some time to configure pulses\n",
    "\n",
    "    def body(self):        \n",
    "        self.measure(pulse_ch=self.cfg[\"res_ch\"], \n",
    "             adcs=[self.cfg[\"ro_ch\"]],\n",
    "             adc_trig_offset=self.cfg[\"adc_trig_offset\"],\n",
    "             wait=True,\n",
    "             syncdelay=self.us2cycles(self.cfg[\"relax_delay\"]))        \n",
    "        \n",
    "    def update(self):\n",
    "        self.mathi(self.r_rp, self.r_gain, self.r_gain, '+', self.cfg[\"step\"]) # update gain of the pulse"
   ]
  },
  {
   "cell_type": "markdown",
   "metadata": {},
   "source": [
    "### Sweeping via the QICK assembly language\n"
   ]
  },
  {
   "cell_type": "code",
   "execution_count": 5,
   "metadata": {},
   "outputs": [],
   "source": [
    "config={\"res_ch\":6, # --Fixed\n",
    "        \"ro_ch\":0, # --Fixed\n",
    "        \"relax_delay\":1, # --Fixed\n",
    "        \"res_phase\":0, # --Fixed\n",
    "        \"pulse_style\": \"const\", # --Fixed\n",
    "        \"length\":100, # [Clock ticks]        \n",
    "        \"readout_length\":200, # [Clock ticks]\n",
    "        \"pulse_gain\":0, # [DAC units]\n",
    "        \"pulse_freq\": 100, # [MHz]\n",
    "        \"adc_trig_offset\": 100, # [Clock ticks]\n",
    "        \"reps\":50, \n",
    "        # New variables\n",
    "        \"expts\": 20,\n",
    "        \"start\":0, # [DAC units]\n",
    "        \"step\":100 # [DAC units]\n",
    "       }\n",
    "\n",
    "prog =SweepProgram(soccfg, config)\n",
    "expt_pts, avgi, avgq = prog.acquire(soc, progress=True)"
   ]
  },
  {
   "cell_type": "code",
   "execution_count": 6,
   "metadata": {},
   "outputs": [
    {
     "data": {
      "image/png": "[encoded data removed]",
      "text/plain": [
       "<matplotlib.figure.Figure at 0x7f6b15bf60>"
      ]
     },
     "metadata": {},
     "output_type": "display_data"
    }
   ],
   "source": [
    "# Plot results.\n",
    "sig = avgi[0][0] + 1j*avgq[0][0]\n",
    "avgamp0 = np.abs(sig)\n",
    "plt.figure(1)\n",
    "plt.plot(expt_pts, avgi[0][0], label=\"I value; ADC 0\")\n",
    "plt.plot(expt_pts, avgq[0][0], label=\"Q value; ADC 0\")\n",
    "plt.plot(expt_pts, avgamp0, label=\"Amplitude; ADC 0\")\n",
    "# plt.plot(expt_pts, avg_di1, label=\"I value; ADC 1\")\n",
    "# plt.plot(expt_pts, avg_dq1, label=\"Q value; ADC 1\")\n",
    "# plt.plot(expt_pts, avg_amp1, label=\"Amplitude; ADC 1\")\n",
    "plt.ylabel(\"a.u.\")\n",
    "plt.xlabel(\"Pulse gain (DAC units)\")\n",
    "plt.title(\"Averages = \" + str(config[\"reps\"]))\n",
    "plt.legend()\n",
    "plt.savefig(\"images/Gain_sweep.pdf\", dpi=350)"
   ]
  },
  {
   "cell_type": "markdown",
   "metadata": {},
   "source": [
    "### Sweeping via a Python outer loop"
   ]
  },
  {
   "cell_type": "code",
   "execution_count": 7,
   "metadata": {},
   "outputs": [],
   "source": [
    "config={\"res_ch\":6, # --Fixed\n",
    "        \"ro_ch\":0, # --Fixed\n",
    "        \"relax_delay\":1, # --Fixed\n",
    "        \"res_phase\":0, # --Fixed\n",
    "        \"pulse_style\": \"const\", # --Fixed\n",
    "        \"length\":100, # [Clock ticks]        \n",
    "        \"readout_length\":200, # [Clock ticks]\n",
    "        \"pulse_gain\":0, # [DAC units]\n",
    "        \"pulse_freq\": 100, # [MHz]\n",
    "        \"adc_trig_offset\": 100, # [Clock ticks]\n",
    "        \"reps\":50, \n",
    "       }\n",
    "\n",
    "sweep_cfg={\"start\":0, \"step\":100, \"expts\":20}\n",
    "gpts=sweep_cfg[\"start\"] + sweep_cfg[\"step\"]*np.arange(sweep_cfg[\"expts\"])\n",
    "\n",
    "results=[]\n",
    "for g in tqdm(gpts):\n",
    "    config[\"pulse_gain\"]=int(g)\n",
    "    prog =LoopbackProgram(soccfg, config)\n",
    "    results.append(prog.acquire(soc, progress=False))\n",
    "results=np.transpose(results)"
   ]
  },
  {
   "cell_type": "code",
   "execution_count": 8,
   "metadata": {},
   "outputs": [
    {
     "data": {
      "image/png": "[encoded data removed]",
      "text/plain": [
       "<matplotlib.figure.Figure at 0x7f68380c88>"
      ]
     },
     "metadata": {},
     "output_type": "display_data"
    }
   ],
   "source": [
    "sig = results[0][0][0] + 1j*results[0][0][1]\n",
    "avgamp0 = np.abs(sig)\n",
    "plt.figure(2)\n",
    "plt.plot(gpts, results[0][0][0],label=\"I value; ADC 0\")\n",
    "plt.plot(gpts, results[0][0][1],label=\"Q value; ADC 0\")\n",
    "plt.plot(gpts, avgamp0,label=\"Amplitude; ADC 0\")\n",
    "plt.ylabel(\"a.u.\")\n",
    "plt.xlabel(\"Pulse gain (DAC units)\")\n",
    "plt.title(\"Averages = \" + str(config[\"reps\"]))\n",
    "plt.legend()\n",
    "plt.savefig(\"images/Gain_sweep_python.pdf\", dpi=350)"
   ]
  }
 ],
 "metadata": {
  "kernelspec": {
   "display_name": "Python 3",
   "language": "python",
   "name": "python3"
  },
  "language_info": {
   "codemirror_mode": {
    "name": "ipython",
    "version": 3
   },
   "file_extension": ".py",
   "mimetype": "text/x-python",
   "name": "python",
   "nbconvert_exporter": "python",
   "pygments_lexer": "ipython3",
   "version": "3.8.2"
  }
 },
 "nbformat": 4,
 "nbformat_minor": 2
}
