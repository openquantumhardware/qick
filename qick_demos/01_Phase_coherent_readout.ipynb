{
 "cells": [
  {
   "cell_type": "markdown",
   "metadata": {},
   "source": [
    "# <center> Calibrating the QICK for phase coherent readout\n",
    "\n",
    "### <center> In this demo you will calibrate the QICK clocks to have the same phase.\n",
    "\n",
    "Before you measure a resonance with your QICK this is the first calibration you should do. It is a calibration for the two synthesizers which belong to the QICK signal generator and the QICK readout, respectively. The two synthesizers are running at the same frequency, but there is initially a constant phase difference $\\phi$ between these two synthesizers. Doing this calibration results in you finding that phase difference $\\phi$. In your subsequent measurements, you can specify this initial phase difference $\\phi$ to compensate for it. From then on, the signal generator can synthesize any frequency and then if you read in data (doing a digital down conversion in the process), the readout will still be phase coherent with respect to the signal generator. \n",
    "\n",
    "<center> The angular frequency $\\omega = 2 \\pi f$ .\n",
    "\n",
    "<center> Also, $\\phi = (\\omega t) + \\phi_0$. \n",
    "\n",
    "<center> So, $\\phi = (2 \\pi f)*t + \\phi_0 $. \n",
    "\n",
    "If $f$ goes up linearly, the phase difference will also change linearly (it will either increase or decrease, depending on whether the readout is ahead or behind of the signal generator- this is randomly determined each time the board clocks are initialized). Once the phase hits 360 degrees it cycles back to 0 again. For a readout frequency of interest $f_i$ there is a corresponding phase difference $\\phi_i$. In this demonstration we assume $f_i \\approx 180$ MHz. You can plot $\\phi(f)$ and evaluate $\\phi(f_i)=\\phi_i$."
   ]
  },
  {
   "cell_type": "code",
   "execution_count": 1,
   "metadata": {},
   "outputs": [
    {
     "data": {
      "application/javascript": [
       "\n",
       "try {\n",
       "require(['notebook/js/codecell'], function(codecell) {\n",
       "  codecell.CodeCell.options_default.highlight_modes[\n",
       "      'magic_text/x-csrc'] = {'reg':[/^%%pybind11/]};\n",
       "  Jupyter.notebook.events.one('kernel_ready.Kernel', function(){\n",
       "      Jupyter.notebook.get_cells().map(function(cell){\n",
       "          if (cell.cell_type == 'code'){ cell.auto_highlight(); } }) ;\n",
       "  });\n",
       "});\n",
       "} catch (e) {};\n"
      ]
     },
     "metadata": {},
     "output_type": "display_data"
    },
    {
     "name": "stdout",
     "output_type": "stream",
     "text": [
      "Populating the interactive namespace from numpy and matplotlib\n"
     ]
    }
   ],
   "source": [
    "# Import the QICK drivers and auxiliary libraries\n",
    "from qick import *\n",
    "from qick.parser import load_program\n",
    "%pylab inline"
   ]
  },
  {
   "cell_type": "code",
   "execution_count": 2,
   "metadata": {
    "scrolled": false
   },
   "outputs": [
    {
     "name": "stdout",
     "output_type": "stream",
     "text": [
      "\n",
      "QICK configuration:\n",
      "\n",
      "\tBoard: ZCU111\n",
      "\n",
      "\tGlobal clocks (MHz): DAC fabric 384.000, ADC fabric 384.000, reference 204.800\n",
      "\n",
      "\tSampling freqs (MHz): DAC 6144.000, ADC 3072.000\n",
      "\n",
      "\tRefclk multiplier factors: 30 (DAC), 15 (ADC)\n",
      "\tFrequency resolution step: 1.431 Hz\n",
      "\n",
      "\t7 signal generator channels:\n",
      "\t0:\ttProc output 1, maxlen 65536\n",
      "\t\tDAC tile 0, ch 0, 32-bit DDS, fabric=384.000 MHz, fs=6144.000 MHz\n",
      "\t1:\ttProc output 2, maxlen 65536\n",
      "\t\tDAC tile 0, ch 1, 32-bit DDS, fabric=384.000 MHz, fs=6144.000 MHz\n",
      "\t2:\ttProc output 3, maxlen 65536\n",
      "\t\tDAC tile 0, ch 2, 32-bit DDS, fabric=384.000 MHz, fs=6144.000 MHz\n",
      "\t3:\ttProc output 4, maxlen 65536\n",
      "\t\tDAC tile 1, ch 0, 32-bit DDS, fabric=384.000 MHz, fs=6144.000 MHz\n",
      "\t4:\ttProc output 5, maxlen 65536\n",
      "\t\tDAC tile 1, ch 1, 32-bit DDS, fabric=384.000 MHz, fs=6144.000 MHz\n",
      "\t5:\ttProc output 6, maxlen 65536\n",
      "\t\tDAC tile 1, ch 2, 32-bit DDS, fabric=384.000 MHz, fs=6144.000 MHz\n",
      "\t6:\ttProc output 7, maxlen 65536\n",
      "\t\tDAC tile 1, ch 3, 32-bit DDS, fabric=384.000 MHz, fs=6144.000 MHz\n",
      "\n",
      "\t2 readout channels:\n",
      "\t0:\tADC tile 0, ch 0, 32-bit DDS, fabric=384.000 MHz, fs=3072.000 MHz\n",
      "\t\tmaxlen 1024 (avg) 1024 (decimated), trigger 14, tproc input 0\n",
      "\t1:\tADC tile 0, ch 1, 32-bit DDS, fabric=384.000 MHz, fs=3072.000 MHz\n",
      "\t\tmaxlen 1024 (avg) 1024 (decimated), trigger 15, tproc input 1\n",
      "\n",
      "\ttProc: 1048576 words program memory, 4096 words data memory\n",
      "\t\tprogram RAM: 65536 bytes\n"
     ]
    }
   ],
   "source": [
    "# Load bitstream with custom overlay\n",
    "soc = QickSoc()\n",
    "# Since we're running locally on the QICK, we don't need a separate QickConfig object.\n",
    "# If running remotely, you could generate a QickConfig from the QickSoc:\n",
    "#     soccfg = QickConfig(soc.get_cfg())\n",
    "# or save the config to file, and load it later:\n",
    "#     with open(\"qick_config.json\", \"w\") as f:\n",
    "#         f.write(soc.dump_cfg())\n",
    "#     soccfg = QickConfig(\"qick_config.json\")\n",
    "soccfg = soc\n",
    "# print(soccfg)\n",
    "\n",
    "# Print the QICK configuration\n",
    "print(soc)\n",
    "\n",
    "# loopback and monitor channels\n",
    "out_chs = [0,5,6]"
   ]
  },
  {
   "cell_type": "markdown",
   "metadata": {},
   "source": [
    "\n",
    "### Hardware Configuration\n",
    "\n",
    "tProc channel 7   : DAC 229 CH3  <-> Readout channel 0 : ADC 224 CH0\n",
    "\n",
    "The following are optional:\n",
    "\n",
    "* tProc channel 6   : DAC 229 CH2       <-> Readout channel 1 : ADC 224 CH1\n",
    "* tProc channel 1   : DAC 228 CH0(P)    <-> oscilloscope, through a DC-block\n",
    "* PMOD 0_0 (pin 1 on J48 on the ZCU111) <-> oscilloscope\n",
    "\n"
   ]
  },
  {
   "cell_type": "markdown",
   "metadata": {},
   "source": [
    "We are going to drive the DAC outputs in periodic mode, so we only need to specify a short constant waveform and they will continue to run forever. This is useful for the phase measurement, but it's good practice to stop the DACs afterwards using soc.reset_gens()."
   ]
  },
  {
   "cell_type": "markdown",
   "metadata": {},
   "source": [
    "We define the frequency range to be tested, and some helper functions that will process and print the results. For each frequency we will print the measured phase (what we care about), and also the mean magnitude and RMS of the waveform (for debugging - the magnitude should always be much larger than the RMS)."
   ]
  },
  {
   "cell_type": "code",
   "execution_count": 4,
   "metadata": {},
   "outputs": [],
   "source": [
    "# Output frequency f0_v.\n",
    "###################\n",
    "# Try it yourself ! Change the output frequency.\n",
    "###################\n",
    "\n",
    "f0_start=100\n",
    "f0_step=0.000250\n",
    "expts=40\n",
    "# expts=1\n",
    "\n",
    "f0_v = np.arange(0,expts)*f0_step+f0_start\n",
    "\n",
    "f0_v = soccfg.adcfreq(f0_v, gen_ch=6, ro_ch=0)\n",
    "\n",
    "def calculate_phase(d):\n",
    "    [xi,xq] = d\n",
    "    x = xi +1j*xq\n",
    "\n",
    "    # Average to improve calibration.\n",
    "    xavg = np.mean(x)\n",
    "\n",
    "    # Calculate calibration phase.\n",
    "    fi = np.remainder(np.angle(xavg,deg=True)+360,360)\n",
    "    return [fi, np.abs(xavg), np.std(x)]\n",
    "\n",
    "def print_results(res):\n",
    "    print(\"freq_i = %f MHz, \"%(f0) +\n",
    "         \"phi_i = (%.2f, %.2f) deg, \" % tuple([res[i][0] for i in range(2)]) +\n",
    "         \"mag = (%.2f, %.2f), \" % tuple([res[i][1] for i in range(2)]) +\n",
    "         \"RMS = (%.2f, %.2f) ADU\" % tuple([res[i][2] for i in range(2)]))\n",
    "#     print(\"freq_i = %f MHz, phi_i = (%.2f, %.2f) deg, mag = (%.2f, %.2f), RMS = (%.2f, %.2f) ADU\" %(f0,*out_array,*A,*xrms))"
   ]
  },
  {
   "cell_type": "markdown",
   "metadata": {},
   "source": [
    "### Measurement methods\n",
    "We are going to make the same measurement in several ways, to demonstrate different ways of running the QICK (and hopefully gain some understanding of what's going on under the hood). You can jump to the analysis at the end at any point to plot the data - all methods write the results to the same array.\n",
    "\n",
    "For the first two methods, we will have a common Python method - below - that acquires the data, but doesn't load the tProc program."
   ]
  },
  {
   "cell_type": "code",
   "execution_count": 5,
   "metadata": {},
   "outputs": [],
   "source": [
    "def measure_phase_decimated(soc, f0, fi0, out_array):\n",
    "    \"\"\"\n",
    "    Measure the phase shift for a given frequency using decimated readout, and write it into the provided array.\n",
    "    Assumes that the tProc is already loaded with a program that reads the frequency and phase from memory locations 123 and 124.\n",
    "    \"\"\"\n",
    "    readout_length = 1000\n",
    "\n",
    "    f0_dac_int = soccfg.freq2reg(f=f0) # Frequency of signal generator\n",
    "    \n",
    "    soc.tproc.single_write(addr=123, data=f0_dac_int)\n",
    "\n",
    "    fi0_int = soccfg.deg2reg(fi0, gen_ch=6)\n",
    "    soc.tproc.single_write(addr=124, data=fi0_int)\n",
    "\n",
    "    # set readout parameters\n",
    "    ro_pars = {'freq': f0, 'gen_ch': out_chs[0]}\n",
    "    \n",
    "    # Configure readout.\n",
    "    for ch in range(2):\n",
    "        ro_cfg = soccfg.calc_ro_regs(soccfg['readouts'][ch], phase=0, sel='product')\n",
    "        soccfg.calc_ro_freq(soccfg['readouts'][ch], ro_pars, ro_cfg, False, 0)\n",
    "        soc.configure_readout(ch=ch, ro_regs=ro_cfg)\n",
    "#         soc.config_avg(ch=ch, address=0, length=readout_length)\n",
    "        soc.config_buf(ch=ch, address=0, length=readout_length)\n",
    "        soc.enable_buf(ch=ch, enable_avg=False, enable_buf=True)\n",
    "    \n",
    "    # Start tProc.\n",
    "    soc.start_tproc()\n",
    "\n",
    "    time.sleep(0.1)\n",
    "    \n",
    "    # Get data.\n",
    "    data = [soc.get_decimated(ch=ch, length=readout_length).T for ch in range(2)]\n",
    "#     print(data)\n",
    "\n",
    "    # Process data.\n",
    "    res = [calculate_phase(d) for d in data]\n",
    "\n",
    "    # Save results.\n",
    "    out_array[:] = [a[0] for a in res]\n",
    "    print_results(res)"
   ]
  },
  {
   "cell_type": "markdown",
   "metadata": {},
   "source": [
    "### Load ASM from text file\n",
    "\n",
    "First, let's program the tProc from an assembly language file, which needs to be located in the same directory when you run it: `01_phase_calibration.asm`"
   ]
  },
  {
   "cell_type": "code",
   "execution_count": 6,
   "metadata": {
    "scrolled": false
   },
   "outputs": [
    {
     "name": "stdout",
     "output_type": "stream",
     "text": [
      "freq_i = 100.000000 MHz, phi_i = (323.42, 217.77) deg, mag = (637.06, 635.08), RMS = (1.87, 1.79) ADU\n",
      "freq_i = 100.000249 MHz, phi_i = (302.88, 197.21) deg, mag = (637.77, 634.55), RMS = (1.84, 1.91) ADU\n",
      "freq_i = 100.000500 MHz, phi_i = (282.22, 176.56) deg, mag = (637.85, 634.81), RMS = (1.84, 1.63) ADU\n",
      "freq_i = 100.000750 MHz, phi_i = (261.56, 155.90) deg, mag = (637.85, 634.85), RMS = (1.77, 1.75) ADU\n",
      "freq_i = 100.001000 MHz, phi_i = (240.89, 135.23) deg, mag = (637.83, 634.69), RMS = (1.84, 1.70) ADU\n",
      "freq_i = 100.001249 MHz, phi_i = (220.34, 114.69) deg, mag = (637.97, 634.82), RMS = (1.84, 1.71) ADU\n",
      "freq_i = 100.001500 MHz, phi_i = (199.68, 94.02) deg, mag = (637.68, 634.96), RMS = (1.89, 1.67) ADU\n",
      "freq_i = 100.001750 MHz, phi_i = (179.02, 73.36) deg, mag = (637.74, 635.02), RMS = (1.93, 1.70) ADU\n",
      "freq_i = 100.002000 MHz, phi_i = (158.35, 52.69) deg, mag = (637.95, 635.06), RMS = (1.82, 1.79) ADU\n",
      "freq_i = 100.002251 MHz, phi_i = (137.70, 32.03) deg, mag = (637.94, 634.95), RMS = (1.84, 1.65) ADU\n",
      "freq_i = 100.002500 MHz, phi_i = (117.14, 11.48) deg, mag = (637.89, 634.72), RMS = (1.80, 1.68) ADU\n",
      "freq_i = 100.002750 MHz, phi_i = (96.48, 350.81) deg, mag = (637.74, 634.90), RMS = (1.79, 1.71) ADU\n",
      "freq_i = 100.003000 MHz, phi_i = (75.81, 330.15) deg, mag = (637.78, 634.51), RMS = (1.90, 1.69) ADU\n",
      "freq_i = 100.003251 MHz, phi_i = (55.16, 309.49) deg, mag = (637.60, 634.80), RMS = (2.11, 1.71) ADU\n",
      "freq_i = 100.003500 MHz, phi_i = (34.61, 288.94) deg, mag = (637.84, 635.00), RMS = (1.91, 1.78) ADU\n",
      "freq_i = 100.003750 MHz, phi_i = (13.95, 268.28) deg, mag = (637.56, 634.95), RMS = (1.96, 1.67) ADU\n",
      "freq_i = 100.004000 MHz, phi_i = (353.27, 247.61) deg, mag = (637.69, 634.96), RMS = (1.80, 1.72) ADU\n",
      "freq_i = 100.004251 MHz, phi_i = (332.62, 226.95) deg, mag = (637.83, 634.87), RMS = (1.94, 1.73) ADU\n",
      "freq_i = 100.004499 MHz, phi_i = (312.08, 206.40) deg, mag = (637.81, 634.75), RMS = (1.87, 1.70) ADU\n",
      "freq_i = 100.004750 MHz, phi_i = (291.41, 185.75) deg, mag = (637.74, 634.55), RMS = (2.02, 1.66) ADU\n",
      "freq_i = 100.005000 MHz, phi_i = (270.73, 165.08) deg, mag = (637.96, 635.02), RMS = (1.77, 1.58) ADU\n",
      "freq_i = 100.005250 MHz, phi_i = (250.08, 144.42) deg, mag = (637.77, 634.60), RMS = (1.96, 1.70) ADU\n",
      "freq_i = 100.005499 MHz, phi_i = (229.54, 123.87) deg, mag = (637.60, 635.15), RMS = (1.93, 1.83) ADU\n",
      "freq_i = 100.005750 MHz, phi_i = (208.87, 103.21) deg, mag = (637.83, 634.97), RMS = (2.08, 1.85) ADU\n",
      "freq_i = 100.006000 MHz, phi_i = (188.19, 82.54) deg, mag = (637.74, 634.82), RMS = (2.19, 1.71) ADU\n",
      "freq_i = 100.006250 MHz, phi_i = (167.53, 61.86) deg, mag = (638.14, 635.18), RMS = (2.22, 1.78) ADU\n",
      "freq_i = 100.006499 MHz, phi_i = (146.99, 41.32) deg, mag = (637.77, 635.07), RMS = (2.11, 1.76) ADU\n",
      "freq_i = 100.006750 MHz, phi_i = (126.33, 20.67) deg, mag = (638.16, 634.90), RMS = (1.83, 1.68) ADU\n",
      "freq_i = 100.007000 MHz, phi_i = (105.66, 359.99) deg, mag = (637.95, 634.95), RMS = (1.99, 1.69) ADU\n",
      "freq_i = 100.007250 MHz, phi_i = (85.00, 339.32) deg, mag = (638.05, 634.89), RMS = (1.93, 1.71) ADU\n",
      "freq_i = 100.007501 MHz, phi_i = (64.34, 318.67) deg, mag = (638.02, 635.13), RMS = (2.20, 1.65) ADU\n",
      "freq_i = 100.007750 MHz, phi_i = (43.80, 298.14) deg, mag = (637.97, 635.01), RMS = (2.07, 1.76) ADU\n",
      "freq_i = 100.008000 MHz, phi_i = (23.13, 277.46) deg, mag = (638.15, 635.51), RMS = (2.02, 1.73) ADU\n",
      "freq_i = 100.008250 MHz, phi_i = (2.47, 256.80) deg, mag = (637.93, 635.11), RMS = (1.94, 1.78) ADU\n",
      "freq_i = 100.008501 MHz, phi_i = (341.80, 236.14) deg, mag = (637.57, 634.87), RMS = (1.93, 1.85) ADU\n",
      "freq_i = 100.008749 MHz, phi_i = (321.26, 215.59) deg, mag = (637.83, 635.21), RMS = (1.94, 1.79) ADU\n",
      "freq_i = 100.009000 MHz, phi_i = (300.59, 194.92) deg, mag = (638.07, 635.14), RMS = (1.82, 1.69) ADU\n",
      "freq_i = 100.009250 MHz, phi_i = (279.92, 174.26) deg, mag = (638.02, 635.14), RMS = (2.15, 1.71) ADU\n",
      "freq_i = 100.009501 MHz, phi_i = (259.26, 153.60) deg, mag = (638.08, 635.00), RMS = (1.91, 1.73) ADU\n",
      "freq_i = 100.009749 MHz, phi_i = (238.72, 133.06) deg, mag = (638.15, 635.30), RMS = (2.09, 1.73) ADU\n"
     ]
    }
   ],
   "source": [
    "# Constant, real envelope.\n",
    "# The length must be at least 16 times the nsamp parameter passed to the signal generators.\n",
    "xg = np.zeros((160,2), dtype=np.int16)\n",
    "xg[:,0] = 30000\n",
    "\n",
    "# Upload waveform.\n",
    "for ch in out_chs:\n",
    "    # Set the DAC channels to be in 1st Nyquist zone mode\n",
    "    soc.set_nyquist(ch=ch,nqz=1)\n",
    "    soc.load_envelope(ch=ch, data=xg, addr=0)\n",
    "\n",
    "# Load program.\n",
    "load_program(soc, prog=\"01_phase_calibration.asm\")\n",
    "\n",
    "# Output phase.\n",
    "fi0 = 0\n",
    "fi_v = np.zeros((2,len(f0_v)))\n",
    "for ii, f0 in enumerate(f0_v):\n",
    "    measure_phase_decimated(soc, f0, fi0, fi_v[:,ii])\n",
    "\n",
    "soc.reset_gens()"
   ]
  },
  {
   "cell_type": "markdown",
   "metadata": {},
   "source": [
    "### QickProgram\n",
    "\n",
    "It's usually easier to define the tProc program dynamically in Python, rather than loading it from a separate file. The low-level tool for this is QickProgram.\n",
    "\n",
    "If you compare `01_phase_calibration.asm` to the commands below, you can see the resemblance; if you convert the QickProgram to .asm format with print(prog) it is very clear."
   ]
  },
  {
   "cell_type": "code",
   "execution_count": 7,
   "metadata": {},
   "outputs": [
    {
     "name": "stdout",
     "output_type": "stream",
     "text": [
      "\n",
      "// Program\n",
      "\n",
      "  memri 1, $1, 123;                             //freq\n",
      "  memri 1, $2, 124;                             //phase\n",
      "  regwi 1, $3, 32000;                           //gain\n",
      "  regwi 1, $4, 10;                              //nsamp: generator will consume 16*nsamp DAC values.\n",
      "  regwi 1, $5, 4;                               //b00100 -> phrst = 0, stdysel = 0, mode = 1, outsel = 00\n",
      "  bitwi 1, $5, $5 << 16;\n",
      "  bitw 1, $4, $4 | $5;\n",
      "  regwi 1, $6, 0;                               //start time\n",
      "  synci 1000;\n",
      "  regwi 0, $1, 1;                               //Send a pulse on pmod 0_0 (pin 1 on J48 on the ZCU111).\n",
      "  seti 0, 0, $1, 0;                             //Start the pulse.\n",
      "  seti 0, 0, $0, 100;                           //End the pulse after 100 ticks (260 ns).\n",
      "  set 1, 1, $1, $2, $0, $3, $4, $6;\n",
      "  set 6, 1, $1, $2, $0, $3, $4, $6;\n",
      "  set 7, 1, $1, $2, $0, $3, $4, $6;\n",
      "  synci 1000;\n",
      "  regwi 0, $1, 49152;                           //Trigger both buffers.\n",
      "  seti 0, 0, $1, 0;                             //Start the pulse.\n",
      "  seti 0, 0, $0, 100;                           //End the pulse after 100 ticks (260 ns).\n",
      "  end ;\n",
      "freq_i = 100.000000 MHz, phi_i = (323.43, 217.77) deg, mag = (637.87, 634.92), RMS = (1.88, 1.66) ADU\n",
      "freq_i = 100.000249 MHz, phi_i = (302.89, 197.23) deg, mag = (638.03, 635.09), RMS = (2.21, 1.64) ADU\n",
      "freq_i = 100.000500 MHz, phi_i = (282.21, 176.56) deg, mag = (638.04, 635.01), RMS = (1.86, 1.75) ADU\n",
      "freq_i = 100.000750 MHz, phi_i = (261.55, 155.89) deg, mag = (638.13, 635.17), RMS = (1.81, 1.68) ADU\n",
      "freq_i = 100.001000 MHz, phi_i = (240.89, 135.23) deg, mag = (637.75, 635.00), RMS = (2.14, 1.69) ADU\n",
      "freq_i = 100.001249 MHz, phi_i = (220.34, 114.69) deg, mag = (638.08, 635.03), RMS = (2.01, 1.72) ADU\n",
      "freq_i = 100.001500 MHz, phi_i = (199.67, 94.02) deg, mag = (638.02, 635.14), RMS = (2.16, 1.81) ADU\n",
      "freq_i = 100.001750 MHz, phi_i = (179.01, 73.36) deg, mag = (638.09, 635.15), RMS = (1.92, 1.73) ADU\n",
      "freq_i = 100.002000 MHz, phi_i = (158.35, 52.69) deg, mag = (637.91, 635.10), RMS = (1.91, 1.76) ADU\n",
      "freq_i = 100.002251 MHz, phi_i = (137.68, 32.03) deg, mag = (638.00, 635.13), RMS = (1.90, 1.70) ADU\n",
      "freq_i = 100.002500 MHz, phi_i = (117.14, 11.48) deg, mag = (637.91, 634.97), RMS = (2.03, 1.71) ADU\n",
      "freq_i = 100.002750 MHz, phi_i = (96.48, 350.82) deg, mag = (638.06, 635.07), RMS = (2.01, 1.79) ADU\n",
      "freq_i = 100.003000 MHz, phi_i = (75.81, 330.15) deg, mag = (638.04, 635.02), RMS = (2.28, 1.69) ADU\n",
      "freq_i = 100.003251 MHz, phi_i = (55.14, 309.49) deg, mag = (638.21, 635.15), RMS = (2.00, 1.66) ADU\n",
      "freq_i = 100.003500 MHz, phi_i = (34.61, 288.94) deg, mag = (637.89, 634.84), RMS = (1.97, 1.69) ADU\n",
      "freq_i = 100.003750 MHz, phi_i = (13.94, 268.27) deg, mag = (637.83, 635.05), RMS = (1.94, 1.78) ADU\n",
      "freq_i = 100.004000 MHz, phi_i = (353.26, 247.61) deg, mag = (637.74, 634.97), RMS = (2.11, 1.67) ADU\n",
      "freq_i = 100.004251 MHz, phi_i = (332.61, 226.94) deg, mag = (637.83, 635.41), RMS = (2.02, 1.76) ADU\n",
      "freq_i = 100.004499 MHz, phi_i = (312.07, 206.42) deg, mag = (637.69, 634.95), RMS = (2.00, 1.70) ADU\n",
      "freq_i = 100.004750 MHz, phi_i = (291.39, 185.74) deg, mag = (637.72, 635.27), RMS = (1.80, 1.76) ADU\n",
      "freq_i = 100.005000 MHz, phi_i = (270.73, 165.08) deg, mag = (638.04, 635.13), RMS = (1.85, 1.67) ADU\n",
      "freq_i = 100.005250 MHz, phi_i = (250.08, 144.42) deg, mag = (637.90, 635.25), RMS = (2.01, 1.78) ADU\n",
      "freq_i = 100.005499 MHz, phi_i = (229.53, 123.87) deg, mag = (637.97, 634.75), RMS = (1.89, 1.72) ADU\n",
      "freq_i = 100.005750 MHz, phi_i = (208.87, 103.21) deg, mag = (638.02, 635.05), RMS = (2.13, 1.83) ADU\n",
      "freq_i = 100.006000 MHz, phi_i = (188.20, 82.54) deg, mag = (637.81, 634.85), RMS = (2.00, 1.76) ADU\n",
      "freq_i = 100.006250 MHz, phi_i = (167.54, 61.88) deg, mag = (637.85, 634.97), RMS = (1.89, 1.86) ADU\n",
      "freq_i = 100.006499 MHz, phi_i = (147.00, 41.33) deg, mag = (638.26, 635.28), RMS = (2.20, 1.70) ADU\n",
      "freq_i = 100.006750 MHz, phi_i = (126.34, 20.66) deg, mag = (638.03, 635.21), RMS = (2.34, 1.75) ADU\n",
      "freq_i = 100.007000 MHz, phi_i = (105.66, 0.00) deg, mag = (638.02, 635.01), RMS = (1.87, 1.81) ADU\n",
      "freq_i = 100.007250 MHz, phi_i = (84.99, 339.34) deg, mag = (637.83, 635.05), RMS = (2.06, 1.68) ADU\n",
      "freq_i = 100.007501 MHz, phi_i = (64.34, 318.68) deg, mag = (637.92, 634.90), RMS = (2.02, 1.70) ADU\n",
      "freq_i = 100.007750 MHz, phi_i = (43.80, 298.13) deg, mag = (637.85, 635.15), RMS = (2.12, 1.68) ADU\n",
      "freq_i = 100.008000 MHz, phi_i = (23.13, 277.47) deg, mag = (637.84, 634.71), RMS = (2.25, 1.69) ADU\n",
      "freq_i = 100.008250 MHz, phi_i = (2.47, 256.81) deg, mag = (637.90, 634.80), RMS = (2.12, 1.67) ADU\n",
      "freq_i = 100.008501 MHz, phi_i = (341.80, 236.14) deg, mag = (638.13, 635.10), RMS = (1.83, 1.71) ADU\n",
      "freq_i = 100.008749 MHz, phi_i = (321.25, 215.59) deg, mag = (638.03, 635.16), RMS = (2.15, 1.68) ADU\n",
      "freq_i = 100.009000 MHz, phi_i = (300.59, 194.94) deg, mag = (637.84, 635.28), RMS = (2.11, 1.72) ADU\n",
      "freq_i = 100.009250 MHz, phi_i = (279.93, 174.27) deg, mag = (638.02, 635.22), RMS = (1.96, 1.70) ADU\n",
      "freq_i = 100.009501 MHz, phi_i = (259.26, 153.61) deg, mag = (637.81, 634.84), RMS = (1.99, 1.72) ADU\n",
      "freq_i = 100.009749 MHz, phi_i = (238.71, 133.05) deg, mag = (638.12, 635.17), RMS = (2.03, 1.67) ADU\n"
     ]
    }
   ],
   "source": [
    "nsamp = 10\n",
    "\n",
    "prog = QickProgram(soccfg)\n",
    "\n",
    "# Constant, real envelope.\n",
    "# The length must be at least 16 times the nsamp parameter passed to the signal generators.\n",
    "xg = np.zeros((16*nsamp,2), dtype=np.int16)\n",
    "xg[:,0] = 30000\n",
    "\n",
    "for ch in out_chs:\n",
    "    # Set the DAC channels to be in 1st Nyquist zone mode\n",
    "    prog.declare_gen(ch=ch,nqz=1)\n",
    "    # Upload waveform. Since this is the only waveform in this generator, it will start at address 0.\n",
    "    prog.add_pulse(ch=ch, name=\"const\", idata=xg[:,0], qdata=xg[:,1])\n",
    "\n",
    "prog.memri(1,1,123,\"freq\")\n",
    "prog.memri(1,2,124,\"phase\")\n",
    "prog.regwi(1,3,32000,\"gain\")\n",
    "prog.regwi(1,4,nsamp,\"nsamp: generator will consume 16*nsamp DAC values.\")\n",
    "prog.regwi(1,5,0x4,\"b00100 -> phrst = 0, stdysel = 0, mode = 1, outsel = 00\")\n",
    "prog.bitwi(1,5,5,\"<<\",16)\n",
    "prog.bitw(1,4,4,\"|\",5)\n",
    "prog.regwi(1,6,0,\"start time\")\n",
    "prog.synci(1000)\n",
    "prog.comment(\"Set trigger.\")\n",
    "prog.regwi(0,1,0x1,\"Send a pulse on pmod 0_0 (pin 1 on J48 on the ZCU111).\")\n",
    "prog.seti(soccfg['readouts'][0]['trigger_port'],0,1,0,\"Start the pulse.\")\n",
    "prog.seti(soccfg['readouts'][0]['trigger_port'],0,0,100,\"End the pulse after 100 ticks (260 ns).\")\n",
    "\n",
    "prog.comment(\"Program signal generators in periodic mode.\")\n",
    "prog.comment(\"Channels 4, 5, 6, 7 -> DAC 229 CH0/1/2/3.\")\n",
    "for ch in out_chs:\n",
    "    # tuse the tProc channel number for the gen\n",
    "    prog.set(soccfg['gens'][ch]['tproc_ch'],1,1,2,0,3,4,6)\n",
    "prog.synci(1000)\n",
    "prog.comment(\"Set trigger.\")\n",
    "prog.regwi(0,1,0xc000,\"Trigger both buffers.\")\n",
    "prog.seti(soccfg['readouts'][0]['trigger_port'],0,1,0,\"Start the pulse.\")\n",
    "prog.seti(soccfg['readouts'][0]['trigger_port'],0,0,100,\"End the pulse after 100 ticks (260 ns).\")\n",
    "prog.end()\n",
    "\n",
    "\n",
    "\n",
    "print(prog)\n",
    "\n",
    "prog.config_all(soc)\n",
    "\n",
    "\n",
    "\n",
    "# Output phase.\n",
    "fi0 = 0\n",
    "\n",
    "fi_v = np.zeros((2,len(f0_v)))\n",
    "\n",
    "# Load program.\n",
    "for ii, f0 in enumerate(f0_v):\n",
    "    measure_phase_decimated(soc, f0, fi0, fi_v[:,ii])\n",
    "\n",
    "soc.reset_gens()"
   ]
  },
  {
   "cell_type": "markdown",
   "metadata": {},
   "source": [
    "### AveragerProgram\n",
    "Instead of writing your acquisition code from scratch every time, it is usually easier to use AveragerProgram, which combines the QickProgram functionality with a set of built-in acquisition methods. AveragerProgram can also use the tProc to run the acquisition in a loop, which is much faster."
   ]
  },
  {
   "cell_type": "code",
   "execution_count": 8,
   "metadata": {},
   "outputs": [],
   "source": [
    "class SingleFreqProgram(AveragerProgram):\n",
    "    def __init__(self,soccfg, cfg):\n",
    "        super().__init__(soccfg, cfg)\n",
    "\n",
    "    def initialize(self):\n",
    "        cfg=self.cfg   \n",
    "        \n",
    "        # configure the readout lengths and downconversion frequencies\n",
    "        for ch in range(2):\n",
    "            self.declare_readout(ch=ch, length=self.cfg[\"readout_length\"],\n",
    "                                 freq=self.cfg[\"pulse_freq\"])\n",
    "\n",
    "        idata = 30000*np.ones(16*cfg[\"length\"])\n",
    "\n",
    "        for ch in self.cfg['out_ch']:\n",
    "            self.declare_gen(ch=ch, nqz=1)\n",
    "            self.add_pulse(ch=ch, name=\"measure\", idata=idata)\n",
    "        \n",
    "        freq=soccfg.freq2reg(cfg[\"pulse_freq\"])  # convert frequency to dac frequency\n",
    "        self.trigger(pins=[0], t=0) # send a pulse on pmod0_0, for scope trigger\n",
    "        for ch in self.cfg['out_ch']:\n",
    "            self.set_pulse_registers(ch=ch, style=\"arb\", freq=freq, phase=cfg[\"res_phase\"], gain=cfg[\"pulse_gain\"], \n",
    "                                     waveform=\"measure\", mode=\"periodic\")\n",
    "\n",
    "        self.synci(200)  # give processor some time to configure pulses\n",
    "    \n",
    "    def body(self):\n",
    "        self.trigger(adcs=[0,1],adc_trig_offset=self.cfg[\"adc_trig_offset\"])  # trigger the adc acquisition\n",
    "        for ch in self.cfg['out_ch']:\n",
    "            self.pulse(ch=ch, t=0) # play readout pulse\n",
    "        self.wait_all() # control should wait until the readout is over\n",
    "        self.sync_all(200)  # wait for measurement to complete\n",
    "\n",
    "config={\"out_ch\":out_chs,\n",
    "        \"reps\":1, # --Fixed\n",
    "        \"res_phase\":soccfg.deg2reg(0), # --Fixed\n",
    "        \n",
    "        \"length\":10, # [Clock ticks]\n",
    "        # Try varying length from 10-100 clock ticks\n",
    "        \n",
    "        \"readout_length\":1000, # [Clock ticks]\n",
    "        # Try varying readout_length from 50-1000 clock ticks\n",
    "\n",
    "        \"pulse_gain\":32000, # [DAC units]\n",
    "        # Try varying pulse_gain from 500 to 30000 DAC units\n",
    "\n",
    "        \"pulse_freq\": 100, # [MHz]\n",
    "        # In this program the signal is up and downconverted digitally so you won't see any frequency\n",
    "        # components in the I/Q traces below. But since the signal gain depends on frequency, \n",
    "        # if you lower pulse_freq you will see an increased gain.\n",
    "\n",
    "        \"adc_trig_offset\": 1000, # [Clock ticks]\n",
    "        # Try varying adc_trig_offset from 100 to 220 clock ticks\n",
    "\n",
    "        \"soft_avgs\":1\n",
    "        # Try varying soft_avgs from 1 to 200 averages\n",
    "\n",
    "       }"
   ]
  },
  {
   "cell_type": "markdown",
   "metadata": {},
   "source": [
    "### Decimated readout\n",
    "First, let's run the AveragerProgram in the same mode that we were using before: decimated readout, where we save the full waveform. If you increase the value of `soft_avgs`, the AveragerProgram will average multiple waveforms before giving you the results, so the measurement will take longer (past 10, the readout time is noticeable) but the RMS of the waveform will decrease."
   ]
  },
  {
   "cell_type": "code",
   "execution_count": 9,
   "metadata": {},
   "outputs": [
    {
     "name": "stdout",
     "output_type": "stream",
     "text": [
      "freq_i = 100.000000 MHz, phi_i = (323.42, 217.77) deg, mag = (637.98, 635.24), RMS = (1.90, 1.69) ADU\n",
      "freq_i = 100.000249 MHz, phi_i = (302.88, 197.23) deg, mag = (637.91, 634.95), RMS = (1.93, 1.79) ADU\n",
      "freq_i = 100.000500 MHz, phi_i = (282.20, 176.56) deg, mag = (637.82, 635.05), RMS = (2.07, 1.81) ADU\n",
      "freq_i = 100.000750 MHz, phi_i = (261.55, 155.90) deg, mag = (637.98, 635.02), RMS = (2.05, 1.74) ADU\n",
      "freq_i = 100.001000 MHz, phi_i = (240.89, 135.24) deg, mag = (638.04, 634.95), RMS = (2.09, 1.67) ADU\n",
      "freq_i = 100.001249 MHz, phi_i = (220.35, 114.69) deg, mag = (637.88, 635.09), RMS = (2.21, 1.66) ADU\n",
      "freq_i = 100.001500 MHz, phi_i = (199.67, 94.02) deg, mag = (638.07, 635.03), RMS = (2.06, 1.74) ADU\n",
      "freq_i = 100.001750 MHz, phi_i = (179.01, 73.36) deg, mag = (638.10, 635.05), RMS = (1.97, 1.78) ADU\n",
      "freq_i = 100.002000 MHz, phi_i = (158.35, 52.71) deg, mag = (637.91, 635.22), RMS = (1.97, 1.73) ADU\n",
      "freq_i = 100.002251 MHz, phi_i = (137.70, 32.04) deg, mag = (637.92, 635.03), RMS = (1.98, 1.74) ADU\n",
      "freq_i = 100.002500 MHz, phi_i = (117.15, 11.49) deg, mag = (637.92, 635.09), RMS = (2.11, 1.76) ADU\n",
      "freq_i = 100.002750 MHz, phi_i = (96.48, 350.83) deg, mag = (638.13, 635.19), RMS = (2.14, 1.72) ADU\n",
      "freq_i = 100.003000 MHz, phi_i = (75.82, 330.15) deg, mag = (637.93, 634.98), RMS = (2.52, 1.73) ADU\n",
      "freq_i = 100.003251 MHz, phi_i = (55.15, 309.49) deg, mag = (638.07, 635.13), RMS = (2.21, 1.72) ADU\n",
      "freq_i = 100.003500 MHz, phi_i = (34.60, 288.94) deg, mag = (637.97, 635.15), RMS = (2.21, 1.69) ADU\n",
      "freq_i = 100.003750 MHz, phi_i = (13.94, 268.29) deg, mag = (638.27, 635.06), RMS = (2.11, 1.75) ADU\n",
      "freq_i = 100.004000 MHz, phi_i = (353.28, 247.62) deg, mag = (637.86, 634.91), RMS = (2.09, 1.67) ADU\n",
      "freq_i = 100.004251 MHz, phi_i = (332.62, 226.96) deg, mag = (637.91, 635.13), RMS = (2.18, 1.72) ADU\n",
      "freq_i = 100.004499 MHz, phi_i = (312.08, 206.41) deg, mag = (637.73, 635.03), RMS = (2.04, 1.68) ADU\n",
      "freq_i = 100.004750 MHz, phi_i = (291.41, 185.75) deg, mag = (637.82, 635.15), RMS = (2.09, 1.79) ADU\n",
      "freq_i = 100.005000 MHz, phi_i = (270.74, 165.08) deg, mag = (637.77, 635.10), RMS = (2.31, 1.68) ADU\n",
      "freq_i = 100.005250 MHz, phi_i = (250.07, 144.41) deg, mag = (637.66, 634.93), RMS = (1.95, 1.72) ADU\n",
      "freq_i = 100.005499 MHz, phi_i = (229.53, 123.88) deg, mag = (637.85, 635.08), RMS = (2.24, 1.64) ADU\n",
      "freq_i = 100.005750 MHz, phi_i = (208.87, 103.21) deg, mag = (637.72, 635.20), RMS = (2.02, 1.78) ADU\n",
      "freq_i = 100.006000 MHz, phi_i = (188.20, 82.54) deg, mag = (637.79, 634.77), RMS = (2.07, 1.76) ADU\n",
      "freq_i = 100.006250 MHz, phi_i = (167.55, 61.89) deg, mag = (637.85, 634.97), RMS = (1.96, 1.68) ADU\n",
      "freq_i = 100.006499 MHz, phi_i = (147.00, 41.34) deg, mag = (637.96, 635.10), RMS = (2.00, 1.68) ADU\n",
      "freq_i = 100.006750 MHz, phi_i = (126.34, 20.68) deg, mag = (637.99, 634.99), RMS = (1.87, 1.78) ADU\n",
      "freq_i = 100.007000 MHz, phi_i = (105.67, 0.01) deg, mag = (638.05, 635.02), RMS = (2.04, 1.73) ADU\n",
      "freq_i = 100.007250 MHz, phi_i = (85.01, 339.35) deg, mag = (637.87, 634.86), RMS = (2.08, 1.68) ADU\n",
      "freq_i = 100.007501 MHz, phi_i = (64.34, 318.69) deg, mag = (638.10, 635.23), RMS = (1.94, 1.76) ADU\n",
      "freq_i = 100.007750 MHz, phi_i = (43.79, 298.13) deg, mag = (638.25, 635.09), RMS = (2.01, 1.71) ADU\n",
      "freq_i = 100.008000 MHz, phi_i = (23.13, 277.48) deg, mag = (638.20, 635.12), RMS = (2.10, 1.66) ADU\n",
      "freq_i = 100.008250 MHz, phi_i = (2.46, 256.80) deg, mag = (638.09, 635.09), RMS = (2.19, 1.72) ADU\n",
      "freq_i = 100.008501 MHz, phi_i = (341.80, 236.14) deg, mag = (637.98, 634.96), RMS = (2.22, 1.77) ADU\n",
      "freq_i = 100.008749 MHz, phi_i = (321.25, 215.60) deg, mag = (638.29, 635.14), RMS = (2.04, 1.72) ADU\n",
      "freq_i = 100.009000 MHz, phi_i = (300.59, 194.93) deg, mag = (638.05, 635.16), RMS = (2.12, 1.79) ADU\n",
      "freq_i = 100.009250 MHz, phi_i = (279.93, 174.26) deg, mag = (638.03, 635.07), RMS = (1.98, 1.69) ADU\n",
      "freq_i = 100.009501 MHz, phi_i = (259.26, 153.60) deg, mag = (638.16, 635.17), RMS = (2.25, 1.69) ADU\n",
      "freq_i = 100.009749 MHz, phi_i = (238.72, 133.06) deg, mag = (638.35, 635.34), RMS = (1.97, 1.72) ADU\n"
     ]
    }
   ],
   "source": [
    "res=[]\n",
    "config['reps'] = 1\n",
    "\n",
    "# change this from 1 to 50\n",
    "config['soft_avgs'] = 1\n",
    "\n",
    "# for f0 in [101]:\n",
    "for f0 in f0_v:\n",
    "    config['pulse_freq'] = f0\n",
    "    prog =SingleFreqProgram(soccfg, config)\n",
    "#     print(prog)\n",
    "    data = prog.acquire_decimated(soc, progress=False)\n",
    "#     print(data)\n",
    "    res.append([calculate_phase(d) for d in data])\n",
    "    print_results(res[-1])\n",
    "fi_v=np.array([[a[0] for a in r] for r in res]).T\n",
    "\n",
    "soc.reset_gens()\n"
   ]
  },
  {
   "cell_type": "markdown",
   "metadata": {},
   "source": [
    "### Accumulated readout\n",
    "Since the demodulated waveform is constant over the acquisition window, we don't really need to save the full waveform. In other words, we should use the QICK's accumulating buffer (which sums the values in the window) instead of the decimated buffer.\n",
    "\n",
    "Since we now get one number per acquisition, the RMS is now calculated over acquisitions, not over waveform samples.\n",
    "\n",
    "You should see that a \"repetition\" takes much less time than a \"soft average.\" Normally, decimated readout is only used for finding the correct window to accumulate over, or for debugging."
   ]
  },
  {
   "cell_type": "code",
   "execution_count": 10,
   "metadata": {},
   "outputs": [
    {
     "name": "stdout",
     "output_type": "stream",
     "text": [
      "freq_i = 100.000000 MHz, phi_i = (323.43, 217.78) deg, mag = (637.98, 635.13), RMS = (0.13, 0.14) ADU\n",
      "freq_i = 100.000249 MHz, phi_i = (302.88, 197.23) deg, mag = (638.04, 635.22), RMS = (0.13, 0.14) ADU\n",
      "freq_i = 100.000500 MHz, phi_i = (282.22, 176.57) deg, mag = (638.14, 635.35), RMS = (0.14, 0.13) ADU\n",
      "freq_i = 100.000750 MHz, phi_i = (261.56, 155.90) deg, mag = (638.07, 635.25), RMS = (0.13, 0.15) ADU\n",
      "freq_i = 100.001000 MHz, phi_i = (240.89, 135.24) deg, mag = (638.00, 635.29), RMS = (0.12, 0.15) ADU\n",
      "freq_i = 100.001249 MHz, phi_i = (220.35, 114.69) deg, mag = (637.94, 635.31), RMS = (0.14, 0.14) ADU\n",
      "freq_i = 100.001500 MHz, phi_i = (199.68, 94.03) deg, mag = (638.01, 635.25), RMS = (0.13, 0.14) ADU\n",
      "freq_i = 100.001750 MHz, phi_i = (179.02, 73.37) deg, mag = (637.97, 635.29), RMS = (0.14, 0.13) ADU\n",
      "freq_i = 100.002000 MHz, phi_i = (158.36, 52.70) deg, mag = (638.08, 635.32), RMS = (0.15, 0.15) ADU\n",
      "freq_i = 100.002251 MHz, phi_i = (137.69, 32.04) deg, mag = (637.90, 635.21), RMS = (0.14, 0.13) ADU\n",
      "freq_i = 100.002500 MHz, phi_i = (117.15, 11.49) deg, mag = (638.06, 635.25), RMS = (0.15, 0.14) ADU\n",
      "freq_i = 100.002750 MHz, phi_i = (96.48, 350.83) deg, mag = (638.04, 635.23), RMS = (0.14, 0.14) ADU\n",
      "freq_i = 100.003000 MHz, phi_i = (75.82, 330.16) deg, mag = (638.05, 635.26), RMS = (0.13, 0.13) ADU\n",
      "freq_i = 100.003251 MHz, phi_i = (55.16, 309.50) deg, mag = (637.93, 635.21), RMS = (0.13, 0.15) ADU\n",
      "freq_i = 100.003500 MHz, phi_i = (34.61, 288.95) deg, mag = (637.97, 635.20), RMS = (0.14, 0.13) ADU\n",
      "freq_i = 100.003750 MHz, phi_i = (13.95, 268.29) deg, mag = (638.15, 635.41), RMS = (0.14, 0.15) ADU\n",
      "freq_i = 100.004000 MHz, phi_i = (353.29, 247.63) deg, mag = (637.92, 635.14), RMS = (0.15, 0.13) ADU\n",
      "freq_i = 100.004251 MHz, phi_i = (332.62, 226.96) deg, mag = (638.05, 635.30), RMS = (0.13, 0.13) ADU\n",
      "freq_i = 100.004499 MHz, phi_i = (312.08, 206.42) deg, mag = (638.06, 635.21), RMS = (0.13, 0.14) ADU\n",
      "freq_i = 100.004750 MHz, phi_i = (291.42, 185.76) deg, mag = (637.92, 635.23), RMS = (0.13, 0.15) ADU\n",
      "freq_i = 100.005000 MHz, phi_i = (270.75, 165.09) deg, mag = (637.94, 635.21), RMS = (0.15, 0.14) ADU\n",
      "freq_i = 100.005250 MHz, phi_i = (250.09, 144.43) deg, mag = (637.91, 635.29), RMS = (0.14, 0.13) ADU\n",
      "freq_i = 100.005499 MHz, phi_i = (229.54, 123.88) deg, mag = (637.94, 635.23), RMS = (0.13, 0.14) ADU\n",
      "freq_i = 100.005750 MHz, phi_i = (208.88, 103.22) deg, mag = (638.19, 635.34), RMS = (0.15, 0.14) ADU\n",
      "freq_i = 100.006000 MHz, phi_i = (188.21, 82.55) deg, mag = (638.13, 635.35), RMS = (0.13, 0.12) ADU\n",
      "freq_i = 100.006250 MHz, phi_i = (167.55, 61.89) deg, mag = (638.07, 635.28), RMS = (0.14, 0.16) ADU\n",
      "freq_i = 100.006499 MHz, phi_i = (147.01, 41.35) deg, mag = (638.14, 635.44), RMS = (0.13, 0.14) ADU\n",
      "freq_i = 100.006750 MHz, phi_i = (126.34, 20.68) deg, mag = (638.12, 635.37), RMS = (0.13, 0.14) ADU\n",
      "freq_i = 100.007000 MHz, phi_i = (105.68, 0.02) deg, mag = (638.14, 635.39), RMS = (0.14, 0.13) ADU\n",
      "freq_i = 100.007250 MHz, phi_i = (85.01, 339.35) deg, mag = (638.07, 635.31), RMS = (0.13, 0.14) ADU\n",
      "freq_i = 100.007501 MHz, phi_i = (64.35, 318.69) deg, mag = (638.22, 635.30), RMS = (0.13, 0.14) ADU\n",
      "freq_i = 100.007750 MHz, phi_i = (43.81, 298.14) deg, mag = (638.15, 635.28), RMS = (0.14, 0.15) ADU\n",
      "freq_i = 100.008000 MHz, phi_i = (23.14, 277.48) deg, mag = (638.24, 635.35), RMS = (0.14, 0.14) ADU\n",
      "freq_i = 100.008250 MHz, phi_i = (2.48, 256.81) deg, mag = (638.34, 635.30), RMS = (0.14, 0.13) ADU\n",
      "freq_i = 100.008501 MHz, phi_i = (341.81, 236.15) deg, mag = (638.24, 635.47), RMS = (0.14, 0.14) ADU\n",
      "freq_i = 100.008749 MHz, phi_i = (321.27, 215.60) deg, mag = (638.25, 635.39), RMS = (0.13, 0.14) ADU\n",
      "freq_i = 100.009000 MHz, phi_i = (300.60, 194.94) deg, mag = (638.22, 635.37), RMS = (0.13, 0.15) ADU\n",
      "freq_i = 100.009250 MHz, phi_i = (279.94, 174.28) deg, mag = (638.16, 635.47), RMS = (0.12, 0.14) ADU\n",
      "freq_i = 100.009501 MHz, phi_i = (259.27, 153.61) deg, mag = (638.18, 635.43), RMS = (0.13, 0.14) ADU\n",
      "freq_i = 100.009749 MHz, phi_i = (238.73, 133.06) deg, mag = (638.10, 635.42), RMS = (0.14, 0.14) ADU\n"
     ]
    }
   ],
   "source": [
    "# change this from 10 to 1000\n",
    "config['reps'] = 1000\n",
    "\n",
    "config['soft_avgs'] = 1\n",
    "res=[]\n",
    "for f0 in f0_v:\n",
    "    config['pulse_freq'] = f0\n",
    "    prog =SingleFreqProgram(soccfg, config)\n",
    "    avg_data = prog.acquire(soc, progress=False)\n",
    "    data = [[prog.di_buf[i]/config['readout_length'], prog.dq_buf[i]/config['readout_length']] for i in range(2)]\n",
    "    res.append([calculate_phase(d) for d in data])\n",
    "    print_results(res[-1])\n",
    "fi_v=np.array([[a[0] for a in r] for r in res]).T\n",
    "soc.reset_gens()\n"
   ]
  },
  {
   "cell_type": "markdown",
   "metadata": {},
   "source": [
    "### Summary, and RAveragerProgram\n",
    "This mode (AveragerProgram with accumulated readout) is one of the typical ways that we run the QICK.\n",
    "\n",
    "The other way uses RAveragerProgram, which has a tProc program with two nested loops: an inner loop for repetitions (just like AveragerProgram) and an outer loop for sweeping a parameter. Because Python can no longer be the bottleneck limiting the measurement speed, this is often much faster.\n",
    "\n",
    "However, RAveragerProgram cannot be used for this particular measurement because we need to sweep the frequency of both the DAC and the ADC simultaneously - the tProc can control the DAC frequency, but not the ADC frequency. "
   ]
  },
  {
   "cell_type": "markdown",
   "metadata": {},
   "source": [
    "### Analysis\n",
    "Now we can plot the phase as a function of frequency.\n",
    "\n",
    "As explained at the beginning, this data can be represented as the sum of a phase offset and a time delay. Over a small frequency range, this looks like a linear dependence on frequency."
   ]
  },
  {
   "cell_type": "code",
   "execution_count": 11,
   "metadata": {},
   "outputs": [
    {
     "data": {
      "image/png": "[encoded data removed]",
      "text/plain": [
       "<matplotlib.figure.Figure at 0x7f5bf2ff98>"
      ]
     },
     "metadata": {},
     "output_type": "display_data"
    }
   ],
   "source": [
    "# Plot results.\n",
    "# plt.figure(2)\n",
    "fig, axs = plt.subplots(2,1)\n",
    "\n",
    "for ch in range(2):\n",
    "    plot = axs[ch]\n",
    "    plot.plot(f0_v,fi_v[ch])\n",
    "    plot.plot(f0_v,fi_v[ch], marker='.', linestyle=\"None\",color=\"Red\")\n",
    "    plot.set_title(r\"$\\phi$ vs $f$\")\n",
    "    plot.set_ylabel(r\"$\\phi$ (degrees)\")\n",
    "    plot.set_xlabel(r\"$f$ (MHz)\")\n",
    "\n",
    "fig.savefig(\"images/Phase_calibration.pdf\", dpi=350)"
   ]
  },
  {
   "cell_type": "markdown",
   "metadata": {},
   "source": [
    "For example, if your cavity tone was generated with an IF of 420.9 MHz, you would look at the above table and see that <code> freq_i </code> = 420.9 MHz corresponds to <code> phi_i </code> = 308.7 degrees (that's specific to this board session, for your QICK it will be different). That value of <code> phi_i </code> will be used as the value of the <code> config </code> file parameter associated with the offset phase of the cavity pulse (the parameter is called <code> res_phase </code> in the demo 00_Send_recieve_pulse)."
   ]
  },
  {
   "cell_type": "markdown",
   "metadata": {},
   "source": [
    "We can try a fit:"
   ]
  },
  {
   "cell_type": "code",
   "execution_count": 12,
   "metadata": {},
   "outputs": [
    {
     "name": "stdout",
     "output_type": "stream",
     "text": [
      "initial estimate: 113.27 deg shift, 229.28 us delay\n",
      "after minimization: 32.03 deg shift, 251.41 us delay\n",
      "initial estimate: 42.41 deg shift, 229.29 us delay\n",
      "after minimization: 290.80 deg shift, 251.41 us delay\n"
     ]
    },
    {
     "data": {
      "image/png": "[encoded data removed]",
      "text/plain": [
       "<matplotlib.figure.Figure at 0x7f5acd3d30>"
      ]
     },
     "metadata": {},
     "output_type": "display_data"
    }
   ],
   "source": [
    "def phase_residuals(data,prediction):\n",
    "    r = np.remainder(data-prediction+180,360)-180\n",
    "    return r\n",
    "    \n",
    "def phase_model(x, f0):\n",
    "    return np.remainder(x[0] - 360*x[1]*(f0), 360)\n",
    "\n",
    "def phase_func(x, arg):\n",
    "    resid = phase_residuals(arg, phase_model(x, f0_v))\n",
    "    return resid\n",
    "\n",
    "from scipy.optimize import least_squares\n",
    "fig, axs = plt.subplots(2,2)\n",
    "for ch in range(2):\n",
    "\n",
    "    slopes = -1*(fi_v[ch,1:]-fi_v[ch,:-1])/(360*(f0_v[1:]-f0_v[:-1]))\n",
    "#     print(slopes)\n",
    "    x0 = np.zeros(2)\n",
    "    x0[1] = np.median(slopes)\n",
    "    x0[0] = np.remainder(np.median(phase_residuals(fi_v[ch],phase_model(x0, f0_v))),360)\n",
    "    print(\"initial estimate: %.2f deg shift, %.2f us delay\"% tuple(x0))\n",
    "\n",
    "    fit = least_squares(phase_func, x0, args=(fi_v[ch],))\n",
    "#     fit = least_squares(phase_func, x0, args=(fi_v[ch]), method='lm', x_scale='jac')\n",
    "#     fit = least_squares(phase_func, x0, args=(fi_v[ch]), method='lm', x_scale=(1,1e-5))\n",
    "    fit.x[0] = np.remainder(fit.x[0],360)\n",
    "#     print(fit.status)\n",
    "    print(\"after minimization: %.2f deg shift, %.2f us delay\"% tuple(fit.x))\n",
    "\n",
    "    plot = axs[0,ch]\n",
    "    plot.set_title(r\"$\\phi$ vs $f$\")\n",
    "    plot.set_ylabel(r\"$\\phi$ (degrees)\")\n",
    "    plot.set_xlabel(r\"$f$ (MHz)\")\n",
    "    plot.plot(f0_v,fi_v[ch], marker='.', linestyle=\"None\",color=\"Red\")\n",
    "    plot.plot(f0_v, phase_model(fit.x, f0_v))\n",
    "\n",
    "    plot = axs[1,ch]\n",
    "    plot.set_ylabel(r\"residual (degrees)\")\n",
    "    plot.set_xlabel(r\"$f$ (MHz)\")\n",
    "    \n",
    "    plot.plot(f0_v, phase_func(fit.x, fi_v[ch]), marker='.', linestyle=\"None\",color=\"Red\")\n",
    "#     plot.plot(f0_v, phase_func(x0, (fi_v[ch])), marker='.', linestyle=\"None\",color=\"Red\")\n"
   ]
  },
  {
   "cell_type": "code",
   "execution_count": 13,
   "metadata": {},
   "outputs": [],
   "source": [
    "# \"product\" (0) and \"dds\" (1) work as advertised; \"input\" (2) seems identical to \"product\" and 3 to \"dds\"\n",
    "#     soc.readouts[0].outsel_reg = 0\n",
    "\n",
    "#nsamp=1 or 2 fails in a strange way: \n",
    "#the signal generator plays the entire waveform memory repeatedly for 10-20 seconds\n",
    "#during this time, new \"set\" commands don't work\n",
    "\n",
    "\n",
    "# is there ever a reason not to enable both avg and buf?\n",
    "#         soc.avg_bufs[ch].config_buf(address=0, length=readout_length)\n",
    "#         soc.avg_bufs[ch].enable(avg=False, buf=True)\n",
    "\n",
    "\n",
    "\n",
    "#         print(soc.get_accumulated(ch=ch, length=1).T/readout_length, xavg)\n"
   ]
  }
 ],
 "metadata": {
  "kernelspec": {
   "display_name": "Python 3",
   "language": "python",
   "name": "python3"
  },
  "language_info": {
   "codemirror_mode": {
    "name": "ipython",
    "version": 3
   },
   "file_extension": ".py",
   "mimetype": "text/x-python",
   "name": "python",
   "nbconvert_exporter": "python",
   "pygments_lexer": "ipython3",
   "version": "3.8.2"
  }
 },
 "nbformat": 4,
 "nbformat_minor": 4
}
