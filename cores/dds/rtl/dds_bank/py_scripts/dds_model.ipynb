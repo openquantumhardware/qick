{
 "cells": [
  {
   "cell_type": "markdown",
   "metadata": {
    "ein.tags": "worksheet-0",
    "slideshow": {
     "slide_type": "-"
    }
   },
   "source": [
    "# Modelo DDS\n",
    "\n",
    "Modelado y comparación de la generación de señales con DDS Compiler."
   ]
  },
  {
   "cell_type": "markdown",
   "metadata": {},
   "source": [
    "Importo los modulos necesarios"
   ]
  },
  {
   "cell_type": "code",
   "execution_count": null,
   "metadata": {
    "autoscroll": false,
    "ein.hycell": false,
    "ein.tags": "worksheet-0",
    "slideshow": {
     "slide_type": "-"
    }
   },
   "outputs": [],
   "source": [
    "%matplotlib notebook\n",
    "import numpy as np\n",
    "import matplotlib.pyplot as plt"
   ]
  },
  {
   "cell_type": "code",
   "execution_count": null,
   "metadata": {},
   "outputs": [],
   "source": [
    "def fpga_data():\n",
    "\n",
    "\n",
    "    s       = np.loadtxt('../files/simple.txt')\n",
    "    N       = int(s.size / 2)\n",
    "    s_new   = np.reshape(s, (N, 2))\n",
    "    x_cmpx  = s_new[:, 0] + 1j*s_new[:, 1]\n",
    "    XF      = np.fft.fft(x_cmpx, axis=0, norm=None)\n",
    "    f_axis  = np.linspace(0, 100, N)\n",
    "\n",
    "    plt.figure(figsize=(10,8))\n",
    "    plt.subplot(221)\n",
    "    plt.title(\"sin and cos: time\")\n",
    "    plt.plot(np.real(x_cmpx), '.-r', label='real')\n",
    "    plt.plot(np.imag(x_cmpx), '.-b', label='imag')\n",
    "    plt.xlabel(\"time, bins\")\n",
    "    plt.grid()\n",
    "    plt.legend()\n",
    "\n",
    "    plt.subplot(223)\n",
    "    plt.plot(f_axis, np.abs(XF), '.-b')\n",
    "    plt.title(\"sin and cos: frequency\")\n",
    "    plt.xlabel(\"freq, MHz\")\n",
    "    plt.grid()\n",
    "    s       = np.loadtxt('../files/psk.txt')\n",
    "    N       = int(s.size / 2)\n",
    "    s_new   = np.reshape(s, (N, 2))\n",
    "    x_cmpx  = s_new[:, 0] + 1j*s_new[:, 1]\n",
    "    XF      = np.fft.fft(x_cmpx, axis=0, norm=None)\n",
    "    f_axis  = np.linspace(0, 100, N)\n",
    "\n",
    "    plt.subplot(222)\n",
    "    plt.title(\"PSK: time\")\n",
    "    plt.plot(np.real(x_cmpx), '.-r', label='real')\n",
    "    plt.plot(np.imag(x_cmpx), '.-b', label='imag')\n",
    "    plt.xlabel(\"time, bins\")\n",
    "    plt.grid()\n",
    "    plt.legend()\n",
    "\n",
    "    plt.subplot(224)\n",
    "    plt.plot(f_axis, np.abs(XF), '.-b')\n",
    "    plt.xlabel(\"freq, MHz\")\n",
    "    plt.title(\"PSK: frequency\")\n",
    "    plt.grid()\n",
    "\n",
    "    plt.tight_layout()\n",
    "\n",
    "\n",
    "    s       = np.loadtxt('../files/fsk.txt')\n",
    "    N       = int(s.size / 2)\n",
    "    s_new   = np.reshape(s, (N, 2))\n",
    "    x_cmpx  = s_new[:, 0] + 1j*s_new[:, 1]\n",
    "    XF      = np.fft.fft(x_cmpx, axis=0, norm=None)\n",
    "    f_axis  = np.linspace(0, 100, N)\n",
    "\n",
    "    plt.figure(figsize=(10,8))\n",
    "    plt.subplot(221)\n",
    "    plt.title(\"FSK: time\")\n",
    "    plt.plot(np.real(x_cmpx), '.-r')\n",
    "    plt.plot(np.imag(x_cmpx), '.-b')\n",
    "    plt.xlabel(\"time, bins\")\n",
    "    plt.grid()\n",
    "\n",
    "    plt.subplot(223)\n",
    "    plt.plot(f_axis, np.abs(XF), '.-b')\n",
    "    plt.title(\"FSK: frequency\")\n",
    "    plt.xlabel(\"freq, MHz\")\n",
    "    plt.grid()\n",
    "\n",
    "\n",
    "    s       = np.loadtxt('../files/lfm.txt')\n",
    "    N       = int(s.size / 2)\n",
    "    s_new   = np.reshape(s, (N, 2))\n",
    "    x_cmpx  = s_new[:, 0] + 1j*s_new[:, 1]\n",
    "    XF      = np.fft.fft(x_cmpx, axis=0, norm=None)\n",
    "    f_axis  = np.linspace(0, 100, N)\n",
    "\n",
    "    plt.subplot(222)\n",
    "    plt.title(\"LFM: time\")\n",
    "    plt.plot(np.real(x_cmpx), '.-r')\n",
    "    plt.plot(np.imag(x_cmpx), '.-b')\n",
    "    plt.xlabel(\"time, bins\")\n",
    "    plt.grid()\n",
    "\n",
    "    plt.subplot(224)\n",
    "    plt.plot(f_axis, np.abs(XF), '.-b')\n",
    "    plt.xlabel(\"freq, MHz\")\n",
    "    plt.title(\"LFM: frequency\")\n",
    "    plt.grid()\n",
    "\n",
    "    plt.tight_layout()\n",
    "    \n",
    "    return 0"
   ]
  },
  {
   "cell_type": "code",
   "execution_count": null,
   "metadata": {},
   "outputs": [],
   "source": [
    "def dds_lut():\n",
    "\n",
    "    sinus_l = np.sin(2*np.pi*np.linspace(0, 1, 2**16))\n",
    "\n",
    "    # phase increment\n",
    "    incrm_t = 4\n",
    "    incrm_k = 20\n",
    "\n",
    "\n",
    "    sinus_t = np.zeros(2**16)\n",
    "    sinus_k = np.zeros(2**16)\n",
    "\n",
    "    phase_l = np.zeros(2**16)\n",
    "    phase_t = np.zeros(2**16)\n",
    "    phase_k = np.zeros(2**16)\n",
    "    for n in range(0, 2**16):\n",
    "\n",
    "        phase_l[n] = n\n",
    "\n",
    "        phase_t[n] = (incrm_t*n) % 2**16\n",
    "        sinus_t[n] = sinus_l[(incrm_t*n) % 2**16]\n",
    "\n",
    "        phase_k[n] = ((n// 50)**2) % 2**16\n",
    "        sinus_k[n] = sinus_l[((n // 50)**2) % 2**16]\n",
    "\n",
    "    plt.figure(figsize=(10,8))\n",
    "\n",
    "    plt.subplot(311)\n",
    "    plt.title('DDS output, phase increment is {}'.format(1))\n",
    "    plt.plot(sinus_l, '.-b', label='signal')\n",
    "    plt.plot(phase_l/2**16, '.-g', label='phase')\n",
    "    plt.grid()\n",
    "    plt.legend()\n",
    "\n",
    "    plt.subplot(312)\n",
    "    plt.title('DDS output, phase increment is {}'.format(incrm_t))\n",
    "    plt.plot(sinus_t, '.-b', label='signal')\n",
    "    plt.plot(phase_t/2**16, '.-g', label='phase')\n",
    "    plt.grid()\n",
    "    plt.legend()\n",
    "\n",
    "    plt.subplot(313)\n",
    "    plt.title('DDS output for LFM')\n",
    "    plt.plot(sinus_k, '.-b', label='signal')\n",
    "    plt.plot(phase_k/2**16, '.-g', label='phase')\n",
    "    plt.grid()\n",
    "    plt.legend()\n",
    "\n",
    "    plt.tight_layout()\n",
    "    \n",
    "    return 0"
   ]
  },
  {
   "cell_type": "code",
   "execution_count": null,
   "metadata": {},
   "outputs": [],
   "source": [
    "def psk(s, n_clocks):\n",
    "    N = int(s.size)\n",
    "    tmp = 1\n",
    "    psi = np.zeros((N, 1))\n",
    "    for i in range(N):\n",
    "        if(np.mod(i , n_clocks) == 0):\n",
    "            tmp = ~(tmp)\n",
    "        if(tmp == 1):    \n",
    "            s[i] = 1 * s[i]\n",
    "        else:\n",
    "            s[i] = -1 * s[i]\n",
    "        psi[i] = tmp\n",
    "    return s, psi"
   ]
  },
  {
   "cell_type": "code",
   "execution_count": null,
   "metadata": {},
   "outputs": [],
   "source": [
    "# Function for phase increment calculation from desirable frequency\n",
    "# Here assuming sample clock is Fclk in MHz\n",
    "# des_freq is the desired frequency\n",
    "# Btheta is the number of bits in the phase accumulator\n",
    "\n",
    "def phase_incr(Fclk, des_freq, Btheta):\n",
    "    return int((des_freq * 2**Btheta)/Fclk)\n",
    "\n",
    "def dds_freq(Fclk,phase_incr,Btheta):\n",
    "    return (Fclk*phase_incr)/2**Btheta"
   ]
  },
  {
   "cell_type": "code",
   "execution_count": null,
   "metadata": {},
   "outputs": [],
   "source": [
    "dds_lut()"
   ]
  },
  {
   "cell_type": "code",
   "execution_count": null,
   "metadata": {},
   "outputs": [],
   "source": [
    "fpga_data()"
   ]
  },
  {
   "cell_type": "markdown",
   "metadata": {},
   "source": [
    "# Verificación\n",
    "Lo que sigue es una comprobación de que el diseño con el filtro portotipo es lo mismo que con los $h_i$. \n",
    "\n",
    "Para hacer la comprobación genero señales de referencia y después las filtro con los dos esquemas de filtrado, con el prototipo y con el FIR multietapas."
   ]
  },
  {
   "cell_type": "code",
   "execution_count": null,
   "metadata": {},
   "outputs": [],
   "source": [
    "q           = 100       # resampling factor (decimation/interpolation)\n",
    "fs          = 250.0e6   # sample rate, Hz\n",
    "T           = 30e-6     # length of signal, sec\n",
    "F1          = 0.5e6       # start frequency, Hz\n",
    "F2          = 5e6       # end frequency, Hz\n",
    "N           = int(fs*T) # number of signal's samples"
   ]
  },
  {
   "cell_type": "code",
   "execution_count": null,
   "metadata": {},
   "outputs": [],
   "source": [
    "print(phase_incr(250e6,34.56e6,16))\n",
    "print(dds_freq(250e6,9059,16))"
   ]
  },
  {
   "cell_type": "code",
   "execution_count": null,
   "metadata": {},
   "outputs": [],
   "source": [
    "fname_real = '../files/dds_real_out.txt'\n",
    "fname_imag = '../files/dds_imag_out.txt'\n",
    "real_out   = np.loadtxt(fname_real)\n",
    "imag_out   = np.loadtxt(fname_imag)\n",
    "n           = np.size(real_out)\n",
    "t           = np.linspace(0, n/fs, n, endpoint=False)\n",
    "print(real_out.size)"
   ]
  },
  {
   "cell_type": "code",
   "execution_count": null,
   "metadata": {},
   "outputs": [],
   "source": [
    "yf = np.fft.fft(real_out)\n",
    "xf = np.fft.fftfreq(n, 1/fs)"
   ]
  },
  {
   "cell_type": "code",
   "execution_count": null,
   "metadata": {},
   "outputs": [],
   "source": [
    "plt.figure(figsize=(10,5))\n",
    "#plt.suptitle(\"Comparación de resultados: 1 etapa vs 3 etapas\",fontsize=16,fontweight='bold')\n",
    "\n",
    "#plt.subplot(221)\n",
    "plt.plot(t/1e-6,real_out, 'o-b', label=\"real\")\n",
    "plt.plot(t/1e-6,imag_out, 'o-r', label=\"imag\")\n",
    "plt.title('time domain')\n",
    "plt.legend(loc=\"upper left\")\n",
    "plt.xlabel('t, usec')\n",
    "plt.grid()"
   ]
  },
  {
   "cell_type": "code",
   "execution_count": null,
   "metadata": {},
   "outputs": [],
   "source": [
    "fig, ax = plt.subplots()\n",
    "ax.plot(xf[:int(n/2)], 2.0/n * np.abs(yf[0:int(n/2)]))\n",
    "#ax.plot(xf[:int(N/2)], 1.0/N * np.abs(yf[0:int(N/2)]))\n",
    "#ax.plot(xf[:int(N/2)], np.abs(yf[0:int(N/2)])/N)\n",
    "ax.set_xlim(0,fs/2)\n",
    "plt.xlabel('f, MHz (sample rate is {:.2e} MHz)'.format(fs))\n",
    "plt.title('frequency domain')\n",
    "plt.grid()\n",
    "print(xf[np.argmax(2.0/n*np.abs(yf[0:int(n/2)]))])\n",
    "print(dds_freq(250e6,9059,16))"
   ]
  },
  {
   "cell_type": "code",
   "execution_count": null,
   "metadata": {},
   "outputs": [],
   "source": [
    "xr_fft  = np.fft.fftshift(np.fft.fft(real_out, n=n, axis=-1))\n",
    "freqs = np.fft.fftshift(np.fft.fftfreq(n, 1/fs))"
   ]
  },
  {
   "cell_type": "code",
   "execution_count": null,
   "metadata": {},
   "outputs": [],
   "source": [
    "plt.figure(figsize=(10,5))\n",
    "plt.plot(freqs/1e6, np.abs(xr_fft), '.-r', label=\"Py decimated\")\n",
    "#plt.plot(freqs/1e6, np.abs(xdec_fft_et3_fir_out)/2**9, '.-b', label=\"FIR decimated\")\n",
    "plt.xlabel('f, MHz (sample rate is {:.2e} MHz)'.format(fs))\n",
    "plt.title('frequency domain')\n",
    "plt.grid()\n",
    "plt.legend(loc=\"upper left\")"
   ]
  },
  {
   "cell_type": "code",
   "execution_count": null,
   "metadata": {},
   "outputs": [],
   "source": []
  }
 ],
 "metadata": {
  "kernelspec": {
   "display_name": "Python 3 (ipykernel)",
   "language": "python",
   "name": "python3"
  },
  "language_info": {
   "codemirror_mode": {
    "name": "ipython",
    "version": 3
   },
   "file_extension": ".py",
   "mimetype": "text/x-python",
   "name": "python",
   "nbconvert_exporter": "python",
   "pygments_lexer": "ipython3",
   "version": "3.10.6"
  },
  "name": "01_introd_python.ipynb"
 },
 "nbformat": 4,
 "nbformat_minor": 1
}
